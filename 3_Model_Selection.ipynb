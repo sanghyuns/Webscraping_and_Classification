{
 "cells": [
  {
   "cell_type": "code",
   "execution_count": 1,
   "id": "1ca5dc2d",
   "metadata": {},
   "outputs": [],
   "source": [
    "import pandas as pd\n",
    "import numpy as np\n",
    "import matplotlib.pyplot as plt\n",
    "import seaborn as sns"
   ]
  },
  {
   "cell_type": "code",
   "execution_count": 2,
   "id": "2f932b75",
   "metadata": {},
   "outputs": [],
   "source": [
    "from sklearn.feature_extraction.text import CountVectorizer, TfidfVectorizer, HashingVectorizer\n",
    "from sklearn.model_selection import train_test_split, GridSearchCV, cross_val_score\n",
    "from sklearn.pipeline import Pipeline\n",
    "from sklearn.linear_model import LogisticRegression\n",
    "from sklearn.metrics import confusion_matrix, classification_report, plot_roc_curve, roc_auc_score, \\\n",
    "                            accuracy_score, precision_score, recall_score, f1_score\n",
    "from sklearn.tree import DecisionTreeClassifier\n",
    "from sklearn.ensemble import RandomForestClassifier, ExtraTreesClassifier, \\\n",
    "                             GradientBoostingClassifier, AdaBoostClassifier, \\\n",
    "                             VotingClassifier\n",
    "from sklearn.naive_bayes import MultinomialNB\n",
    "from sklearn.svm import SVC"
   ]
  },
  {
   "cell_type": "code",
   "execution_count": 16,
   "id": "bdda49b2",
   "metadata": {},
   "outputs": [],
   "source": [
    "df = pd.read_csv('./datasets/final_df')"
   ]
  },
  {
   "cell_type": "code",
   "execution_count": 17,
   "id": "1ff51a25",
   "metadata": {},
   "outputs": [],
   "source": [
    "df.drop(columns = 'Unnamed: 0', inplace = True)"
   ]
  },
  {
   "cell_type": "code",
   "execution_count": 18,
   "id": "80c49767",
   "metadata": {},
   "outputs": [
    {
     "data": {
      "text/plain": [
       "0    0.510368\n",
       "1    0.489632\n",
       "Name: above_median_comments, dtype: float64"
      ]
     },
     "execution_count": 18,
     "metadata": {},
     "output_type": "execute_result"
    }
   ],
   "source": [
    "y = df['above_median_comments']\n",
    "y.value_counts(normalize=True)"
   ]
  },
  {
   "cell_type": "code",
   "execution_count": 19,
   "id": "68b5312b",
   "metadata": {},
   "outputs": [
    {
     "data": {
      "text/html": [
       "<div>\n",
       "<style scoped>\n",
       "    .dataframe tbody tr th:only-of-type {\n",
       "        vertical-align: middle;\n",
       "    }\n",
       "\n",
       "    .dataframe tbody tr th {\n",
       "        vertical-align: top;\n",
       "    }\n",
       "\n",
       "    .dataframe thead th {\n",
       "        text-align: right;\n",
       "    }\n",
       "</style>\n",
       "<table border=\"1\" class=\"dataframe\">\n",
       "  <thead>\n",
       "    <tr style=\"text-align: right;\">\n",
       "      <th></th>\n",
       "      <th>subreddit</th>\n",
       "      <th>selftext</th>\n",
       "      <th>gilded</th>\n",
       "      <th>title</th>\n",
       "      <th>link_flair_css_class</th>\n",
       "      <th>upvote_ratio</th>\n",
       "      <th>total_awards_received</th>\n",
       "      <th>domain</th>\n",
       "      <th>allow_live_comments</th>\n",
       "      <th>author_flair_text</th>\n",
       "      <th>...</th>\n",
       "      <th>created_utc</th>\n",
       "      <th>above_median_comments</th>\n",
       "      <th>date</th>\n",
       "      <th>clean_title</th>\n",
       "      <th>clean_selftext</th>\n",
       "      <th>clean_title_flair</th>\n",
       "      <th>clean_domain</th>\n",
       "      <th>clean_author_flair</th>\n",
       "      <th>clean_author</th>\n",
       "      <th>combi_text</th>\n",
       "    </tr>\n",
       "  </thead>\n",
       "  <tbody>\n",
       "    <tr>\n",
       "      <th>0</th>\n",
       "      <td>nba</td>\n",
       "      <td>90s Bulls\\n\\n- Kevin Johnson, MJ, Pippen, Rodm...</td>\n",
       "      <td>0</td>\n",
       "      <td>90s Bulls with Prime Mutombo and Rodman vs 90s...</td>\n",
       "      <td>NaN</td>\n",
       "      <td>0.36</td>\n",
       "      <td>0</td>\n",
       "      <td>self.nba</td>\n",
       "      <td>True</td>\n",
       "      <td>NaN</td>\n",
       "      <td>...</td>\n",
       "      <td>1594683349</td>\n",
       "      <td>1</td>\n",
       "      <td>2020-07-13 23:35:49</td>\n",
       "      <td>s bull prime mutombo rodman v s rocket prime l...</td>\n",
       "      <td>s bull   kevin johnson mj pippen rodman mutomb...</td>\n",
       "      <td>NaN</td>\n",
       "      <td>selfnba</td>\n",
       "      <td>NaN</td>\n",
       "      <td>theunknownsoldier</td>\n",
       "      <td>s bull prime mutombo rodman v s rocket prime l...</td>\n",
       "    </tr>\n",
       "    <tr>\n",
       "      <th>1</th>\n",
       "      <td>nba</td>\n",
       "      <td>[deleted]</td>\n",
       "      <td>0</td>\n",
       "      <td>Lebron vs MJ Great Article</td>\n",
       "      <td>NaN</td>\n",
       "      <td>1.00</td>\n",
       "      <td>0</td>\n",
       "      <td>NaN</td>\n",
       "      <td>False</td>\n",
       "      <td>NaN</td>\n",
       "      <td>...</td>\n",
       "      <td>1594683301</td>\n",
       "      <td>0</td>\n",
       "      <td>2020-07-13 23:35:01</td>\n",
       "      <td>lebron v mj great article</td>\n",
       "      <td>deleted</td>\n",
       "      <td>NaN</td>\n",
       "      <td>NaN</td>\n",
       "      <td>NaN</td>\n",
       "      <td>NaN</td>\n",
       "      <td>lebron v mj great article deleted</td>\n",
       "    </tr>\n",
       "    <tr>\n",
       "      <th>2</th>\n",
       "      <td>nba</td>\n",
       "      <td>It’s common to just assume the Bucks will take...</td>\n",
       "      <td>0</td>\n",
       "      <td>Are we underrating the Eastern Conference play...</td>\n",
       "      <td>NaN</td>\n",
       "      <td>0.59</td>\n",
       "      <td>0</td>\n",
       "      <td>self.nba</td>\n",
       "      <td>False</td>\n",
       "      <td>:okc-1: Thunder</td>\n",
       "      <td>...</td>\n",
       "      <td>1594683242</td>\n",
       "      <td>1</td>\n",
       "      <td>2020-07-13 23:34:02</td>\n",
       "      <td>underrating eastern conference playoff race</td>\n",
       "      <td>common just assume buck east im argue shouldnt...</td>\n",
       "      <td>NaN</td>\n",
       "      <td>selfnba</td>\n",
       "      <td>okc thunder</td>\n",
       "      <td>vincemcmahonsburner</td>\n",
       "      <td>underrating eastern conference playoff race co...</td>\n",
       "    </tr>\n",
       "    <tr>\n",
       "      <th>3</th>\n",
       "      <td>nba</td>\n",
       "      <td>[deleted]</td>\n",
       "      <td>0</td>\n",
       "      <td>Who is da GOAT</td>\n",
       "      <td>NaN</td>\n",
       "      <td>0.24</td>\n",
       "      <td>0</td>\n",
       "      <td>NaN</td>\n",
       "      <td>False</td>\n",
       "      <td>NaN</td>\n",
       "      <td>...</td>\n",
       "      <td>1594683142</td>\n",
       "      <td>1</td>\n",
       "      <td>2020-07-13 23:32:22</td>\n",
       "      <td>da goat</td>\n",
       "      <td>deleted</td>\n",
       "      <td>NaN</td>\n",
       "      <td>NaN</td>\n",
       "      <td>NaN</td>\n",
       "      <td>NaN</td>\n",
       "      <td>da goat deleted</td>\n",
       "    </tr>\n",
       "    <tr>\n",
       "      <th>4</th>\n",
       "      <td>nba</td>\n",
       "      <td>[deleted]</td>\n",
       "      <td>0</td>\n",
       "      <td>Kawhi at practice in Orlando, Today!</td>\n",
       "      <td>NaN</td>\n",
       "      <td>1.00</td>\n",
       "      <td>0</td>\n",
       "      <td>NaN</td>\n",
       "      <td>False</td>\n",
       "      <td>NaN</td>\n",
       "      <td>...</td>\n",
       "      <td>1594683115</td>\n",
       "      <td>0</td>\n",
       "      <td>2020-07-13 23:31:55</td>\n",
       "      <td>kawhi practice orlando today</td>\n",
       "      <td>deleted</td>\n",
       "      <td>NaN</td>\n",
       "      <td>NaN</td>\n",
       "      <td>NaN</td>\n",
       "      <td>NaN</td>\n",
       "      <td>kawhi practice orlando today deleted</td>\n",
       "    </tr>\n",
       "  </tbody>\n",
       "</table>\n",
       "<p>5 rows × 22 columns</p>\n",
       "</div>"
      ],
      "text/plain": [
       "  subreddit                                           selftext  gilded  \\\n",
       "0       nba  90s Bulls\\n\\n- Kevin Johnson, MJ, Pippen, Rodm...       0   \n",
       "1       nba                                          [deleted]       0   \n",
       "2       nba  It’s common to just assume the Bucks will take...       0   \n",
       "3       nba                                          [deleted]       0   \n",
       "4       nba                                          [deleted]       0   \n",
       "\n",
       "                                               title link_flair_css_class  \\\n",
       "0  90s Bulls with Prime Mutombo and Rodman vs 90s...                  NaN   \n",
       "1                         Lebron vs MJ Great Article                  NaN   \n",
       "2  Are we underrating the Eastern Conference play...                  NaN   \n",
       "3                                     Who is da GOAT                  NaN   \n",
       "4               Kawhi at practice in Orlando, Today!                  NaN   \n",
       "\n",
       "   upvote_ratio  total_awards_received    domain  allow_live_comments  \\\n",
       "0          0.36                      0  self.nba                 True   \n",
       "1          1.00                      0       NaN                False   \n",
       "2          0.59                      0  self.nba                False   \n",
       "3          0.24                      0       NaN                False   \n",
       "4          1.00                      0       NaN                False   \n",
       "\n",
       "  author_flair_text  ... created_utc  above_median_comments  \\\n",
       "0               NaN  ...  1594683349                      1   \n",
       "1               NaN  ...  1594683301                      0   \n",
       "2   :okc-1: Thunder  ...  1594683242                      1   \n",
       "3               NaN  ...  1594683142                      1   \n",
       "4               NaN  ...  1594683115                      0   \n",
       "\n",
       "                  date                                        clean_title  \\\n",
       "0  2020-07-13 23:35:49  s bull prime mutombo rodman v s rocket prime l...   \n",
       "1  2020-07-13 23:35:01                          lebron v mj great article   \n",
       "2  2020-07-13 23:34:02        underrating eastern conference playoff race   \n",
       "3  2020-07-13 23:32:22                                            da goat   \n",
       "4  2020-07-13 23:31:55                       kawhi practice orlando today   \n",
       "\n",
       "                                      clean_selftext clean_title_flair  \\\n",
       "0  s bull   kevin johnson mj pippen rodman mutomb...               NaN   \n",
       "1                                            deleted               NaN   \n",
       "2  common just assume buck east im argue shouldnt...               NaN   \n",
       "3                                            deleted               NaN   \n",
       "4                                            deleted               NaN   \n",
       "\n",
       "  clean_domain clean_author_flair         clean_author  \\\n",
       "0      selfnba                NaN    theunknownsoldier   \n",
       "1          NaN                NaN                  NaN   \n",
       "2      selfnba        okc thunder  vincemcmahonsburner   \n",
       "3          NaN                NaN                  NaN   \n",
       "4          NaN                NaN                  NaN   \n",
       "\n",
       "                                          combi_text  \n",
       "0  s bull prime mutombo rodman v s rocket prime l...  \n",
       "1                  lebron v mj great article deleted  \n",
       "2  underrating eastern conference playoff race co...  \n",
       "3                                    da goat deleted  \n",
       "4               kawhi practice orlando today deleted  \n",
       "\n",
       "[5 rows x 22 columns]"
      ]
     },
     "execution_count": 19,
     "metadata": {},
     "output_type": "execute_result"
    }
   ],
   "source": [
    "df.head()"
   ]
  },
  {
   "cell_type": "markdown",
   "id": "7903bb5b",
   "metadata": {},
   "source": [
    "# Train Test Split"
   ]
  },
  {
   "cell_type": "code",
   "execution_count": 112,
   "id": "f16dd3e2",
   "metadata": {},
   "outputs": [],
   "source": [
    "vectorizers = {'cvec': CountVectorizer(),\n",
    "               'tvec': TfidfVectorizer()}"
   ]
  },
  {
   "cell_type": "code",
   "execution_count": 113,
   "id": "8babe06b",
   "metadata": {},
   "outputs": [],
   "source": [
    "models = {'lr': LogisticRegression(max_iter=1_000, random_state=42),\n",
    "          'rf': RandomForestClassifier(random_state=42)}"
   ]
  },
  {
   "cell_type": "code",
   "execution_count": 114,
   "id": "7f5ff28b",
   "metadata": {},
   "outputs": [],
   "source": [
    "def run_model(vec, mod, vec_params={}, mod_params={}, grid_search=False):\n",
    "    \n",
    "    results = {}\n",
    "    \n",
    "    pipe = Pipeline([\n",
    "            (vec, vectorizers[vec]),\n",
    "            (mod, models[mod])\n",
    "            ])\n",
    "    pipe.fit(X_train, y_train)\n",
    "    \n",
    "    # Retrieve metrics\n",
    "    results['model'] = mod\n",
    "    results['vectorizer'] = vec\n",
    "    results['train'] = pipe.score(X_train, y_train)\n",
    "    results['test'] = pipe.score(X_test, y_test)\n",
    "    predictions = pipe.predict(X_test)\n",
    "    \n",
    "    print('METRICS')\n",
    "    display(results)\n",
    "    \n",
    "    tn, fp, fn, tp = confusion_matrix(y_test, predictions).ravel()\n",
    "    print(f\"True Negatives: {tn}\")\n",
    "    print(f\"False Positives: {fp}\")\n",
    "    print(f\"False Negatives: {fn}\")\n",
    "    print(f\"True Positives: {tp}\")\n",
    "    \n",
    "    return pipe"
   ]
  },
  {
   "cell_type": "markdown",
   "id": "c1c26e8c",
   "metadata": {},
   "source": [
    "### Combi_text Logistic Regression"
   ]
  },
  {
   "cell_type": "code",
   "execution_count": 115,
   "id": "952ef5e5",
   "metadata": {},
   "outputs": [],
   "source": [
    "X = df['combi_text']\n",
    "y = df['above_median_comments']\n",
    "\n",
    "X_train, X_test, y_train, y_test = train_test_split(X, y, random_state = 42, stratify = y)"
   ]
  },
  {
   "cell_type": "code",
   "execution_count": 116,
   "id": "244c9e01",
   "metadata": {
    "scrolled": false
   },
   "outputs": [
    {
     "name": "stdout",
     "output_type": "stream",
     "text": [
      "METRICS\n"
     ]
    },
    {
     "data": {
      "text/plain": [
       "{'model': 'lr',\n",
       " 'vectorizer': 'cvec',\n",
       " 'train': 0.8983464353483329,\n",
       " 'test': 0.7235772357723578}"
      ]
     },
     "metadata": {},
     "output_type": "display_data"
    },
    {
     "name": "stdout",
     "output_type": "stream",
     "text": [
      "True Negatives: 995\n",
      "False Positives: 261\n",
      "False Negatives: 419\n",
      "True Positives: 785\n"
     ]
    }
   ],
   "source": [
    "cvec_lr = run_model('cvec', 'lr')"
   ]
  },
  {
   "cell_type": "code",
   "execution_count": 117,
   "id": "bb067daf",
   "metadata": {},
   "outputs": [
    {
     "name": "stdout",
     "output_type": "stream",
     "text": [
      "METRICS\n"
     ]
    },
    {
     "data": {
      "text/plain": [
       "{'model': 'lr',\n",
       " 'vectorizer': 'tvec',\n",
       " 'train': 0.8311195445920304,\n",
       " 'test': 0.7317073170731707}"
      ]
     },
     "metadata": {},
     "output_type": "display_data"
    },
    {
     "name": "stdout",
     "output_type": "stream",
     "text": [
      "True Negatives: 938\n",
      "False Positives: 318\n",
      "False Negatives: 342\n",
      "True Positives: 862\n"
     ]
    }
   ],
   "source": [
    "tvec_lr = run_model('tvec', 'lr')"
   ]
  },
  {
   "cell_type": "markdown",
   "id": "85c18c4a",
   "metadata": {},
   "source": [
    "### Combi_text Random Forest Classifier"
   ]
  },
  {
   "cell_type": "code",
   "execution_count": 118,
   "id": "199059eb",
   "metadata": {
    "scrolled": false
   },
   "outputs": [
    {
     "name": "stdout",
     "output_type": "stream",
     "text": [
      "METRICS\n"
     ]
    },
    {
     "data": {
      "text/plain": [
       "{'model': 'rf',\n",
       " 'vectorizer': 'cvec',\n",
       " 'train': 0.9829222011385199,\n",
       " 'test': 0.7483739837398374}"
      ]
     },
     "metadata": {},
     "output_type": "display_data"
    },
    {
     "name": "stdout",
     "output_type": "stream",
     "text": [
      "True Negatives: 1076\n",
      "False Positives: 180\n",
      "False Negatives: 439\n",
      "True Positives: 765\n"
     ]
    }
   ],
   "source": [
    "cvec_rf = run_model('cvec', 'rf')"
   ]
  },
  {
   "cell_type": "code",
   "execution_count": 119,
   "id": "43bfea0b",
   "metadata": {},
   "outputs": [
    {
     "name": "stdout",
     "output_type": "stream",
     "text": [
      "METRICS\n"
     ]
    },
    {
     "data": {
      "text/plain": [
       "{'model': 'lr',\n",
       " 'vectorizer': 'tvec',\n",
       " 'train': 0.8311195445920304,\n",
       " 'test': 0.7317073170731707}"
      ]
     },
     "metadata": {},
     "output_type": "display_data"
    },
    {
     "name": "stdout",
     "output_type": "stream",
     "text": [
      "True Negatives: 938\n",
      "False Positives: 318\n",
      "False Negatives: 342\n",
      "True Positives: 862\n"
     ]
    }
   ],
   "source": [
    "tvec_rf = run_model('tvec', 'lr')"
   ]
  },
  {
   "cell_type": "markdown",
   "id": "d6ae490e",
   "metadata": {},
   "source": [
    "### Domain Logistic Regression"
   ]
  },
  {
   "cell_type": "code",
   "execution_count": 120,
   "id": "b1534352",
   "metadata": {},
   "outputs": [],
   "source": [
    "df['clean_domain'] = df['clean_domain'].fillna('None')"
   ]
  },
  {
   "cell_type": "code",
   "execution_count": 121,
   "id": "0a648ab4",
   "metadata": {},
   "outputs": [],
   "source": [
    "X = df['clean_domain']\n",
    "y = df['above_median_comments']\n",
    "\n",
    "X_train, X_test, y_train, y_test = train_test_split(X, y, random_state = 42, stratify = y)"
   ]
  },
  {
   "cell_type": "code",
   "execution_count": 122,
   "id": "e5579fdf",
   "metadata": {},
   "outputs": [
    {
     "name": "stdout",
     "output_type": "stream",
     "text": [
      "METRICS\n"
     ]
    },
    {
     "data": {
      "text/plain": [
       "{'model': 'lr',\n",
       " 'vectorizer': 'cvec',\n",
       " 'train': 0.6989699105448631,\n",
       " 'test': 0.6959349593495935}"
      ]
     },
     "metadata": {},
     "output_type": "display_data"
    },
    {
     "name": "stdout",
     "output_type": "stream",
     "text": [
      "True Negatives: 883\n",
      "False Positives: 373\n",
      "False Negatives: 375\n",
      "True Positives: 829\n"
     ]
    },
    {
     "data": {
      "text/plain": [
       "Pipeline(steps=[('cvec', CountVectorizer()),\n",
       "                ('lr', LogisticRegression(max_iter=1000, random_state=42))])"
      ]
     },
     "execution_count": 122,
     "metadata": {},
     "output_type": "execute_result"
    }
   ],
   "source": [
    "run_model('cvec', 'lr')"
   ]
  },
  {
   "cell_type": "code",
   "execution_count": 123,
   "id": "037d223e",
   "metadata": {
    "scrolled": true
   },
   "outputs": [
    {
     "name": "stdout",
     "output_type": "stream",
     "text": [
      "METRICS\n"
     ]
    },
    {
     "data": {
      "text/plain": [
       "{'model': 'lr',\n",
       " 'vectorizer': 'tvec',\n",
       " 'train': 0.6989699105448631,\n",
       " 'test': 0.6959349593495935}"
      ]
     },
     "metadata": {},
     "output_type": "display_data"
    },
    {
     "name": "stdout",
     "output_type": "stream",
     "text": [
      "True Negatives: 883\n",
      "False Positives: 373\n",
      "False Negatives: 375\n",
      "True Positives: 829\n"
     ]
    },
    {
     "data": {
      "text/plain": [
       "Pipeline(steps=[('tvec', TfidfVectorizer()),\n",
       "                ('lr', LogisticRegression(max_iter=1000, random_state=42))])"
      ]
     },
     "execution_count": 123,
     "metadata": {},
     "output_type": "execute_result"
    }
   ],
   "source": [
    "run_model('tvec', 'lr')"
   ]
  },
  {
   "cell_type": "markdown",
   "id": "30de9300",
   "metadata": {},
   "source": [
    "### Domain Random Forest Classifier"
   ]
  },
  {
   "cell_type": "code",
   "execution_count": 124,
   "id": "005fcf57",
   "metadata": {},
   "outputs": [
    {
     "name": "stdout",
     "output_type": "stream",
     "text": [
      "METRICS\n"
     ]
    },
    {
     "data": {
      "text/plain": [
       "{'model': 'rf',\n",
       " 'vectorizer': 'cvec',\n",
       " 'train': 0.7069666576307942,\n",
       " 'test': 0.6967479674796748}"
      ]
     },
     "metadata": {},
     "output_type": "display_data"
    },
    {
     "name": "stdout",
     "output_type": "stream",
     "text": [
      "True Negatives: 879\n",
      "False Positives: 377\n",
      "False Negatives: 369\n",
      "True Positives: 835\n"
     ]
    },
    {
     "data": {
      "text/plain": [
       "Pipeline(steps=[('cvec', CountVectorizer()),\n",
       "                ('rf', RandomForestClassifier(random_state=42))])"
      ]
     },
     "execution_count": 124,
     "metadata": {},
     "output_type": "execute_result"
    }
   ],
   "source": [
    "run_model('cvec', 'rf')"
   ]
  },
  {
   "cell_type": "code",
   "execution_count": 125,
   "id": "cccafe9f",
   "metadata": {},
   "outputs": [
    {
     "name": "stdout",
     "output_type": "stream",
     "text": [
      "METRICS\n"
     ]
    },
    {
     "data": {
      "text/plain": [
       "{'model': 'rf',\n",
       " 'vectorizer': 'tvec',\n",
       " 'train': 0.7069666576307942,\n",
       " 'test': 0.6967479674796748}"
      ]
     },
     "metadata": {},
     "output_type": "display_data"
    },
    {
     "name": "stdout",
     "output_type": "stream",
     "text": [
      "True Negatives: 879\n",
      "False Positives: 377\n",
      "False Negatives: 369\n",
      "True Positives: 835\n"
     ]
    },
    {
     "data": {
      "text/plain": [
       "Pipeline(steps=[('tvec', TfidfVectorizer()),\n",
       "                ('rf', RandomForestClassifier(random_state=42))])"
      ]
     },
     "execution_count": 125,
     "metadata": {},
     "output_type": "execute_result"
    }
   ],
   "source": [
    "run_model('tvec', 'rf')"
   ]
  },
  {
   "cell_type": "markdown",
   "id": "8ba88cbf",
   "metadata": {},
   "source": [
    "## Conclusion & Recommendations"
   ]
  },
  {
   "cell_type": "markdown",
   "id": "75f0ec72",
   "metadata": {},
   "source": [
    "Comparing the two classification models, we can see that the best model is the Random Forest Classifier with an accuracy of 0.7483739837398374.\n",
    "\n",
    "Some of the limitations to our model would be that the number of comments is severely impacted on whether or not the NBA is in season, especially come playoff time. There is a more dedicated fanbase during playoffs that posts discussions of each game that is more indepth and may contain a different type of language compared to the off-season, where there are more meme-type posts. There are also some misclassification on whether or not a post has above the mean number of comments, which in this case was 9. Lastly, due to some of the subreddit rules, there may be heavy bias in title structure, which may have affected our overall outcome.\n",
    "\n",
    "My Recommendations to Nate Silver and co. at FiveThirtyEight to create a Reddit post that will get the most engagement from Reddit users are to use words that are highly associated with r/NBA including names. Some names included Kevin Durant, Michael Jordan, and Lebron James. By utilizing their popularity in the post, it would have a better effect in attracting engagement from users. Highlights also seemed to have high usage in titles, partly due to the subreddit posting rules. With video clips of  highlights of various games throughout the week, users may be able to catch up to the games they were unable to see live, increasing the engagment in the post."
   ]
  }
 ],
 "metadata": {
  "kernelspec": {
   "display_name": "Python 3 (ipykernel)",
   "language": "python",
   "name": "python3"
  },
  "language_info": {
   "codemirror_mode": {
    "name": "ipython",
    "version": 3
   },
   "file_extension": ".py",
   "mimetype": "text/x-python",
   "name": "python",
   "nbconvert_exporter": "python",
   "pygments_lexer": "ipython3",
   "version": "3.9.12"
  }
 },
 "nbformat": 4,
 "nbformat_minor": 5
}
