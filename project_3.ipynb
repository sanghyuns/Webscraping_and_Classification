{
 "cells": [
  {
   "cell_type": "code",
   "execution_count": 1,
   "id": "0628f16f",
   "metadata": {},
   "outputs": [],
   "source": [
    "import requests\n",
    "from bs4 import BeautifulSoup\n",
    "from selenium import webdriver\n",
    "from selenium.webdriver.chrome.service import Service\n",
    "from time import sleep"
   ]
  },
  {
   "cell_type": "code",
   "execution_count": 12,
   "id": "6cd331db",
   "metadata": {},
   "outputs": [],
   "source": [
    "url = 'http://www.reddit.com/r/nba/'"
   ]
  },
  {
   "cell_type": "code",
   "execution_count": 13,
   "id": "d76580bf",
   "metadata": {},
   "outputs": [],
   "source": [
    "# instantiate object that can start and stop the browser\n",
    "ser = Service('chromedriver/chromedriver')\n",
    "\n",
    "# instantiate object that controls the browser/driver (drive the chromedriver)\n",
    "driver = webdriver.Chrome(service=ser)\n",
    "\n",
    "# send a request to get url\n",
    "driver.get(url)\n",
    "\n",
    "sleep(5)\n",
    "\n",
    "#scroll to bottom of page to load extra restaurant-cards\n",
    "# driver.execute_script(\"window.scrollTo(0, document.body.scrollHeight);\")\n",
    "driver.execute_script(\"\"\"window.scrollBy({ \n",
    "  top: document.body.scrollHeight, // negative value acceptable\n",
    "  left: 0, \n",
    "  behavior: 'smooth' \n",
    "});\"\"\")\n",
    "# wait a few seconds for the full page to load\n",
    "sleep(5) # seconds\n",
    "\n",
    "# grab html of url loaded in driver\n",
    "html = driver.page_source\n",
    "\n",
    "# close driver window\n",
    "driver.close()"
   ]
  },
  {
   "cell_type": "code",
   "execution_count": 16,
   "id": "9eeb06ed",
   "metadata": {
    "scrolled": true
   },
   "outputs": [],
   "source": [
    "soup = BeautifulSoup(html, 'lxml')"
   ]
  },
  {
   "cell_type": "code",
   "execution_count": 18,
   "id": "d837430e",
   "metadata": {
    "scrolled": false
   },
   "outputs": [],
   "source": [
    "post_title = [post.text for post in soup.find_all('h3', {'class' : '_eYtD2XCVieq6emjKBH3m'})]"
   ]
  },
  {
   "cell_type": "code",
   "execution_count": 20,
   "id": "9980e038",
   "metadata": {},
   "outputs": [],
   "source": [
    "time_stamp = [time.text for time in soup.find_all('span', {'class' : '_2VF2J19pUIMSLJFky-7PEI'})]"
   ]
  },
  {
   "cell_type": "code",
   "execution_count": 21,
   "id": "bab04fc5",
   "metadata": {},
   "outputs": [],
   "source": [
    "n_comments = [num.text for num in soup.find_all('span', {'class' : 'FHCV02u6Cp2zYL0fhQPsO'})]"
   ]
  },
  {
   "cell_type": "code",
   "execution_count": 22,
   "id": "8b698956",
   "metadata": {},
   "outputs": [],
   "source": [
    "flairs = [flair.text for flair in soup.find_all('div', {'class' : 'NAURX0ARMmhJ5eqxQrlQW'})]"
   ]
  },
  {
   "cell_type": "code",
   "execution_count": null,
   "id": "3c5df0ce",
   "metadata": {},
   "outputs": [],
   "source": []
  },
  {
   "cell_type": "code",
   "execution_count": null,
   "id": "68966620",
   "metadata": {},
   "outputs": [],
   "source": [
    "# to make a dataframe\n",
    "# ex from lesson 31\n",
    "# dc_eats = pd.DataFrame(dict(name=r_names,\n",
    "#                             location=r_loc,\n",
    "#                             price=r_dollar_count,\n",
    "#                             bookings=r_bookings_num))"
   ]
  }
 ],
 "metadata": {
  "kernelspec": {
   "display_name": "Python 3 (ipykernel)",
   "language": "python",
   "name": "python3"
  },
  "language_info": {
   "codemirror_mode": {
    "name": "ipython",
    "version": 3
   },
   "file_extension": ".py",
   "mimetype": "text/x-python",
   "name": "python",
   "nbconvert_exporter": "python",
   "pygments_lexer": "ipython3",
   "version": "3.9.12"
  }
 },
 "nbformat": 4,
 "nbformat_minor": 5
}
