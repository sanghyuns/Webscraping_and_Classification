{
 "cells": [
  {
   "cell_type": "code",
   "execution_count": 153,
   "id": "8665bfb4",
   "metadata": {},
   "outputs": [],
   "source": [
    "# Importing libraries needed for data cleaning and EDA\n",
    "import pandas as pd\n",
    "import numpy as np\n",
    "import matplotlib.pyplot as plt\n",
    "import seaborn as sns\n",
    "import re\n",
    "import datetime\n",
    "\n",
    "from nltk.corpus import stopwords\n",
    "from nltk.stem import WordNetLemmatizer\n",
    "from sklearn.feature_extraction.text import CountVectorizer"
   ]
  },
  {
   "cell_type": "code",
   "execution_count": 2,
   "id": "24d20a25",
   "metadata": {},
   "outputs": [
    {
     "name": "stderr",
     "output_type": "stream",
     "text": [
      "/var/folders/qj/y1s515qj7mb9vkm1psszq6d00000gn/T/ipykernel_23845/3318565204.py:2: DtypeWarning: Columns (20,87,93,123) have mixed types. Specify dtype option on import or set low_memory=False.\n",
      "  pmaw_df = pd.read_csv('./datasets/pmaw_df')\n"
     ]
    }
   ],
   "source": [
    "# call in dataset\n",
    "pmaw_df = pd.read_csv('./datasets/pmaw_df')"
   ]
  },
  {
   "cell_type": "markdown",
   "id": "35ed0cd5",
   "metadata": {},
   "source": [
    "The next step is to figure out what to do with this large amount of data. First the data should be cleaned and free of null values and duplicates as well as removing any non-alphanumerical characters that won't help us in the classification model."
   ]
  },
  {
   "cell_type": "markdown",
   "id": "0d091585",
   "metadata": {},
   "source": [
    "# Initial Analysis"
   ]
  },
  {
   "cell_type": "code",
   "execution_count": 3,
   "id": "6bc44fc4",
   "metadata": {},
   "outputs": [
    {
     "data": {
      "text/html": [
       "<div>\n",
       "<style scoped>\n",
       "    .dataframe tbody tr th:only-of-type {\n",
       "        vertical-align: middle;\n",
       "    }\n",
       "\n",
       "    .dataframe tbody tr th {\n",
       "        vertical-align: top;\n",
       "    }\n",
       "\n",
       "    .dataframe thead th {\n",
       "        text-align: right;\n",
       "    }\n",
       "</style>\n",
       "<table border=\"1\" class=\"dataframe\">\n",
       "  <thead>\n",
       "    <tr style=\"text-align: right;\">\n",
       "      <th></th>\n",
       "      <th>Unnamed: 0</th>\n",
       "      <th>comment_limit</th>\n",
       "      <th>approved_at_utc</th>\n",
       "      <th>mod_reason_title</th>\n",
       "      <th>gilded</th>\n",
       "      <th>pwls</th>\n",
       "      <th>downs</th>\n",
       "      <th>thumbnail_height</th>\n",
       "      <th>upvote_ratio</th>\n",
       "      <th>ups</th>\n",
       "      <th>...</th>\n",
       "      <th>num_reports</th>\n",
       "      <th>mod_reason_by</th>\n",
       "      <th>report_reasons</th>\n",
       "      <th>num_comments</th>\n",
       "      <th>subreddit_subscribers</th>\n",
       "      <th>created_utc</th>\n",
       "      <th>num_crossposts</th>\n",
       "      <th>call_to_action</th>\n",
       "      <th>event_start</th>\n",
       "      <th>event_end</th>\n",
       "    </tr>\n",
       "  </thead>\n",
       "  <tbody>\n",
       "    <tr>\n",
       "      <th>count</th>\n",
       "      <td>10000.00000</td>\n",
       "      <td>10000.0</td>\n",
       "      <td>0.0</td>\n",
       "      <td>0.0</td>\n",
       "      <td>10000.00000</td>\n",
       "      <td>10000.0</td>\n",
       "      <td>10000.0</td>\n",
       "      <td>3747.000000</td>\n",
       "      <td>10000.000000</td>\n",
       "      <td>10000.000000</td>\n",
       "      <td>...</td>\n",
       "      <td>0.0</td>\n",
       "      <td>0.0</td>\n",
       "      <td>0.0</td>\n",
       "      <td>10000.000000</td>\n",
       "      <td>1.000000e+04</td>\n",
       "      <td>1.000000e+04</td>\n",
       "      <td>10000.000000</td>\n",
       "      <td>0.0</td>\n",
       "      <td>1.000000e+00</td>\n",
       "      <td>1.000000e+00</td>\n",
       "    </tr>\n",
       "    <tr>\n",
       "      <th>mean</th>\n",
       "      <td>4999.50000</td>\n",
       "      <td>2048.0</td>\n",
       "      <td>NaN</td>\n",
       "      <td>NaN</td>\n",
       "      <td>0.00590</td>\n",
       "      <td>6.0</td>\n",
       "      <td>0.0</td>\n",
       "      <td>97.651188</td>\n",
       "      <td>0.809797</td>\n",
       "      <td>252.545800</td>\n",
       "      <td>...</td>\n",
       "      <td>NaN</td>\n",
       "      <td>NaN</td>\n",
       "      <td>NaN</td>\n",
       "      <td>57.174100</td>\n",
       "      <td>5.163245e+06</td>\n",
       "      <td>1.614467e+09</td>\n",
       "      <td>0.053000</td>\n",
       "      <td>NaN</td>\n",
       "      <td>1.590361e+09</td>\n",
       "      <td>1.590376e+09</td>\n",
       "    </tr>\n",
       "    <tr>\n",
       "      <th>std</th>\n",
       "      <td>2886.89568</td>\n",
       "      <td>0.0</td>\n",
       "      <td>NaN</td>\n",
       "      <td>NaN</td>\n",
       "      <td>0.10033</td>\n",
       "      <td>0.0</td>\n",
       "      <td>0.0</td>\n",
       "      <td>34.128268</td>\n",
       "      <td>0.241935</td>\n",
       "      <td>1230.992996</td>\n",
       "      <td>...</td>\n",
       "      <td>NaN</td>\n",
       "      <td>NaN</td>\n",
       "      <td>NaN</td>\n",
       "      <td>484.555503</td>\n",
       "      <td>2.642096e-01</td>\n",
       "      <td>2.556958e+07</td>\n",
       "      <td>0.622278</td>\n",
       "      <td>NaN</td>\n",
       "      <td>NaN</td>\n",
       "      <td>NaN</td>\n",
       "    </tr>\n",
       "    <tr>\n",
       "      <th>min</th>\n",
       "      <td>0.00000</td>\n",
       "      <td>2048.0</td>\n",
       "      <td>NaN</td>\n",
       "      <td>NaN</td>\n",
       "      <td>0.00000</td>\n",
       "      <td>6.0</td>\n",
       "      <td>0.0</td>\n",
       "      <td>0.000000</td>\n",
       "      <td>0.040000</td>\n",
       "      <td>0.000000</td>\n",
       "      <td>...</td>\n",
       "      <td>NaN</td>\n",
       "      <td>NaN</td>\n",
       "      <td>NaN</td>\n",
       "      <td>0.000000</td>\n",
       "      <td>5.163245e+06</td>\n",
       "      <td>1.579903e+09</td>\n",
       "      <td>0.000000</td>\n",
       "      <td>NaN</td>\n",
       "      <td>1.590361e+09</td>\n",
       "      <td>1.590376e+09</td>\n",
       "    </tr>\n",
       "    <tr>\n",
       "      <th>25%</th>\n",
       "      <td>2499.75000</td>\n",
       "      <td>2048.0</td>\n",
       "      <td>NaN</td>\n",
       "      <td>NaN</td>\n",
       "      <td>0.00000</td>\n",
       "      <td>6.0</td>\n",
       "      <td>0.0</td>\n",
       "      <td>78.000000</td>\n",
       "      <td>0.670000</td>\n",
       "      <td>1.000000</td>\n",
       "      <td>...</td>\n",
       "      <td>NaN</td>\n",
       "      <td>NaN</td>\n",
       "      <td>NaN</td>\n",
       "      <td>1.000000</td>\n",
       "      <td>5.163245e+06</td>\n",
       "      <td>1.592482e+09</td>\n",
       "      <td>0.000000</td>\n",
       "      <td>NaN</td>\n",
       "      <td>1.590361e+09</td>\n",
       "      <td>1.590376e+09</td>\n",
       "    </tr>\n",
       "    <tr>\n",
       "      <th>50%</th>\n",
       "      <td>4999.50000</td>\n",
       "      <td>2048.0</td>\n",
       "      <td>NaN</td>\n",
       "      <td>NaN</td>\n",
       "      <td>0.00000</td>\n",
       "      <td>6.0</td>\n",
       "      <td>0.0</td>\n",
       "      <td>105.000000</td>\n",
       "      <td>0.930000</td>\n",
       "      <td>1.000000</td>\n",
       "      <td>...</td>\n",
       "      <td>NaN</td>\n",
       "      <td>NaN</td>\n",
       "      <td>NaN</td>\n",
       "      <td>9.000000</td>\n",
       "      <td>5.163245e+06</td>\n",
       "      <td>1.607309e+09</td>\n",
       "      <td>0.000000</td>\n",
       "      <td>NaN</td>\n",
       "      <td>1.590361e+09</td>\n",
       "      <td>1.590376e+09</td>\n",
       "    </tr>\n",
       "    <tr>\n",
       "      <th>75%</th>\n",
       "      <td>7499.25000</td>\n",
       "      <td>2048.0</td>\n",
       "      <td>NaN</td>\n",
       "      <td>NaN</td>\n",
       "      <td>0.00000</td>\n",
       "      <td>6.0</td>\n",
       "      <td>0.0</td>\n",
       "      <td>140.000000</td>\n",
       "      <td>1.000000</td>\n",
       "      <td>30.000000</td>\n",
       "      <td>...</td>\n",
       "      <td>NaN</td>\n",
       "      <td>NaN</td>\n",
       "      <td>NaN</td>\n",
       "      <td>40.000000</td>\n",
       "      <td>5.163245e+06</td>\n",
       "      <td>1.636766e+09</td>\n",
       "      <td>0.000000</td>\n",
       "      <td>NaN</td>\n",
       "      <td>1.590361e+09</td>\n",
       "      <td>1.590376e+09</td>\n",
       "    </tr>\n",
       "    <tr>\n",
       "      <th>max</th>\n",
       "      <td>9999.00000</td>\n",
       "      <td>2048.0</td>\n",
       "      <td>NaN</td>\n",
       "      <td>NaN</td>\n",
       "      <td>4.00000</td>\n",
       "      <td>6.0</td>\n",
       "      <td>0.0</td>\n",
       "      <td>140.000000</td>\n",
       "      <td>1.000000</td>\n",
       "      <td>35186.000000</td>\n",
       "      <td>...</td>\n",
       "      <td>NaN</td>\n",
       "      <td>NaN</td>\n",
       "      <td>NaN</td>\n",
       "      <td>40688.000000</td>\n",
       "      <td>5.163246e+06</td>\n",
       "      <td>1.662032e+09</td>\n",
       "      <td>54.000000</td>\n",
       "      <td>NaN</td>\n",
       "      <td>1.590361e+09</td>\n",
       "      <td>1.590376e+09</td>\n",
       "    </tr>\n",
       "  </tbody>\n",
       "</table>\n",
       "<p>8 rows × 34 columns</p>\n",
       "</div>"
      ],
      "text/plain": [
       "        Unnamed: 0  comment_limit  approved_at_utc  mod_reason_title  \\\n",
       "count  10000.00000        10000.0              0.0               0.0   \n",
       "mean    4999.50000         2048.0              NaN               NaN   \n",
       "std     2886.89568            0.0              NaN               NaN   \n",
       "min        0.00000         2048.0              NaN               NaN   \n",
       "25%     2499.75000         2048.0              NaN               NaN   \n",
       "50%     4999.50000         2048.0              NaN               NaN   \n",
       "75%     7499.25000         2048.0              NaN               NaN   \n",
       "max     9999.00000         2048.0              NaN               NaN   \n",
       "\n",
       "            gilded     pwls    downs  thumbnail_height  upvote_ratio  \\\n",
       "count  10000.00000  10000.0  10000.0       3747.000000  10000.000000   \n",
       "mean       0.00590      6.0      0.0         97.651188      0.809797   \n",
       "std        0.10033      0.0      0.0         34.128268      0.241935   \n",
       "min        0.00000      6.0      0.0          0.000000      0.040000   \n",
       "25%        0.00000      6.0      0.0         78.000000      0.670000   \n",
       "50%        0.00000      6.0      0.0        105.000000      0.930000   \n",
       "75%        0.00000      6.0      0.0        140.000000      1.000000   \n",
       "max        4.00000      6.0      0.0        140.000000      1.000000   \n",
       "\n",
       "                ups  ...  num_reports  mod_reason_by  report_reasons  \\\n",
       "count  10000.000000  ...          0.0            0.0             0.0   \n",
       "mean     252.545800  ...          NaN            NaN             NaN   \n",
       "std     1230.992996  ...          NaN            NaN             NaN   \n",
       "min        0.000000  ...          NaN            NaN             NaN   \n",
       "25%        1.000000  ...          NaN            NaN             NaN   \n",
       "50%        1.000000  ...          NaN            NaN             NaN   \n",
       "75%       30.000000  ...          NaN            NaN             NaN   \n",
       "max    35186.000000  ...          NaN            NaN             NaN   \n",
       "\n",
       "       num_comments  subreddit_subscribers   created_utc  num_crossposts  \\\n",
       "count  10000.000000           1.000000e+04  1.000000e+04    10000.000000   \n",
       "mean      57.174100           5.163245e+06  1.614467e+09        0.053000   \n",
       "std      484.555503           2.642096e-01  2.556958e+07        0.622278   \n",
       "min        0.000000           5.163245e+06  1.579903e+09        0.000000   \n",
       "25%        1.000000           5.163245e+06  1.592482e+09        0.000000   \n",
       "50%        9.000000           5.163245e+06  1.607309e+09        0.000000   \n",
       "75%       40.000000           5.163245e+06  1.636766e+09        0.000000   \n",
       "max    40688.000000           5.163246e+06  1.662032e+09       54.000000   \n",
       "\n",
       "       call_to_action   event_start     event_end  \n",
       "count             0.0  1.000000e+00  1.000000e+00  \n",
       "mean              NaN  1.590361e+09  1.590376e+09  \n",
       "std               NaN           NaN           NaN  \n",
       "min               NaN  1.590361e+09  1.590376e+09  \n",
       "25%               NaN  1.590361e+09  1.590376e+09  \n",
       "50%               NaN  1.590361e+09  1.590376e+09  \n",
       "75%               NaN  1.590361e+09  1.590376e+09  \n",
       "max               NaN  1.590361e+09  1.590376e+09  \n",
       "\n",
       "[8 rows x 34 columns]"
      ]
     },
     "execution_count": 3,
     "metadata": {},
     "output_type": "execute_result"
    }
   ],
   "source": [
    "pmaw_df.describe()"
   ]
  },
  {
   "cell_type": "code",
   "execution_count": 4,
   "id": "85b390d7",
   "metadata": {},
   "outputs": [],
   "source": [
    "# drop 'Unnamed: 0 column'\n",
    "pmaw_df.drop(columns = 'Unnamed: 0', inplace = True)"
   ]
  },
  {
   "cell_type": "code",
   "execution_count": 5,
   "id": "cc481ceb",
   "metadata": {},
   "outputs": [
    {
     "data": {
      "text/plain": [
       "(10000, 123)"
      ]
     },
     "execution_count": 5,
     "metadata": {},
     "output_type": "execute_result"
    }
   ],
   "source": [
    "# 10_000 submissions with 123 columns -- need to clean up!\n",
    "pmaw_df.shape"
   ]
  },
  {
   "cell_type": "code",
   "execution_count": 6,
   "id": "bddffebf",
   "metadata": {},
   "outputs": [
    {
     "data": {
      "text/plain": [
       "['comment_limit',\n",
       " 'comment_sort',\n",
       " '_reddit',\n",
       " 'approved_at_utc',\n",
       " 'subreddit',\n",
       " 'selftext',\n",
       " 'author_fullname',\n",
       " 'saved',\n",
       " 'mod_reason_title',\n",
       " 'gilded',\n",
       " 'clicked',\n",
       " 'title',\n",
       " 'link_flair_richtext',\n",
       " 'subreddit_name_prefixed',\n",
       " 'hidden',\n",
       " 'pwls',\n",
       " 'link_flair_css_class',\n",
       " 'downs',\n",
       " 'thumbnail_height',\n",
       " 'top_awarded_type',\n",
       " 'hide_score',\n",
       " 'name',\n",
       " 'quarantine',\n",
       " 'link_flair_text_color',\n",
       " 'upvote_ratio',\n",
       " 'author_flair_background_color',\n",
       " 'subreddit_type',\n",
       " 'ups',\n",
       " 'total_awards_received',\n",
       " 'media_embed',\n",
       " 'thumbnail_width',\n",
       " 'author_flair_template_id',\n",
       " 'is_original_content',\n",
       " 'user_reports',\n",
       " 'secure_media',\n",
       " 'is_reddit_media_domain',\n",
       " 'is_meta',\n",
       " 'category',\n",
       " 'secure_media_embed',\n",
       " 'link_flair_text',\n",
       " 'can_mod_post',\n",
       " 'score',\n",
       " 'approved_by',\n",
       " 'is_created_from_ads_ui',\n",
       " 'author_premium',\n",
       " 'thumbnail',\n",
       " 'edited',\n",
       " 'author_flair_css_class',\n",
       " 'author_flair_richtext',\n",
       " 'gildings',\n",
       " 'content_categories',\n",
       " 'is_self',\n",
       " 'mod_note',\n",
       " 'created',\n",
       " 'link_flair_type',\n",
       " 'wls',\n",
       " 'removed_by_category',\n",
       " 'banned_by',\n",
       " 'author_flair_type',\n",
       " 'domain',\n",
       " 'allow_live_comments',\n",
       " 'selftext_html',\n",
       " 'likes',\n",
       " 'suggested_sort',\n",
       " 'banned_at_utc',\n",
       " 'view_count',\n",
       " 'archived',\n",
       " 'no_follow',\n",
       " 'is_crosspostable',\n",
       " 'pinned',\n",
       " 'over_18',\n",
       " 'all_awardings',\n",
       " 'awarders',\n",
       " 'media_only',\n",
       " 'can_gild',\n",
       " 'spoiler',\n",
       " 'locked',\n",
       " 'author_flair_text',\n",
       " 'treatment_tags',\n",
       " 'visited',\n",
       " 'removed_by',\n",
       " 'num_reports',\n",
       " 'distinguished',\n",
       " 'subreddit_id',\n",
       " 'author_is_blocked',\n",
       " 'mod_reason_by',\n",
       " 'removal_reason',\n",
       " 'link_flair_background_color',\n",
       " 'id',\n",
       " 'is_robot_indexable',\n",
       " 'report_reasons',\n",
       " 'author',\n",
       " 'discussion_type',\n",
       " 'num_comments',\n",
       " 'send_replies',\n",
       " 'whitelist_status',\n",
       " 'contest_mode',\n",
       " 'mod_reports',\n",
       " 'author_patreon_flair',\n",
       " 'author_flair_text_color',\n",
       " 'permalink',\n",
       " 'parent_whitelist_status',\n",
       " 'stickied',\n",
       " 'url',\n",
       " 'subreddit_subscribers',\n",
       " 'created_utc',\n",
       " 'num_crossposts',\n",
       " 'media',\n",
       " 'is_video',\n",
       " '_fetched',\n",
       " '_comments_by_id',\n",
       " 'url_overridden_by_dest',\n",
       " 'post_hint',\n",
       " 'preview',\n",
       " 'media_metadata',\n",
       " 'link_flair_template_id',\n",
       " 'crosspost_parent_list',\n",
       " 'crosspost_parent',\n",
       " 'call_to_action',\n",
       " 'author_cakeday',\n",
       " 'event_start',\n",
       " 'event_end',\n",
       " 'event_is_live']"
      ]
     },
     "execution_count": 6,
     "metadata": {},
     "output_type": "execute_result"
    }
   ],
   "source": [
    "list(pmaw_df.columns)"
   ]
  },
  {
   "cell_type": "code",
   "execution_count": 7,
   "id": "46f14c1f",
   "metadata": {
    "scrolled": false
   },
   "outputs": [
    {
     "data": {
      "text/html": [
       "<div>\n",
       "<style scoped>\n",
       "    .dataframe tbody tr th:only-of-type {\n",
       "        vertical-align: middle;\n",
       "    }\n",
       "\n",
       "    .dataframe tbody tr th {\n",
       "        vertical-align: top;\n",
       "    }\n",
       "\n",
       "    .dataframe thead th {\n",
       "        text-align: right;\n",
       "    }\n",
       "</style>\n",
       "<table border=\"1\" class=\"dataframe\">\n",
       "  <thead>\n",
       "    <tr style=\"text-align: right;\">\n",
       "      <th></th>\n",
       "      <th>comment_limit</th>\n",
       "      <th>comment_sort</th>\n",
       "      <th>_reddit</th>\n",
       "      <th>subreddit</th>\n",
       "      <th>selftext</th>\n",
       "      <th>author_fullname</th>\n",
       "      <th>saved</th>\n",
       "      <th>gilded</th>\n",
       "      <th>clicked</th>\n",
       "      <th>title</th>\n",
       "      <th>...</th>\n",
       "      <th>permalink</th>\n",
       "      <th>parent_whitelist_status</th>\n",
       "      <th>stickied</th>\n",
       "      <th>url</th>\n",
       "      <th>subreddit_subscribers</th>\n",
       "      <th>created_utc</th>\n",
       "      <th>num_crossposts</th>\n",
       "      <th>is_video</th>\n",
       "      <th>_fetched</th>\n",
       "      <th>_comments_by_id</th>\n",
       "    </tr>\n",
       "  </thead>\n",
       "  <tbody>\n",
       "    <tr>\n",
       "      <th>0</th>\n",
       "      <td>2048</td>\n",
       "      <td>confidence</td>\n",
       "      <td>&lt;praw.reddit.Reddit object at 0x7fa8e1c78a90&gt;</td>\n",
       "      <td>nba</td>\n",
       "      <td>90s Bulls\\n\\n- Kevin Johnson, MJ, Pippen, Rodm...</td>\n",
       "      <td>t2_6hryekch</td>\n",
       "      <td>False</td>\n",
       "      <td>0</td>\n",
       "      <td>False</td>\n",
       "      <td>90s Bulls with Prime Mutombo and Rodman vs 90s...</td>\n",
       "      <td>...</td>\n",
       "      <td>/r/nba/comments/hqqgua/90s_bulls_with_prime_mu...</td>\n",
       "      <td>all_ads</td>\n",
       "      <td>False</td>\n",
       "      <td>https://www.reddit.com/r/nba/comments/hqqgua/9...</td>\n",
       "      <td>5163245</td>\n",
       "      <td>1.594683e+09</td>\n",
       "      <td>0</td>\n",
       "      <td>False</td>\n",
       "      <td>False</td>\n",
       "      <td>{}</td>\n",
       "    </tr>\n",
       "    <tr>\n",
       "      <th>1</th>\n",
       "      <td>2048</td>\n",
       "      <td>confidence</td>\n",
       "      <td>&lt;praw.reddit.Reddit object at 0x7fa8e1c78a90&gt;</td>\n",
       "      <td>nba</td>\n",
       "      <td>[deleted]</td>\n",
       "      <td>NaN</td>\n",
       "      <td>False</td>\n",
       "      <td>0</td>\n",
       "      <td>False</td>\n",
       "      <td>Lebron vs MJ Great Article</td>\n",
       "      <td>...</td>\n",
       "      <td>/r/nba/comments/hqqgbb/lebron_vs_mj_great_arti...</td>\n",
       "      <td>all_ads</td>\n",
       "      <td>False</td>\n",
       "      <td>NaN</td>\n",
       "      <td>5163245</td>\n",
       "      <td>1.594683e+09</td>\n",
       "      <td>0</td>\n",
       "      <td>False</td>\n",
       "      <td>False</td>\n",
       "      <td>{}</td>\n",
       "    </tr>\n",
       "    <tr>\n",
       "      <th>2</th>\n",
       "      <td>2048</td>\n",
       "      <td>confidence</td>\n",
       "      <td>&lt;praw.reddit.Reddit object at 0x7fa8e1c78a90&gt;</td>\n",
       "      <td>nba</td>\n",
       "      <td>It’s common to just assume the Bucks will take...</td>\n",
       "      <td>t2_4161v0k0</td>\n",
       "      <td>False</td>\n",
       "      <td>0</td>\n",
       "      <td>False</td>\n",
       "      <td>Are we underrating the Eastern Conference play...</td>\n",
       "      <td>...</td>\n",
       "      <td>/r/nba/comments/hqqfpg/are_we_underrating_the_...</td>\n",
       "      <td>all_ads</td>\n",
       "      <td>False</td>\n",
       "      <td>https://www.reddit.com/r/nba/comments/hqqfpg/a...</td>\n",
       "      <td>5163245</td>\n",
       "      <td>1.594683e+09</td>\n",
       "      <td>0</td>\n",
       "      <td>False</td>\n",
       "      <td>False</td>\n",
       "      <td>{}</td>\n",
       "    </tr>\n",
       "    <tr>\n",
       "      <th>3</th>\n",
       "      <td>2048</td>\n",
       "      <td>confidence</td>\n",
       "      <td>&lt;praw.reddit.Reddit object at 0x7fa8e1c78a90&gt;</td>\n",
       "      <td>nba</td>\n",
       "      <td>[deleted]</td>\n",
       "      <td>NaN</td>\n",
       "      <td>False</td>\n",
       "      <td>0</td>\n",
       "      <td>False</td>\n",
       "      <td>Who is da GOAT</td>\n",
       "      <td>...</td>\n",
       "      <td>/r/nba/comments/hqqerl/who_is_da_goat/</td>\n",
       "      <td>all_ads</td>\n",
       "      <td>False</td>\n",
       "      <td>NaN</td>\n",
       "      <td>5163245</td>\n",
       "      <td>1.594683e+09</td>\n",
       "      <td>0</td>\n",
       "      <td>False</td>\n",
       "      <td>False</td>\n",
       "      <td>{}</td>\n",
       "    </tr>\n",
       "    <tr>\n",
       "      <th>4</th>\n",
       "      <td>2048</td>\n",
       "      <td>confidence</td>\n",
       "      <td>&lt;praw.reddit.Reddit object at 0x7fa8e1c78a90&gt;</td>\n",
       "      <td>nba</td>\n",
       "      <td>[deleted]</td>\n",
       "      <td>NaN</td>\n",
       "      <td>False</td>\n",
       "      <td>0</td>\n",
       "      <td>False</td>\n",
       "      <td>Kawhi at practice in Orlando, Today!</td>\n",
       "      <td>...</td>\n",
       "      <td>/r/nba/comments/hqqej2/kawhi_at_practice_in_or...</td>\n",
       "      <td>all_ads</td>\n",
       "      <td>False</td>\n",
       "      <td>NaN</td>\n",
       "      <td>5163245</td>\n",
       "      <td>1.594683e+09</td>\n",
       "      <td>0</td>\n",
       "      <td>False</td>\n",
       "      <td>False</td>\n",
       "      <td>{}</td>\n",
       "    </tr>\n",
       "    <tr>\n",
       "      <th>...</th>\n",
       "      <td>...</td>\n",
       "      <td>...</td>\n",
       "      <td>...</td>\n",
       "      <td>...</td>\n",
       "      <td>...</td>\n",
       "      <td>...</td>\n",
       "      <td>...</td>\n",
       "      <td>...</td>\n",
       "      <td>...</td>\n",
       "      <td>...</td>\n",
       "      <td>...</td>\n",
       "      <td>...</td>\n",
       "      <td>...</td>\n",
       "      <td>...</td>\n",
       "      <td>...</td>\n",
       "      <td>...</td>\n",
       "      <td>...</td>\n",
       "      <td>...</td>\n",
       "      <td>...</td>\n",
       "      <td>...</td>\n",
       "      <td>...</td>\n",
       "    </tr>\n",
       "    <tr>\n",
       "      <th>9995</th>\n",
       "      <td>2048</td>\n",
       "      <td>confidence</td>\n",
       "      <td>&lt;praw.reddit.Reddit object at 0x7fa8e1c78a90&gt;</td>\n",
       "      <td>nba</td>\n",
       "      <td>[removed]</td>\n",
       "      <td>t2_btpf2</td>\n",
       "      <td>False</td>\n",
       "      <td>0</td>\n",
       "      <td>False</td>\n",
       "      <td>On average from highest to lowest, what is the...</td>\n",
       "      <td>...</td>\n",
       "      <td>/r/nba/comments/jsmf9e/on_average_from_highest...</td>\n",
       "      <td>all_ads</td>\n",
       "      <td>False</td>\n",
       "      <td>https://www.reddit.com/r/nba/comments/jsmf9e/o...</td>\n",
       "      <td>5163246</td>\n",
       "      <td>1.605149e+09</td>\n",
       "      <td>0</td>\n",
       "      <td>False</td>\n",
       "      <td>False</td>\n",
       "      <td>{}</td>\n",
       "    </tr>\n",
       "    <tr>\n",
       "      <th>9996</th>\n",
       "      <td>2048</td>\n",
       "      <td>confidence</td>\n",
       "      <td>&lt;praw.reddit.Reddit object at 0x7fa8e1c78a90&gt;</td>\n",
       "      <td>nba</td>\n",
       "      <td>[removed]</td>\n",
       "      <td>NaN</td>\n",
       "      <td>False</td>\n",
       "      <td>0</td>\n",
       "      <td>False</td>\n",
       "      <td>I’m so tired of the Jamal Murray memes</td>\n",
       "      <td>...</td>\n",
       "      <td>/r/nba/comments/jsme1n/im_so_tired_of_the_jama...</td>\n",
       "      <td>all_ads</td>\n",
       "      <td>False</td>\n",
       "      <td>NaN</td>\n",
       "      <td>5163246</td>\n",
       "      <td>1.605148e+09</td>\n",
       "      <td>0</td>\n",
       "      <td>False</td>\n",
       "      <td>False</td>\n",
       "      <td>{}</td>\n",
       "    </tr>\n",
       "    <tr>\n",
       "      <th>9997</th>\n",
       "      <td>2048</td>\n",
       "      <td>confidence</td>\n",
       "      <td>&lt;praw.reddit.Reddit object at 0x7fa8e1c78a90&gt;</td>\n",
       "      <td>nba</td>\n",
       "      <td>[deleted]</td>\n",
       "      <td>NaN</td>\n",
       "      <td>False</td>\n",
       "      <td>0</td>\n",
       "      <td>False</td>\n",
       "      <td>Should the Los Angeles Lakers trade for Spence...</td>\n",
       "      <td>...</td>\n",
       "      <td>/r/nba/comments/jsmcxc/should_the_los_angeles_...</td>\n",
       "      <td>all_ads</td>\n",
       "      <td>False</td>\n",
       "      <td>NaN</td>\n",
       "      <td>5163246</td>\n",
       "      <td>1.605148e+09</td>\n",
       "      <td>0</td>\n",
       "      <td>False</td>\n",
       "      <td>False</td>\n",
       "      <td>{}</td>\n",
       "    </tr>\n",
       "    <tr>\n",
       "      <th>9998</th>\n",
       "      <td>2048</td>\n",
       "      <td>confidence</td>\n",
       "      <td>&lt;praw.reddit.Reddit object at 0x7fa8e1c78a90&gt;</td>\n",
       "      <td>nba</td>\n",
       "      <td>NaN</td>\n",
       "      <td>t2_7ex96k12</td>\n",
       "      <td>False</td>\n",
       "      <td>0</td>\n",
       "      <td>False</td>\n",
       "      <td>Mark Daigneault, new Oklahoma Thunder’s head c...</td>\n",
       "      <td>...</td>\n",
       "      <td>/r/nba/comments/jsmcf3/mark_daigneault_new_okl...</td>\n",
       "      <td>all_ads</td>\n",
       "      <td>False</td>\n",
       "      <td>https://deepersport.com/mark-daigneault-new-ok...</td>\n",
       "      <td>5163246</td>\n",
       "      <td>1.605148e+09</td>\n",
       "      <td>0</td>\n",
       "      <td>False</td>\n",
       "      <td>False</td>\n",
       "      <td>{}</td>\n",
       "    </tr>\n",
       "    <tr>\n",
       "      <th>9999</th>\n",
       "      <td>2048</td>\n",
       "      <td>confidence</td>\n",
       "      <td>&lt;praw.reddit.Reddit object at 0x7fa8e1c78a90&gt;</td>\n",
       "      <td>nba</td>\n",
       "      <td>[removed]</td>\n",
       "      <td>t2_8aq464bj</td>\n",
       "      <td>False</td>\n",
       "      <td>0</td>\n",
       "      <td>False</td>\n",
       "      <td>Create a Woj/Shams announcement/trade/signing ...</td>\n",
       "      <td>...</td>\n",
       "      <td>/r/nba/comments/jsmccu/create_a_wojshams_annou...</td>\n",
       "      <td>all_ads</td>\n",
       "      <td>False</td>\n",
       "      <td>https://www.reddit.com/r/nba/comments/jsmccu/c...</td>\n",
       "      <td>5163246</td>\n",
       "      <td>1.605148e+09</td>\n",
       "      <td>0</td>\n",
       "      <td>False</td>\n",
       "      <td>False</td>\n",
       "      <td>{}</td>\n",
       "    </tr>\n",
       "  </tbody>\n",
       "</table>\n",
       "<p>10000 rows × 81 columns</p>\n",
       "</div>"
      ],
      "text/plain": [
       "      comment_limit comment_sort  \\\n",
       "0              2048   confidence   \n",
       "1              2048   confidence   \n",
       "2              2048   confidence   \n",
       "3              2048   confidence   \n",
       "4              2048   confidence   \n",
       "...             ...          ...   \n",
       "9995           2048   confidence   \n",
       "9996           2048   confidence   \n",
       "9997           2048   confidence   \n",
       "9998           2048   confidence   \n",
       "9999           2048   confidence   \n",
       "\n",
       "                                            _reddit subreddit  \\\n",
       "0     <praw.reddit.Reddit object at 0x7fa8e1c78a90>       nba   \n",
       "1     <praw.reddit.Reddit object at 0x7fa8e1c78a90>       nba   \n",
       "2     <praw.reddit.Reddit object at 0x7fa8e1c78a90>       nba   \n",
       "3     <praw.reddit.Reddit object at 0x7fa8e1c78a90>       nba   \n",
       "4     <praw.reddit.Reddit object at 0x7fa8e1c78a90>       nba   \n",
       "...                                             ...       ...   \n",
       "9995  <praw.reddit.Reddit object at 0x7fa8e1c78a90>       nba   \n",
       "9996  <praw.reddit.Reddit object at 0x7fa8e1c78a90>       nba   \n",
       "9997  <praw.reddit.Reddit object at 0x7fa8e1c78a90>       nba   \n",
       "9998  <praw.reddit.Reddit object at 0x7fa8e1c78a90>       nba   \n",
       "9999  <praw.reddit.Reddit object at 0x7fa8e1c78a90>       nba   \n",
       "\n",
       "                                               selftext author_fullname  \\\n",
       "0     90s Bulls\\n\\n- Kevin Johnson, MJ, Pippen, Rodm...     t2_6hryekch   \n",
       "1                                             [deleted]             NaN   \n",
       "2     It’s common to just assume the Bucks will take...     t2_4161v0k0   \n",
       "3                                             [deleted]             NaN   \n",
       "4                                             [deleted]             NaN   \n",
       "...                                                 ...             ...   \n",
       "9995                                          [removed]        t2_btpf2   \n",
       "9996                                          [removed]             NaN   \n",
       "9997                                          [deleted]             NaN   \n",
       "9998                                                NaN     t2_7ex96k12   \n",
       "9999                                          [removed]     t2_8aq464bj   \n",
       "\n",
       "      saved  gilded  clicked  \\\n",
       "0     False       0    False   \n",
       "1     False       0    False   \n",
       "2     False       0    False   \n",
       "3     False       0    False   \n",
       "4     False       0    False   \n",
       "...     ...     ...      ...   \n",
       "9995  False       0    False   \n",
       "9996  False       0    False   \n",
       "9997  False       0    False   \n",
       "9998  False       0    False   \n",
       "9999  False       0    False   \n",
       "\n",
       "                                                  title  ...  \\\n",
       "0     90s Bulls with Prime Mutombo and Rodman vs 90s...  ...   \n",
       "1                            Lebron vs MJ Great Article  ...   \n",
       "2     Are we underrating the Eastern Conference play...  ...   \n",
       "3                                        Who is da GOAT  ...   \n",
       "4                  Kawhi at practice in Orlando, Today!  ...   \n",
       "...                                                 ...  ...   \n",
       "9995  On average from highest to lowest, what is the...  ...   \n",
       "9996             I’m so tired of the Jamal Murray memes  ...   \n",
       "9997  Should the Los Angeles Lakers trade for Spence...  ...   \n",
       "9998  Mark Daigneault, new Oklahoma Thunder’s head c...  ...   \n",
       "9999  Create a Woj/Shams announcement/trade/signing ...  ...   \n",
       "\n",
       "                                              permalink  \\\n",
       "0     /r/nba/comments/hqqgua/90s_bulls_with_prime_mu...   \n",
       "1     /r/nba/comments/hqqgbb/lebron_vs_mj_great_arti...   \n",
       "2     /r/nba/comments/hqqfpg/are_we_underrating_the_...   \n",
       "3                /r/nba/comments/hqqerl/who_is_da_goat/   \n",
       "4     /r/nba/comments/hqqej2/kawhi_at_practice_in_or...   \n",
       "...                                                 ...   \n",
       "9995  /r/nba/comments/jsmf9e/on_average_from_highest...   \n",
       "9996  /r/nba/comments/jsme1n/im_so_tired_of_the_jama...   \n",
       "9997  /r/nba/comments/jsmcxc/should_the_los_angeles_...   \n",
       "9998  /r/nba/comments/jsmcf3/mark_daigneault_new_okl...   \n",
       "9999  /r/nba/comments/jsmccu/create_a_wojshams_annou...   \n",
       "\n",
       "     parent_whitelist_status  stickied  \\\n",
       "0                    all_ads     False   \n",
       "1                    all_ads     False   \n",
       "2                    all_ads     False   \n",
       "3                    all_ads     False   \n",
       "4                    all_ads     False   \n",
       "...                      ...       ...   \n",
       "9995                 all_ads     False   \n",
       "9996                 all_ads     False   \n",
       "9997                 all_ads     False   \n",
       "9998                 all_ads     False   \n",
       "9999                 all_ads     False   \n",
       "\n",
       "                                                    url  \\\n",
       "0     https://www.reddit.com/r/nba/comments/hqqgua/9...   \n",
       "1                                                   NaN   \n",
       "2     https://www.reddit.com/r/nba/comments/hqqfpg/a...   \n",
       "3                                                   NaN   \n",
       "4                                                   NaN   \n",
       "...                                                 ...   \n",
       "9995  https://www.reddit.com/r/nba/comments/jsmf9e/o...   \n",
       "9996                                                NaN   \n",
       "9997                                                NaN   \n",
       "9998  https://deepersport.com/mark-daigneault-new-ok...   \n",
       "9999  https://www.reddit.com/r/nba/comments/jsmccu/c...   \n",
       "\n",
       "      subreddit_subscribers   created_utc num_crossposts  is_video _fetched  \\\n",
       "0                   5163245  1.594683e+09              0     False    False   \n",
       "1                   5163245  1.594683e+09              0     False    False   \n",
       "2                   5163245  1.594683e+09              0     False    False   \n",
       "3                   5163245  1.594683e+09              0     False    False   \n",
       "4                   5163245  1.594683e+09              0     False    False   \n",
       "...                     ...           ...            ...       ...      ...   \n",
       "9995                5163246  1.605149e+09              0     False    False   \n",
       "9996                5163246  1.605148e+09              0     False    False   \n",
       "9997                5163246  1.605148e+09              0     False    False   \n",
       "9998                5163246  1.605148e+09              0     False    False   \n",
       "9999                5163246  1.605148e+09              0     False    False   \n",
       "\n",
       "      _comments_by_id  \n",
       "0                  {}  \n",
       "1                  {}  \n",
       "2                  {}  \n",
       "3                  {}  \n",
       "4                  {}  \n",
       "...               ...  \n",
       "9995               {}  \n",
       "9996               {}  \n",
       "9997               {}  \n",
       "9998               {}  \n",
       "9999               {}  \n",
       "\n",
       "[10000 rows x 81 columns]"
      ]
     },
     "execution_count": 7,
     "metadata": {},
     "output_type": "execute_result"
    }
   ],
   "source": [
    "# drop columns that have more than 50% NaN values\n",
    "pmaw_df.dropna(thresh=len(pmaw_df) / 2, axis = 1)"
   ]
  },
  {
   "cell_type": "markdown",
   "id": "7f99ff88",
   "metadata": {},
   "source": [
    "We will sift through all the columns and remove those that have irrelevent information or does not have value within our model. It seems like there are multiple columns that have the same value for all of the submissions therefore those will be removed as well."
   ]
  },
  {
   "cell_type": "code",
   "execution_count": 8,
   "id": "f0075184",
   "metadata": {},
   "outputs": [
    {
     "data": {
      "text/plain": [
       "2048    10000\n",
       "Name: comment_limit, dtype: int64"
      ]
     },
     "execution_count": 8,
     "metadata": {},
     "output_type": "execute_result"
    }
   ],
   "source": [
    "pmaw_df['comment_limit'].value_counts()"
   ]
  },
  {
   "cell_type": "code",
   "execution_count": 9,
   "id": "fc6acd93",
   "metadata": {
    "scrolled": true
   },
   "outputs": [
    {
     "data": {
      "text/plain": [
       "confidence    10000\n",
       "Name: comment_sort, dtype: int64"
      ]
     },
     "execution_count": 9,
     "metadata": {},
     "output_type": "execute_result"
    }
   ],
   "source": [
    "pmaw_df['comment_sort'].value_counts()"
   ]
  },
  {
   "cell_type": "code",
   "execution_count": 10,
   "id": "aef9fcd9",
   "metadata": {
    "scrolled": true
   },
   "outputs": [
    {
     "data": {
      "text/plain": [
       "<praw.reddit.Reddit object at 0x7fa8e1c78a90>    10000\n",
       "Name: _reddit, dtype: int64"
      ]
     },
     "execution_count": 10,
     "metadata": {},
     "output_type": "execute_result"
    }
   ],
   "source": [
    "pmaw_df['_reddit'].value_counts()"
   ]
  },
  {
   "cell_type": "code",
   "execution_count": 11,
   "id": "52fd00fc",
   "metadata": {},
   "outputs": [
    {
     "data": {
      "text/plain": [
       "Series([], Name: approved_at_utc, dtype: int64)"
      ]
     },
     "execution_count": 11,
     "metadata": {},
     "output_type": "execute_result"
    }
   ],
   "source": [
    "pmaw_df['approved_at_utc'].value_counts()"
   ]
  },
  {
   "cell_type": "code",
   "execution_count": 12,
   "id": "83d42997",
   "metadata": {
    "scrolled": true
   },
   "outputs": [
    {
     "data": {
      "text/plain": [
       "False    10000\n",
       "Name: saved, dtype: int64"
      ]
     },
     "execution_count": 12,
     "metadata": {},
     "output_type": "execute_result"
    }
   ],
   "source": [
    "pmaw_df['saved'].value_counts()"
   ]
  },
  {
   "cell_type": "code",
   "execution_count": 13,
   "id": "57afdb98",
   "metadata": {},
   "outputs": [
    {
     "data": {
      "text/plain": [
       "Series([], Name: mod_reason_title, dtype: int64)"
      ]
     },
     "execution_count": 13,
     "metadata": {},
     "output_type": "execute_result"
    }
   ],
   "source": [
    "pmaw_df['mod_reason_title'].value_counts()"
   ]
  },
  {
   "cell_type": "code",
   "execution_count": 14,
   "id": "49d27aa1",
   "metadata": {
    "scrolled": false
   },
   "outputs": [
    {
     "data": {
      "text/plain": [
       "False    10000\n",
       "Name: clicked, dtype: int64"
      ]
     },
     "execution_count": 14,
     "metadata": {},
     "output_type": "execute_result"
    }
   ],
   "source": [
    "pmaw_df['clicked'].value_counts()"
   ]
  },
  {
   "cell_type": "code",
   "execution_count": 15,
   "id": "642eab84",
   "metadata": {},
   "outputs": [
    {
     "data": {
      "text/plain": [
       "[]                                                                                         8769\n",
       "[{'e': 'text', 't': 'Highlight'}]                                                           427\n",
       "[{'e': 'text', 't': 'News'}]                                                                184\n",
       "[{'e': 'text', 't': 'Highlights'}]                                                          171\n",
       "[{'e': 'text', 't': 'Post Game Thread'}]                                                    117\n",
       "[{'e': 'text', 't': 'Game Thread'}]                                                          68\n",
       "[{'e': 'text', 't': 'Original Content'}]                                                     44\n",
       "[{'e': 'text', 't': 'National Writer'}]                                                      41\n",
       "[{'e': 'text', 't': 'Beat Writer'}]                                                          36\n",
       "[{'e': 'text', 't': 'Spoilers'}]                                                             24\n",
       "[{'e': 'text', 't': 'Stats'}]                                                                15\n",
       "[{'e': 'text', 't': 'Discussion'}]                                                           10\n",
       "[{'e': 'text', 't': 'Misc. Media'}]                                                          10\n",
       "[{'e': 'text', 't': 'Stats Need Sources'}]                                                   10\n",
       "[{'e': 'text', 't': 'Index Thread'}]                                                         10\n",
       "[{'e': 'text', 't': 'Repost'}]                                                               10\n",
       "[{'e': 'text', 't': 'Roster Moves'}]                                                          8\n",
       "[{'e': 'text', 't': 'Make text post'}]                                                        3\n",
       "[{'e': 'text', 't': 'AMA'}]                                                                   3\n",
       "[{'e': 'text', 't': 'Unconfirmed'}]                                                           3\n",
       "[{'e': 'text', 't': 'Self-Promo and Fan Art Thread'}]                                         2\n",
       "[{'e': 'text', 't': 'Requires [Highlight] tag'}]                                              2\n",
       "[{'e': 'text', 't': 'Please no more nicknames'}]                                              1\n",
       "[{'e': 'text', 't': 'Screen Recording'}]                                                      1\n",
       "[{'e': 'text', 't': 'Direct Image Link'}]                                                     1\n",
       "[{'e': 'text', 't': 'Needs Source'}]                                                          1\n",
       "[{'e': 'text', 't': 'Add source'}]                                                            1\n",
       "[{'e': 'text', 't': 'Direct links are for news only'}]                                        1\n",
       "[{'e': 'text', 't': 'Should be a self post, direct links to tweets are for news only'}]       1\n",
       "[{'e': 'text', 't': 'Belongs in daily discussion thread'}]                                    1\n",
       "[{'e': 'text', 't': 'Belongs in the daily discussion thread'}]                                1\n",
       "[{'e': 'text', 't': 'Title has to match'}]                                                    1\n",
       "[{'e': 'text', 't': 'No Source'}]                                                             1\n",
       "[{'e': 'text', 't': 'Need Source'}]                                                           1\n",
       "[{'e': 'text', 't': 'Repost - HIghlight'}]                                                    1\n",
       "[{'e': 'text', 't': '42 PTS'}]                                                                1\n",
       "[{'e': 'text', 't': \"Use 'Self Post'\"}]                                                       1\n",
       "[{'e': 'text', 't': 'Use [Highlight] tag'}]                                                   1\n",
       "[{'e': 'text', 't': 'Duplicate Highlight'}]                                                   1\n",
       "[{'e': 'text', 't': 'Misleading'}]                                                            1\n",
       "[{'e': 'text', 't': 'Low Relevance to the NBA'}]                                              1\n",
       "[{'e': 'text', 't': 'Needs [Highlight] tag'}]                                                 1\n",
       "[{'e': 'text', 't': 'Tweet Rule/Make Into Self-Post'}]                                        1\n",
       "[{'e': 'text', 't': 'Misleading title'}]                                                      1\n",
       "[{'e': 'text', 't': 'Official Post Game'}]                                                    1\n",
       "[{'e': 'text', 't': 'Misleading/Misinformation; had bandana'}]                                1\n",
       "[{'e': 'text', 't': 'No Mock Trade Posts'}]                                                   1\n",
       "[{'e': 'text', 't': 'Repost from 10 days ago'}]                                               1\n",
       "[{'e': 'text', 't': 'Sensationalized title'}]                                                 1\n",
       "[{'e': 'text', 't': 'Quotes = Self Post'}]                                                    1\n",
       "[{'e': 'text', 't': 'Low Quality'}]                                                           1\n",
       "[{'e': 'text', 't': '/r/NBA OC'}]                                                             1\n",
       "[{'e': 'text', 't': 'No Audio'}]                                                              1\n",
       "[{'e': 'text', 't': 'NO AUDIO'}]                                                              1\n",
       "[{'e': 'text', 't': 'TRASH TALK'}]                                                            1\n",
       "Name: link_flair_richtext, dtype: int64"
      ]
     },
     "execution_count": 15,
     "metadata": {},
     "output_type": "execute_result"
    }
   ],
   "source": [
    "pmaw_df['link_flair_richtext'].value_counts()"
   ]
  },
  {
   "cell_type": "code",
   "execution_count": 16,
   "id": "a88cdd01",
   "metadata": {
    "scrolled": true
   },
   "outputs": [
    {
     "data": {
      "text/plain": [
       "r/nba    10000\n",
       "Name: subreddit_name_prefixed, dtype: int64"
      ]
     },
     "execution_count": 16,
     "metadata": {},
     "output_type": "execute_result"
    }
   ],
   "source": [
    "pmaw_df['subreddit_name_prefixed'].value_counts()"
   ]
  },
  {
   "cell_type": "code",
   "execution_count": 17,
   "id": "1a45d0b3",
   "metadata": {},
   "outputs": [
    {
     "data": {
      "text/plain": [
       "False    10000\n",
       "Name: hidden, dtype: int64"
      ]
     },
     "execution_count": 17,
     "metadata": {},
     "output_type": "execute_result"
    }
   ],
   "source": [
    "pmaw_df['hidden'].value_counts()"
   ]
  },
  {
   "cell_type": "code",
   "execution_count": 18,
   "id": "6719d80a",
   "metadata": {},
   "outputs": [
    {
     "data": {
      "text/plain": [
       "6    10000\n",
       "Name: pwls, dtype: int64"
      ]
     },
     "execution_count": 18,
     "metadata": {},
     "output_type": "execute_result"
    }
   ],
   "source": [
    "pmaw_df['pwls'].value_counts()"
   ]
  },
  {
   "cell_type": "code",
   "execution_count": 19,
   "id": "aa28442d",
   "metadata": {
    "scrolled": false
   },
   "outputs": [
    {
     "data": {
      "text/plain": [
       "0    10000\n",
       "Name: downs, dtype: int64"
      ]
     },
     "execution_count": 19,
     "metadata": {},
     "output_type": "execute_result"
    }
   ],
   "source": [
    "pmaw_df['downs'].value_counts()"
   ]
  },
  {
   "cell_type": "code",
   "execution_count": 20,
   "id": "09f7bb33",
   "metadata": {
    "scrolled": true
   },
   "outputs": [
    {
     "data": {
      "text/plain": [
       "78.0     1052\n",
       "140.0     966\n",
       "105.0     918\n",
       "0.0       198\n",
       "73.0      137\n",
       "         ... \n",
       "85.0        1\n",
       "49.0        1\n",
       "126.0       1\n",
       "56.0        1\n",
       "10.0        1\n",
       "Name: thumbnail_height, Length: 79, dtype: int64"
      ]
     },
     "execution_count": 20,
     "metadata": {},
     "output_type": "execute_result"
    }
   ],
   "source": [
    "pmaw_df['thumbnail_height'].value_counts()"
   ]
  },
  {
   "cell_type": "code",
   "execution_count": 21,
   "id": "243e2fe7",
   "metadata": {},
   "outputs": [
    {
     "data": {
      "text/plain": [
       "INACTIVE    1\n",
       "Name: top_awarded_type, dtype: int64"
      ]
     },
     "execution_count": 21,
     "metadata": {},
     "output_type": "execute_result"
    }
   ],
   "source": [
    "pmaw_df['top_awarded_type'].value_counts()"
   ]
  },
  {
   "cell_type": "code",
   "execution_count": 22,
   "id": "6e91273f",
   "metadata": {},
   "outputs": [
    {
     "data": {
      "text/plain": [
       "False    10000\n",
       "Name: hide_score, dtype: int64"
      ]
     },
     "execution_count": 22,
     "metadata": {},
     "output_type": "execute_result"
    }
   ],
   "source": [
    "pmaw_df['hide_score'].value_counts()"
   ]
  },
  {
   "cell_type": "code",
   "execution_count": 23,
   "id": "15bf8128",
   "metadata": {},
   "outputs": [
    {
     "data": {
      "text/plain": [
       "t3_hqqgua    1\n",
       "t3_rsnc4v    1\n",
       "t3_rsnmf5    1\n",
       "t3_rsnkf6    1\n",
       "t3_rsnjk2    1\n",
       "            ..\n",
       "t3_ijutga    1\n",
       "t3_ijupgo    1\n",
       "t3_ijunm7    1\n",
       "t3_ijui6z    1\n",
       "t3_jsmccu    1\n",
       "Name: name, Length: 10000, dtype: int64"
      ]
     },
     "execution_count": 23,
     "metadata": {},
     "output_type": "execute_result"
    }
   ],
   "source": [
    "pmaw_df['name'].value_counts()"
   ]
  },
  {
   "cell_type": "code",
   "execution_count": 24,
   "id": "283a500b",
   "metadata": {},
   "outputs": [
    {
     "data": {
      "text/plain": [
       "False    10000\n",
       "Name: quarantine, dtype: int64"
      ]
     },
     "execution_count": 24,
     "metadata": {},
     "output_type": "execute_result"
    }
   ],
   "source": [
    "pmaw_df['quarantine'].value_counts()"
   ]
  },
  {
   "cell_type": "code",
   "execution_count": 25,
   "id": "c3e6c3be",
   "metadata": {},
   "outputs": [
    {
     "data": {
      "text/plain": [
       "dark     9185\n",
       "light     812\n",
       "Name: link_flair_text_color, dtype: int64"
      ]
     },
     "execution_count": 25,
     "metadata": {},
     "output_type": "execute_result"
    }
   ],
   "source": [
    "pmaw_df['link_flair_text_color'].value_counts()"
   ]
  },
  {
   "cell_type": "code",
   "execution_count": 26,
   "id": "44422a6a",
   "metadata": {},
   "outputs": [
    {
     "data": {
      "text/plain": [
       "1       3421\n",
       "0       1667\n",
       "2        370\n",
       "3        216\n",
       "4        170\n",
       "        ... \n",
       "425        1\n",
       "650        1\n",
       "9065       1\n",
       "2821       1\n",
       "1448       1\n",
       "Name: ups, Length: 1160, dtype: int64"
      ]
     },
     "execution_count": 26,
     "metadata": {},
     "output_type": "execute_result"
    }
   ],
   "source": [
    "pmaw_df['ups'].value_counts()"
   ]
  },
  {
   "cell_type": "code",
   "execution_count": 27,
   "id": "6cb1b688",
   "metadata": {
    "scrolled": false
   },
   "outputs": [
    {
     "data": {
      "text/plain": [
       "#edeff1    2917\n",
       "#d3d6da      19\n",
       "#dadada       4\n",
       "Name: author_flair_background_color, dtype: int64"
      ]
     },
     "execution_count": 27,
     "metadata": {},
     "output_type": "execute_result"
    }
   ],
   "source": [
    "pmaw_df['author_flair_background_color'].value_counts()"
   ]
  },
  {
   "cell_type": "code",
   "execution_count": 28,
   "id": "bc30eee7",
   "metadata": {},
   "outputs": [
    {
     "data": {
      "text/plain": [
       "0     9451\n",
       "1      267\n",
       "2      104\n",
       "3       43\n",
       "5       22\n",
       "4       18\n",
       "8       18\n",
       "6       16\n",
       "7       10\n",
       "10       8\n",
       "9        4\n",
       "11       4\n",
       "12       4\n",
       "19       4\n",
       "25       3\n",
       "14       3\n",
       "38       3\n",
       "17       2\n",
       "15       2\n",
       "16       2\n",
       "13       2\n",
       "22       2\n",
       "23       1\n",
       "51       1\n",
       "35       1\n",
       "63       1\n",
       "95       1\n",
       "49       1\n",
       "24       1\n",
       "18       1\n",
       "Name: total_awards_received, dtype: int64"
      ]
     },
     "execution_count": 28,
     "metadata": {},
     "output_type": "execute_result"
    }
   ],
   "source": [
    "# we're gonna keep this column\n",
    "pmaw_df['total_awards_received'].value_counts()"
   ]
  },
  {
   "cell_type": "code",
   "execution_count": 29,
   "id": "b6f39291",
   "metadata": {},
   "outputs": [
    {
     "data": {
      "text/plain": [
       "{}                                                                                                                                                                                                                                                                                                                                                                                                                                                                                                                                                                                                                                                                                                                                                                                                                                                                                                                                                                                                          7573\n",
       "{'content': '<blockquote class=\"twitter-video\"><p lang=\"und\" dir=\"ltr\"><a href=\"https://twitter.com/hashtag/FreeWOJ?src=hash&amp;ref_src=twsrc%5Etfw\">#FreeWOJ</a>!!  🤜🏻🤛🏾</p>&mdash; LeBron James (@KingJames) <a href=\"https://twitter.com/KingJames/status/1282430987272691713?ref_src=twsrc%5Etfw\">July 12, 2020</a></blockquote>\\n<script async src=\"https://platform.twitter.com/widgets.js\" charset=\"utf-8\"></script>\\n', 'width': 350, 'scrolling': False, 'height': 200}                                                                                                                                                                                                                                                                                                                                                                                                                                                                                                                             14\n",
       "{'content': '<blockquote class=\"twitter-video\"><p lang=\"en\" dir=\"ltr\">Miami needs another Star</p>&mdash; Joel “Troel” Embiid (@JoelEmbiid) <a href=\"https://twitter.com/JoelEmbiid/status/1529654566383403008?ref_src=twsrc%5Etfw\">May 26, 2022</a></blockquote>\\n<script async src=\"https://platform.twitter.com/widgets.js\" charset=\"utf-8\"></script>\\n', 'width': 350, 'scrolling': False, 'height': 200}                                                                                                                                                                                                                                                                                                                                                                                                                                                                                                                                                                                                 11\n",
       "{'content': '<blockquote class=\"twitter-video\"><p lang=\"en\" dir=\"ltr\">I already got invited to the bubble. Yea the season definitely ending early. 😭😭😭</p>&mdash; Vaxxed &amp; Waxed (@Ugly_Anna) <a href=\"https://twitter.com/Ugly_Anna/status/1282392399944183808?ref_src=twsrc%5Etfw\">July 12, 2020</a></blockquote>\\n<script async src=\"https://platform.twitter.com/widgets.js\" charset=\"utf-8\"></script>\\n', 'width': 350, 'scrolling': False, 'height': 200}                                                                                                                                                                                                                                                                                                                                                                                                                                                                                                                                           10\n",
       "{'content': None, 'width': 350, 'scrolling': False, 'height': 200}                                                                                                                                                                                                                                                                                                                                                                                                                                                                                                                                                                                                                                                                                                                                                                                                                                                                                                                                             8\n",
       "                                                                                                                                                                                                                                                                                                                                                                                                                                                                                                                                                                                                                                                                                                                                                                                                                                                                                                                                                                                                            ... \n",
       "{'content': '<iframe class=\"embedly-embed\" src=\"https://cdn.embedly.com/widgets/media.html?src=https%3A%2F%2Fstreamable.com%2Fo%2F79e60m&display_name=Streamable&url=https%3A%2F%2Fstreamable.com%2F79e60m&image=https%3A%2F%2Fcdn-cf-east.streamable.com%2Fimage%2F79e60m.jpg%3FExpires%3D1647881640%26Signature%3Dm1j3F0v%7ER0mK57x9y6sfwYmbIV1jzuSzw3fGXJ6ECh0zYLaUSjN3e2UtwZwJaHRKxo7ps7KGg-cAcCQMv5gT3vhbNmBdZpDEO9dBCA7UdSYrERtqyqAqw6N0u8eycxb4pzXojlVKvgFAj-5AjTwKniKjjxBaAsqB6T-w8Ys9IirWxP9kSdNlLToCN%7E63rkeKEmQkIPYv7o0qC2V7OvXRodo5em8i2B45SBbl-j%7EdL-5TOX3Mk1H4Y-2X58rM%7EOu%7ErEIc0nO7lALGQVLQCIOpgQLNZ62Ibqwg1fz%7EM4Y4udKOt7ysjz5VgdRKEOqpJgmJ4xEqalYXlHjg2nyTX1dbhw__%26Key-Pair-Id%3DAPKAIEYUVEN4EVB2OKEQ&key=2aa3c4d5f3de4f5b9120b660ad850dc9&type=text%2Fhtml&schema=streamable\" width=\"600\" height=\"338\" scrolling=\"no\" title=\"Streamable embed\" frameborder=\"0\" allow=\"autoplay; fullscreen\" allowfullscreen=\"true\"></iframe>', 'width': 600, 'scrolling': False, 'height': 338}       1\n",
       "{'content': '<iframe width=\"356\" height=\"200\" src=\"https://www.youtube.com/embed/rBu0BRTx2x8?feature=oembed&enablejsapi=1\" frameborder=\"0\" allow=\"accelerometer; autoplay; clipboard-write; encrypted-media; gyroscope; picture-in-picture\" allowfullscreen></iframe>', 'width': 356, 'scrolling': False, 'height': 200}                                                                                                                                                                                                                                                                                                                                                                                                                                                                                                                                                                                                                                                                                       1\n",
       "{'content': '<iframe width=\"356\" height=\"200\" src=\"https://www.youtube.com/embed/eeB-Ekwuaak?feature=oembed&enablejsapi=1\" frameborder=\"0\" allow=\"accelerometer; autoplay; clipboard-write; encrypted-media; gyroscope; picture-in-picture\" allowfullscreen></iframe>', 'width': 356, 'scrolling': False, 'height': 200}                                                                                                                                                                                                                                                                                                                                                                                                                                                                                                                                                                                                                                                                                       1\n",
       "{'content': '<iframe class=\"embedly-embed\" src=\"https://cdn.embedly.com/widgets/media.html?src=https%3A%2F%2Fstreamable.com%2Fo%2F1eh1x0&display_name=Streamable&url=https%3A%2F%2Fstreamable.com%2F1eh1x0&image=https%3A%2F%2Fcdn-cf-east.streamable.com%2Fimage%2F1eh1x0.jpg%3FExpires%3D1644547560%26Signature%3DS8Z6SKLUkeyx1wHc5Z76nYqx2J-UExyaBHyguAHZmfOjiB8ash2Y3TtCmdWb0BMZq6yESCWFvr0A9qkrPTzSHnCMzAdftbhdDtYlNTCE%7Ee5%7EjswlRnXFNP2gREt-rQsxQ5d5mqMI7Uk2bOudn3GcPwlLA8WPIZ%7EaPsNFTSFSNusVj3H6NUvUa2gkZuoTDHI132S2BUaTGJHrHHfQ085-zGsPAmePDvDMCGn5quU4LfUMNv8QphRJ2PSQLhOZ3yOgUWYVPLlMHJnQU0BBpSw%7Ep83mgNh0QiCrYMMunRxtJ3Nb8PgN9mZtaolh4NbwTak-zzdkRQwYR7DFUMkmPtKOUg__%26Key-Pair-Id%3DAPKAIEYUVEN4EVB2OKEQ&key=ed8fa8699ce04833838e66ce79ba05f1&type=text%2Fhtml&schema=streamable\" width=\"600\" height=\"450\" scrolling=\"no\" title=\"Streamable embed\" frameborder=\"0\" allow=\"autoplay; fullscreen\" allowfullscreen=\"true\"></iframe>', 'width': 600, 'scrolling': False, 'height': 450}           1\n",
       "{'content': '<blockquote class=\"twitter-video\"><p lang=\"en\" dir=\"ltr\">P.J. Tucker has been reportedly “irate” over his current contract situation all year, via <a href=\"https://twitter.com/TheAthleticNBA?ref_src=twsrc%5Etfw\">@TheAthleticNBA</a><br><br>Tucker feels “insulted” that Houston delayed contract extension talks and believes he deserves a raise. <a href=\"https://t.co/8LAQ1wLMhF\">pic.twitter.com/8LAQ1wLMhF</a></p>&mdash; Hoop Central (@TheHoopCentral) <a href=\"https://twitter.com/TheHoopCentral/status/1326722908631166976?ref_src=twsrc%5Etfw\">November 12, 2020</a></blockquote>\\n<script async src=\"https://platform.twitter.com/widgets.js\" charset=\"utf-8\"></script>\\n', 'width': 350, 'scrolling': False, 'height': 200}                                                                                                                                                                                                                                                      1\n",
       "Name: media_embed, Length: 2223, dtype: int64"
      ]
     },
     "execution_count": 29,
     "metadata": {},
     "output_type": "execute_result"
    }
   ],
   "source": [
    "pmaw_df['media_embed'].value_counts()"
   ]
  },
  {
   "cell_type": "code",
   "execution_count": 30,
   "id": "d914753d",
   "metadata": {},
   "outputs": [
    {
     "data": {
      "text/plain": [
       "e5aa3fb6-3feb-11e8-8409-0ef728aaae7a    215\n",
       "cc0d49ae-3feb-11e8-8327-0e3e867879aa    108\n",
       "cc57a3a0-3feb-11e8-a765-0ee0c6cba6de    101\n",
       "c62b0378-3feb-11e8-882d-0ebe5c653b82     82\n",
       "db0be97e-3feb-11e8-aeab-0ee637d2d8dc     81\n",
       "                                       ... \n",
       "71d9b198-b670-11e7-a125-0ea7dbaab890      1\n",
       "47d8eb1c-362b-11e8-a23f-0e560f6fb3e6      1\n",
       "4d482edc-362b-11e8-b457-0eb38f8bad7e      1\n",
       "79dcad3c-b670-11e7-b70b-0e7f0a0db672      1\n",
       "71b45de4-b670-11e7-871e-0e4dac27fbf2      1\n",
       "Name: author_flair_template_id, Length: 233, dtype: int64"
      ]
     },
     "execution_count": 30,
     "metadata": {},
     "output_type": "execute_result"
    }
   ],
   "source": [
    "pmaw_df['author_flair_template_id'].value_counts()"
   ]
  },
  {
   "cell_type": "code",
   "execution_count": 31,
   "id": "218f55a1",
   "metadata": {},
   "outputs": [
    {
     "data": {
      "text/plain": [
       "False    10000\n",
       "Name: is_original_content, dtype: int64"
      ]
     },
     "execution_count": 31,
     "metadata": {},
     "output_type": "execute_result"
    }
   ],
   "source": [
    "pmaw_df['is_original_content'].value_counts()"
   ]
  },
  {
   "cell_type": "code",
   "execution_count": 32,
   "id": "f22dd9b6",
   "metadata": {},
   "outputs": [
    {
     "data": {
      "text/plain": [
       "{'type': 'twitter.com', 'oembed': {'provider_url': 'https://twitter.com', 'version': '1.0', 'url': 'https://twitter.com/JoelEmbiid/status/1529654566383403008', 'author_name': 'Joel “Troel” Embiid', 'height': None, 'width': 350, 'html': '<blockquote class=\"twitter-video\"><p lang=\"en\" dir=\"ltr\">Miami needs another Star</p>&mdash; Joel “Troel” Embiid (@JoelEmbiid) <a href=\"https://twitter.com/JoelEmbiid/status/1529654566383403008?ref_src=twsrc%5Etfw\">May 26, 2022</a></blockquote>\\n<script async src=\"https://platform.twitter.com/widgets.js\" charset=\"utf-8\"></script>\\n', 'author_url': 'https://twitter.com/JoelEmbiid', 'provider_name': 'Twitter', 'cache_age': 3153600000, 'type': 'rich'}}                                                                                                                                                                                                                                                                                                                                                 11\n",
       "{'oembed': {'provider_url': 'https://twitter.com', 'url': 'https://twitter.com/KingJames/status/1282430987272691713', 'html': '<blockquote class=\"twitter-video\"><p lang=\"und\" dir=\"ltr\"><a href=\"https://twitter.com/hashtag/FreeWOJ?src=hash&amp;ref_src=twsrc%5Etfw\">#FreeWOJ</a>!!  🤜🏻🤛🏾</p>&mdash; LeBron James (@KingJames) <a href=\"https://twitter.com/KingJames/status/1282430987272691713?ref_src=twsrc%5Etfw\">July 12, 2020</a></blockquote>\\n<script async src=\"https://platform.twitter.com/widgets.js\" charset=\"utf-8\"></script>\\n', 'author_name': 'LeBron James', 'height': None, 'width': 350, 'version': '1.0', 'author_url': 'https://twitter.com/KingJames', 'provider_name': 'Twitter', 'cache_age': 3153600000, 'type': 'rich'}, 'type': 'twitter.com'}                                                                                                                                                                                                                                                                                       8\n",
       "{'type': 'twitter.com', 'oembed': {'provider_url': 'https://twitter.com', 'version': '1.0', 'url': 'https://twitter.com/KingJames/status/1282430987272691713', 'author_name': 'LeBron James', 'height': None, 'width': 350, 'html': '<blockquote class=\"twitter-video\"><p lang=\"und\" dir=\"ltr\"><a href=\"https://twitter.com/hashtag/FreeWOJ?src=hash&amp;ref_src=twsrc%5Etfw\">#FreeWOJ</a>!!  🤜🏻🤛🏾</p>&mdash; LeBron James (@KingJames) <a href=\"https://twitter.com/KingJames/status/1282430987272691713?ref_src=twsrc%5Etfw\">July 12, 2020</a></blockquote>\\n<script async src=\"https://platform.twitter.com/widgets.js\" charset=\"utf-8\"></script>\\n', 'author_url': 'https://twitter.com/KingJames', 'provider_name': 'Twitter', 'cache_age': 3153600000, 'type': 'rich'}}                                                                                                                                                                                                                                                                                       6\n",
       "{'type': 'twitter.com', 'oembed': {'provider_url': 'https://twitter.com', 'version': '1.0', 'url': 'https://twitter.com/Ugly_Anna/status/1282392399944183808', 'author_name': 'Vaxxed & Waxed', 'height': None, 'width': 350, 'html': '<blockquote class=\"twitter-video\"><p lang=\"en\" dir=\"ltr\">I already got invited to the bubble. Yea the season definitely ending early. 😭😭😭</p>&mdash; Vaxxed &amp; Waxed (@Ugly_Anna) <a href=\"https://twitter.com/Ugly_Anna/status/1282392399944183808?ref_src=twsrc%5Etfw\">July 12, 2020</a></blockquote>\\n<script async src=\"https://platform.twitter.com/widgets.js\" charset=\"utf-8\"></script>\\n', 'author_url': 'https://twitter.com/Ugly_Anna', 'provider_name': 'Twitter', 'cache_age': 3153600000, 'type': 'rich'}}                                                                                                                                                                                                                                                                                                   5\n",
       "{'oembed': {'provider_url': 'https://twitter.com', 'url': 'https://twitter.com/Ugly_Anna/status/1282392399944183808', 'html': '<blockquote class=\"twitter-video\"><p lang=\"en\" dir=\"ltr\">I already got invited to the bubble. Yea the season definitely ending early. 😭😭😭</p>&mdash; Vaxxed &amp; Waxed (@Ugly_Anna) <a href=\"https://twitter.com/Ugly_Anna/status/1282392399944183808?ref_src=twsrc%5Etfw\">July 12, 2020</a></blockquote>\\n<script async src=\"https://platform.twitter.com/widgets.js\" charset=\"utf-8\"></script>\\n', 'author_name': 'Vaxxed & Waxed', 'height': None, 'width': 350, 'version': '1.0', 'author_url': 'https://twitter.com/Ugly_Anna', 'provider_name': 'Twitter', 'cache_age': 3153600000, 'type': 'rich'}, 'type': 'twitter.com'}                                                                                                                                                                                                                                                                                                   5\n",
       "                                                                                                                                                                                                                                                                                                                                                                                                                                                                                                                                                                                                                                                                                                                                                                                                                                                                                                                                                                                                                                                                   ..\n",
       "{'type': 'twitter.com', 'oembed': {'provider_url': 'https://twitter.com', 'version': '1.0', 'url': 'https://twitter.com/TimBontemps/status/1247302108526850049', 'author_name': 'Tim Bontemps', 'height': None, 'width': 350, 'html': '<blockquote class=\"twitter-video\"><p lang=\"en\" dir=\"ltr\">Silver says the conference call with President Trump was an &quot;old-school&quot; conference call. No video. Says the leagues were contacted earlier in the week, but that conference call wasn&#39;t set for Saturday until Friday. Silver said that Trump said he&#39;d been watching old sports on TV.</p>&mdash; Tim Bontemps (@TimBontemps) <a href=\"https://twitter.com/TimBontemps/status/1247302108526850049?ref_src=twsrc%5Etfw\">April 6, 2020</a></blockquote>\\n<script async src=\"https://platform.twitter.com/widgets.js\" charset=\"utf-8\"></script>\\n', 'author_url': 'https://twitter.com/TimBontemps', 'provider_name': 'Twitter', 'cache_age': 3153600000, 'type': 'rich'}}                                                                         1\n",
       "{'type': 'youtube.com', 'oembed': {'provider_url': 'https://www.youtube.com/', 'version': '1.0', 'title': 'LeBron, Cavs Erase 26-Point Deficit to Beat Pacers | 2017 NBA Playoffs Rewind', 'type': 'video', 'thumbnail_width': 480, 'height': 200, 'width': 356, 'html': '<iframe width=\"356\" height=\"200\" src=\"https://www.youtube.com/embed/Vu7NzsRelhQ?feature=oembed&enablejsapi=1\" frameborder=\"0\" allow=\"accelerometer; autoplay; clipboard-write; encrypted-media; gyroscope; picture-in-picture\" allowfullscreen></iframe>', 'author_name': 'Bleacher Report', 'provider_name': 'YouTube', 'thumbnail_url': 'https://i.ytimg.com/vi/Vu7NzsRelhQ/hqdefault.jpg', 'thumbnail_height': 360, 'author_url': 'https://www.youtube.com/user/BleacherReport'}}                                                                                                                                                                                                                                                                                                      1\n",
       "{'type': 'youtube.com', 'oembed': {'provider_url': 'https://www.youtube.com/', 'version': '1.0', 'title': 'Brook Lopez Joins ELITE Company With an Outstanding Game 1 Performance | May 15, 2019', 'type': 'video', 'thumbnail_width': 480, 'height': 200, 'width': 356, 'html': '<iframe width=\"356\" height=\"200\" src=\"https://www.youtube.com/embed/LKoxDTQywyk?feature=oembed&enablejsapi=1\" frameborder=\"0\" allow=\"accelerometer; autoplay; clipboard-write; encrypted-media; gyroscope; picture-in-picture\" allowfullscreen></iframe>', 'author_name': 'NBA', 'provider_name': 'YouTube', 'thumbnail_url': 'https://i.ytimg.com/vi/LKoxDTQywyk/hqdefault.jpg', 'thumbnail_height': 360, 'author_url': 'https://www.youtube.com/c/NBA'}}                                                                                                                                                                                                                                                                                                                        1\n",
       "{'type': 'twitter.com', 'oembed': {'provider_url': 'https://twitter.com', 'version': '1.0', 'url': 'https://twitter.com/TimBontemps/status/1247301700303704065', 'author_name': 'Tim Bontemps', 'height': None, 'width': 350, 'html': '<blockquote class=\"twitter-video\"><p lang=\"en\" dir=\"ltr\">Silver: &quot;Beyond crowning a champion, what would the symbolism be of sports starting back up in this country?&quot; Reiterates that, once sports get the &quot;all clear,&quot; the sports leagues are going to be &quot;ready to go.&quot;</p>&mdash; Tim Bontemps (@TimBontemps) <a href=\"https://twitter.com/TimBontemps/status/1247301700303704065?ref_src=twsrc%5Etfw\">April 6, 2020</a></blockquote>\\n<script async src=\"https://platform.twitter.com/widgets.js\" charset=\"utf-8\"></script>\\n', 'author_url': 'https://twitter.com/TimBontemps', 'provider_name': 'Twitter', 'cache_age': 3153600000, 'type': 'rich'}}                                                                                                                                    1\n",
       "{'type': 'twitter.com', 'oembed': {'provider_url': 'https://twitter.com', 'version': '1.0', 'url': 'https://twitter.com/TheHoopCentral/status/1326722908631166976', 'author_name': 'Hoop Central', 'height': None, 'width': 350, 'html': '<blockquote class=\"twitter-video\"><p lang=\"en\" dir=\"ltr\">P.J. Tucker has been reportedly “irate” over his current contract situation all year, via <a href=\"https://twitter.com/TheAthleticNBA?ref_src=twsrc%5Etfw\">@TheAthleticNBA</a><br><br>Tucker feels “insulted” that Houston delayed contract extension talks and believes he deserves a raise. <a href=\"https://t.co/8LAQ1wLMhF\">pic.twitter.com/8LAQ1wLMhF</a></p>&mdash; Hoop Central (@TheHoopCentral) <a href=\"https://twitter.com/TheHoopCentral/status/1326722908631166976?ref_src=twsrc%5Etfw\">November 12, 2020</a></blockquote>\\n<script async src=\"https://platform.twitter.com/widgets.js\" charset=\"utf-8\"></script>\\n', 'author_url': 'https://twitter.com/TheHoopCentral', 'provider_name': 'Twitter', 'cache_age': 3153600000, 'type': 'rich'}}     1\n",
       "Name: secure_media, Length: 2366, dtype: int64"
      ]
     },
     "execution_count": 32,
     "metadata": {},
     "output_type": "execute_result"
    }
   ],
   "source": [
    "pmaw_df['secure_media'].value_counts()"
   ]
  },
  {
   "cell_type": "code",
   "execution_count": 33,
   "id": "13dd4537",
   "metadata": {},
   "outputs": [
    {
     "data": {
      "text/plain": [
       "False    9708\n",
       "True      292\n",
       "Name: is_reddit_media_domain, dtype: int64"
      ]
     },
     "execution_count": 33,
     "metadata": {},
     "output_type": "execute_result"
    }
   ],
   "source": [
    "pmaw_df['is_reddit_media_domain'].value_counts()"
   ]
  },
  {
   "cell_type": "code",
   "execution_count": 34,
   "id": "6ebf1de5",
   "metadata": {},
   "outputs": [
    {
     "data": {
      "text/plain": [
       "False    10000\n",
       "Name: is_meta, dtype: int64"
      ]
     },
     "execution_count": 34,
     "metadata": {},
     "output_type": "execute_result"
    }
   ],
   "source": [
    "pmaw_df['is_meta'].value_counts()"
   ]
  },
  {
   "cell_type": "code",
   "execution_count": 35,
   "id": "1489815e",
   "metadata": {},
   "outputs": [
    {
     "data": {
      "text/plain": [
       "Series([], Name: category, dtype: int64)"
      ]
     },
     "execution_count": 35,
     "metadata": {},
     "output_type": "execute_result"
    }
   ],
   "source": [
    "pmaw_df['category'].value_counts()"
   ]
  },
  {
   "cell_type": "code",
   "execution_count": 36,
   "id": "a24d971d",
   "metadata": {},
   "outputs": [
    {
     "data": {
      "text/plain": [
       "{}                                                                                                                                                                                                                                                                                                                                                                                                                                                                                                                                                                                                                                                                                                                                                                                                                                                                                                                                                                                                                                                                           7573\n",
       "{'content': '<blockquote class=\"twitter-video\"><p lang=\"en\" dir=\"ltr\">Rudy Gobert joined NBA Today to discuss DPOY: “If anybody else not named Rudy Gobert was doing what I do this year and having the impact that I have this year, they would be the frontrunner and it would be clear. … Why should I be penalized for being consistent year after year?” <a href=\"https://t.co/zR8u6ZDgbm\">pic.twitter.com/zR8u6ZDgbm</a></p>&mdash; Malika Andrews (@malika_andrews) <a href=\"https://twitter.com/malika_andrews/status/1512166835038392334?ref_src=twsrc%5Etfw\">April 7, 2022</a></blockquote>\\n<script async src=\"https://platform.twitter.com/widgets.js\" charset=\"utf-8\"></script>\\n', 'width': 350, 'scrolling': False, 'media_domain_url': 'https://www.redditmedia.com/mediaembed/tymceo', 'height': 200}                                                                                                                                                                                                                                                          1\n",
       "{'content': '<blockquote class=\"twitter-video\"><p lang=\"en\" dir=\"ltr\">Tre Jones in the last three games as the starting point guard with Dejounte out:<br><br>13.7 PPG<br>8.7 APG (26 total)<br>ZERO TURNOVERS<br>5.3 RPG<br><br>16/30 FG<br>2/5 3PT<br>7/9 FT <a href=\"https://t.co/LvkNx7fc7u\">pic.twitter.com/LvkNx7fc7u</a></p>&mdash; Tom Petrini (@RealTomPetrini) <a href=\"https://twitter.com/RealTomPetrini/status/1512091990598500358?ref_src=twsrc%5Etfw\">April 7, 2022</a></blockquote>\\n<script async src=\"https://platform.twitter.com/widgets.js\" charset=\"utf-8\"></script>\\n', 'width': 350, 'scrolling': False, 'media_domain_url': 'https://www.redditmedia.com/mediaembed/tykv3z', 'height': 200}                                                                                                                                                                                                                                                                                                                                                            1\n",
       "{'content': '<iframe class=\"embedly-embed\" src=\"https://cdn.embedly.com/widgets/media.html?src=https%3A%2F%2Fstreamable.com%2Fo%2Ftdgwyr&display_name=Streamable&url=https%3A%2F%2Fstreamable.com%2Ftdgwyr&image=https%3A%2F%2Fcdn-cf-east.streamable.com%2Fimage%2Ftdgwyr.jpg%3FExpires%3D1645408020%26Signature%3DgtW%7EyVAUTFRJP2F8BOm43%7ENtyKrTPsQ9c2hjSJ9SjEmq5BxZv76dDOsB0M9MOzJtFQDrWJtckQpw56WaIY6ULArxQavQu9cFEBxYrJ3eHkcPgnkAOkW4pdBOdOdSjMuOlYBYN-pQHuglGurwuZjnGPkpzGy3nPupj%7EytbLUvTV1SFOPTLL95JhEx71XMdFaVivGs1b2X6Epsf9qPYZenHJG-Ab7S-MFixzRAP-yEqbNKqbdlyQAI8a4YnsZcraEunWQOUQj5LmoX3BT6keCWtAisAxwQTsz4rK7Vjp1Bo0ykHtCFyhfmE5whlyQjZAzPIcixQ2HTboLzYZvWu%7EpvwQ__%26Key-Pair-Id%3DAPKAIEYUVEN4EVB2OKEQ&key=ed8fa8699ce04833838e66ce79ba05f1&type=text%2Fhtml&schema=streamable\" width=\"600\" height=\"338\" scrolling=\"no\" title=\"Streamable embed\" frameborder=\"0\" allow=\"autoplay; fullscreen\" allowfullscreen=\"true\"></iframe>', 'width': 600, 'scrolling': False, 'media_domain_url': 'https://www.redditmedia.com/mediaembed/sv5mlz', 'height': 338}       1\n",
       "{'content': '<iframe width=\"356\" height=\"200\" src=\"https://www.youtube.com/embed/JQqqSis8gj8?feature=oembed&enablejsapi=1\" frameborder=\"0\" allow=\"accelerometer; autoplay; clipboard-write; encrypted-media; gyroscope; picture-in-picture\" allowfullscreen></iframe>', 'width': 356, 'scrolling': False, 'media_domain_url': 'https://www.redditmedia.com/mediaembed/sv4tph', 'height': 200}                                                                                                                                                                                                                                                                                                                                                                                                                                                                                                                                                                                                                                                                                   1\n",
       "                                                                                                                                                                                                                                                                                                                                                                                                                                                                                                                                                                                                                                                                                                                                                                                                                                                                                                                                                                                                                                                                             ... \n",
       "{'content': '<iframe width=\"356\" height=\"200\" src=\"https://www.youtube.com/embed/hSGS62d-ETk?feature=oembed&enablejsapi=1\" frameborder=\"0\" allow=\"accelerometer; autoplay; clipboard-write; encrypted-media; gyroscope; picture-in-picture\" allowfullscreen></iframe>', 'width': 356, 'scrolling': False, 'media_domain_url': 'https://www.redditmedia.com/mediaembed/f5u5p9', 'height': 200}                                                                                                                                                                                                                                                                                                                                                                                                                                                                                                                                                                                                                                                                                   1\n",
       "{'content': '<iframe width=\"356\" height=\"200\" src=\"https://www.youtube.com/embed/oZs-UW7Zw1A?feature=oembed&enablejsapi=1\" frameborder=\"0\" allow=\"accelerometer; autoplay; clipboard-write; encrypted-media; gyroscope; picture-in-picture\" allowfullscreen title=\"Michael Jordan\\'s Web of Lies (Part 1)  🏀 The NBA Storyteller Investigation\"></iframe>', 'width': 356, 'scrolling': False, 'media_domain_url': 'https://www.redditmedia.com/mediaembed/f5u2py', 'height': 200}                                                                                                                                                                                                                                                                                                                                                                                                                                                                                                                                                                                               1\n",
       "{'content': '<iframe width=\"356\" height=\"200\" src=\"https://www.youtube.com/embed/i8iCAkBuYls?feature=oembed&enablejsapi=1\" frameborder=\"0\" allow=\"accelerometer; autoplay; clipboard-write; encrypted-media; gyroscope; picture-in-picture\" allowfullscreen></iframe>', 'width': 356, 'scrolling': False, 'media_domain_url': 'https://www.redditmedia.com/mediaembed/f5u16b', 'height': 200}                                                                                                                                                                                                                                                                                                                                                                                                                                                                                                                                                                                                                                                                                   1\n",
       "{'content': '<iframe width=\"356\" height=\"200\" src=\"https://www.youtube.com/embed/wojQyxiZSvY?feature=oembed&enablejsapi=1\" frameborder=\"0\" allow=\"accelerometer; autoplay; clipboard-write; encrypted-media; gyroscope; picture-in-picture\" allowfullscreen></iframe>', 'width': 356, 'scrolling': False, 'media_domain_url': 'https://www.redditmedia.com/mediaembed/f5tok0', 'height': 200}                                                                                                                                                                                                                                                                                                                                                                                                                                                                                                                                                                                                                                                                                   1\n",
       "{'content': '<blockquote class=\"twitter-video\"><p lang=\"en\" dir=\"ltr\">P.J. Tucker has been reportedly “irate” over his current contract situation all year, via <a href=\"https://twitter.com/TheAthleticNBA?ref_src=twsrc%5Etfw\">@TheAthleticNBA</a><br><br>Tucker feels “insulted” that Houston delayed contract extension talks and believes he deserves a raise. <a href=\"https://t.co/8LAQ1wLMhF\">pic.twitter.com/8LAQ1wLMhF</a></p>&mdash; Hoop Central (@TheHoopCentral) <a href=\"https://twitter.com/TheHoopCentral/status/1326722908631166976?ref_src=twsrc%5Etfw\">November 12, 2020</a></blockquote>\\n<script async src=\"https://platform.twitter.com/widgets.js\" charset=\"utf-8\"></script>\\n', 'width': 350, 'scrolling': False, 'media_domain_url': 'https://www.redditmedia.com/mediaembed/jsn0d5', 'height': 200}                                                                                                                                                                                                                                                  1\n",
       "Name: secure_media_embed, Length: 2428, dtype: int64"
      ]
     },
     "execution_count": 36,
     "metadata": {},
     "output_type": "execute_result"
    }
   ],
   "source": [
    "pmaw_df['secure_media_embed'].value_counts()"
   ]
  },
  {
   "cell_type": "code",
   "execution_count": 37,
   "id": "2e0e7b53",
   "metadata": {},
   "outputs": [
    {
     "data": {
      "text/plain": [
       "Highlight                                                          427\n",
       "News                                                               184\n",
       "Highlights                                                         171\n",
       "Post Game Thread                                                   117\n",
       "Game Thread                                                         68\n",
       "Original Content                                                    44\n",
       "National Writer                                                     41\n",
       "Beat Writer                                                         36\n",
       "Spoilers                                                            24\n",
       "Stats                                                               15\n",
       "Discussion                                                          10\n",
       "Index Thread                                                        10\n",
       "Stats Need Sources                                                  10\n",
       "Misc. Media                                                         10\n",
       "Repost                                                              10\n",
       "Roster Moves                                                         8\n",
       "Unconfirmed                                                          3\n",
       "Make text post                                                       3\n",
       "AMA                                                                  3\n",
       "Requires [Highlight] tag                                             2\n",
       "Self-Promo and Fan Art Thread                                        2\n",
       "Title has to match                                                   1\n",
       "Use [Highlight] tag                                                  1\n",
       "Use 'Self Post'                                                      1\n",
       "42 PTS                                                               1\n",
       "Repost - HIghlight                                                   1\n",
       "Need Source                                                          1\n",
       "No Source                                                            1\n",
       "Add source                                                           1\n",
       "Belongs in the daily discussion thread                               1\n",
       "Belongs in daily discussion thread                                   1\n",
       "Should be a self post, direct links to tweets are for news only      1\n",
       "Direct links are for news only                                       1\n",
       "Duplicate Highlight                                                  1\n",
       "Needs Source                                                         1\n",
       "Direct Image Link                                                    1\n",
       "Screen Recording                                                     1\n",
       "Quotes = Self Post                                                   1\n",
       "Low Relevance to the NBA                                             1\n",
       "Needs [Highlight] tag                                                1\n",
       "Misleading title                                                     1\n",
       "Official Post Game                                                   1\n",
       "Misleading/Misinformation; had bandana                               1\n",
       "No Mock Trade Posts                                                  1\n",
       "Repost from 10 days ago                                              1\n",
       "Sensationalized title                                                1\n",
       "No Audio                                                             1\n",
       "NO AUDIO                                                             1\n",
       "Misleading                                                           1\n",
       "Please no more nicknames                                             1\n",
       "/r/NBA OC                                                            1\n",
       "Tweet Rule/Make Into Self-Post                                       1\n",
       "Low Quality                                                          1\n",
       "TRASH TALK                                                           1\n",
       "Name: link_flair_text, dtype: int64"
      ]
     },
     "execution_count": 37,
     "metadata": {},
     "output_type": "execute_result"
    }
   ],
   "source": [
    "pmaw_df['link_flair_text'].value_counts()"
   ]
  },
  {
   "cell_type": "code",
   "execution_count": 38,
   "id": "8134beb6",
   "metadata": {},
   "outputs": [
    {
     "data": {
      "text/plain": [
       "False    10000\n",
       "Name: can_mod_post, dtype: int64"
      ]
     },
     "execution_count": 38,
     "metadata": {},
     "output_type": "execute_result"
    }
   ],
   "source": [
    "pmaw_df['can_mod_post'].value_counts()"
   ]
  },
  {
   "cell_type": "code",
   "execution_count": 39,
   "id": "786825d9",
   "metadata": {},
   "outputs": [
    {
     "data": {
      "text/plain": [
       "1       3421\n",
       "0       1667\n",
       "2        370\n",
       "3        216\n",
       "4        170\n",
       "        ... \n",
       "425        1\n",
       "650        1\n",
       "9065       1\n",
       "2821       1\n",
       "1448       1\n",
       "Name: score, Length: 1160, dtype: int64"
      ]
     },
     "execution_count": 39,
     "metadata": {},
     "output_type": "execute_result"
    }
   ],
   "source": [
    "pmaw_df['score'].value_counts()"
   ]
  },
  {
   "cell_type": "code",
   "execution_count": 40,
   "id": "3ec31e0e",
   "metadata": {},
   "outputs": [
    {
     "data": {
      "text/plain": [
       "Series([], Name: approved_by, dtype: int64)"
      ]
     },
     "execution_count": 40,
     "metadata": {},
     "output_type": "execute_result"
    }
   ],
   "source": [
    "pmaw_df['approved_by'].value_counts()"
   ]
  },
  {
   "cell_type": "code",
   "execution_count": 41,
   "id": "838d7be2",
   "metadata": {},
   "outputs": [
    {
     "data": {
      "text/plain": [
       "False    10000\n",
       "Name: is_created_from_ads_ui, dtype: int64"
      ]
     },
     "execution_count": 41,
     "metadata": {},
     "output_type": "execute_result"
    }
   ],
   "source": [
    "pmaw_df['is_created_from_ads_ui'].value_counts()"
   ]
  },
  {
   "cell_type": "code",
   "execution_count": 42,
   "id": "ad25034d",
   "metadata": {},
   "outputs": [
    {
     "data": {
      "text/plain": [
       "default                                                                             5938\n",
       "self                                                                                2728\n",
       "https://a.thumbs.redditmedia.com/Qvt4vyxoOSUb5j15sFul-2Jng4Dd9G4prFr4Rx8t0S8.jpg       2\n",
       "https://a.thumbs.redditmedia.com/WMGs281LjVH_Xs36JysXBYKjNo8arQaxP41GCQ1WWA8.jpg       2\n",
       "https://b.thumbs.redditmedia.com/QkOyLGz2GXRjl_6vY4CQ1EwLtVEmUR5EWOCa7aKsRKo.jpg       2\n",
       "                                                                                    ... \n",
       "https://b.thumbs.redditmedia.com/1CmTzKJGSOJUXLQug7qlfyO75nOPfg1oObTFwysuLFw.jpg       1\n",
       "https://a.thumbs.redditmedia.com/gs6Wdw15kll0fWfJsmq_PdtLfNuB6gHUwY1CtXTPM94.jpg       1\n",
       "https://a.thumbs.redditmedia.com/YLFk5RogYgLhwflnwjQVdmFDBy6Ie1vSP74wMz2Yi-4.jpg       1\n",
       "https://b.thumbs.redditmedia.com/x91HELIFd4STKQAYIOPY92Cdd3ExlgqIS42TfV7ocWo.jpg       1\n",
       "https://b.thumbs.redditmedia.com/z8oX1zGxVJchMx46G_l4E67ksO_JBb_StB0g57cDB_E.jpg       1\n",
       "Name: thumbnail, Length: 1332, dtype: int64"
      ]
     },
     "execution_count": 42,
     "metadata": {},
     "output_type": "execute_result"
    }
   ],
   "source": [
    "# we're gonna keep this column\n",
    "pmaw_df['thumbnail'].value_counts()"
   ]
  },
  {
   "cell_type": "code",
   "execution_count": 43,
   "id": "e4163c27",
   "metadata": {},
   "outputs": [
    {
     "data": {
      "text/plain": [
       "False           9230\n",
       "1611541163.0       2\n",
       "1596336105.0       2\n",
       "1596336268.0       2\n",
       "1606978235.0       2\n",
       "                ... \n",
       "1598847860.0       1\n",
       "1586191899.0       1\n",
       "1586190111.0       1\n",
       "1586189877.0       1\n",
       "1605150127.0       1\n",
       "Name: edited, Length: 766, dtype: int64"
      ]
     },
     "execution_count": 43,
     "metadata": {},
     "output_type": "execute_result"
    }
   ],
   "source": [
    "pmaw_df['edited'].value_counts()"
   ]
  },
  {
   "cell_type": "code",
   "execution_count": 44,
   "id": "9f2d046d",
   "metadata": {},
   "outputs": [
    {
     "data": {
      "text/plain": [
       "NBA              326\n",
       "Lakers1          132\n",
       "Lakers2          123\n",
       "Celtics1         108\n",
       "Warriors1        106\n",
       "                ... \n",
       "bwTor              1\n",
       "ITA                1\n",
       "Suns4              1\n",
       "TampaRaptors2      1\n",
       "CZE                1\n",
       "Name: author_flair_css_class, Length: 189, dtype: int64"
      ]
     },
     "execution_count": 44,
     "metadata": {},
     "output_type": "execute_result"
    }
   ],
   "source": [
    "pmaw_df['author_flair_css_class'].value_counts()"
   ]
  },
  {
   "cell_type": "code",
   "execution_count": 45,
   "id": "12ed86a5",
   "metadata": {},
   "outputs": [
    {
     "data": {
      "text/plain": [
       "{}                                      9743\n",
       "{'gid_1': 1}                             145\n",
       "{'gid_1': 2}                              34\n",
       "{'gid_2': 1}                              15\n",
       "{'gid_1': 3}                              13\n",
       "{'gid_1': 1, 'gid_2': 1}                   8\n",
       "{'gid_1': 4}                               7\n",
       "{'gid_1': 3, 'gid_2': 1}                   5\n",
       "{'gid_1': 4, 'gid_2': 1}                   4\n",
       "{'gid_1': 5}                               4\n",
       "{'gid_1': 2, 'gid_2': 1}                   3\n",
       "{'gid_1': 2, 'gid_2': 2}                   2\n",
       "{'gid_2': 1, 'gid_3': 1}                   1\n",
       "{'gid_2': 3}                               1\n",
       "{'gid_1': 9}                               1\n",
       "{'gid_1': 7}                               1\n",
       "{'gid_1': 8, 'gid_2': 4}                   1\n",
       "{'gid_1': 16}                              1\n",
       "{'gid_1': 6, 'gid_2': 1}                   1\n",
       "{'gid_1': 11}                              1\n",
       "{'gid_1': 12}                              1\n",
       "{'gid_1': 21, 'gid_2': 1}                  1\n",
       "{'gid_1': 6}                               1\n",
       "{'gid_1': 1, 'gid_2': 1, 'gid_3': 1}       1\n",
       "{'gid_1': 15, 'gid_2': 2}                  1\n",
       "{'gid_1': 8}                               1\n",
       "{'gid_1': 9, 'gid_2': 3, 'gid_3': 1}       1\n",
       "{'gid_1': 1, 'gid_2': 4, 'gid_3': 3}       1\n",
       "{'gid_3': 1}                               1\n",
       "Name: gildings, dtype: int64"
      ]
     },
     "execution_count": 45,
     "metadata": {},
     "output_type": "execute_result"
    }
   ],
   "source": [
    "pmaw_df['gildings'].value_counts()"
   ]
  },
  {
   "cell_type": "code",
   "execution_count": 46,
   "id": "3f3cd331",
   "metadata": {},
   "outputs": [
    {
     "data": {
      "text/plain": [
       "Series([], Name: content_categories, dtype: int64)"
      ]
     },
     "execution_count": 46,
     "metadata": {},
     "output_type": "execute_result"
    }
   ],
   "source": [
    "pmaw_df['content_categories'].value_counts()"
   ]
  },
  {
   "cell_type": "code",
   "execution_count": 47,
   "id": "4ff9c0ac",
   "metadata": {
    "scrolled": true
   },
   "outputs": [
    {
     "data": {
      "text/plain": [
       "True     6337\n",
       "False    3663\n",
       "Name: is_self, dtype: int64"
      ]
     },
     "execution_count": 47,
     "metadata": {},
     "output_type": "execute_result"
    }
   ],
   "source": [
    "pmaw_df['is_self'].value_counts()"
   ]
  },
  {
   "cell_type": "code",
   "execution_count": 48,
   "id": "92e843ff",
   "metadata": {},
   "outputs": [
    {
     "data": {
      "text/plain": [
       "Series([], Name: mod_note, dtype: int64)"
      ]
     },
     "execution_count": 48,
     "metadata": {},
     "output_type": "execute_result"
    }
   ],
   "source": [
    "pmaw_df['mod_note'].value_counts()"
   ]
  },
  {
   "cell_type": "code",
   "execution_count": 49,
   "id": "34e7481e",
   "metadata": {},
   "outputs": [
    {
     "data": {
      "text/plain": [
       "1.579910e+09    4\n",
       "1.619910e+09    4\n",
       "1.636762e+09    4\n",
       "1.640905e+09    3\n",
       "1.611533e+09    3\n",
       "               ..\n",
       "1.598859e+09    1\n",
       "1.598859e+09    1\n",
       "1.598859e+09    1\n",
       "1.598858e+09    1\n",
       "1.605148e+09    1\n",
       "Name: created, Length: 9945, dtype: int64"
      ]
     },
     "execution_count": 49,
     "metadata": {},
     "output_type": "execute_result"
    }
   ],
   "source": [
    "pmaw_df['created'].value_counts()"
   ]
  },
  {
   "cell_type": "code",
   "execution_count": 50,
   "id": "18dc8d56",
   "metadata": {},
   "outputs": [
    {
     "data": {
      "text/plain": [
       "text        8769\n",
       "richtext    1231\n",
       "Name: link_flair_type, dtype: int64"
      ]
     },
     "execution_count": 50,
     "metadata": {},
     "output_type": "execute_result"
    }
   ],
   "source": [
    "pmaw_df['link_flair_type'].value_counts()"
   ]
  },
  {
   "cell_type": "code",
   "execution_count": 51,
   "id": "8e982e63",
   "metadata": {},
   "outputs": [
    {
     "data": {
      "text/plain": [
       "6    9974\n",
       "3      26\n",
       "Name: wls, dtype: int64"
      ]
     },
     "execution_count": 51,
     "metadata": {},
     "output_type": "execute_result"
    }
   ],
   "source": [
    "pmaw_df['wls'].value_counts()"
   ]
  },
  {
   "cell_type": "code",
   "execution_count": 52,
   "id": "d4daba80",
   "metadata": {},
   "outputs": [
    {
     "data": {
      "text/plain": [
       "deleted             2738\n",
       "moderator           2531\n",
       "reddit               159\n",
       "content_takedown       1\n",
       "Name: removed_by_category, dtype: int64"
      ]
     },
     "execution_count": 52,
     "metadata": {},
     "output_type": "execute_result"
    }
   ],
   "source": [
    "pmaw_df['removed_by_category'].value_counts()"
   ]
  },
  {
   "cell_type": "code",
   "execution_count": 53,
   "id": "722211e4",
   "metadata": {},
   "outputs": [
    {
     "data": {
      "text/plain": [
       "Series([], Name: banned_by, dtype: int64)"
      ]
     },
     "execution_count": 53,
     "metadata": {},
     "output_type": "execute_result"
    }
   ],
   "source": [
    "pmaw_df['banned_by'].value_counts()"
   ]
  },
  {
   "cell_type": "code",
   "execution_count": 54,
   "id": "543b81eb",
   "metadata": {},
   "outputs": [
    {
     "data": {
      "text/plain": [
       "self.nba                  4260\n",
       "streamable.com             637\n",
       "twitter.com                452\n",
       "youtu.be                   349\n",
       "youtube.com                288\n",
       "                          ... \n",
       "uspto.report                 1\n",
       "uh5e4626f2uh.axdsz.pro       1\n",
       "panchakarmaindia.com         1\n",
       "ntews.com                    1\n",
       "deepersport.com              1\n",
       "Name: domain, Length: 285, dtype: int64"
      ]
     },
     "execution_count": 54,
     "metadata": {},
     "output_type": "execute_result"
    }
   ],
   "source": [
    "# we're gonna keep this column\n",
    "pmaw_df['domain'].value_counts()"
   ]
  },
  {
   "cell_type": "code",
   "execution_count": 55,
   "id": "f3e2460d",
   "metadata": {},
   "outputs": [
    {
     "data": {
      "text/plain": [
       "False    8027\n",
       "True     1973\n",
       "Name: allow_live_comments, dtype: int64"
      ]
     },
     "execution_count": 55,
     "metadata": {},
     "output_type": "execute_result"
    }
   ],
   "source": [
    "# we're gonna keep this column\n",
    "pmaw_df['allow_live_comments'].value_counts()"
   ]
  },
  {
   "cell_type": "code",
   "execution_count": 56,
   "id": "53156710",
   "metadata": {},
   "outputs": [
    {
     "data": {
      "text/plain": [
       "<!-- SC_OFF --><div class=\"md\"><p>[removed]</p>\\n</div><!-- SC_ON -->                                                                                                                                                                                                                                                                                                                                                                                                                                                                                                                                                                                                                                                                                                                                                                                                                                                                                                                                                                                                                                                                                                                                                                                                                                                                                                                                                                                                                                                                                                                                                                                                                                                              2897\n",
       "<!-- SC_OFF --><div class=\"md\"><p>[deleted]</p>\\n</div><!-- SC_ON -->                                                                                                                                                                                                                                                                                                                                                                                                                                                                                                                                                                                                                                                                                                                                                                                                                                                                                                                                                                                                                                                                                                                                                                                                                                                                                                                                                                                                                                                                                                                                                                                                                                                              1848\n",
       "<!-- SC_OFF --><div class=\"md\"><p>Talk about whatever is on your mind, basketball related or not.</p>\\n\\n<h1>Useful Links &amp; Other Resources</h1>\\n\\n<p><a href=\"https://www.youtube.com/results?search_query=%23NBATogetherLive\">List of All #NBATogether Live Classic Games Streamed to Date</a></p>\\n\\n<p><a href=\"https://www.discord.gg/nba\">r/nba Discord Server</a></p>\\n\\n<p><a href=\"https://twitter.com/nba_reddit\">r/nba Twitter</a></p>\\n\\n<p><a href=\"https://www.reddit.com/r/nba/wiki/rules\">Read Our Community&#39;s Rules and Guidelines</a></p>\\n</div><!-- SC_ON -->                                                                                                                                                                                                                                                                                                                                                                                                                                                                                                                                                                                                                                                                                                                                                                                                                                                                                                                                                                                                                                                                                                                                            3\n",
       "<!-- SC_OFF --><div class=\"md\"><p>The <strong>Self-Promotion Friday and Fan Art Thread</strong> serves as a place for content creators to share their work with the community at <a href=\"https://old.reddit.com/r/nba\">r/nba</a>. If you&#39;d like to post your work below, there are some guidelines we kindly ask you to follow:</p>\\n\\n<ul>\\n<li>No linking out to re-sellers/retailers and/or directly selling merchandise via any e-commerce/marketplace type of website (i.e. Etsy, Society 6, Fiverr, etc...). Any websites or blogs explicitly asking users for donations or monetary compensation via any sort of online or mobile payment services are prohibited.</li>\\n<li>No linking out to content behind paywalls or content requiring users to register/create an account in order access said content.</li>\\n<li>Content <em>must</em> be relevant to the NBA or <a href=\"/r/nba\">r/nba</a>. Comments with content not relevant to the aforementioned will be removed.</li>\\n<li>Be an active member of our community outside of self-promoting your own content. Comments from accounts with the same namesake as a brand or content being promoted will be removed.</li>\\n<li>No spam. No spamming other users&#39; comments or spamming other users&#39; private messages.</li>\\n</ul>\\n\\n<p>Any comments failing to meet the guidelines outlined above will be removed and users may be subject to a ban. We&#39;d also advice familiarizing yourself with <a href=\"https://www.reddit.com/wiki/selfpromotion\">Reddits&#39; self-promotion policy</a>.</p>\\n\\n<p>For any questions or any other comments/feedback, feel free to reach out to the moderation team via mod mail.</p>\\n</div><!-- SC_ON -->       2\n",
       "<!-- SC_OFF --><div class=\"md\"><p>Use this thread to post trade ideas, free talk stuff,  fantasy sports, content that doesn&#39;t need it&#39;s own thread</p>\\n</div><!-- SC_ON -->                                                                                                                                                                                                                                                                                                                                                                                                                                                                                                                                                                                                                                                                                                                                                                                                                                                                                                                                                                                                                                                                                                                                                                                                                                                                                                                                                                                                                                                                                                                                                  2\n",
       "                                                                                                                                                                                                                                                                                                                                                                                                                                                                                                                                                                                                                                                                                                                                                                                                                                                                                                                                                                                                                                                                                                                                                                                                                                                                                                                                                                                                                                                                                                                                                                                                                                                                                                                                   ... \n",
       "<!-- SC_OFF --><div class=\"md\"><p>i thought andrew wiggins would of become a top 5 player all time and lead the timberwolves to multiple championships. then that didn&#39;t happen... What are some cold takes you&#39;ve had on someone i.e. you thought a trade wouldn&#39;t pan out for a team and it did or a player signing somewhere would help him make the next big jump of their career only to flop</p>\\n</div><!-- SC_ON -->                                                                                                                                                                                                                                                                                                                                                                                                                                                                                                                                                                                                                                                                                                                                                                                                                                                                                                                                                                                                                                                                                                                                                                                                                                                                                              1\n",
       "<!-- SC_OFF --><div class=\"md\"><p>After making fun of embiid being terrible offensively last playoffs, hordes of 6ers fans came to his defence saying Gasol is one of the best interior defenders while jokic was just guarded by kanter. Now jokic is guarded by 2x dpoy who&#39;s doing a decent job on him in the paint but jokic has an elite mid range game to bail him out along with being a much better 3 point shooter in the playoffs when he&#39;s locked in. I think I&#39;m going to claim confidently that jokic is better than embiid offensively AND maybe even as a scorer since he&#39;s more efficient, versatile and just slightly worse inside.</p>\\n</div><!-- SC_ON -->                                                                                                                                                                                                                                                                                                                                                                                                                                                                                                                                                                                                                                                                                                                                                                                                                                                                                                                                                                                                                                        1\n",
       "<!-- SC_OFF --><div class=\"md\"><p>Seems like only 2 weeks ago that a couple of writers floated Simmons to Denver as a potential defensive stopper to pair with Jokic. The proposed ask would be MJP + Murray with the logic being that the Nuggets would counter Murray straight up, but would ultimately give up both for Simmons.</p>\\n\\n<p>With Simmons not playing a minute in the playoffs, and Murray going supernova, would Nuggets fans even be interested in that trade now?</p>\\n\\n<p>It&#39;s obviously dangerous to make decisions (even hypothetical ones) based off small sample sizes, but who would you rather have going into next season?</p>\\n\\n<p>Edit: ok, ok, pretty stupid to direct this question at Denver fans who are rightfully stoked right now! I do think is a lot closer than some of the replies would suggest however...</p>\\n</div><!-- SC_ON -->                                                                                                                                                                                                                                                                                                                                                                                                                                                                                                                                                                                                                                                                                                                                                                                                                                                  1\n",
       "<!-- SC_OFF --><div class=\"md\"><p>reiterating a previous post about trading Zach Lavine, I wouldn’t want to trade Lavine if I was a bulls fan, but I see Lavine on the raptors as a very good fit, he’d definitely improve defensively in that situation &amp; wouldn’t have to lead the offense on a game to game basis. his game doesn’t necessarily require the ball in his hands a lot (I think its out of necessity in Chicago).</p>\\n\\n<p>Raptors fans what would you give up? Bulls fans what would you expect back?</p>\\n</div><!-- SC_ON -->                                                                                                                                                                                                                                                                                                                                                                                                                                                                                                                                                                                                                                                                                                                                                                                                                                                                                                                                                                                                                                                                                                                                                                                 1\n",
       "<!-- SC_OFF --><div class=\"md\"><p>I always thought it was from highest to lowest:</p>\\n\\n<p>1st quarter\\n3rd quarter\\n4th quarter\\n2nd quarter</p>\\n\\n<p>Does anyone have data to back this up?</p>\\n</div><!-- SC_ON -->                                                                                                                                                                                                                                                                                                                                                                                                                                                                                                                                                                                                                                                                                                                                                                                                                                                                                                                                                                                                                                                                                                                                                                                                                                                                                                                                                                                                                                                                                                             1\n",
       "Name: selftext_html, Length: 2735, dtype: int64"
      ]
     },
     "execution_count": 56,
     "metadata": {},
     "output_type": "execute_result"
    }
   ],
   "source": [
    "pmaw_df['selftext_html'].value_counts()"
   ]
  },
  {
   "cell_type": "code",
   "execution_count": 57,
   "id": "b2c3ddf6",
   "metadata": {},
   "outputs": [
    {
     "data": {
      "text/plain": [
       "Series([], Name: likes, dtype: int64)"
      ]
     },
     "execution_count": 57,
     "metadata": {},
     "output_type": "execute_result"
    }
   ],
   "source": [
    "pmaw_df['likes'].value_counts()"
   ]
  },
  {
   "cell_type": "code",
   "execution_count": 58,
   "id": "7b0bc6cd",
   "metadata": {},
   "outputs": [
    {
     "data": {
      "text/plain": [
       "new    73\n",
       "qa      5\n",
       "Name: suggested_sort, dtype: int64"
      ]
     },
     "execution_count": 58,
     "metadata": {},
     "output_type": "execute_result"
    }
   ],
   "source": [
    "pmaw_df['suggested_sort'].value_counts()"
   ]
  },
  {
   "cell_type": "code",
   "execution_count": 59,
   "id": "41b29420",
   "metadata": {},
   "outputs": [
    {
     "data": {
      "text/plain": [
       "Series([], Name: banned_at_utc, dtype: int64)"
      ]
     },
     "execution_count": 59,
     "metadata": {},
     "output_type": "execute_result"
    }
   ],
   "source": [
    "pmaw_df['banned_at_utc'].value_counts()"
   ]
  },
  {
   "cell_type": "code",
   "execution_count": 60,
   "id": "6d30c68c",
   "metadata": {},
   "outputs": [
    {
     "data": {
      "text/plain": [
       "https://i.redd.it/ix9scdf7x6r41.gif                                                           4\n",
       "https://twitter.com/KingJames/status/1282430987272691713                                      3\n",
       "https://twitter.com/Rich_Holmes22/status/1282773607098265601/photo/1                          3\n",
       "https://youtu.be/8t9IiJIOAtk                                                                  2\n",
       "https://twitter.com/NetsKingdomAJ/status/1511850646160429060?s=20&t=oDA6uftLTH-wFwbvjGTDrw    2\n",
       "                                                                                             ..\n",
       "https://youtu.be/pGBIiAedehE                                                                  1\n",
       "https://twitter.com/TimBontemps/status/1247302108526850049?s=19                               1\n",
       "https://www.youtube.com/watch?v=Vu7NzsRelhQ                                                   1\n",
       "https://youtu.be/LKoxDTQywyk                                                                  1\n",
       "https://deepersport.com/mark-daigneault-new-oklahoma-thunders-head-coach-here-i-am-home/      1\n",
       "Name: url_overridden_by_dest, Length: 2498, dtype: int64"
      ]
     },
     "execution_count": 60,
     "metadata": {},
     "output_type": "execute_result"
    }
   ],
   "source": [
    "pmaw_df['url_overridden_by_dest'].value_counts()"
   ]
  },
  {
   "cell_type": "code",
   "execution_count": 61,
   "id": "984bb971",
   "metadata": {},
   "outputs": [
    {
     "data": {
      "text/plain": [
       "Series([], Name: view_count, dtype: int64)"
      ]
     },
     "execution_count": 61,
     "metadata": {},
     "output_type": "execute_result"
    }
   ],
   "source": [
    "pmaw_df['view_count'].value_counts()"
   ]
  },
  {
   "cell_type": "code",
   "execution_count": 62,
   "id": "26cd4465",
   "metadata": {
    "scrolled": true
   },
   "outputs": [
    {
     "data": {
      "text/plain": [
       "True     8500\n",
       "False    1500\n",
       "Name: archived, dtype: int64"
      ]
     },
     "execution_count": 62,
     "metadata": {},
     "output_type": "execute_result"
    }
   ],
   "source": [
    "pmaw_df['archived'].value_counts()"
   ]
  },
  {
   "cell_type": "code",
   "execution_count": 63,
   "id": "e1d7f6e8",
   "metadata": {
    "scrolled": true
   },
   "outputs": [
    {
     "data": {
      "text/plain": [
       "True     5232\n",
       "False    4768\n",
       "Name: no_follow, dtype: int64"
      ]
     },
     "execution_count": 63,
     "metadata": {},
     "output_type": "execute_result"
    }
   ],
   "source": [
    "pmaw_df['no_follow'].value_counts()"
   ]
  },
  {
   "cell_type": "code",
   "execution_count": 64,
   "id": "c80b88ea",
   "metadata": {},
   "outputs": [
    {
     "data": {
      "text/plain": [
       "False    10000\n",
       "Name: is_crosspostable, dtype: int64"
      ]
     },
     "execution_count": 64,
     "metadata": {},
     "output_type": "execute_result"
    }
   ],
   "source": [
    "pmaw_df['is_crosspostable'].value_counts()"
   ]
  },
  {
   "cell_type": "code",
   "execution_count": 65,
   "id": "a358569a",
   "metadata": {},
   "outputs": [
    {
     "data": {
      "text/plain": [
       "False    10000\n",
       "Name: pinned, dtype: int64"
      ]
     },
     "execution_count": 65,
     "metadata": {},
     "output_type": "execute_result"
    }
   ],
   "source": [
    "pmaw_df['pinned'].value_counts()"
   ]
  },
  {
   "cell_type": "code",
   "execution_count": 66,
   "id": "76fec3bf",
   "metadata": {},
   "outputs": [
    {
     "data": {
      "text/plain": [
       "False    9974\n",
       "True       26\n",
       "Name: over_18, dtype: int64"
      ]
     },
     "execution_count": 66,
     "metadata": {},
     "output_type": "execute_result"
    }
   ],
   "source": [
    "pmaw_df['over_18'].value_counts()"
   ]
  },
  {
   "cell_type": "code",
   "execution_count": 67,
   "id": "2d491e4c",
   "metadata": {},
   "outputs": [
    {
     "data": {
      "text/plain": [
       "[]                                                                                                                                                                                                                                                                                                                                                                                                                                                                                                                                                                                                                                                                                                                                                                                                                                                                                                                                                                                                                                                                                                                                                                                                                                                                                                                                                                                                                                                                                                                                                                                                                                                                                                                                                                                                                                                                                                                                                                                                                                                                                                                                                                                                                                                                                                                                                                                                                                                                                                                                                                                                                                                                                                                                                                                                                                                                                                                                                                                                                                                                                                                                                                                                                                                                                                                                                                                                                                                                                                                                                                                                                                                                                                                                                                                                                                                                                                                                                                                                                                                                                                                                                                                                                                                                                                                                                                                                                                                                                                                                                                                                                                                                                                                                                                                                                                                                                                                                                                                                                                                                                                                                                                                                                                                                                                                                                                                                                                                                                                                                                                                                                                                                                                                                                                                                                                                                                                                                                                                                                                                                                                                                                                                                                                                                                                                                                                                                                                                                                                                                                                                                                                                                                                                                                                                                                                                                                                                                                                                                                                                                                                                                                                                                                                                                                                                                                                                                                                                                                                                                                                                                                                                                                                                                                                                                                                                                                                                                                                                                                                                                                                                                                                                                                                                                                                                                                                                                                                                                                                                                                                                                                                                                                                                                                                                                                                                                                                                                                                                                                                                                                                                                                                                                                                                                                                                                                                                                                                                                                                                                                                                                                                                                                                                                                                                                                                                                                                                                                                                                                                                                                                                                                                                                                                                                                                                                                                                                                                                                                                                                                                                                                                                                                                                                                                                                                                                                                                                                                                                                                                                                                                                                                                                                                                                                                                                                                                                                                                                                                                                                                                                                                                                                                                                                                                                                                                                                                                                                                                                                                                                                                                                                                                                                                                                                                                                                                                                                                                                                                                                                                                                                                                                                                                                                                                                                                                                                                                                                                                                                                                                                                                                                                                                                                                                                                                                                                                                                                                                                                                                                                                                                                                                     9451\n",
       "[{'giver_coin_reward': None, 'subreddit_id': None, 'is_new': False, 'days_of_drip_extension': None, 'coin_price': 100, 'id': 'gid_1', 'penny_donate': None, 'award_sub_type': 'GLOBAL', 'coin_reward': 0, 'icon_url': 'https://www.redditstatic.com/gold/awards/icon/silver_512.png', 'days_of_premium': None, 'tiers_by_required_awardings': None, 'resized_icons': [{'url': 'https://www.redditstatic.com/gold/awards/icon/silver_16.png', 'width': 16, 'height': 16}, {'url': 'https://www.redditstatic.com/gold/awards/icon/silver_32.png', 'width': 32, 'height': 32}, {'url': 'https://www.redditstatic.com/gold/awards/icon/silver_48.png', 'width': 48, 'height': 48}, {'url': 'https://www.redditstatic.com/gold/awards/icon/silver_64.png', 'width': 64, 'height': 64}, {'url': 'https://www.redditstatic.com/gold/awards/icon/silver_128.png', 'width': 128, 'height': 128}], 'icon_width': 512, 'static_icon_width': 512, 'start_date': None, 'is_enabled': True, 'awardings_required_to_grant_benefits': None, 'description': \"Shows the Silver Award... and that's it.\", 'end_date': None, 'sticky_duration_seconds': None, 'subreddit_coin_reward': 0, 'count': 1, 'static_icon_height': 512, 'name': 'Silver', 'resized_static_icons': [{'url': 'https://www.redditstatic.com/gold/awards/icon/silver_16.png', 'width': 16, 'height': 16}, {'url': 'https://www.redditstatic.com/gold/awards/icon/silver_32.png', 'width': 32, 'height': 32}, {'url': 'https://www.redditstatic.com/gold/awards/icon/silver_48.png', 'width': 48, 'height': 48}, {'url': 'https://www.redditstatic.com/gold/awards/icon/silver_64.png', 'width': 64, 'height': 64}, {'url': 'https://www.redditstatic.com/gold/awards/icon/silver_128.png', 'width': 128, 'height': 128}], 'icon_format': None, 'icon_height': 512, 'penny_price': None, 'award_type': 'global', 'static_icon_url': 'https://www.redditstatic.com/gold/awards/icon/silver_512.png'}]                                                                                                                                                                                                                                                                                                                                                                                                                                                                                                                                                                                                                                                                                                                                                                                                                                                                                                                                                                                                                                                                                                                                                                                                                                                                                                                                                                                                                                                                                                                                                                                                                                                                                                                                                                                                                                                                                                                                                                                                                                                                                                                                                                                                                                                                                                                                                                                                                                                                                                                                                                                                                                                                                                                                                                                                                                                                                                                                                                                                                                                                                                                                                                                                                                                                                                                                                                                                                                                                                                                                                                                                                                                                                                                                                                                                                                                                                                                                                                                                                                                                                                                                                                                                                                                                                                                                                                                                                                                                                                                                                                                                                                                                                                                                                                                                                                                                                                                                                                                                                                                                                                                                                                                                                                                                                                                                                                                                                                                                                                                                                                                                                                                                                                                                                                                                                                                                                                                                                                                                                                                                                                                                                                                                                                                                                                                                                                                                                                                                                                                                                                                                                                                                                                                                                                                                                                                                                                                                                                                                                                                                                                                                                                                                                                                                                                                                                                                                                                                                                                                                                                                                                                                                                                                                                                                                                                                                                                                                                                                                                                                                                                                                                                                                                                                                                                                                                                                                                                                                                                                                                                                                                                                                                                                                                                                                                                                                                                                                                                                                                                                                                                                                                                                                                                                                                                                                                                                                                                                                                                                                                                                                                                                                                                                                                                                                                                                                                                                                                                                                                                                                                                                                                                                                                                                                                                                                                                                                                                                                                                                                                                                                                                                                                                                                                                                                                                                                                                                                                                                                                                                                                                                                                                                                                                                                                                                                                                                                                                                                                                                                                                                                                                                                                                     71\n",
       "[{'giver_coin_reward': None, 'subreddit_id': None, 'is_new': False, 'days_of_drip_extension': None, 'coin_price': 125, 'id': 'award_5f123e3d-4f48-42f4-9c11-e98b566d5897', 'penny_donate': None, 'award_sub_type': 'GLOBAL', 'coin_reward': 0, 'icon_url': 'https://i.redd.it/award_images/t5_22cerq/5izbv4fn0md41_Wholesome.png', 'days_of_premium': None, 'tiers_by_required_awardings': None, 'resized_icons': [{'url': 'https://preview.redd.it/award_images/t5_22cerq/5izbv4fn0md41_Wholesome.png?width=16&height=16&auto=webp&s=92932f465d58e4c16b12b6eac4ca07d27e3d11c0', 'width': 16, 'height': 16}, {'url': 'https://preview.redd.it/award_images/t5_22cerq/5izbv4fn0md41_Wholesome.png?width=32&height=32&auto=webp&s=d11484a208d68a318bf9d4fcf371171a1cb6a7ef', 'width': 32, 'height': 32}, {'url': 'https://preview.redd.it/award_images/t5_22cerq/5izbv4fn0md41_Wholesome.png?width=48&height=48&auto=webp&s=febdf28b6f39f7da7eb1365325b85e0bb49a9f63', 'width': 48, 'height': 48}, {'url': 'https://preview.redd.it/award_images/t5_22cerq/5izbv4fn0md41_Wholesome.png?width=64&height=64&auto=webp&s=b4406a2d88bf86fa3dc8a45aacf7e0c7bdccc4fb', 'width': 64, 'height': 64}, {'url': 'https://preview.redd.it/award_images/t5_22cerq/5izbv4fn0md41_Wholesome.png?width=128&height=128&auto=webp&s=19555b13e3e196b62eeb9160d1ac1d1b372dcb0b', 'width': 128, 'height': 128}], 'icon_width': 2048, 'static_icon_width': 2048, 'start_date': None, 'is_enabled': True, 'awardings_required_to_grant_benefits': None, 'description': 'When you come across a feel-good thing.', 'end_date': None, 'sticky_duration_seconds': None, 'subreddit_coin_reward': 0, 'count': 1, 'static_icon_height': 2048, 'name': 'Wholesome', 'resized_static_icons': [{'url': 'https://preview.redd.it/award_images/t5_22cerq/5izbv4fn0md41_Wholesome.png?width=16&height=16&auto=webp&s=92932f465d58e4c16b12b6eac4ca07d27e3d11c0', 'width': 16, 'height': 16}, {'url': 'https://preview.redd.it/award_images/t5_22cerq/5izbv4fn0md41_Wholesome.png?width=32&height=32&auto=webp&s=d11484a208d68a318bf9d4fcf371171a1cb6a7ef', 'width': 32, 'height': 32}, {'url': 'https://preview.redd.it/award_images/t5_22cerq/5izbv4fn0md41_Wholesome.png?width=48&height=48&auto=webp&s=febdf28b6f39f7da7eb1365325b85e0bb49a9f63', 'width': 48, 'height': 48}, {'url': 'https://preview.redd.it/award_images/t5_22cerq/5izbv4fn0md41_Wholesome.png?width=64&height=64&auto=webp&s=b4406a2d88bf86fa3dc8a45aacf7e0c7bdccc4fb', 'width': 64, 'height': 64}, {'url': 'https://preview.redd.it/award_images/t5_22cerq/5izbv4fn0md41_Wholesome.png?width=128&height=128&auto=webp&s=19555b13e3e196b62eeb9160d1ac1d1b372dcb0b', 'width': 128, 'height': 128}], 'icon_format': None, 'icon_height': 2048, 'penny_price': None, 'award_type': 'global', 'static_icon_url': 'https://i.redd.it/award_images/t5_22cerq/5izbv4fn0md41_Wholesome.png'}]                                                                                                                                                                                                                                                                                                                                                                                                                                                                                                                                                                                                                                                                                                                                                                                                                                                                                                                                                                                                                                                                                                                                                                                                                                                                                                                                                                                                                                                                                                                                                                                                                                                                                                                                                                                                                                                                                                                                                                                                                                                                                                                                                                                                                                                                                                                                                                                                                                                                                                                                                                                                                                                                                                                                                                                                                                                                                                                                                                                                                                                                                                                                                                                                                                                                                                                                                                                                                                                                                                                                                                                                                                                                                                                                                                                                                                                                                                                                                                                                                                                                                                                                                                                                                                                                                                                                                                                                                                                                                                                                                                                                                                                                                                                                                                                                                                                                                                                                                                                                                                                                                                                                                                                                                                                                                                                                                                                                                                                                                                                                                                                                                                                                                                                                                                                                                                                                                                                                                                                                                                                                                                                                                                                                                                                                                                                                                                                                                                                                                                                                                                                                                                                                                                                                                                                                                                                                                                                                                                                                                                                                                                                                                                                                                                                                                                                                                                                                                                                                                                                                                                                                                                                                                                                                                                                                                                                                                                                                                                                                                                                                                                                                                                                                                                                                                                                                                                                                                                                                                                                                                                                                                                                                                                                                                                                                                                                                                                                                                                                                                                                                                                                                                                                                                                                                                                                                                                                                                                                                                                                                                                                                                                                                                                                                                                                                                                                                                                                                                                                                                                                                                                                                                                                                                                                                                                                                                                                                                                                                                                                                                                                                                                                                                                                                  51\n",
       "[{'giver_coin_reward': None, 'subreddit_id': None, 'is_new': False, 'days_of_drip_extension': None, 'coin_price': 150, 'id': 'award_f44611f1-b89e-46dc-97fe-892280b13b82', 'penny_donate': None, 'award_sub_type': 'GLOBAL', 'coin_reward': 0, 'icon_url': 'https://i.redd.it/award_images/t5_22cerq/klvxk1wggfd41_Helpful.png', 'days_of_premium': None, 'tiers_by_required_awardings': None, 'resized_icons': [{'url': 'https://preview.redd.it/award_images/t5_22cerq/klvxk1wggfd41_Helpful.png?width=16&height=16&auto=webp&s=a5662dfbdb402bf67866c050aa76c31c147c2f45', 'width': 16, 'height': 16}, {'url': 'https://preview.redd.it/award_images/t5_22cerq/klvxk1wggfd41_Helpful.png?width=32&height=32&auto=webp&s=a6882eb3f380e8e88009789f4d0072e17b8c59f1', 'width': 32, 'height': 32}, {'url': 'https://preview.redd.it/award_images/t5_22cerq/klvxk1wggfd41_Helpful.png?width=48&height=48&auto=webp&s=e50064b090879e8a0b55e433f6ee61d5cb5fbe1d', 'width': 48, 'height': 48}, {'url': 'https://preview.redd.it/award_images/t5_22cerq/klvxk1wggfd41_Helpful.png?width=64&height=64&auto=webp&s=8e5bb2e76683cb6b161830bcdd9642049d6adc11', 'width': 64, 'height': 64}, {'url': 'https://preview.redd.it/award_images/t5_22cerq/klvxk1wggfd41_Helpful.png?width=128&height=128&auto=webp&s=eda4a9246f95f42ee6940cc0ec65306fd20de878', 'width': 128, 'height': 128}], 'icon_width': 2048, 'static_icon_width': 2048, 'start_date': None, 'is_enabled': True, 'awardings_required_to_grant_benefits': None, 'description': 'Thank you stranger. Shows the award.', 'end_date': None, 'sticky_duration_seconds': None, 'subreddit_coin_reward': 0, 'count': 1, 'static_icon_height': 2048, 'name': 'Helpful', 'resized_static_icons': [{'url': 'https://preview.redd.it/award_images/t5_22cerq/klvxk1wggfd41_Helpful.png?width=16&height=16&auto=webp&s=a5662dfbdb402bf67866c050aa76c31c147c2f45', 'width': 16, 'height': 16}, {'url': 'https://preview.redd.it/award_images/t5_22cerq/klvxk1wggfd41_Helpful.png?width=32&height=32&auto=webp&s=a6882eb3f380e8e88009789f4d0072e17b8c59f1', 'width': 32, 'height': 32}, {'url': 'https://preview.redd.it/award_images/t5_22cerq/klvxk1wggfd41_Helpful.png?width=48&height=48&auto=webp&s=e50064b090879e8a0b55e433f6ee61d5cb5fbe1d', 'width': 48, 'height': 48}, {'url': 'https://preview.redd.it/award_images/t5_22cerq/klvxk1wggfd41_Helpful.png?width=64&height=64&auto=webp&s=8e5bb2e76683cb6b161830bcdd9642049d6adc11', 'width': 64, 'height': 64}, {'url': 'https://preview.redd.it/award_images/t5_22cerq/klvxk1wggfd41_Helpful.png?width=128&height=128&auto=webp&s=eda4a9246f95f42ee6940cc0ec65306fd20de878', 'width': 128, 'height': 128}], 'icon_format': None, 'icon_height': 2048, 'penny_price': None, 'award_type': 'global', 'static_icon_url': 'https://i.redd.it/award_images/t5_22cerq/klvxk1wggfd41_Helpful.png'}]                                                                                                                                                                                                                                                                                                                                                                                                                                                                                                                                                                                                                                                                                                                                                                                                                                                                                                                                                                                                                                                                                                                                                                                                                                                                                                                                                                                                                                                                                                                                                                                                                                                                                                                                                                                                                                                                                                                                                                                                                                                                                                                                                                                                                                                                                                                                                                                                                                                                                                                                                                                                                                                                                                                                                                                                                                                                                                                                                                                                                                                                                                                                                                                                                                                                                                                                                                                                                                                                                                                                                                                                                                                                                                                                                                                                                                                                                                                                                                                                                                                                                                                                                                                                                                                                                                                                                                                                                                                                                                                                                                                                                                                                                                                                                                                                                                                                                                                                                                                                                                                                                                                                                                                                                                                                                                                                                                                                                                                                                                                                                                                                                                                                                                                                                                                                                                                                                                                                                                                                                                                                                                                                                                                                                                                                                                                                                                                                                                                                                                                                                                                                                                                                                                                                                                                                                                                                                                                                                                                                                                                                                                                                                                                                                                                                                                                                                                                                                                                                                                                                                                                                                                                                                                                                                                                                                                                                                                                                                                                                                                                                                                                                                                                                                                                                                                                                                                                                                                                                                                                                                                                                                                                                                                                                                                                                                                                                                                                                                                                                                                                                                                                                                                                                                                                                                                                                                                                                                                                                                                                                                                                                                                                                                                                                                                                                                                                                                                                                                                                                                                                                                                                                                                                                                                                                                                                                                                                                                                                                                                                                                                                                                                                                                                                                                               40\n",
       "[{'giver_coin_reward': None, 'subreddit_id': None, 'is_new': False, 'days_of_drip_extension': None, 'coin_price': 80, 'id': 'award_8352bdff-3e03-4189-8a08-82501dd8f835', 'penny_donate': None, 'award_sub_type': 'GLOBAL', 'coin_reward': 0, 'icon_url': 'https://i.redd.it/award_images/t5_q0gj4/ks45ij6w05f61_oldHugz.png', 'days_of_premium': None, 'tiers_by_required_awardings': None, 'resized_icons': [{'url': 'https://preview.redd.it/award_images/t5_q0gj4/ks45ij6w05f61_oldHugz.png?width=16&height=16&auto=webp&s=73a23bf7f08b633508dedf457f2704c522b94a04', 'width': 16, 'height': 16}, {'url': 'https://preview.redd.it/award_images/t5_q0gj4/ks45ij6w05f61_oldHugz.png?width=32&height=32&auto=webp&s=50f2f16e71d2929e3d7275060af3ad6b851dbfb1', 'width': 32, 'height': 32}, {'url': 'https://preview.redd.it/award_images/t5_q0gj4/ks45ij6w05f61_oldHugz.png?width=48&height=48&auto=webp&s=ca487311563425e195699a4d7e4c57a98cbfde8b', 'width': 48, 'height': 48}, {'url': 'https://preview.redd.it/award_images/t5_q0gj4/ks45ij6w05f61_oldHugz.png?width=64&height=64&auto=webp&s=7b4eedcffb1c09a826e7837532c52979760f1d2b', 'width': 64, 'height': 64}, {'url': 'https://preview.redd.it/award_images/t5_q0gj4/ks45ij6w05f61_oldHugz.png?width=128&height=128&auto=webp&s=e4d5ab237eb71a9f02bb3bf9ad5ee43741918d6c', 'width': 128, 'height': 128}], 'icon_width': 2048, 'static_icon_width': 2048, 'start_date': None, 'is_enabled': True, 'awardings_required_to_grant_benefits': None, 'description': 'Everything is better with a good hug', 'end_date': None, 'sticky_duration_seconds': None, 'subreddit_coin_reward': 0, 'count': 1, 'static_icon_height': 2048, 'name': 'Hugz', 'resized_static_icons': [{'url': 'https://preview.redd.it/award_images/t5_q0gj4/fpm0r5ryq1361_PolarHugs.png?width=16&height=16&auto=webp&s=69997ace3ef4ffc099b81d774c2c8f1530602875', 'width': 16, 'height': 16}, {'url': 'https://preview.redd.it/award_images/t5_q0gj4/fpm0r5ryq1361_PolarHugs.png?width=32&height=32&auto=webp&s=e9519d1999ef9dce5c8a9f59369cb92f52d95319', 'width': 32, 'height': 32}, {'url': 'https://preview.redd.it/award_images/t5_q0gj4/fpm0r5ryq1361_PolarHugs.png?width=48&height=48&auto=webp&s=f076c6434fb2d2f9075991810fd845c40fa73fc6', 'width': 48, 'height': 48}, {'url': 'https://preview.redd.it/award_images/t5_q0gj4/fpm0r5ryq1361_PolarHugs.png?width=64&height=64&auto=webp&s=85527145e0c4b754306a30df29e584fd16187636', 'width': 64, 'height': 64}, {'url': 'https://preview.redd.it/award_images/t5_q0gj4/fpm0r5ryq1361_PolarHugs.png?width=128&height=128&auto=webp&s=b8843cdf82c3b741d7af057c14076dcd2621e811', 'width': 128, 'height': 128}], 'icon_format': 'PNG', 'icon_height': 2048, 'penny_price': 0, 'award_type': 'global', 'static_icon_url': 'https://i.redd.it/award_images/t5_q0gj4/fpm0r5ryq1361_PolarHugs.png'}]                                                                                                                                                                                                                                                                                                                                                                                                                                                                                                                                                                                                                                                                                                                                                                                                                                                                                                                                                                                                                                                                                                                                                                                                                                                                                                                                                                                                                                                                                                                                                                                                                                                                                                                                                                                                                                                                                                                                                                                                                                                                                                                                                                                                                                                                                                                                                                                                                                                                                                                                                                                                                                                                                                                                                                                                                                                                                                                                                                                                                                                                                                                                                                                                                                                                                                                                                                                                                                                                                                                                                                                                                                                                                                                                                                                                                                                                                                                                                                                                                                                                                                                                                                                                                                                                                                                                                                                                                                                                                                                                                                                                                                                                                                                                                                                                                                                                                                                                                                                                                                                                                                                                                                                                                                                                                                                                                                                                                                                                                                                                                                                                                                                                                                                                                                                                                                                                                                                                                                                                                                                                                                                                                                                                                                                                                                                                                                                                                                                                                                                                                                                                                                                                                                                                                                                                                                                                                                                                                                                                                                                                                                                                                                                                                                                                                                                                                                                                                                                                                                                                                                                                                                                                                                                                                                                                                                                                                                                                                                                                                                                                                                                                                                                                                                                                                                                                                                                                                                                                                                                                                                                                                                                                                                                                                                                                                                                                                                                                                                                                                                                                                                                                                                                                                                                                                                                                                                                                                                                                                                                                                                                                                                                                                                                                                                                                                                                                                                                                                                                                                                                                                                                                                                                                                                                                                                                                                                                                                                                                                                                                                                                                                                                                                                                                                                     21\n",
       "                                                                                                                                                                                                                                                                                                                                                                                                                                                                                                                                                                                                                                                                                                                                                                                                                                                                                                                                                                                                                                                                                                                                                                                                                                                                                                                                                                                                                                                                                                                                                                                                                                                                                                                                                                                                                                                                                                                                                                                                                                                                                                                                                                                                                                                                                                                                                                                                                                                                                                                                                                                                                                                                                                                                                                                                                                                                                                                                                                                                                                                                                                                                                                                                                                                                                                                                                                                                                                                                                                                                                                                                                                                                                                                                                                                                                                                                                                                                                                                                                                                                                                                                                                                                                                                                                                                                                                                                                                                                                                                                                                                                                                                                                                                                                                                                                                                                                                                                                                                                                                                                                                                                                                                                                                                                                                                                                                                                                                                                                                                                                                                                                                                                                                                                                                                                                                                                                                                                                                                                                                                                                                                                                                                                                                                                                                                                                                                                                                                                                                                                                                                                                                                                                                                                                                                                                                                                                                                                                                                                                                                                                                                                                                                                                                                                                                                                                                                                                                                                                                                                                                                                                                                                                                                                                                                                                                                                                                                                                                                                                                                                                                                                                                                                                                                                                                                                                                                                                                                                                                                                                                                                                                                                                                                                                                                                                                                                                                                                                                                                                                                                                                                                                                                                                                                                                                                                                                                                                                                                                                                                                                                                                                                                                                                                                                                                                                                                                                                                                                                                                                                                                                                                                                                                                                                                                                                                                                                                                                                                                                                                                                                                                                                                                                                                                                                                                                                                                                                                                                                                                                                                                                                                                                                                                                                                                                                                                                                                                                                                                                                                                                                                                                                                                                                                                                                                                                                                                                                                                                                                                                                                                                                                                                                                                                                                                                                                                                                                                                                                                                                                                                                                                                                                                                                                                                                                                                                                                                                                                                                                                                                                                                                                                                                                                                                                                                                                                                                                                                                                                                                                                                                                                                                       ... \n",
       "[{'giver_coin_reward': None, 'subreddit_id': None, 'is_new': False, 'days_of_drip_extension': None, 'coin_price': 200, 'id': 'award_8dc476c7-1478-4d41-b940-f139e58f7756', 'penny_donate': None, 'award_sub_type': 'GLOBAL', 'coin_reward': 0, 'icon_url': 'https://i.redd.it/award_images/t5_22cerq/9avdcwgupta41_GottheW.png', 'days_of_premium': None, 'tiers_by_required_awardings': None, 'resized_icons': [{'url': 'https://preview.redd.it/award_images/t5_22cerq/9avdcwgupta41_GottheW.png?width=16&height=16&auto=webp&s=dfcebe0aee2a4ed4aa5d428badbc033059d73731', 'width': 16, 'height': 16}, {'url': 'https://preview.redd.it/award_images/t5_22cerq/9avdcwgupta41_GottheW.png?width=32&height=32&auto=webp&s=5fd5d34c1a6d4ff6ce7aa63bf8728843db3f8e2b', 'width': 32, 'height': 32}, {'url': 'https://preview.redd.it/award_images/t5_22cerq/9avdcwgupta41_GottheW.png?width=48&height=48&auto=webp&s=e55dc3f91e3cd2df99e6623e019f09a8341772bf', 'width': 48, 'height': 48}, {'url': 'https://preview.redd.it/award_images/t5_22cerq/9avdcwgupta41_GottheW.png?width=64&height=64&auto=webp&s=8bf7016b334600cf2dc3fc8138b2f48a924f73bf', 'width': 64, 'height': 64}, {'url': 'https://preview.redd.it/award_images/t5_22cerq/9avdcwgupta41_GottheW.png?width=128&height=128&auto=webp&s=c4554bf1d6dcb2f521dc2addf54b1cf13de5dee3', 'width': 128, 'height': 128}], 'icon_width': 2048, 'static_icon_width': 2048, 'start_date': None, 'is_enabled': True, 'awardings_required_to_grant_benefits': None, 'description': '', 'end_date': None, 'sticky_duration_seconds': None, 'subreddit_coin_reward': 0, 'count': 1, 'static_icon_height': 2048, 'name': 'Got the W', 'resized_static_icons': [{'url': 'https://preview.redd.it/award_images/t5_22cerq/9avdcwgupta41_GottheW.png?width=16&height=16&auto=webp&s=dfcebe0aee2a4ed4aa5d428badbc033059d73731', 'width': 16, 'height': 16}, {'url': 'https://preview.redd.it/award_images/t5_22cerq/9avdcwgupta41_GottheW.png?width=32&height=32&auto=webp&s=5fd5d34c1a6d4ff6ce7aa63bf8728843db3f8e2b', 'width': 32, 'height': 32}, {'url': 'https://preview.redd.it/award_images/t5_22cerq/9avdcwgupta41_GottheW.png?width=48&height=48&auto=webp&s=e55dc3f91e3cd2df99e6623e019f09a8341772bf', 'width': 48, 'height': 48}, {'url': 'https://preview.redd.it/award_images/t5_22cerq/9avdcwgupta41_GottheW.png?width=64&height=64&auto=webp&s=8bf7016b334600cf2dc3fc8138b2f48a924f73bf', 'width': 64, 'height': 64}, {'url': 'https://preview.redd.it/award_images/t5_22cerq/9avdcwgupta41_GottheW.png?width=128&height=128&auto=webp&s=c4554bf1d6dcb2f521dc2addf54b1cf13de5dee3', 'width': 128, 'height': 128}], 'icon_format': None, 'icon_height': 2048, 'penny_price': None, 'award_type': 'global', 'static_icon_url': 'https://i.redd.it/award_images/t5_22cerq/9avdcwgupta41_GottheW.png'}, {'giver_coin_reward': None, 'subreddit_id': None, 'is_new': False, 'days_of_drip_extension': None, 'coin_price': 300, 'id': 'award_28e8196b-d4e9-45bc-b612-cd4c7d3ed4b3', 'penny_donate': None, 'award_sub_type': 'GLOBAL', 'coin_reward': 0, 'icon_url': 'https://i.redd.it/award_images/t5_q0gj4/35d17tf5e5f61_oldrocketlike.png', 'days_of_premium': None, 'tiers_by_required_awardings': None, 'resized_icons': [{'url': 'https://preview.redd.it/award_images/t5_q0gj4/35d17tf5e5f61_oldrocketlike.png?width=16&height=16&auto=webp&s=9d714b25ca25d05e3310bc60bc1714ddf7951331', 'width': 16, 'height': 16}, {'url': 'https://preview.redd.it/award_images/t5_q0gj4/35d17tf5e5f61_oldrocketlike.png?width=32&height=32&auto=webp&s=d584b15c8e17d61fa8ae319a91d351c8fe35b918', 'width': 32, 'height': 32}, {'url': 'https://preview.redd.it/award_images/t5_q0gj4/35d17tf5e5f61_oldrocketlike.png?width=48&height=48&auto=webp&s=d9fb2c025611a15e6bb4437734f92db99b93fd12', 'width': 48, 'height': 48}, {'url': 'https://preview.redd.it/award_images/t5_q0gj4/35d17tf5e5f61_oldrocketlike.png?width=64&height=64&auto=webp&s=744fb200d76bf21f6e023ba98d3b4189b34973e3', 'width': 64, 'height': 64}, {'url': 'https://preview.redd.it/award_images/t5_q0gj4/35d17tf5e5f61_oldrocketlike.png?width=128&height=128&auto=webp&s=c180572afbc080622a8ac8441c3bc5214597d05a', 'width': 128, 'height': 128}], 'icon_width': 2048, 'static_icon_width': 2048, 'start_date': None, 'is_enabled': True, 'awardings_required_to_grant_benefits': None, 'description': \"When an upvote just isn't enough, smash the Rocket Like.\", 'end_date': None, 'sticky_duration_seconds': None, 'subreddit_coin_reward': 0, 'count': 1, 'static_icon_height': 2048, 'name': 'Rocket Like', 'resized_static_icons': [{'url': 'https://preview.redd.it/award_images/t5_q0gj4/9fmmyy3c68361_RocketLikeSanta.png?width=16&height=16&auto=webp&s=24fc4d912e595c3fed2ce0deef1c13f70df56056', 'width': 16, 'height': 16}, {'url': 'https://preview.redd.it/award_images/t5_q0gj4/9fmmyy3c68361_RocketLikeSanta.png?width=32&height=32&auto=webp&s=f9d869602e0d8b719186cc603864a42699e5c96e', 'width': 32, 'height': 32}, {'url': 'https://preview.redd.it/award_images/t5_q0gj4/9fmmyy3c68361_RocketLikeSanta.png?width=48&height=48&auto=webp&s=b223ac8fdd206b683b840c2782307c3f01b04fb7', 'width': 48, 'height': 48}, {'url': 'https://preview.redd.it/award_images/t5_q0gj4/9fmmyy3c68361_RocketLikeSanta.png?width=64&height=64&auto=webp&s=a0b840c6ecdee904012a6c53c40194733b72bca8', 'width': 64, 'height': 64}, {'url': 'https://preview.redd.it/award_images/t5_q0gj4/9fmmyy3c68361_RocketLikeSanta.png?width=128&height=128&auto=webp&s=b2e2ca67e067f82ff9b4ea1fe1b39395ca622894', 'width': 128, 'height': 128}], 'icon_format': None, 'icon_height': 2048, 'penny_price': None, 'award_type': 'global', 'static_icon_url': 'https://i.redd.it/award_images/t5_q0gj4/9fmmyy3c68361_RocketLikeSanta.png'}]                                                                                                                                                                                                                                                                                                                                                                                                                                                                                                                                                                                                                                                                                                                                                                                                                                                                                                                                                                                                                                                                                                                                                                                                                                                                                                                                                                                                                                                                                                                                                                                                                                                                                                                                                                                                                                                                                                                                                                                                                                                                                                                                                                                                                                                                                                                                                                                                                                                                                                                                                                                                                                                                                                                                                                                                                                                                                                                                                                                                                                                                                                                                                                                                                                                                                                                                                                                                                                                                                                                                                                                                                                                                                                                                                                                                                                                                                                                                                                                                                                                                                                                                                                                                                                                                                                                                                                                                                                                                                                                                                                                                                                                                                                                                                                                                                                                                                                                                                                                                                                                                                                                                                                                                                                                                                                                                                                                                                                                                                                                                                                                                                                                                                                                                                                                                                                                                                                                                                                                                                                                                                                                                                                                                                                                                                                                                                                                                                                                                                                                                                                                                                                                                                                                                                                                                                                                                                                                                                                                                                                                                                                                                                                                                                                                                                                                                                                                                                                                                                                                                                                                                                                                                                                                                                                                                        1\n",
       "[{'giver_coin_reward': None, 'subreddit_id': None, 'is_new': False, 'days_of_drip_extension': None, 'coin_price': 300, 'id': 'award_28e8196b-d4e9-45bc-b612-cd4c7d3ed4b3', 'penny_donate': None, 'award_sub_type': 'GLOBAL', 'coin_reward': 0, 'icon_url': 'https://i.redd.it/award_images/t5_q0gj4/35d17tf5e5f61_oldrocketlike.png', 'days_of_premium': None, 'tiers_by_required_awardings': None, 'resized_icons': [{'url': 'https://preview.redd.it/award_images/t5_q0gj4/35d17tf5e5f61_oldrocketlike.png?width=16&height=16&auto=webp&s=9d714b25ca25d05e3310bc60bc1714ddf7951331', 'width': 16, 'height': 16}, {'url': 'https://preview.redd.it/award_images/t5_q0gj4/35d17tf5e5f61_oldrocketlike.png?width=32&height=32&auto=webp&s=d584b15c8e17d61fa8ae319a91d351c8fe35b918', 'width': 32, 'height': 32}, {'url': 'https://preview.redd.it/award_images/t5_q0gj4/35d17tf5e5f61_oldrocketlike.png?width=48&height=48&auto=webp&s=d9fb2c025611a15e6bb4437734f92db99b93fd12', 'width': 48, 'height': 48}, {'url': 'https://preview.redd.it/award_images/t5_q0gj4/35d17tf5e5f61_oldrocketlike.png?width=64&height=64&auto=webp&s=744fb200d76bf21f6e023ba98d3b4189b34973e3', 'width': 64, 'height': 64}, {'url': 'https://preview.redd.it/award_images/t5_q0gj4/35d17tf5e5f61_oldrocketlike.png?width=128&height=128&auto=webp&s=c180572afbc080622a8ac8441c3bc5214597d05a', 'width': 128, 'height': 128}], 'icon_width': 2048, 'static_icon_width': 2048, 'start_date': None, 'is_enabled': True, 'awardings_required_to_grant_benefits': None, 'description': \"When an upvote just isn't enough, smash the Rocket Like.\", 'end_date': None, 'sticky_duration_seconds': None, 'subreddit_coin_reward': 0, 'count': 2, 'static_icon_height': 2048, 'name': 'Rocket Like', 'resized_static_icons': [{'url': 'https://preview.redd.it/award_images/t5_q0gj4/9fmmyy3c68361_RocketLikeSanta.png?width=16&height=16&auto=webp&s=24fc4d912e595c3fed2ce0deef1c13f70df56056', 'width': 16, 'height': 16}, {'url': 'https://preview.redd.it/award_images/t5_q0gj4/9fmmyy3c68361_RocketLikeSanta.png?width=32&height=32&auto=webp&s=f9d869602e0d8b719186cc603864a42699e5c96e', 'width': 32, 'height': 32}, {'url': 'https://preview.redd.it/award_images/t5_q0gj4/9fmmyy3c68361_RocketLikeSanta.png?width=48&height=48&auto=webp&s=b223ac8fdd206b683b840c2782307c3f01b04fb7', 'width': 48, 'height': 48}, {'url': 'https://preview.redd.it/award_images/t5_q0gj4/9fmmyy3c68361_RocketLikeSanta.png?width=64&height=64&auto=webp&s=a0b840c6ecdee904012a6c53c40194733b72bca8', 'width': 64, 'height': 64}, {'url': 'https://preview.redd.it/award_images/t5_q0gj4/9fmmyy3c68361_RocketLikeSanta.png?width=128&height=128&auto=webp&s=b2e2ca67e067f82ff9b4ea1fe1b39395ca622894', 'width': 128, 'height': 128}], 'icon_format': None, 'icon_height': 2048, 'penny_price': None, 'award_type': 'global', 'static_icon_url': 'https://i.redd.it/award_images/t5_q0gj4/9fmmyy3c68361_RocketLikeSanta.png'}]                                                                                                                                                                                                                                                                                                                                                                                                                                                                                                                                                                                                                                                                                                                                                                                                                                                                                                                                                                                                                                                                                                                                                                                                                                                                                                                                                                                                                                                                                                                                                                                                                                                                                                                                                                                                                                                                                                                                                                                                                                                                                                                                                                                                                                                                                                                                                                                                                                                                                                                                                                                                                                                                                                                                                                                                                                                                                                                                                                                                                                                                                                                                                                                                                                                                                                                                                                                                                                                                                                                                                                                                                                                                                                                                                                                                                                                                                                                                                                                                                                                                                                                                                                                                                                                                                                                                                                                                                                                                                                                                                                                                                                                                                                                                                                                                                                                                                                                                                                                                                                                                                                                                                                                                                                                                                                                                                                                                                                                                                                                                                                                                                                                                                                                                                                                                                                                                                                                                                                                                                                                                                                                                                                                                                                                                                                                                                                                                                                                                                                                                                                                                                                                                                                                                                                                                                                                                                                                                                                                                                                                                                                                                                                                                                                                                                                                                                                                                                                                                                                                                                                                                                                                                                                                                                                                                                                                                                                                                                                                                                                                                                                                                                                                                                                                                                                                                                                                                                                                                                                                                                                                                                                                                                                                                                                                                                                                                                                                                                                                                                                                                                                                                                                                                                                                                                                                                                                                                                                                                                                                                                                                                                                                                                                                                                                                                                                                                                                                                                                                                                                                                                                                                                                                                                                                                                                                                                                                                                                                                                                                                                                                                                                                                1\n",
       "[{'giver_coin_reward': None, 'subreddit_id': None, 'is_new': False, 'days_of_drip_extension': None, 'coin_price': 100, 'id': 'gid_1', 'penny_donate': None, 'award_sub_type': 'GLOBAL', 'coin_reward': 0, 'icon_url': 'https://www.redditstatic.com/gold/awards/icon/silver_512.png', 'days_of_premium': None, 'tiers_by_required_awardings': None, 'resized_icons': [{'url': 'https://www.redditstatic.com/gold/awards/icon/silver_16.png', 'width': 16, 'height': 16}, {'url': 'https://www.redditstatic.com/gold/awards/icon/silver_32.png', 'width': 32, 'height': 32}, {'url': 'https://www.redditstatic.com/gold/awards/icon/silver_48.png', 'width': 48, 'height': 48}, {'url': 'https://www.redditstatic.com/gold/awards/icon/silver_64.png', 'width': 64, 'height': 64}, {'url': 'https://www.redditstatic.com/gold/awards/icon/silver_128.png', 'width': 128, 'height': 128}], 'icon_width': 512, 'static_icon_width': 512, 'start_date': None, 'is_enabled': True, 'awardings_required_to_grant_benefits': None, 'description': \"Shows the Silver Award... and that's it.\", 'end_date': None, 'sticky_duration_seconds': None, 'subreddit_coin_reward': 0, 'count': 1, 'static_icon_height': 512, 'name': 'Silver', 'resized_static_icons': [{'url': 'https://www.redditstatic.com/gold/awards/icon/silver_16.png', 'width': 16, 'height': 16}, {'url': 'https://www.redditstatic.com/gold/awards/icon/silver_32.png', 'width': 32, 'height': 32}, {'url': 'https://www.redditstatic.com/gold/awards/icon/silver_48.png', 'width': 48, 'height': 48}, {'url': 'https://www.redditstatic.com/gold/awards/icon/silver_64.png', 'width': 64, 'height': 64}, {'url': 'https://www.redditstatic.com/gold/awards/icon/silver_128.png', 'width': 128, 'height': 128}], 'icon_format': None, 'icon_height': 512, 'penny_price': None, 'award_type': 'global', 'static_icon_url': 'https://www.redditstatic.com/gold/awards/icon/silver_512.png'}, {'giver_coin_reward': None, 'subreddit_id': None, 'is_new': False, 'days_of_drip_extension': None, 'coin_price': 150, 'id': 'award_f44611f1-b89e-46dc-97fe-892280b13b82', 'penny_donate': None, 'award_sub_type': 'GLOBAL', 'coin_reward': 0, 'icon_url': 'https://i.redd.it/award_images/t5_22cerq/klvxk1wggfd41_Helpful.png', 'days_of_premium': None, 'tiers_by_required_awardings': None, 'resized_icons': [{'url': 'https://preview.redd.it/award_images/t5_22cerq/klvxk1wggfd41_Helpful.png?width=16&height=16&auto=webp&s=a5662dfbdb402bf67866c050aa76c31c147c2f45', 'width': 16, 'height': 16}, {'url': 'https://preview.redd.it/award_images/t5_22cerq/klvxk1wggfd41_Helpful.png?width=32&height=32&auto=webp&s=a6882eb3f380e8e88009789f4d0072e17b8c59f1', 'width': 32, 'height': 32}, {'url': 'https://preview.redd.it/award_images/t5_22cerq/klvxk1wggfd41_Helpful.png?width=48&height=48&auto=webp&s=e50064b090879e8a0b55e433f6ee61d5cb5fbe1d', 'width': 48, 'height': 48}, {'url': 'https://preview.redd.it/award_images/t5_22cerq/klvxk1wggfd41_Helpful.png?width=64&height=64&auto=webp&s=8e5bb2e76683cb6b161830bcdd9642049d6adc11', 'width': 64, 'height': 64}, {'url': 'https://preview.redd.it/award_images/t5_22cerq/klvxk1wggfd41_Helpful.png?width=128&height=128&auto=webp&s=eda4a9246f95f42ee6940cc0ec65306fd20de878', 'width': 128, 'height': 128}], 'icon_width': 2048, 'static_icon_width': 2048, 'start_date': None, 'is_enabled': True, 'awardings_required_to_grant_benefits': None, 'description': 'Thank you stranger. Shows the award.', 'end_date': None, 'sticky_duration_seconds': None, 'subreddit_coin_reward': 0, 'count': 1, 'static_icon_height': 2048, 'name': 'Helpful', 'resized_static_icons': [{'url': 'https://preview.redd.it/award_images/t5_22cerq/klvxk1wggfd41_Helpful.png?width=16&height=16&auto=webp&s=a5662dfbdb402bf67866c050aa76c31c147c2f45', 'width': 16, 'height': 16}, {'url': 'https://preview.redd.it/award_images/t5_22cerq/klvxk1wggfd41_Helpful.png?width=32&height=32&auto=webp&s=a6882eb3f380e8e88009789f4d0072e17b8c59f1', 'width': 32, 'height': 32}, {'url': 'https://preview.redd.it/award_images/t5_22cerq/klvxk1wggfd41_Helpful.png?width=48&height=48&auto=webp&s=e50064b090879e8a0b55e433f6ee61d5cb5fbe1d', 'width': 48, 'height': 48}, {'url': 'https://preview.redd.it/award_images/t5_22cerq/klvxk1wggfd41_Helpful.png?width=64&height=64&auto=webp&s=8e5bb2e76683cb6b161830bcdd9642049d6adc11', 'width': 64, 'height': 64}, {'url': 'https://preview.redd.it/award_images/t5_22cerq/klvxk1wggfd41_Helpful.png?width=128&height=128&auto=webp&s=eda4a9246f95f42ee6940cc0ec65306fd20de878', 'width': 128, 'height': 128}], 'icon_format': None, 'icon_height': 2048, 'penny_price': None, 'award_type': 'global', 'static_icon_url': 'https://i.redd.it/award_images/t5_22cerq/klvxk1wggfd41_Helpful.png'}, {'giver_coin_reward': None, 'subreddit_id': None, 'is_new': False, 'days_of_drip_extension': None, 'coin_price': 80, 'id': 'award_8352bdff-3e03-4189-8a08-82501dd8f835', 'penny_donate': None, 'award_sub_type': 'GLOBAL', 'coin_reward': 0, 'icon_url': 'https://i.redd.it/award_images/t5_q0gj4/ks45ij6w05f61_oldHugz.png', 'days_of_premium': None, 'tiers_by_required_awardings': None, 'resized_icons': [{'url': 'https://preview.redd.it/award_images/t5_q0gj4/ks45ij6w05f61_oldHugz.png?width=16&height=16&auto=webp&s=73a23bf7f08b633508dedf457f2704c522b94a04', 'width': 16, 'height': 16}, {'url': 'https://preview.redd.it/award_images/t5_q0gj4/ks45ij6w05f61_oldHugz.png?width=32&height=32&auto=webp&s=50f2f16e71d2929e3d7275060af3ad6b851dbfb1', 'width': 32, 'height': 32}, {'url': 'https://preview.redd.it/award_images/t5_q0gj4/ks45ij6w05f61_oldHugz.png?width=48&height=48&auto=webp&s=ca487311563425e195699a4d7e4c57a98cbfde8b', 'width': 48, 'height': 48}, {'url': 'https://preview.redd.it/award_images/t5_q0gj4/ks45ij6w05f61_oldHugz.png?width=64&height=64&auto=webp&s=7b4eedcffb1c09a826e7837532c52979760f1d2b', 'width': 64, 'height': 64}, {'url': 'https://preview.redd.it/award_images/t5_q0gj4/ks45ij6w05f61_oldHugz.png?width=128&height=128&auto=webp&s=e4d5ab237eb71a9f02bb3bf9ad5ee43741918d6c', 'width': 128, 'height': 128}], 'icon_width': 2048, 'static_icon_width': 2048, 'start_date': None, 'is_enabled': True, 'awardings_required_to_grant_benefits': None, 'description': 'Everything is better with a good hug', 'end_date': None, 'sticky_duration_seconds': None, 'subreddit_coin_reward': 0, 'count': 1, 'static_icon_height': 2048, 'name': 'Hugz', 'resized_static_icons': [{'url': 'https://preview.redd.it/award_images/t5_q0gj4/fpm0r5ryq1361_PolarHugs.png?width=16&height=16&auto=webp&s=69997ace3ef4ffc099b81d774c2c8f1530602875', 'width': 16, 'height': 16}, {'url': 'https://preview.redd.it/award_images/t5_q0gj4/fpm0r5ryq1361_PolarHugs.png?width=32&height=32&auto=webp&s=e9519d1999ef9dce5c8a9f59369cb92f52d95319', 'width': 32, 'height': 32}, {'url': 'https://preview.redd.it/award_images/t5_q0gj4/fpm0r5ryq1361_PolarHugs.png?width=48&height=48&auto=webp&s=f076c6434fb2d2f9075991810fd845c40fa73fc6', 'width': 48, 'height': 48}, {'url': 'https://preview.redd.it/award_images/t5_q0gj4/fpm0r5ryq1361_PolarHugs.png?width=64&height=64&auto=webp&s=85527145e0c4b754306a30df29e584fd16187636', 'width': 64, 'height': 64}, {'url': 'https://preview.redd.it/award_images/t5_q0gj4/fpm0r5ryq1361_PolarHugs.png?width=128&height=128&auto=webp&s=b8843cdf82c3b741d7af057c14076dcd2621e811', 'width': 128, 'height': 128}], 'icon_format': 'PNG', 'icon_height': 2048, 'penny_price': 0, 'award_type': 'global', 'static_icon_url': 'https://i.redd.it/award_images/t5_q0gj4/fpm0r5ryq1361_PolarHugs.png'}, {'giver_coin_reward': None, 'subreddit_id': None, 'is_new': False, 'days_of_drip_extension': None, 'coin_price': 300, 'id': 'award_28e8196b-d4e9-45bc-b612-cd4c7d3ed4b3', 'penny_donate': None, 'award_sub_type': 'GLOBAL', 'coin_reward': 0, 'icon_url': 'https://i.redd.it/award_images/t5_q0gj4/35d17tf5e5f61_oldrocketlike.png', 'days_of_premium': None, 'tiers_by_required_awardings': None, 'resized_icons': [{'url': 'https://preview.redd.it/award_images/t5_q0gj4/35d17tf5e5f61_oldrocketlike.png?width=16&height=16&auto=webp&s=9d714b25ca25d05e3310bc60bc1714ddf7951331', 'width': 16, 'height': 16}, {'url': 'https://preview.redd.it/award_images/t5_q0gj4/35d17tf5e5f61_oldrocketlike.png?width=32&height=32&auto=webp&s=d584b15c8e17d61fa8ae319a91d351c8fe35b918', 'width': 32, 'height': 32}, {'url': 'https://preview.redd.it/award_images/t5_q0gj4/35d17tf5e5f61_oldrocketlike.png?width=48&height=48&auto=webp&s=d9fb2c025611a15e6bb4437734f92db99b93fd12', 'width': 48, 'height': 48}, {'url': 'https://preview.redd.it/award_images/t5_q0gj4/35d17tf5e5f61_oldrocketlike.png?width=64&height=64&auto=webp&s=744fb200d76bf21f6e023ba98d3b4189b34973e3', 'width': 64, 'height': 64}, {'url': 'https://preview.redd.it/award_images/t5_q0gj4/35d17tf5e5f61_oldrocketlike.png?width=128&height=128&auto=webp&s=c180572afbc080622a8ac8441c3bc5214597d05a', 'width': 128, 'height': 128}], 'icon_width': 2048, 'static_icon_width': 2048, 'start_date': None, 'is_enabled': True, 'awardings_required_to_grant_benefits': None, 'description': \"When an upvote just isn't enough, smash the Rocket Like.\", 'end_date': None, 'sticky_duration_seconds': None, 'subreddit_coin_reward': 0, 'count': 2, 'static_icon_height': 2048, 'name': 'Rocket Like', 'resized_static_icons': [{'url': 'https://preview.redd.it/award_images/t5_q0gj4/9fmmyy3c68361_RocketLikeSanta.png?width=16&height=16&auto=webp&s=24fc4d912e595c3fed2ce0deef1c13f70df56056', 'width': 16, 'height': 16}, {'url': 'https://preview.redd.it/award_images/t5_q0gj4/9fmmyy3c68361_RocketLikeSanta.png?width=32&height=32&auto=webp&s=f9d869602e0d8b719186cc603864a42699e5c96e', 'width': 32, 'height': 32}, {'url': 'https://preview.redd.it/award_images/t5_q0gj4/9fmmyy3c68361_RocketLikeSanta.png?width=48&height=48&auto=webp&s=b223ac8fdd206b683b840c2782307c3f01b04fb7', 'width': 48, 'height': 48}, {'url': 'https://preview.redd.it/award_images/t5_q0gj4/9fmmyy3c68361_RocketLikeSanta.png?width=64&height=64&auto=webp&s=a0b840c6ecdee904012a6c53c40194733b72bca8', 'width': 64, 'height': 64}, {'url': 'https://preview.redd.it/award_images/t5_q0gj4/9fmmyy3c68361_RocketLikeSanta.png?width=128&height=128&auto=webp&s=b2e2ca67e067f82ff9b4ea1fe1b39395ca622894', 'width': 128, 'height': 128}], 'icon_format': None, 'icon_height': 2048, 'penny_price': None, 'award_type': 'global', 'static_icon_url': 'https://i.redd.it/award_images/t5_q0gj4/9fmmyy3c68361_RocketLikeSanta.png'}]                                                                                                                                                                                                                                                                                                                                                                                                                                                                                                                                                                                                                                                                                                                                                                                                                                                                                                                                                                                                                                                                                                                                                                                                                                                                                                                                                                                                                                                                                                                                                                                                                                                                                                                                                                                                                                                                                                                                                                                                                                                                                                                                                                                                                                                                                                                                                                                                                                                                                                                                                                                                                                                                                                                                                                                                                                                                                                                              1\n",
       "[{'giver_coin_reward': None, 'subreddit_id': None, 'is_new': False, 'days_of_drip_extension': None, 'coin_price': 100, 'id': 'gid_1', 'penny_donate': None, 'award_sub_type': 'GLOBAL', 'coin_reward': 0, 'icon_url': 'https://www.redditstatic.com/gold/awards/icon/silver_512.png', 'days_of_premium': None, 'tiers_by_required_awardings': None, 'resized_icons': [{'url': 'https://www.redditstatic.com/gold/awards/icon/silver_16.png', 'width': 16, 'height': 16}, {'url': 'https://www.redditstatic.com/gold/awards/icon/silver_32.png', 'width': 32, 'height': 32}, {'url': 'https://www.redditstatic.com/gold/awards/icon/silver_48.png', 'width': 48, 'height': 48}, {'url': 'https://www.redditstatic.com/gold/awards/icon/silver_64.png', 'width': 64, 'height': 64}, {'url': 'https://www.redditstatic.com/gold/awards/icon/silver_128.png', 'width': 128, 'height': 128}], 'icon_width': 512, 'static_icon_width': 512, 'start_date': None, 'is_enabled': True, 'awardings_required_to_grant_benefits': None, 'description': \"Shows the Silver Award... and that's it.\", 'end_date': None, 'sticky_duration_seconds': None, 'subreddit_coin_reward': 0, 'count': 1, 'static_icon_height': 512, 'name': 'Silver', 'resized_static_icons': [{'url': 'https://www.redditstatic.com/gold/awards/icon/silver_16.png', 'width': 16, 'height': 16}, {'url': 'https://www.redditstatic.com/gold/awards/icon/silver_32.png', 'width': 32, 'height': 32}, {'url': 'https://www.redditstatic.com/gold/awards/icon/silver_48.png', 'width': 48, 'height': 48}, {'url': 'https://www.redditstatic.com/gold/awards/icon/silver_64.png', 'width': 64, 'height': 64}, {'url': 'https://www.redditstatic.com/gold/awards/icon/silver_128.png', 'width': 128, 'height': 128}], 'icon_format': None, 'icon_height': 512, 'penny_price': None, 'award_type': 'global', 'static_icon_url': 'https://www.redditstatic.com/gold/awards/icon/silver_512.png'}, {'giver_coin_reward': None, 'subreddit_id': None, 'is_new': False, 'days_of_drip_extension': None, 'coin_price': 150, 'id': 'award_f44611f1-b89e-46dc-97fe-892280b13b82', 'penny_donate': None, 'award_sub_type': 'GLOBAL', 'coin_reward': 0, 'icon_url': 'https://i.redd.it/award_images/t5_22cerq/klvxk1wggfd41_Helpful.png', 'days_of_premium': None, 'tiers_by_required_awardings': None, 'resized_icons': [{'url': 'https://preview.redd.it/award_images/t5_22cerq/klvxk1wggfd41_Helpful.png?width=16&height=16&auto=webp&s=a5662dfbdb402bf67866c050aa76c31c147c2f45', 'width': 16, 'height': 16}, {'url': 'https://preview.redd.it/award_images/t5_22cerq/klvxk1wggfd41_Helpful.png?width=32&height=32&auto=webp&s=a6882eb3f380e8e88009789f4d0072e17b8c59f1', 'width': 32, 'height': 32}, {'url': 'https://preview.redd.it/award_images/t5_22cerq/klvxk1wggfd41_Helpful.png?width=48&height=48&auto=webp&s=e50064b090879e8a0b55e433f6ee61d5cb5fbe1d', 'width': 48, 'height': 48}, {'url': 'https://preview.redd.it/award_images/t5_22cerq/klvxk1wggfd41_Helpful.png?width=64&height=64&auto=webp&s=8e5bb2e76683cb6b161830bcdd9642049d6adc11', 'width': 64, 'height': 64}, {'url': 'https://preview.redd.it/award_images/t5_22cerq/klvxk1wggfd41_Helpful.png?width=128&height=128&auto=webp&s=eda4a9246f95f42ee6940cc0ec65306fd20de878', 'width': 128, 'height': 128}], 'icon_width': 2048, 'static_icon_width': 2048, 'start_date': None, 'is_enabled': True, 'awardings_required_to_grant_benefits': None, 'description': 'Thank you stranger. Shows the award.', 'end_date': None, 'sticky_duration_seconds': None, 'subreddit_coin_reward': 0, 'count': 1, 'static_icon_height': 2048, 'name': 'Helpful', 'resized_static_icons': [{'url': 'https://preview.redd.it/award_images/t5_22cerq/klvxk1wggfd41_Helpful.png?width=16&height=16&auto=webp&s=a5662dfbdb402bf67866c050aa76c31c147c2f45', 'width': 16, 'height': 16}, {'url': 'https://preview.redd.it/award_images/t5_22cerq/klvxk1wggfd41_Helpful.png?width=32&height=32&auto=webp&s=a6882eb3f380e8e88009789f4d0072e17b8c59f1', 'width': 32, 'height': 32}, {'url': 'https://preview.redd.it/award_images/t5_22cerq/klvxk1wggfd41_Helpful.png?width=48&height=48&auto=webp&s=e50064b090879e8a0b55e433f6ee61d5cb5fbe1d', 'width': 48, 'height': 48}, {'url': 'https://preview.redd.it/award_images/t5_22cerq/klvxk1wggfd41_Helpful.png?width=64&height=64&auto=webp&s=8e5bb2e76683cb6b161830bcdd9642049d6adc11', 'width': 64, 'height': 64}, {'url': 'https://preview.redd.it/award_images/t5_22cerq/klvxk1wggfd41_Helpful.png?width=128&height=128&auto=webp&s=eda4a9246f95f42ee6940cc0ec65306fd20de878', 'width': 128, 'height': 128}], 'icon_format': None, 'icon_height': 2048, 'penny_price': None, 'award_type': 'global', 'static_icon_url': 'https://i.redd.it/award_images/t5_22cerq/klvxk1wggfd41_Helpful.png'}, {'giver_coin_reward': None, 'subreddit_id': None, 'is_new': False, 'days_of_drip_extension': None, 'coin_price': 125, 'id': 'award_5f123e3d-4f48-42f4-9c11-e98b566d5897', 'penny_donate': None, 'award_sub_type': 'GLOBAL', 'coin_reward': 0, 'icon_url': 'https://i.redd.it/award_images/t5_22cerq/5izbv4fn0md41_Wholesome.png', 'days_of_premium': None, 'tiers_by_required_awardings': None, 'resized_icons': [{'url': 'https://preview.redd.it/award_images/t5_22cerq/5izbv4fn0md41_Wholesome.png?width=16&height=16&auto=webp&s=92932f465d58e4c16b12b6eac4ca07d27e3d11c0', 'width': 16, 'height': 16}, {'url': 'https://preview.redd.it/award_images/t5_22cerq/5izbv4fn0md41_Wholesome.png?width=32&height=32&auto=webp&s=d11484a208d68a318bf9d4fcf371171a1cb6a7ef', 'width': 32, 'height': 32}, {'url': 'https://preview.redd.it/award_images/t5_22cerq/5izbv4fn0md41_Wholesome.png?width=48&height=48&auto=webp&s=febdf28b6f39f7da7eb1365325b85e0bb49a9f63', 'width': 48, 'height': 48}, {'url': 'https://preview.redd.it/award_images/t5_22cerq/5izbv4fn0md41_Wholesome.png?width=64&height=64&auto=webp&s=b4406a2d88bf86fa3dc8a45aacf7e0c7bdccc4fb', 'width': 64, 'height': 64}, {'url': 'https://preview.redd.it/award_images/t5_22cerq/5izbv4fn0md41_Wholesome.png?width=128&height=128&auto=webp&s=19555b13e3e196b62eeb9160d1ac1d1b372dcb0b', 'width': 128, 'height': 128}], 'icon_width': 2048, 'static_icon_width': 2048, 'start_date': None, 'is_enabled': True, 'awardings_required_to_grant_benefits': None, 'description': 'When you come across a feel-good thing.', 'end_date': None, 'sticky_duration_seconds': None, 'subreddit_coin_reward': 0, 'count': 2, 'static_icon_height': 2048, 'name': 'Wholesome', 'resized_static_icons': [{'url': 'https://preview.redd.it/award_images/t5_22cerq/5izbv4fn0md41_Wholesome.png?width=16&height=16&auto=webp&s=92932f465d58e4c16b12b6eac4ca07d27e3d11c0', 'width': 16, 'height': 16}, {'url': 'https://preview.redd.it/award_images/t5_22cerq/5izbv4fn0md41_Wholesome.png?width=32&height=32&auto=webp&s=d11484a208d68a318bf9d4fcf371171a1cb6a7ef', 'width': 32, 'height': 32}, {'url': 'https://preview.redd.it/award_images/t5_22cerq/5izbv4fn0md41_Wholesome.png?width=48&height=48&auto=webp&s=febdf28b6f39f7da7eb1365325b85e0bb49a9f63', 'width': 48, 'height': 48}, {'url': 'https://preview.redd.it/award_images/t5_22cerq/5izbv4fn0md41_Wholesome.png?width=64&height=64&auto=webp&s=b4406a2d88bf86fa3dc8a45aacf7e0c7bdccc4fb', 'width': 64, 'height': 64}, {'url': 'https://preview.redd.it/award_images/t5_22cerq/5izbv4fn0md41_Wholesome.png?width=128&height=128&auto=webp&s=19555b13e3e196b62eeb9160d1ac1d1b372dcb0b', 'width': 128, 'height': 128}], 'icon_format': None, 'icon_height': 2048, 'penny_price': None, 'award_type': 'global', 'static_icon_url': 'https://i.redd.it/award_images/t5_22cerq/5izbv4fn0md41_Wholesome.png'}, {'giver_coin_reward': None, 'subreddit_id': None, 'is_new': False, 'days_of_drip_extension': None, 'coin_price': 80, 'id': 'award_8352bdff-3e03-4189-8a08-82501dd8f835', 'penny_donate': None, 'award_sub_type': 'GLOBAL', 'coin_reward': 0, 'icon_url': 'https://i.redd.it/award_images/t5_q0gj4/ks45ij6w05f61_oldHugz.png', 'days_of_premium': None, 'tiers_by_required_awardings': None, 'resized_icons': [{'url': 'https://preview.redd.it/award_images/t5_q0gj4/ks45ij6w05f61_oldHugz.png?width=16&height=16&auto=webp&s=73a23bf7f08b633508dedf457f2704c522b94a04', 'width': 16, 'height': 16}, {'url': 'https://preview.redd.it/award_images/t5_q0gj4/ks45ij6w05f61_oldHugz.png?width=32&height=32&auto=webp&s=50f2f16e71d2929e3d7275060af3ad6b851dbfb1', 'width': 32, 'height': 32}, {'url': 'https://preview.redd.it/award_images/t5_q0gj4/ks45ij6w05f61_oldHugz.png?width=48&height=48&auto=webp&s=ca487311563425e195699a4d7e4c57a98cbfde8b', 'width': 48, 'height': 48}, {'url': 'https://preview.redd.it/award_images/t5_q0gj4/ks45ij6w05f61_oldHugz.png?width=64&height=64&auto=webp&s=7b4eedcffb1c09a826e7837532c52979760f1d2b', 'width': 64, 'height': 64}, {'url': 'https://preview.redd.it/award_images/t5_q0gj4/ks45ij6w05f61_oldHugz.png?width=128&height=128&auto=webp&s=e4d5ab237eb71a9f02bb3bf9ad5ee43741918d6c', 'width': 128, 'height': 128}], 'icon_width': 2048, 'static_icon_width': 2048, 'start_date': None, 'is_enabled': True, 'awardings_required_to_grant_benefits': None, 'description': 'Everything is better with a good hug', 'end_date': None, 'sticky_duration_seconds': None, 'subreddit_coin_reward': 0, 'count': 2, 'static_icon_height': 2048, 'name': 'Hugz', 'resized_static_icons': [{'url': 'https://preview.redd.it/award_images/t5_q0gj4/fpm0r5ryq1361_PolarHugs.png?width=16&height=16&auto=webp&s=69997ace3ef4ffc099b81d774c2c8f1530602875', 'width': 16, 'height': 16}, {'url': 'https://preview.redd.it/award_images/t5_q0gj4/fpm0r5ryq1361_PolarHugs.png?width=32&height=32&auto=webp&s=e9519d1999ef9dce5c8a9f59369cb92f52d95319', 'width': 32, 'height': 32}, {'url': 'https://preview.redd.it/award_images/t5_q0gj4/fpm0r5ryq1361_PolarHugs.png?width=48&height=48&auto=webp&s=f076c6434fb2d2f9075991810fd845c40fa73fc6', 'width': 48, 'height': 48}, {'url': 'https://preview.redd.it/award_images/t5_q0gj4/fpm0r5ryq1361_PolarHugs.png?width=64&height=64&auto=webp&s=85527145e0c4b754306a30df29e584fd16187636', 'width': 64, 'height': 64}, {'url': 'https://preview.redd.it/award_images/t5_q0gj4/fpm0r5ryq1361_PolarHugs.png?width=128&height=128&auto=webp&s=b8843cdf82c3b741d7af057c14076dcd2621e811', 'width': 128, 'height': 128}], 'icon_format': 'PNG', 'icon_height': 2048, 'penny_price': 0, 'award_type': 'global', 'static_icon_url': 'https://i.redd.it/award_images/t5_q0gj4/fpm0r5ryq1361_PolarHugs.png'}, {'giver_coin_reward': None, 'subreddit_id': None, 'is_new': False, 'days_of_drip_extension': None, 'coin_price': 300, 'id': 'award_28e8196b-d4e9-45bc-b612-cd4c7d3ed4b3', 'penny_donate': None, 'award_sub_type': 'GLOBAL', 'coin_reward': 0, 'icon_url': 'https://i.redd.it/award_images/t5_q0gj4/35d17tf5e5f61_oldrocketlike.png', 'days_of_premium': None, 'tiers_by_required_awardings': None, 'resized_icons': [{'url': 'https://preview.redd.it/award_images/t5_q0gj4/35d17tf5e5f61_oldrocketlike.png?width=16&height=16&auto=webp&s=9d714b25ca25d05e3310bc60bc1714ddf7951331', 'width': 16, 'height': 16}, {'url': 'https://preview.redd.it/award_images/t5_q0gj4/35d17tf5e5f61_oldrocketlike.png?width=32&height=32&auto=webp&s=d584b15c8e17d61fa8ae319a91d351c8fe35b918', 'width': 32, 'height': 32}, {'url': 'https://preview.redd.it/award_images/t5_q0gj4/35d17tf5e5f61_oldrocketlike.png?width=48&height=48&auto=webp&s=d9fb2c025611a15e6bb4437734f92db99b93fd12', 'width': 48, 'height': 48}, {'url': 'https://preview.redd.it/award_images/t5_q0gj4/35d17tf5e5f61_oldrocketlike.png?width=64&height=64&auto=webp&s=744fb200d76bf21f6e023ba98d3b4189b34973e3', 'width': 64, 'height': 64}, {'url': 'https://preview.redd.it/award_images/t5_q0gj4/35d17tf5e5f61_oldrocketlike.png?width=128&height=128&auto=webp&s=c180572afbc080622a8ac8441c3bc5214597d05a', 'width': 128, 'height': 128}], 'icon_width': 2048, 'static_icon_width': 2048, 'start_date': None, 'is_enabled': True, 'awardings_required_to_grant_benefits': None, 'description': \"When an upvote just isn't enough, smash the Rocket Like.\", 'end_date': None, 'sticky_duration_seconds': None, 'subreddit_coin_reward': 0, 'count': 2, 'static_icon_height': 2048, 'name': 'Rocket Like', 'resized_static_icons': [{'url': 'https://preview.redd.it/award_images/t5_q0gj4/9fmmyy3c68361_RocketLikeSanta.png?width=16&height=16&auto=webp&s=24fc4d912e595c3fed2ce0deef1c13f70df56056', 'width': 16, 'height': 16}, {'url': 'https://preview.redd.it/award_images/t5_q0gj4/9fmmyy3c68361_RocketLikeSanta.png?width=32&height=32&auto=webp&s=f9d869602e0d8b719186cc603864a42699e5c96e', 'width': 32, 'height': 32}, {'url': 'https://preview.redd.it/award_images/t5_q0gj4/9fmmyy3c68361_RocketLikeSanta.png?width=48&height=48&auto=webp&s=b223ac8fdd206b683b840c2782307c3f01b04fb7', 'width': 48, 'height': 48}, {'url': 'https://preview.redd.it/award_images/t5_q0gj4/9fmmyy3c68361_RocketLikeSanta.png?width=64&height=64&auto=webp&s=a0b840c6ecdee904012a6c53c40194733b72bca8', 'width': 64, 'height': 64}, {'url': 'https://preview.redd.it/award_images/t5_q0gj4/9fmmyy3c68361_RocketLikeSanta.png?width=128&height=128&auto=webp&s=b2e2ca67e067f82ff9b4ea1fe1b39395ca622894', 'width': 128, 'height': 128}], 'icon_format': None, 'icon_height': 2048, 'penny_price': None, 'award_type': 'global', 'static_icon_url': 'https://i.redd.it/award_images/t5_q0gj4/9fmmyy3c68361_RocketLikeSanta.png'}]       1\n",
       "[{'giver_coin_reward': None, 'subreddit_id': None, 'is_new': False, 'days_of_drip_extension': None, 'coin_price': 100, 'id': 'gid_1', 'penny_donate': None, 'award_sub_type': 'GLOBAL', 'coin_reward': 0, 'icon_url': 'https://www.redditstatic.com/gold/awards/icon/silver_512.png', 'days_of_premium': None, 'tiers_by_required_awardings': None, 'resized_icons': [{'url': 'https://www.redditstatic.com/gold/awards/icon/silver_16.png', 'width': 16, 'height': 16}, {'url': 'https://www.redditstatic.com/gold/awards/icon/silver_32.png', 'width': 32, 'height': 32}, {'url': 'https://www.redditstatic.com/gold/awards/icon/silver_48.png', 'width': 48, 'height': 48}, {'url': 'https://www.redditstatic.com/gold/awards/icon/silver_64.png', 'width': 64, 'height': 64}, {'url': 'https://www.redditstatic.com/gold/awards/icon/silver_128.png', 'width': 128, 'height': 128}], 'icon_width': 512, 'static_icon_width': 512, 'start_date': None, 'is_enabled': True, 'awardings_required_to_grant_benefits': None, 'description': \"Shows the Silver Award... and that's it.\", 'end_date': None, 'sticky_duration_seconds': None, 'subreddit_coin_reward': 0, 'count': 3, 'static_icon_height': 512, 'name': 'Silver', 'resized_static_icons': [{'url': 'https://www.redditstatic.com/gold/awards/icon/silver_16.png', 'width': 16, 'height': 16}, {'url': 'https://www.redditstatic.com/gold/awards/icon/silver_32.png', 'width': 32, 'height': 32}, {'url': 'https://www.redditstatic.com/gold/awards/icon/silver_48.png', 'width': 48, 'height': 48}, {'url': 'https://www.redditstatic.com/gold/awards/icon/silver_64.png', 'width': 64, 'height': 64}, {'url': 'https://www.redditstatic.com/gold/awards/icon/silver_128.png', 'width': 128, 'height': 128}], 'icon_format': None, 'icon_height': 512, 'penny_price': None, 'award_type': 'global', 'static_icon_url': 'https://www.redditstatic.com/gold/awards/icon/silver_512.png'}, {'giver_coin_reward': None, 'subreddit_id': None, 'is_new': False, 'days_of_drip_extension': None, 'coin_price': 500, 'id': 'gid_2', 'penny_donate': None, 'award_sub_type': 'GLOBAL', 'coin_reward': 100, 'icon_url': 'https://www.redditstatic.com/gold/awards/icon/gold_512.png', 'days_of_premium': 7, 'tiers_by_required_awardings': None, 'resized_icons': [{'url': 'https://www.redditstatic.com/gold/awards/icon/gold_16.png', 'width': 16, 'height': 16}, {'url': 'https://www.redditstatic.com/gold/awards/icon/gold_32.png', 'width': 32, 'height': 32}, {'url': 'https://www.redditstatic.com/gold/awards/icon/gold_48.png', 'width': 48, 'height': 48}, {'url': 'https://www.redditstatic.com/gold/awards/icon/gold_64.png', 'width': 64, 'height': 64}, {'url': 'https://www.redditstatic.com/gold/awards/icon/gold_128.png', 'width': 128, 'height': 128}], 'icon_width': 512, 'static_icon_width': 512, 'start_date': None, 'is_enabled': True, 'awardings_required_to_grant_benefits': None, 'description': 'Gives 100 Reddit Coins and a week of r/lounge access and ad-free browsing.', 'end_date': None, 'sticky_duration_seconds': None, 'subreddit_coin_reward': 0, 'count': 1, 'static_icon_height': 512, 'name': 'Gold', 'resized_static_icons': [{'url': 'https://www.redditstatic.com/gold/awards/icon/gold_16.png', 'width': 16, 'height': 16}, {'url': 'https://www.redditstatic.com/gold/awards/icon/gold_32.png', 'width': 32, 'height': 32}, {'url': 'https://www.redditstatic.com/gold/awards/icon/gold_48.png', 'width': 48, 'height': 48}, {'url': 'https://www.redditstatic.com/gold/awards/icon/gold_64.png', 'width': 64, 'height': 64}, {'url': 'https://www.redditstatic.com/gold/awards/icon/gold_128.png', 'width': 128, 'height': 128}], 'icon_format': None, 'icon_height': 512, 'penny_price': None, 'award_type': 'global', 'static_icon_url': 'https://www.redditstatic.com/gold/awards/icon/gold_512.png'}]                                                                                                                                                                                                                                                                                                                                                                                                                                                                                                                                                                                                                                                                                                                                                                                                                                                                                                                                                                                                                                                                                                                                                                                                                                                                                                                                                                                                                                                                                                                                                                                                                                                                                                                                                                                                                                                                                                                                                                                                                                                                                                                                                                                                                                                                                                                                                                                                                                                                                                                                                                                                                                                                                                                                                                                                                                                                                                                                                                                                                                                                                                                                                                                                                                                                                                                                                                                                                                                                                                                                                                                                                                                                                                                                                                                                                                                                                                                                                                                                                                                                                                                                                                                                                                                                                                                                                                                                                                                                                                                                                                                                                                                                                                                                                                                                                                                                                                                                                                                                                                                                                                                                                                                                                                                                                                                                                                                                                                                                                                                                                                                                                                                                                                                                                                                                                                                                                                                                                                                                                                                                                                                                                                                                                                                                                                                                                                                                                                                                                                                                                                                                                                                                                                                                                                                                                                                                                                                                                                                                                                                                                                                                                                                                                                                                                                                                                                                                                                                                                                                                                                                                                                                                                                                                                                                                                                                                                                                                                                                                                                                                                                                                                                                                                                                                                                                                                                                                                                                                                                                                                                                                                                                                                                                                                                                                                                                                                                                                                                                                                                                                                                                                                                                                                                                                                                                                                                                                                                                                                                                                                                                                                                                                                                                                           1\n",
       "Name: all_awardings, Length: 251, dtype: int64"
      ]
     },
     "execution_count": 67,
     "metadata": {},
     "output_type": "execute_result"
    }
   ],
   "source": [
    "pmaw_df['all_awardings'].value_counts()"
   ]
  },
  {
   "cell_type": "code",
   "execution_count": 68,
   "id": "4f8c92c0",
   "metadata": {},
   "outputs": [
    {
     "data": {
      "text/plain": [
       "[]    10000\n",
       "Name: awarders, dtype: int64"
      ]
     },
     "execution_count": 68,
     "metadata": {},
     "output_type": "execute_result"
    }
   ],
   "source": [
    "pmaw_df['awarders'].value_counts()"
   ]
  },
  {
   "cell_type": "code",
   "execution_count": 69,
   "id": "552c39b8",
   "metadata": {},
   "outputs": [
    {
     "data": {
      "text/plain": [
       "False    10000\n",
       "Name: media_only, dtype: int64"
      ]
     },
     "execution_count": 69,
     "metadata": {},
     "output_type": "execute_result"
    }
   ],
   "source": [
    "pmaw_df['media_only'].value_counts()"
   ]
  },
  {
   "cell_type": "code",
   "execution_count": 70,
   "id": "2fc1bd2c",
   "metadata": {},
   "outputs": [
    {
     "data": {
      "text/plain": [
       "11e1d3fc-5c54-11e4-8ccc-12313b0e448d    427\n",
       "dbc12ec6-5c53-11e4-93ee-12313b0b3108    160\n",
       "60e8f046-5c93-11e3-a663-12313d188143    101\n",
       "0267aa0a-5c54-11e4-a8b9-12313b0b3108     52\n",
       "5bfb406a-3056-11e9-8e43-0efe410c93f8     30\n",
       "d68cbfa6-5c53-11e4-acab-12313b0e448d     24\n",
       "58dede90-fba6-11e2-a062-12313b0cf20e     20\n",
       "0a662acc-0504-11e8-a550-0e84efa39ed0     10\n",
       "e454879a-ff45-11ea-b58e-0ea6879ad6a7      9\n",
       "a3aca304-e0d8-11e3-9c8f-12313b08b431      8\n",
       "e5eed1f0-5c53-11e4-9d66-12313b0b3108      5\n",
       "16783500-5c54-11e4-bc41-12313d1641b1      3\n",
       "0b0b49ea-462d-11eb-8a1a-0e571a31e9c1      2\n",
       "5252a80a-ee8e-11e3-9032-12313b073e93      1\n",
       "fdf9776e-5c53-11e4-958a-12313b0b3108      1\n",
       "Name: link_flair_template_id, dtype: int64"
      ]
     },
     "execution_count": 70,
     "metadata": {},
     "output_type": "execute_result"
    }
   ],
   "source": [
    "pmaw_df['link_flair_template_id'].value_counts()"
   ]
  },
  {
   "cell_type": "code",
   "execution_count": 71,
   "id": "be36ac46",
   "metadata": {},
   "outputs": [
    {
     "data": {
      "text/plain": [
       "False    10000\n",
       "Name: can_gild, dtype: int64"
      ]
     },
     "execution_count": 71,
     "metadata": {},
     "output_type": "execute_result"
    }
   ],
   "source": [
    "pmaw_df['can_gild'].value_counts()"
   ]
  },
  {
   "cell_type": "code",
   "execution_count": 72,
   "id": "fc929d7e",
   "metadata": {},
   "outputs": [
    {
     "data": {
      "text/plain": [
       "False    10000\n",
       "Name: spoiler, dtype: int64"
      ]
     },
     "execution_count": 72,
     "metadata": {},
     "output_type": "execute_result"
    }
   ],
   "source": [
    "pmaw_df['spoiler'].value_counts()"
   ]
  },
  {
   "cell_type": "code",
   "execution_count": 73,
   "id": "6290ea4c",
   "metadata": {},
   "outputs": [
    {
     "data": {
      "text/plain": [
       "False    9995\n",
       "True        5\n",
       "Name: locked, dtype: int64"
      ]
     },
     "execution_count": 73,
     "metadata": {},
     "output_type": "execute_result"
    }
   ],
   "source": [
    "pmaw_df['locked'].value_counts()"
   ]
  },
  {
   "cell_type": "code",
   "execution_count": 74,
   "id": "341f540b",
   "metadata": {},
   "outputs": [
    {
     "data": {
      "text/plain": [
       ":nba-1: NBA                   128\n",
       ":hou-1: Rockets                97\n",
       ":lal-2: Lakers                 89\n",
       "[NBA] Scott Foster             86\n",
       "Celtics                        76\n",
       "                             ... \n",
       "[GSW] Dorell Wright             1\n",
       ":phi-2: [PHI] Tyrese Maxey      1\n",
       ":dal-2: [DAL] Rajon Rondo       1\n",
       "[UTA] Keon Clark                1\n",
       "[SEA] Dana Barros               1\n",
       "Name: author_flair_text, Length: 467, dtype: int64"
      ]
     },
     "execution_count": 74,
     "metadata": {},
     "output_type": "execute_result"
    }
   ],
   "source": [
    "# we're gonna keep this column\n",
    "pmaw_df['author_flair_text'].value_counts()"
   ]
  },
  {
   "cell_type": "code",
   "execution_count": 75,
   "id": "f55ded3a",
   "metadata": {},
   "outputs": [
    {
     "data": {
      "text/plain": [
       "[]                               9999\n",
       "['econ:render:lottie:sunny2']       1\n",
       "Name: treatment_tags, dtype: int64"
      ]
     },
     "execution_count": 75,
     "metadata": {},
     "output_type": "execute_result"
    }
   ],
   "source": [
    "pmaw_df['treatment_tags'].value_counts()"
   ]
  },
  {
   "cell_type": "code",
   "execution_count": 76,
   "id": "272c5781",
   "metadata": {},
   "outputs": [
    {
     "data": {
      "text/plain": [
       "False    10000\n",
       "Name: visited, dtype: int64"
      ]
     },
     "execution_count": 76,
     "metadata": {},
     "output_type": "execute_result"
    }
   ],
   "source": [
    "pmaw_df['visited'].value_counts()"
   ]
  },
  {
   "cell_type": "code",
   "execution_count": 77,
   "id": "1ae4a66a",
   "metadata": {},
   "outputs": [
    {
     "data": {
      "text/plain": [
       "Series([], Name: removed_by, dtype: int64)"
      ]
     },
     "execution_count": 77,
     "metadata": {},
     "output_type": "execute_result"
    }
   ],
   "source": [
    "pmaw_df['removed_by'].value_counts()"
   ]
  },
  {
   "cell_type": "code",
   "execution_count": 78,
   "id": "5fedbb92",
   "metadata": {},
   "outputs": [
    {
     "data": {
      "text/plain": [
       "Series([], Name: num_reports, dtype: int64)"
      ]
     },
     "execution_count": 78,
     "metadata": {},
     "output_type": "execute_result"
    }
   ],
   "source": [
    "pmaw_df['num_reports'].value_counts()"
   ]
  },
  {
   "cell_type": "code",
   "execution_count": 79,
   "id": "a712401d",
   "metadata": {},
   "outputs": [
    {
     "data": {
      "text/plain": [
       "moderator    18\n",
       "Name: distinguished, dtype: int64"
      ]
     },
     "execution_count": 79,
     "metadata": {},
     "output_type": "execute_result"
    }
   ],
   "source": [
    "pmaw_df['distinguished'].value_counts()"
   ]
  },
  {
   "cell_type": "code",
   "execution_count": 80,
   "id": "0dbaf98c",
   "metadata": {},
   "outputs": [
    {
     "data": {
      "text/plain": [
       "t5_2qo4s    10000\n",
       "Name: subreddit_id, dtype: int64"
      ]
     },
     "execution_count": 80,
     "metadata": {},
     "output_type": "execute_result"
    }
   ],
   "source": [
    "pmaw_df['subreddit_id'].value_counts()"
   ]
  },
  {
   "cell_type": "code",
   "execution_count": 81,
   "id": "7b09248e",
   "metadata": {},
   "outputs": [
    {
     "data": {
      "text/plain": [
       "False    10000\n",
       "Name: author_is_blocked, dtype: int64"
      ]
     },
     "execution_count": 81,
     "metadata": {},
     "output_type": "execute_result"
    }
   ],
   "source": [
    "pmaw_df['author_is_blocked'].value_counts()"
   ]
  },
  {
   "cell_type": "code",
   "execution_count": 82,
   "id": "c160c4a8",
   "metadata": {},
   "outputs": [
    {
     "data": {
      "text/plain": [
       "Series([], Name: mod_reason_by, dtype: int64)"
      ]
     },
     "execution_count": 82,
     "metadata": {},
     "output_type": "execute_result"
    }
   ],
   "source": [
    "pmaw_df['mod_reason_by'].value_counts()"
   ]
  },
  {
   "cell_type": "code",
   "execution_count": 83,
   "id": "3d599b15",
   "metadata": {},
   "outputs": [
    {
     "data": {
      "text/plain": [
       "legal    1\n",
       "Name: removal_reason, dtype: int64"
      ]
     },
     "execution_count": 83,
     "metadata": {},
     "output_type": "execute_result"
    }
   ],
   "source": [
    "pmaw_df['removal_reason'].value_counts()"
   ]
  },
  {
   "cell_type": "code",
   "execution_count": 84,
   "id": "a098a92a",
   "metadata": {},
   "outputs": [
    {
     "data": {
      "text/plain": [
       "#ffa500    427\n",
       "#57b2b2    160\n",
       "#3fab53    100\n",
       "#0079d3     48\n",
       "#ff4500     47\n",
       "#ea0027     30\n",
       "#dadada     26\n",
       "Name: link_flair_background_color, dtype: int64"
      ]
     },
     "execution_count": 84,
     "metadata": {},
     "output_type": "execute_result"
    }
   ],
   "source": [
    "pmaw_df['link_flair_background_color'].value_counts()"
   ]
  },
  {
   "cell_type": "code",
   "execution_count": 85,
   "id": "9f16c3e7",
   "metadata": {},
   "outputs": [
    {
     "data": {
      "text/plain": [
       "hqqgua    1\n",
       "rsnc4v    1\n",
       "rsnmf5    1\n",
       "rsnkf6    1\n",
       "rsnjk2    1\n",
       "         ..\n",
       "ijutga    1\n",
       "ijupgo    1\n",
       "ijunm7    1\n",
       "ijui6z    1\n",
       "jsmccu    1\n",
       "Name: id, Length: 10000, dtype: int64"
      ]
     },
     "execution_count": 85,
     "metadata": {},
     "output_type": "execute_result"
    }
   ],
   "source": [
    "pmaw_df['id'].value_counts()"
   ]
  },
  {
   "cell_type": "code",
   "execution_count": 86,
   "id": "4228e669",
   "metadata": {},
   "outputs": [
    {
     "data": {
      "text/plain": [
       "False    5909\n",
       "True     4091\n",
       "Name: is_robot_indexable, dtype: int64"
      ]
     },
     "execution_count": 86,
     "metadata": {},
     "output_type": "execute_result"
    }
   ],
   "source": [
    "pmaw_df['is_robot_indexable'].value_counts()"
   ]
  },
  {
   "cell_type": "code",
   "execution_count": 87,
   "id": "69abf29b",
   "metadata": {},
   "outputs": [
    {
     "data": {
      "text/plain": [
       "Series([], Name: report_reasons, dtype: int64)"
      ]
     },
     "execution_count": 87,
     "metadata": {},
     "output_type": "execute_result"
    }
   ],
   "source": [
    "pmaw_df['report_reasons'].value_counts()"
   ]
  },
  {
   "cell_type": "code",
   "execution_count": 88,
   "id": "c5a50c21",
   "metadata": {},
   "outputs": [
    {
     "data": {
      "text/plain": [
       "NBA_MOD              86\n",
       "GuyCarbonneauGOAT    51\n",
       "CP3_for_MvP          46\n",
       "efranklin13          41\n",
       "urfaselol            35\n",
       "                     ..\n",
       "shoot_your_shot       1\n",
       "h989                  1\n",
       "Cbattt4               1\n",
       "RunThePnR             1\n",
       "DeeperGlobalism       1\n",
       "Name: author, Length: 3862, dtype: int64"
      ]
     },
     "execution_count": 88,
     "metadata": {},
     "output_type": "execute_result"
    }
   ],
   "source": [
    "# we're gonna keep this column\n",
    "pmaw_df['author'].value_counts()"
   ]
  },
  {
   "cell_type": "code",
   "execution_count": 89,
   "id": "fd33a53a",
   "metadata": {
    "scrolled": true
   },
   "outputs": [
    {
     "data": {
      "text/plain": [
       "CHAT    2\n",
       "Name: discussion_type, dtype: int64"
      ]
     },
     "execution_count": 89,
     "metadata": {},
     "output_type": "execute_result"
    }
   ],
   "source": [
    "pmaw_df['discussion_type'].value_counts()"
   ]
  },
  {
   "cell_type": "code",
   "execution_count": 90,
   "id": "bbfd7203",
   "metadata": {},
   "outputs": [
    {
     "data": {
      "text/plain": [
       "0      2103\n",
       "1      1515\n",
       "2       265\n",
       "3       225\n",
       "4       195\n",
       "       ... \n",
       "543       1\n",
       "199       1\n",
       "991       1\n",
       "232       1\n",
       "356       1\n",
       "Name: num_comments, Length: 537, dtype: int64"
      ]
     },
     "execution_count": 90,
     "metadata": {},
     "output_type": "execute_result"
    }
   ],
   "source": [
    "# we're gonna keep this column (target)\n",
    "pmaw_df['num_comments'].value_counts()"
   ]
  },
  {
   "cell_type": "code",
   "execution_count": 91,
   "id": "2a8f31ff",
   "metadata": {},
   "outputs": [
    {
     "data": {
      "text/plain": [
       "True     8790\n",
       "False    1210\n",
       "Name: send_replies, dtype: int64"
      ]
     },
     "execution_count": 91,
     "metadata": {},
     "output_type": "execute_result"
    }
   ],
   "source": [
    "pmaw_df['send_replies'].value_counts()"
   ]
  },
  {
   "cell_type": "code",
   "execution_count": 92,
   "id": "f3e472ea",
   "metadata": {},
   "outputs": [
    {
     "data": {
      "text/plain": [
       "all_ads             9974\n",
       "promo_adult_nsfw      26\n",
       "Name: whitelist_status, dtype: int64"
      ]
     },
     "execution_count": 92,
     "metadata": {},
     "output_type": "execute_result"
    }
   ],
   "source": [
    "pmaw_df['whitelist_status'].value_counts()"
   ]
  },
  {
   "cell_type": "code",
   "execution_count": 93,
   "id": "f5c8af92",
   "metadata": {},
   "outputs": [
    {
     "data": {
      "text/plain": [
       "False    9997\n",
       "True        3\n",
       "Name: contest_mode, dtype: int64"
      ]
     },
     "execution_count": 93,
     "metadata": {},
     "output_type": "execute_result"
    }
   ],
   "source": [
    "pmaw_df['contest_mode'].value_counts()"
   ]
  },
  {
   "cell_type": "code",
   "execution_count": 94,
   "id": "b668f12c",
   "metadata": {},
   "outputs": [
    {
     "data": {
      "text/plain": [
       "[]    10000\n",
       "Name: mod_reports, dtype: int64"
      ]
     },
     "execution_count": 94,
     "metadata": {},
     "output_type": "execute_result"
    }
   ],
   "source": [
    "pmaw_df['mod_reports'].value_counts()"
   ]
  },
  {
   "cell_type": "code",
   "execution_count": 95,
   "id": "2bdc657f",
   "metadata": {},
   "outputs": [
    {
     "data": {
      "text/plain": [
       "dark    7490\n",
       "Name: author_flair_text_color, dtype: int64"
      ]
     },
     "execution_count": 95,
     "metadata": {},
     "output_type": "execute_result"
    }
   ],
   "source": [
    "pmaw_df['author_flair_text_color'].value_counts()"
   ]
  },
  {
   "cell_type": "code",
   "execution_count": 96,
   "id": "644ce788",
   "metadata": {},
   "outputs": [
    {
     "data": {
      "text/plain": [
       "/r/nba/comments/hqqgua/90s_bulls_with_prime_mutombo_and_rodman_vs_90s/      1\n",
       "/r/nba/comments/rsnc4v/deleted_by_user/                                     1\n",
       "/r/nba/comments/rsnmf5/lebron_james_turning_37_37_of_them_thangs_around/    1\n",
       "/r/nba/comments/rsnkf6/i_made_a_youtube_video_about_the_best_pg_in_the/     1\n",
       "/r/nba/comments/rsnjk2/deleted_by_user/                                     1\n",
       "                                                                           ..\n",
       "/r/nba/comments/ijutga/an_eu_white_boy_supports_black_lives_matter/         1\n",
       "/r/nba/comments/ijupgo/the_best_player_in_history/                          1\n",
       "/r/nba/comments/ijunm7/spicy_p_lowlights_game_1_vs_celtics/                 1\n",
       "/r/nba/comments/ijui6z/jazz_nuggets_is_the_2nd_series_in_nba_playoff/       1\n",
       "/r/nba/comments/jsmccu/create_a_wojshams_announcementtradesigning_etc/      1\n",
       "Name: permalink, Length: 10000, dtype: int64"
      ]
     },
     "execution_count": 96,
     "metadata": {},
     "output_type": "execute_result"
    }
   ],
   "source": [
    "pmaw_df['permalink'].value_counts()"
   ]
  },
  {
   "cell_type": "code",
   "execution_count": 97,
   "id": "c893ff71",
   "metadata": {},
   "outputs": [
    {
     "data": {
      "text/plain": [
       "all_ads    10000\n",
       "Name: parent_whitelist_status, dtype: int64"
      ]
     },
     "execution_count": 97,
     "metadata": {},
     "output_type": "execute_result"
    }
   ],
   "source": [
    "pmaw_df['parent_whitelist_status'].value_counts()"
   ]
  },
  {
   "cell_type": "code",
   "execution_count": 98,
   "id": "e57288da",
   "metadata": {},
   "outputs": [
    {
     "data": {
      "text/plain": [
       "False    10000\n",
       "Name: stickied, dtype: int64"
      ]
     },
     "execution_count": 98,
     "metadata": {},
     "output_type": "execute_result"
    }
   ],
   "source": [
    "pmaw_df['stickied'].value_counts()"
   ]
  },
  {
   "cell_type": "code",
   "execution_count": 99,
   "id": "cede25b5",
   "metadata": {},
   "outputs": [
    {
     "data": {
      "text/plain": [
       "https://i.redd.it/ix9scdf7x6r41.gif                                                             4\n",
       "https://twitter.com/Rich_Holmes22/status/1282773607098265601/photo/1                            3\n",
       "https://twitter.com/KingJames/status/1282430987272691713                                        3\n",
       "https://twitter.com/joetsai1999/status/1238294846919462912                                      2\n",
       "https://youtu.be/9dueaC-thEA                                                                    2\n",
       "                                                                                               ..\n",
       "https://www.reddit.com/r/nba/comments/ijuhrd/who_do_you_think_want_to_win_the_finals/           1\n",
       "https://streamable.com/79e60m                                                                   1\n",
       "https://www.reddit.com/r/nba/comments/ijupgo/the_best_player_in_history/                        1\n",
       "https://www.reddit.com/r/nba/comments/ijutga/an_eu_white_boy_supports_black_lives_matter/       1\n",
       "https://www.reddit.com/r/nba/comments/jsmccu/create_a_wojshams_announcementtradesigning_etc/    1\n",
       "Name: url, Length: 6757, dtype: int64"
      ]
     },
     "execution_count": 99,
     "metadata": {},
     "output_type": "execute_result"
    }
   ],
   "source": [
    "pmaw_df['url'].value_counts()"
   ]
  },
  {
   "cell_type": "code",
   "execution_count": 100,
   "id": "afd2ae38",
   "metadata": {},
   "outputs": [
    {
     "data": {
      "text/plain": [
       "5163245    9245\n",
       "5163246     755\n",
       "Name: subreddit_subscribers, dtype: int64"
      ]
     },
     "execution_count": 100,
     "metadata": {},
     "output_type": "execute_result"
    }
   ],
   "source": [
    "pmaw_df['subreddit_subscribers'].value_counts()"
   ]
  },
  {
   "cell_type": "code",
   "execution_count": 101,
   "id": "33fdc7a0",
   "metadata": {
    "scrolled": true
   },
   "outputs": [
    {
     "data": {
      "text/plain": [
       "1.579910e+09    4\n",
       "1.619910e+09    4\n",
       "1.636762e+09    4\n",
       "1.640905e+09    3\n",
       "1.611533e+09    3\n",
       "               ..\n",
       "1.598859e+09    1\n",
       "1.598859e+09    1\n",
       "1.598859e+09    1\n",
       "1.598858e+09    1\n",
       "1.605148e+09    1\n",
       "Name: created_utc, Length: 9945, dtype: int64"
      ]
     },
     "execution_count": 101,
     "metadata": {},
     "output_type": "execute_result"
    }
   ],
   "source": [
    "# we're gonna keep this column (unix timestamp)\n",
    "pmaw_df['created_utc'].value_counts()"
   ]
  },
  {
   "cell_type": "code",
   "execution_count": 102,
   "id": "4c9b5228",
   "metadata": {
    "scrolled": true
   },
   "outputs": [
    {
     "data": {
      "text/plain": [
       "{'type': 'twitter.com', 'oembed': {'provider_url': 'https://twitter.com', 'version': '1.0', 'url': 'https://twitter.com/JoelEmbiid/status/1529654566383403008', 'author_name': 'Joel “Troel” Embiid', 'height': None, 'width': 350, 'html': '<blockquote class=\"twitter-video\"><p lang=\"en\" dir=\"ltr\">Miami needs another Star</p>&mdash; Joel “Troel” Embiid (@JoelEmbiid) <a href=\"https://twitter.com/JoelEmbiid/status/1529654566383403008?ref_src=twsrc%5Etfw\">May 26, 2022</a></blockquote>\\n<script async src=\"https://platform.twitter.com/widgets.js\" charset=\"utf-8\"></script>\\n', 'author_url': 'https://twitter.com/JoelEmbiid', 'provider_name': 'Twitter', 'cache_age': 3153600000, 'type': 'rich'}}                                                                                                                                                                                                                                                                                                                                                 11\n",
       "{'oembed': {'provider_url': 'https://twitter.com', 'url': 'https://twitter.com/KingJames/status/1282430987272691713', 'html': '<blockquote class=\"twitter-video\"><p lang=\"und\" dir=\"ltr\"><a href=\"https://twitter.com/hashtag/FreeWOJ?src=hash&amp;ref_src=twsrc%5Etfw\">#FreeWOJ</a>!!  🤜🏻🤛🏾</p>&mdash; LeBron James (@KingJames) <a href=\"https://twitter.com/KingJames/status/1282430987272691713?ref_src=twsrc%5Etfw\">July 12, 2020</a></blockquote>\\n<script async src=\"https://platform.twitter.com/widgets.js\" charset=\"utf-8\"></script>\\n', 'author_name': 'LeBron James', 'height': None, 'width': 350, 'version': '1.0', 'author_url': 'https://twitter.com/KingJames', 'provider_name': 'Twitter', 'cache_age': 3153600000, 'type': 'rich'}, 'type': 'twitter.com'}                                                                                                                                                                                                                                                                                       8\n",
       "{'type': 'twitter.com', 'oembed': {'provider_url': 'https://twitter.com', 'version': '1.0', 'url': 'https://twitter.com/KingJames/status/1282430987272691713', 'author_name': 'LeBron James', 'height': None, 'width': 350, 'html': '<blockquote class=\"twitter-video\"><p lang=\"und\" dir=\"ltr\"><a href=\"https://twitter.com/hashtag/FreeWOJ?src=hash&amp;ref_src=twsrc%5Etfw\">#FreeWOJ</a>!!  🤜🏻🤛🏾</p>&mdash; LeBron James (@KingJames) <a href=\"https://twitter.com/KingJames/status/1282430987272691713?ref_src=twsrc%5Etfw\">July 12, 2020</a></blockquote>\\n<script async src=\"https://platform.twitter.com/widgets.js\" charset=\"utf-8\"></script>\\n', 'author_url': 'https://twitter.com/KingJames', 'provider_name': 'Twitter', 'cache_age': 3153600000, 'type': 'rich'}}                                                                                                                                                                                                                                                                                       6\n",
       "{'type': 'twitter.com', 'oembed': {'provider_url': 'https://twitter.com', 'version': '1.0', 'url': 'https://twitter.com/Ugly_Anna/status/1282392399944183808', 'author_name': 'Vaxxed & Waxed', 'height': None, 'width': 350, 'html': '<blockquote class=\"twitter-video\"><p lang=\"en\" dir=\"ltr\">I already got invited to the bubble. Yea the season definitely ending early. 😭😭😭</p>&mdash; Vaxxed &amp; Waxed (@Ugly_Anna) <a href=\"https://twitter.com/Ugly_Anna/status/1282392399944183808?ref_src=twsrc%5Etfw\">July 12, 2020</a></blockquote>\\n<script async src=\"https://platform.twitter.com/widgets.js\" charset=\"utf-8\"></script>\\n', 'author_url': 'https://twitter.com/Ugly_Anna', 'provider_name': 'Twitter', 'cache_age': 3153600000, 'type': 'rich'}}                                                                                                                                                                                                                                                                                                   5\n",
       "{'oembed': {'provider_url': 'https://twitter.com', 'url': 'https://twitter.com/Ugly_Anna/status/1282392399944183808', 'html': '<blockquote class=\"twitter-video\"><p lang=\"en\" dir=\"ltr\">I already got invited to the bubble. Yea the season definitely ending early. 😭😭😭</p>&mdash; Vaxxed &amp; Waxed (@Ugly_Anna) <a href=\"https://twitter.com/Ugly_Anna/status/1282392399944183808?ref_src=twsrc%5Etfw\">July 12, 2020</a></blockquote>\\n<script async src=\"https://platform.twitter.com/widgets.js\" charset=\"utf-8\"></script>\\n', 'author_name': 'Vaxxed & Waxed', 'height': None, 'width': 350, 'version': '1.0', 'author_url': 'https://twitter.com/Ugly_Anna', 'provider_name': 'Twitter', 'cache_age': 3153600000, 'type': 'rich'}, 'type': 'twitter.com'}                                                                                                                                                                                                                                                                                                   5\n",
       "                                                                                                                                                                                                                                                                                                                                                                                                                                                                                                                                                                                                                                                                                                                                                                                                                                                                                                                                                                                                                                                                   ..\n",
       "{'type': 'twitter.com', 'oembed': {'provider_url': 'https://twitter.com', 'version': '1.0', 'url': 'https://twitter.com/TimBontemps/status/1247302108526850049', 'author_name': 'Tim Bontemps', 'height': None, 'width': 350, 'html': '<blockquote class=\"twitter-video\"><p lang=\"en\" dir=\"ltr\">Silver says the conference call with President Trump was an &quot;old-school&quot; conference call. No video. Says the leagues were contacted earlier in the week, but that conference call wasn&#39;t set for Saturday until Friday. Silver said that Trump said he&#39;d been watching old sports on TV.</p>&mdash; Tim Bontemps (@TimBontemps) <a href=\"https://twitter.com/TimBontemps/status/1247302108526850049?ref_src=twsrc%5Etfw\">April 6, 2020</a></blockquote>\\n<script async src=\"https://platform.twitter.com/widgets.js\" charset=\"utf-8\"></script>\\n', 'author_url': 'https://twitter.com/TimBontemps', 'provider_name': 'Twitter', 'cache_age': 3153600000, 'type': 'rich'}}                                                                         1\n",
       "{'type': 'youtube.com', 'oembed': {'provider_url': 'https://www.youtube.com/', 'version': '1.0', 'title': 'LeBron, Cavs Erase 26-Point Deficit to Beat Pacers | 2017 NBA Playoffs Rewind', 'type': 'video', 'thumbnail_width': 480, 'height': 200, 'width': 356, 'html': '<iframe width=\"356\" height=\"200\" src=\"https://www.youtube.com/embed/Vu7NzsRelhQ?feature=oembed&enablejsapi=1\" frameborder=\"0\" allow=\"accelerometer; autoplay; clipboard-write; encrypted-media; gyroscope; picture-in-picture\" allowfullscreen></iframe>', 'author_name': 'Bleacher Report', 'provider_name': 'YouTube', 'thumbnail_url': 'https://i.ytimg.com/vi/Vu7NzsRelhQ/hqdefault.jpg', 'thumbnail_height': 360, 'author_url': 'https://www.youtube.com/user/BleacherReport'}}                                                                                                                                                                                                                                                                                                      1\n",
       "{'type': 'youtube.com', 'oembed': {'provider_url': 'https://www.youtube.com/', 'version': '1.0', 'title': 'Brook Lopez Joins ELITE Company With an Outstanding Game 1 Performance | May 15, 2019', 'type': 'video', 'thumbnail_width': 480, 'height': 200, 'width': 356, 'html': '<iframe width=\"356\" height=\"200\" src=\"https://www.youtube.com/embed/LKoxDTQywyk?feature=oembed&enablejsapi=1\" frameborder=\"0\" allow=\"accelerometer; autoplay; clipboard-write; encrypted-media; gyroscope; picture-in-picture\" allowfullscreen></iframe>', 'author_name': 'NBA', 'provider_name': 'YouTube', 'thumbnail_url': 'https://i.ytimg.com/vi/LKoxDTQywyk/hqdefault.jpg', 'thumbnail_height': 360, 'author_url': 'https://www.youtube.com/c/NBA'}}                                                                                                                                                                                                                                                                                                                        1\n",
       "{'type': 'twitter.com', 'oembed': {'provider_url': 'https://twitter.com', 'version': '1.0', 'url': 'https://twitter.com/TimBontemps/status/1247301700303704065', 'author_name': 'Tim Bontemps', 'height': None, 'width': 350, 'html': '<blockquote class=\"twitter-video\"><p lang=\"en\" dir=\"ltr\">Silver: &quot;Beyond crowning a champion, what would the symbolism be of sports starting back up in this country?&quot; Reiterates that, once sports get the &quot;all clear,&quot; the sports leagues are going to be &quot;ready to go.&quot;</p>&mdash; Tim Bontemps (@TimBontemps) <a href=\"https://twitter.com/TimBontemps/status/1247301700303704065?ref_src=twsrc%5Etfw\">April 6, 2020</a></blockquote>\\n<script async src=\"https://platform.twitter.com/widgets.js\" charset=\"utf-8\"></script>\\n', 'author_url': 'https://twitter.com/TimBontemps', 'provider_name': 'Twitter', 'cache_age': 3153600000, 'type': 'rich'}}                                                                                                                                    1\n",
       "{'type': 'twitter.com', 'oembed': {'provider_url': 'https://twitter.com', 'version': '1.0', 'url': 'https://twitter.com/TheHoopCentral/status/1326722908631166976', 'author_name': 'Hoop Central', 'height': None, 'width': 350, 'html': '<blockquote class=\"twitter-video\"><p lang=\"en\" dir=\"ltr\">P.J. Tucker has been reportedly “irate” over his current contract situation all year, via <a href=\"https://twitter.com/TheAthleticNBA?ref_src=twsrc%5Etfw\">@TheAthleticNBA</a><br><br>Tucker feels “insulted” that Houston delayed contract extension talks and believes he deserves a raise. <a href=\"https://t.co/8LAQ1wLMhF\">pic.twitter.com/8LAQ1wLMhF</a></p>&mdash; Hoop Central (@TheHoopCentral) <a href=\"https://twitter.com/TheHoopCentral/status/1326722908631166976?ref_src=twsrc%5Etfw\">November 12, 2020</a></blockquote>\\n<script async src=\"https://platform.twitter.com/widgets.js\" charset=\"utf-8\"></script>\\n', 'author_url': 'https://twitter.com/TheHoopCentral', 'provider_name': 'Twitter', 'cache_age': 3153600000, 'type': 'rich'}}     1\n",
       "Name: media, Length: 2366, dtype: int64"
      ]
     },
     "execution_count": 102,
     "metadata": {},
     "output_type": "execute_result"
    }
   ],
   "source": [
    "pmaw_df['media'].value_counts()"
   ]
  },
  {
   "cell_type": "code",
   "execution_count": 103,
   "id": "0aec0400",
   "metadata": {},
   "outputs": [
    {
     "data": {
      "text/plain": [
       "False    9901\n",
       "True       99\n",
       "Name: is_video, dtype: int64"
      ]
     },
     "execution_count": 103,
     "metadata": {},
     "output_type": "execute_result"
    }
   ],
   "source": [
    "pmaw_df['is_video'].value_counts()"
   ]
  },
  {
   "cell_type": "code",
   "execution_count": 104,
   "id": "0075ff79",
   "metadata": {
    "scrolled": false
   },
   "outputs": [
    {
     "data": {
      "text/plain": [
       "False    10000\n",
       "Name: _fetched, dtype: int64"
      ]
     },
     "execution_count": 104,
     "metadata": {},
     "output_type": "execute_result"
    }
   ],
   "source": [
    "pmaw_df['_fetched'].value_counts()"
   ]
  },
  {
   "cell_type": "code",
   "execution_count": 105,
   "id": "2dcc23da",
   "metadata": {
    "scrolled": false
   },
   "outputs": [
    {
     "data": {
      "text/plain": [
       "{}    10000\n",
       "Name: _comments_by_id, dtype: int64"
      ]
     },
     "execution_count": 105,
     "metadata": {},
     "output_type": "execute_result"
    }
   ],
   "source": [
    "pmaw_df['_comments_by_id'].value_counts()"
   ]
  },
  {
   "cell_type": "code",
   "execution_count": 106,
   "id": "6f09ba42",
   "metadata": {},
   "outputs": [
    {
     "data": {
      "text/plain": [
       "t2_6vjwa       86\n",
       "t2_41mgzgw6    51\n",
       "t2_kep50e3     46\n",
       "t2_jmrghf      41\n",
       "t2_3idra       35\n",
       "               ..\n",
       "t2_csqp9t5      1\n",
       "t2_66c4f        1\n",
       "t2_1v6md862     1\n",
       "t2_5l1if0w1     1\n",
       "t2_7ex96k12     1\n",
       "Name: author_fullname, Length: 3862, dtype: int64"
      ]
     },
     "execution_count": 106,
     "metadata": {},
     "output_type": "execute_result"
    }
   ],
   "source": [
    "pmaw_df['author_fullname'].value_counts()"
   ]
  },
  {
   "cell_type": "code",
   "execution_count": 107,
   "id": "7e8572a9",
   "metadata": {},
   "outputs": [
    {
     "data": {
      "text/plain": [
       "False    5933\n",
       "True      355\n",
       "Name: author_premium, dtype: int64"
      ]
     },
     "execution_count": 107,
     "metadata": {},
     "output_type": "execute_result"
    }
   ],
   "source": [
    "pmaw_df['author_premium'].value_counts()"
   ]
  },
  {
   "cell_type": "code",
   "execution_count": 108,
   "id": "862f54de",
   "metadata": {},
   "outputs": [
    {
     "data": {
      "text/plain": [
       "[]                                                                                                                                                2527\n",
       "[{'a': ':nba-1:', 'e': 'emoji', 'u': 'https://emoji.redditmedia.com/hifk3f9kte391_t5_2qo4s/nba-1'}, {'e': 'text', 't': ' NBA'}]                    128\n",
       "[{'a': ':hou-1:', 'e': 'emoji', 'u': 'https://emoji.redditmedia.com/dpbyweeks4r81_t5_2qo4s/hou-1'}, {'e': 'text', 't': ' Rockets'}]                 97\n",
       "[{'a': ':lal-2:', 'e': 'emoji', 'u': 'https://emoji.redditmedia.com/1qov69yrs4r81_t5_2qo4s/lal-2'}, {'e': 'text', 't': ' Lakers'}]                  89\n",
       "[{'e': 'text', 't': '[NBA] Scott Foster'}]                                                                                                          86\n",
       "                                                                                                                                                  ... \n",
       "[{'e': 'text', 't': '[GSW] Dorell Wright'}]                                                                                                          1\n",
       "[{'a': ':phi-2:', 'e': 'emoji', 'u': 'https://emoji.redditmedia.com/29htcgsfw4r81_t5_2qo4s/phi-2'}, {'e': 'text', 't': ' [PHI] Tyrese Maxey'}]       1\n",
       "[{'a': ':dal-2:', 'e': 'emoji', 'u': 'https://emoji.redditmedia.com/mdvl1fy8s4r81_t5_2qo4s/dal-2'}, {'e': 'text', 't': ' [DAL] Rajon Rondo'}]        1\n",
       "[{'e': 'text', 't': '[UTA] Keon Clark'}]                                                                                                             1\n",
       "[{'e': 'text', 't': '[SEA] Dana Barros'}]                                                                                                            1\n",
       "Name: author_flair_richtext, Length: 468, dtype: int64"
      ]
     },
     "execution_count": 108,
     "metadata": {},
     "output_type": "execute_result"
    }
   ],
   "source": [
    "pmaw_df['author_flair_richtext'].value_counts()"
   ]
  },
  {
   "cell_type": "code",
   "execution_count": 109,
   "id": "0906c030",
   "metadata": {
    "scrolled": true
   },
   "outputs": [
    {
     "data": {
      "text/plain": [
       "richtext    3761\n",
       "text        2527\n",
       "Name: author_flair_type, dtype: int64"
      ]
     },
     "execution_count": 109,
     "metadata": {},
     "output_type": "execute_result"
    }
   ],
   "source": [
    "pmaw_df['author_flair_type'].value_counts()"
   ]
  },
  {
   "cell_type": "code",
   "execution_count": 110,
   "id": "3a32961c",
   "metadata": {},
   "outputs": [
    {
     "data": {
      "text/plain": [
       "False    6288\n",
       "Name: author_patreon_flair, dtype: int64"
      ]
     },
     "execution_count": 110,
     "metadata": {},
     "output_type": "execute_result"
    }
   ],
   "source": [
    "pmaw_df['author_patreon_flair'].value_counts()"
   ]
  },
  {
   "cell_type": "code",
   "execution_count": 111,
   "id": "14c4b5c4",
   "metadata": {},
   "outputs": [
    {
     "data": {
      "text/plain": [
       "rich:video      887\n",
       "self            563\n",
       "link            421\n",
       "hosted:video      2\n",
       "Name: post_hint, dtype: int64"
      ]
     },
     "execution_count": 111,
     "metadata": {},
     "output_type": "execute_result"
    }
   ],
   "source": [
    "pmaw_df['post_hint'].value_counts()"
   ]
  },
  {
   "cell_type": "code",
   "execution_count": 112,
   "id": "4e6f2608",
   "metadata": {},
   "outputs": [
    {
     "data": {
      "text/plain": [
       "{'images': [{'source': {'url': 'https://external-preview.redd.it/40xIhnIeKQ9bM-l6Fwa1TNrixFDdC7mYpZUQ_BaZ_L4.jpg?auto=webp&s=39b09012bb38bbf8c01900a67abdcdd495246c62', 'width': 140, 'height': 140}, 'resolutions': [{'url': 'https://external-preview.redd.it/40xIhnIeKQ9bM-l6Fwa1TNrixFDdC7mYpZUQ_BaZ_L4.jpg?width=108&crop=smart&auto=webp&s=4ff8ca49ebf2a66522bd08773884dab5f4daa3e6', 'width': 108, 'height': 108}], 'variants': {}, 'id': 'YU-mSVskH_ja-PH9bE4MX-Hrn2k-gZKlqTEw_Tbis4Y'}], 'enabled': False}                                                                                                                                                                                                                                                                                                                                                                                                                                                                                                                                                                                                                                                                                                                                                                                                                                                                                                                                                                                                                             22\n",
       "{'images': [{'source': {'url': 'https://external-preview.redd.it/XOE6OEhEuzXb5gIghHzMxSu49skB7ZYIb2PCmkg6zvc.jpg?auto=webp&s=a26d14bfb26f8963baa843b47fca9b02ff11829e', 'width': 1200, 'height': 630}, 'resolutions': [{'url': 'https://external-preview.redd.it/XOE6OEhEuzXb5gIghHzMxSu49skB7ZYIb2PCmkg6zvc.jpg?width=108&crop=smart&auto=webp&s=a8663c3ba2ece3eab02ac69d5a3cf9ffc96d4a52', 'width': 108, 'height': 56}, {'url': 'https://external-preview.redd.it/XOE6OEhEuzXb5gIghHzMxSu49skB7ZYIb2PCmkg6zvc.jpg?width=216&crop=smart&auto=webp&s=07f1ab83165f25e8517f08b892c54e91c3be8574', 'width': 216, 'height': 113}, {'url': 'https://external-preview.redd.it/XOE6OEhEuzXb5gIghHzMxSu49skB7ZYIb2PCmkg6zvc.jpg?width=320&crop=smart&auto=webp&s=76acd79f59ef865df2b39ed517426602aa11437e', 'width': 320, 'height': 168}, {'url': 'https://external-preview.redd.it/XOE6OEhEuzXb5gIghHzMxSu49skB7ZYIb2PCmkg6zvc.jpg?width=640&crop=smart&auto=webp&s=b6ea03f73b112f870664e3c2934342614474315c', 'width': 640, 'height': 336}, {'url': 'https://external-preview.redd.it/XOE6OEhEuzXb5gIghHzMxSu49skB7ZYIb2PCmkg6zvc.jpg?width=960&crop=smart&auto=webp&s=7cc1da9149398f04e317740798c51412a98ac0b7', 'width': 960, 'height': 504}, {'url': 'https://external-preview.redd.it/XOE6OEhEuzXb5gIghHzMxSu49skB7ZYIb2PCmkg6zvc.jpg?width=1080&crop=smart&auto=webp&s=6df1b1986c77526dc2c51d717366d154cf342248', 'width': 1080, 'height': 567}], 'variants': {}, 'id': '80xAZrBGAApKGNn2KYTDVb82sYt6Jol4kateslRV1OI'}], 'enabled': False}       11\n",
       "{'images': [{'source': {'url': 'https://external-preview.redd.it/UWvg779XhecvpLVqkqhtOW-Y-LXXdDNhdO9qPXuZ2jI.jpg?auto=webp&s=b09c42f42ec138305456199e9edb50ac1030cdee', 'width': 1920, 'height': 1080}, 'resolutions': [{'url': 'https://external-preview.redd.it/UWvg779XhecvpLVqkqhtOW-Y-LXXdDNhdO9qPXuZ2jI.jpg?width=108&crop=smart&auto=webp&s=4ead9100e1f9b6cc57973efe5af7fa6f54c8ad1d', 'width': 108, 'height': 60}, {'url': 'https://external-preview.redd.it/UWvg779XhecvpLVqkqhtOW-Y-LXXdDNhdO9qPXuZ2jI.jpg?width=216&crop=smart&auto=webp&s=0a517c1120a2d8d1a97392bdbc31abdea1e4ae34', 'width': 216, 'height': 121}, {'url': 'https://external-preview.redd.it/UWvg779XhecvpLVqkqhtOW-Y-LXXdDNhdO9qPXuZ2jI.jpg?width=320&crop=smart&auto=webp&s=a7e23194274f06abade0e1cba5f019d117f5a6f1', 'width': 320, 'height': 180}, {'url': 'https://external-preview.redd.it/UWvg779XhecvpLVqkqhtOW-Y-LXXdDNhdO9qPXuZ2jI.jpg?width=640&crop=smart&auto=webp&s=799aa6a373a2ca07ba201bde8f0cff397fafd2d3', 'width': 640, 'height': 360}, {'url': 'https://external-preview.redd.it/UWvg779XhecvpLVqkqhtOW-Y-LXXdDNhdO9qPXuZ2jI.jpg?width=960&crop=smart&auto=webp&s=ef040315852b8c84d04967eac32a53dd8a542cd9', 'width': 960, 'height': 540}, {'url': 'https://external-preview.redd.it/UWvg779XhecvpLVqkqhtOW-Y-LXXdDNhdO9qPXuZ2jI.jpg?width=1080&crop=smart&auto=webp&s=a2289ce3d8b189c1c472ba52f7a4644b258a15a1', 'width': 1080, 'height': 607}], 'variants': {}, 'id': 'fJC_ZHY80fpOJaS_2Gs4ODaL8UIACcnZbpVqXic0huQ'}], 'enabled': False}       9\n",
       "{'images': [{'source': {'url': 'https://external-preview.redd.it/-sNraGtqgxKUhBd5WKWvspx8bLtXXdhn9R5KKIUElrw.jpg?auto=webp&s=a99a4bb7e671c71cf1204683a56fd362499a810d', 'width': 140, 'height': 140}, 'resolutions': [{'url': 'https://external-preview.redd.it/-sNraGtqgxKUhBd5WKWvspx8bLtXXdhn9R5KKIUElrw.jpg?width=108&crop=smart&auto=webp&s=3665735d09292dfe3f201276eaffb6ad88f90ec1', 'width': 108, 'height': 108}], 'variants': {}, 'id': 'NlaKc78dJtEKx9yI5pwKW6iEqd4MLeprOzDZlA8c84k'}], 'enabled': False}                                                                                                                                                                                                                                                                                                                                                                                                                                                                                                                                                                                                                                                                                                                                                                                                                                                                                                                                                                                                                              9\n",
       "{'images': [{'source': {'url': 'https://external-preview.redd.it/ajWRyWPdXL2BmYy-JVOvm3wulwHgMxbdiP3K7uszWVQ.jpg?auto=webp&s=b8f69bd594a202f2e634eb9c7a912f8f69e918c2', 'width': 140, 'height': 140}, 'resolutions': [{'url': 'https://external-preview.redd.it/ajWRyWPdXL2BmYy-JVOvm3wulwHgMxbdiP3K7uszWVQ.jpg?width=108&crop=smart&auto=webp&s=45b115e928a70550392d869f08ef4ff24fd90bff', 'width': 108, 'height': 108}], 'variants': {}, 'id': 'B4SSv6bSgR65CWYL_cvjslytp0ke1THKHY_lOCki2nc'}], 'enabled': False}                                                                                                                                                                                                                                                                                                                                                                                                                                                                                                                                                                                                                                                                                                                                                                                                                                                                                                                                                                                                                              9\n",
       "                                                                                                                                                                                                                                                                                                                                                                                                                                                                                                                                                                                                                                                                                                                                                                                                                                                                                                                                                                                                                                                                                                                                                                                                                                                                                                                                                                                                                                                                                                                                                ..\n",
       "{'images': [{'source': {'url': 'https://external-preview.redd.it/-xwKu4Wgx2Mzz2AxY1uqD17f9fSB0y95T8c-yX2WIqA.jpg?auto=webp&s=e222a4b2bac95198581b1798959c350de84586ce', 'width': 140, 'height': 108}, 'resolutions': [{'url': 'https://external-preview.redd.it/-xwKu4Wgx2Mzz2AxY1uqD17f9fSB0y95T8c-yX2WIqA.jpg?width=108&crop=smart&auto=webp&s=cc59bc0995747f766b7b06dbfb7ee31fcf9e735a', 'width': 108, 'height': 83}], 'variants': {}, 'id': 'MOCw7VYVQsW7Rx7M6CBbJh3qszf6ZHYG_nk1vqeQrg8'}], 'enabled': False}                                                                                                                                                                                                                                                                                                                                                                                                                                                                                                                                                                                                                                                                                                                                                                                                                                                                                                                                                                                                                               1\n",
       "{'images': [{'source': {'url': 'https://external-preview.redd.it/sD0CbHbxYUo2l5nDt1CdKpIMvW8kq2c__C5i1Idz6-A.jpg?auto=webp&s=a8a74ed2714646ab22ddb940c2c2009c6d792412', 'width': 480, 'height': 360}, 'resolutions': [{'url': 'https://external-preview.redd.it/sD0CbHbxYUo2l5nDt1CdKpIMvW8kq2c__C5i1Idz6-A.jpg?width=108&crop=smart&auto=webp&s=12df658e1d33a721df2b07b3861b60b39b62a577', 'width': 108, 'height': 81}, {'url': 'https://external-preview.redd.it/sD0CbHbxYUo2l5nDt1CdKpIMvW8kq2c__C5i1Idz6-A.jpg?width=216&crop=smart&auto=webp&s=b1b81719a5bcf5bc653637183718a236f6bcff13', 'width': 216, 'height': 162}, {'url': 'https://external-preview.redd.it/sD0CbHbxYUo2l5nDt1CdKpIMvW8kq2c__C5i1Idz6-A.jpg?width=320&crop=smart&auto=webp&s=b7e4d6de89bb7fd818365f47a70e006a9b3c821a', 'width': 320, 'height': 240}], 'variants': {}, 'id': 'NIYuTJE0tkWeIqSm8G-nEgKR_IoWH8KEt9OQsm4SleM'}], 'enabled': False}                                                                                                                                                                                                                                                                                                                                                                                                                                                                                                                                                                                                                       1\n",
       "{'images': [{'source': {'url': 'https://external-preview.redd.it/wTfyro8gm7fsGH2V8LzP9Jjo1hN0o8w9FJGM5pFwMcY.jpg?auto=webp&s=a8eab02b10f6d733767139ece986d2ef07643197', 'width': 900, 'height': 599}, 'resolutions': [{'url': 'https://external-preview.redd.it/wTfyro8gm7fsGH2V8LzP9Jjo1hN0o8w9FJGM5pFwMcY.jpg?width=108&crop=smart&auto=webp&s=91bc2ec81332e508a5b8d884a402990145aacc12', 'width': 108, 'height': 71}, {'url': 'https://external-preview.redd.it/wTfyro8gm7fsGH2V8LzP9Jjo1hN0o8w9FJGM5pFwMcY.jpg?width=216&crop=smart&auto=webp&s=baf4a9cfc6ad5e22429b2ad2ac499dcd775ff770', 'width': 216, 'height': 143}, {'url': 'https://external-preview.redd.it/wTfyro8gm7fsGH2V8LzP9Jjo1hN0o8w9FJGM5pFwMcY.jpg?width=320&crop=smart&auto=webp&s=f40df2ceebff1d152174ac5bd684c8def0871895', 'width': 320, 'height': 212}, {'url': 'https://external-preview.redd.it/wTfyro8gm7fsGH2V8LzP9Jjo1hN0o8w9FJGM5pFwMcY.jpg?width=640&crop=smart&auto=webp&s=ef1bf1e97aab90aa981a48abdfc6788bf2601840', 'width': 640, 'height': 425}], 'variants': {}, 'id': 'r5rc8c97rGAEXYk3zKbJtMbioWRHhC0YYYrgVLUNxio'}], 'enabled': False}                                                                                                                                                                                                                                                                                                                                                                                                                   1\n",
       "{'images': [{'source': {'url': 'https://external-preview.redd.it/4fys6rNXN2LN4aw1qmAnvZOcy-GhcUpzScZGiLatn8k.jpg?auto=webp&s=6d06b4af413b5dd86c1619bb81d3ad60a96a948e', 'width': 625, 'height': 415}, 'resolutions': [{'url': 'https://external-preview.redd.it/4fys6rNXN2LN4aw1qmAnvZOcy-GhcUpzScZGiLatn8k.jpg?width=108&crop=smart&auto=webp&s=989c0f81480dc24deaeea8dc2250c90caae04cda', 'width': 108, 'height': 71}, {'url': 'https://external-preview.redd.it/4fys6rNXN2LN4aw1qmAnvZOcy-GhcUpzScZGiLatn8k.jpg?width=216&crop=smart&auto=webp&s=ede57491207c024d4c6b93c601b1fdbf103a576b', 'width': 216, 'height': 143}, {'url': 'https://external-preview.redd.it/4fys6rNXN2LN4aw1qmAnvZOcy-GhcUpzScZGiLatn8k.jpg?width=320&crop=smart&auto=webp&s=67312dc724767b1660b54f10a072112f95e7cdd1', 'width': 320, 'height': 212}], 'variants': {}, 'id': 'V8jUIgphgNC02PstEwq16dHnKw56-7gEHFBrqlELsXo'}], 'enabled': False}                                                                                                                                                                                                                                                                                                                                                                                                                                                                                                                                                                                                                       1\n",
       "{'images': [{'source': {'url': 'https://external-preview.redd.it/DKiETuKpFyfRA6A9R5DOVwBckHNeoYP2Ic6fah9Tg5o.jpg?auto=webp&s=15d70c7ed910ec6b2ca3d6ba7deecf9d8a504eb1', 'width': 1400, 'height': 1400}, 'resolutions': [{'url': 'https://external-preview.redd.it/DKiETuKpFyfRA6A9R5DOVwBckHNeoYP2Ic6fah9Tg5o.jpg?width=108&crop=smart&auto=webp&s=ff98096811533df1d144e31900fade6180dc28dc', 'width': 108, 'height': 108}, {'url': 'https://external-preview.redd.it/DKiETuKpFyfRA6A9R5DOVwBckHNeoYP2Ic6fah9Tg5o.jpg?width=216&crop=smart&auto=webp&s=23d074c8af0e676bff082657bb334025c5df5f9f', 'width': 216, 'height': 216}, {'url': 'https://external-preview.redd.it/DKiETuKpFyfRA6A9R5DOVwBckHNeoYP2Ic6fah9Tg5o.jpg?width=320&crop=smart&auto=webp&s=3366335215aee9eb81f37ee4160491234981d391', 'width': 320, 'height': 320}, {'url': 'https://external-preview.redd.it/DKiETuKpFyfRA6A9R5DOVwBckHNeoYP2Ic6fah9Tg5o.jpg?width=640&crop=smart&auto=webp&s=fcccc7ba61c6b3f3f0b4a4410c16971366c0783a', 'width': 640, 'height': 640}, {'url': 'https://external-preview.redd.it/DKiETuKpFyfRA6A9R5DOVwBckHNeoYP2Ic6fah9Tg5o.jpg?width=960&crop=smart&auto=webp&s=d7b7ac5cc4695291808ea50add7bec6e0f52209e', 'width': 960, 'height': 960}, {'url': 'https://external-preview.redd.it/DKiETuKpFyfRA6A9R5DOVwBckHNeoYP2Ic6fah9Tg5o.jpg?width=1080&crop=smart&auto=webp&s=9a5fe7e77fba4e0e27eab2fc2bb9e4bfa32de24d', 'width': 1080, 'height': 1080}], 'variants': {}, 'id': 'Ar3vuMBAuWYumOQUTBDkKuE_7xS_67f1q4SYqEaFhlo'}], 'enabled': False}     1\n",
       "Name: preview, Length: 1704, dtype: int64"
      ]
     },
     "execution_count": 112,
     "metadata": {},
     "output_type": "execute_result"
    }
   ],
   "source": [
    "pmaw_df['preview'].value_counts()"
   ]
  },
  {
   "cell_type": "code",
   "execution_count": 113,
   "id": "72868291",
   "metadata": {
    "scrolled": true
   },
   "outputs": [
    {
     "data": {
      "text/plain": [
       "[{'approved_at_utc': None, 'subreddit': 'dataisbeautiful', 'selftext': '', 'author_fullname': 't2_9td17', 'saved': False, 'mod_reason_title': None, 'gilded': 0, 'clicked': False, 'title': '[OC] The Evolution of NBA', 'link_flair_richtext': [], 'subreddit_name_prefixed': 'r/dataisbeautiful', 'hidden': False, 'pwls': 6, 'link_flair_css_class': 'oc', 'downs': 0, 'thumbnail_height': 140, 'top_awarded_type': None, 'hide_score': False, 'name': 't3_fvxuzf', 'quarantine': False, 'link_flair_text_color': 'dark', 'upvote_ratio': 0.97, 'author_flair_background_color': None, 'subreddit_type': 'public', 'ups': 4045, 'total_awards_received': 0, 'media_embed': {}, 'thumbnail_width': 140, 'author_flair_template_id': '1c7d62a6-099d-11e7-9b3c-0ee50bfd7a4c', 'is_original_content': False, 'user_reports': [], 'secure_media': None, 'is_reddit_media_domain': True, 'is_meta': False, 'category': None, 'secure_media_embed': {}, 'link_flair_text': 'OC', 'can_mod_post': False, 'score': 4045, 'approved_by': None, 'is_created_from_ads_ui': False, 'author_premium': False, 'thumbnail': 'https://b.thumbs.redditmedia.com/vy_gCtsoKKuxE8vKxZEKdDXfhYtZXpbesIe7qcClYoE.jpg', 'edited': False, 'author_flair_css_class': 'ocmaker', 'author_flair_richtext': [], 'gildings': {}, 'post_hint': 'image', 'content_categories': None, 'is_self': False, 'mod_note': None, 'created': 1586176100.0, 'link_flair_type': 'text', 'wls': 6, 'removed_by_category': None, 'banned_by': None, 'author_flair_type': 'text', 'domain': 'i.redd.it', 'allow_live_comments': True, 'selftext_html': None, 'likes': None, 'suggested_sort': None, 'banned_at_utc': None, 'url_overridden_by_dest': 'https://i.redd.it/ix9scdf7x6r41.gif', 'view_count': None, 'archived': True, 'no_follow': False, 'is_crosspostable': False, 'pinned': False, 'over_18': False, 'preview': {'images': [{'source': {'url': 'https://preview.redd.it/ix9scdf7x6r41.gif?format=png8&s=658ac891e76b9d712f1209a5f22553a26dab0c7d', 'width': 864, 'height': 864}, 'resolutions': [{'url': 'https://preview.redd.it/ix9scdf7x6r41.gif?width=108&crop=smart&format=png8&s=551f5d3523106ac0b74500fa03d5cbe8e66316d6', 'width': 108, 'height': 108}, {'url': 'https://preview.redd.it/ix9scdf7x6r41.gif?width=216&crop=smart&format=png8&s=f8e64f7a40674310e6224474e9479208a0d0429d', 'width': 216, 'height': 216}, {'url': 'https://preview.redd.it/ix9scdf7x6r41.gif?width=320&crop=smart&format=png8&s=db1c0fb4c026ee467b28f323d52b5898724a8792', 'width': 320, 'height': 320}, {'url': 'https://preview.redd.it/ix9scdf7x6r41.gif?width=640&crop=smart&format=png8&s=bf02e32acd496a0788b03d9e0785e9142da89a06', 'width': 640, 'height': 640}], 'variants': {'gif': {'source': {'url': 'https://preview.redd.it/ix9scdf7x6r41.gif?s=7235af158e01629d554bb64ce94798807f4ecb5c', 'width': 864, 'height': 864}, 'resolutions': [{'url': 'https://preview.redd.it/ix9scdf7x6r41.gif?width=108&crop=smart&s=8e4d254a440a75d47d1a442b528959896e1f7bbe', 'width': 108, 'height': 108}, {'url': 'https://preview.redd.it/ix9scdf7x6r41.gif?width=216&crop=smart&s=1c609834c52235fe643da2d0239c08a6d4adc70f', 'width': 216, 'height': 216}, {'url': 'https://preview.redd.it/ix9scdf7x6r41.gif?width=320&crop=smart&s=88cad732c59ccc815daf0f0fc0006b83899353ad', 'width': 320, 'height': 320}, {'url': 'https://preview.redd.it/ix9scdf7x6r41.gif?width=640&crop=smart&s=4905aa64ad8a36286faca7ceaa0c167db11604c4', 'width': 640, 'height': 640}]}, 'mp4': {'source': {'url': 'https://preview.redd.it/ix9scdf7x6r41.gif?format=mp4&s=01fa2f64c24a457eab5e52b2a515a9ec3227978a', 'width': 864, 'height': 864}, 'resolutions': [{'url': 'https://preview.redd.it/ix9scdf7x6r41.gif?width=108&format=mp4&s=86f4fbdd0a3e3c1b31c461fce14ceff8663a6950', 'width': 108, 'height': 108}, {'url': 'https://preview.redd.it/ix9scdf7x6r41.gif?width=216&format=mp4&s=13c78519f87ad5480fb1f7311ae16e2312bcd699', 'width': 216, 'height': 216}, {'url': 'https://preview.redd.it/ix9scdf7x6r41.gif?width=320&format=mp4&s=51f59ac2c9c717f9cf63c2b832a7e4c4c857ecb9', 'width': 320, 'height': 320}, {'url': 'https://preview.redd.it/ix9scdf7x6r41.gif?width=640&format=mp4&s=e6856a0fe99b2a978e41abee62d309b578798ada', 'width': 640, 'height': 640}]}}, 'id': '172DsWj4I6mBMRMSxUn7VTawYuPDfHUBC_U5QhiG17M'}], 'enabled': True}, 'all_awardings': [], 'awarders': [], 'media_only': False, 'can_gild': False, 'spoiler': False, 'locked': False, 'author_flair_text': 'OC: 4', 'treatment_tags': [], 'visited': False, 'removed_by': None, 'num_reports': None, 'distinguished': None, 'subreddit_id': 't5_2tk95', 'author_is_blocked': False, 'mod_reason_by': None, 'removal_reason': None, 'link_flair_background_color': '', 'id': 'fvxuzf', 'is_robot_indexable': True, 'report_reasons': None, 'author': 'LoLz14', 'discussion_type': None, 'num_comments': 165, 'send_replies': True, 'whitelist_status': 'all_ads', 'contest_mode': False, 'mod_reports': [], 'author_patreon_flair': False, 'author_flair_text_color': 'dark', 'permalink': '/r/dataisbeautiful/comments/fvxuzf/oc_the_evolution_of_nba/', 'parent_whitelist_status': 'all_ads', 'stickied': False, 'url': 'https://i.redd.it/ix9scdf7x6r41.gif', 'subreddit_subscribers': 18534441, 'created_utc': 1586176100.0, 'num_crossposts': 8, 'media': None, 'is_video': False}]                                                                                                                                                                                                                                                                                                                                                                                                                                                                                                                                                                                                                                                                                                                                                                                                                                                                                                                                                                                                                                                                                                                                                                                                                                                                                                                                                                                                                                                                                                                                                                                                                                                                                                                                                                                                                                                                                                                                                                                                                                                                                                                                                                                                                                                                                                                                                                                                                                                                                                                                                                                                                                                                                                                                                                                                                                                                                                                                                                                                                                                                                                                                                                                                                                                                                                                                                                                                                                                                                                                                                                                                                                                                                                                                                                                                                                                                                                                                                                                                                                                                                                                                                                                                                                                                                                                                                                                                                                                                                                                                                                                                                                                                                                                                                                                                                                                                                                                                                                                                                                                                                                                                                                                                                                                                                                                                                                                                                                                                                                                                                                                                                                                                                                                                                                                                                                                                                                                                                                                                                                                                                                                                                                                                                                                                                                                                                                                                                                                                                                                                                                                                                                                                                                                                                                                                                                                                                                                                                                                                                                                                                                                                                                                                                                                                                                                                                                                                                                                                                                                                                                                                                                                                                                                                                                                                                                                                                                                                                                                                                                                                                                                                                                                                                                                                                                                                                                                                                                                                                                                                                                                                                                                                                                                                                                                                                                                                                                                                                                                                                                                                                                                                                                                                                                                                                                                                                                                                                                                                                                                                                                                                                                                                                                                                                                                                                                                                                                                                                                                                                                                                                                                                                                                                                                                                                                                                                                                                                                                                                                                                                                                                                                                                                                                                                                                                                                                                                                                                                                                                                                                                                                                                                                                                                                                                                                                                                                                                                                                                                                                                                                                                                                                                                                                                                                                                                                                                                                                                                                                                                                                                                                                                                                                                                                                                                                                                                                                                                                                                                                                                                                                                                                                                                                                                                                                                                                                                                                                                                                                                                                                                                                                                                                                                                                                                                                                                                                                                                                                                                                                                                                                                                                                                                                                                                                                                                                                                                                                                                                                                                                                                                                                                                                                                                                                                                                                                                                                                                                                                                                                                                                                                                                                                                                                                                   3\n",
       "[{'approved_at_utc': None, 'subreddit': 'torontoraptors', 'selftext': '', 'author_fullname': 't2_8iw1sjhy', 'saved': False, 'mod_reason_title': None, 'gilded': 0, 'clicked': False, 'title': '[Josh Lewenberg] Lowry has taken more charges than the Jazz, Knicks, Grizzlies, Thunder, Bucks, 76ers, Nets, Spurs, Clippers, Pacers, Blazers, Suns, Wolves, Nuggets or Hawks.', 'link_flair_richtext': [], 'subreddit_name_prefixed': 'r/torontoraptors', 'hidden': False, 'pwls': 6, 'link_flair_css_class': None, 'downs': 0, 'thumbnail_height': 140, 'top_awarded_type': None, 'hide_score': False, 'name': 't3_m4kwv0', 'quarantine': False, 'link_flair_text_color': 'dark', 'upvote_ratio': 0.99, 'author_flair_background_color': 'transparent', 'subreddit_type': 'public', 'ups': 1063, 'total_awards_received': 7, 'media_embed': {'content': '<blockquote class=\"twitter-video\"><p lang=\"en\" dir=\"ltr\">Lowry has taken more charges than the Jazz, Knicks, Grizzlies, Thunder, Bucks, 76ers, Nets, Spurs, Clippers, Pacers, Blazers, Suns, Wolves, Nuggets or Hawks.</p>&mdash; Josh Lewenberg (@JLew1050) <a href=\"https://twitter.com/JLew1050/status/1370912605209030657?ref_src=twsrc%5Etfw\">March 14, 2021</a></blockquote>\\n<script async src=\"https://platform.twitter.com/widgets.js\" charset=\"utf-8\"></script>\\n', 'width': 350, 'scrolling': False, 'height': 200}, 'thumbnail_width': 140, 'author_flair_template_id': '3f8f2b24-bcf0-11ec-9293-d6216cf7eae4', 'is_original_content': False, 'user_reports': [], 'secure_media': {'oembed': {'provider_url': 'https://twitter.com', 'url': 'https://twitter.com/JLew1050/status/1370912605209030657', 'html': '<blockquote class=\"twitter-video\"><p lang=\"en\" dir=\"ltr\">Lowry has taken more charges than the Jazz, Knicks, Grizzlies, Thunder, Bucks, 76ers, Nets, Spurs, Clippers, Pacers, Blazers, Suns, Wolves, Nuggets or Hawks.</p>&mdash; Josh Lewenberg (@JLew1050) <a href=\"https://twitter.com/JLew1050/status/1370912605209030657?ref_src=twsrc%5Etfw\">March 14, 2021</a></blockquote>\\n<script async src=\"https://platform.twitter.com/widgets.js\" charset=\"utf-8\"></script>\\n', 'author_name': 'Josh Lewenberg', 'height': None, 'width': 350, 'version': '1.0', 'author_url': 'https://twitter.com/JLew1050', 'provider_name': 'Twitter', 'cache_age': 3153600000, 'type': 'rich'}, 'type': 'twitter.com'}, 'is_reddit_media_domain': False, 'is_meta': False, 'category': None, 'secure_media_embed': {'content': '<blockquote class=\"twitter-video\"><p lang=\"en\" dir=\"ltr\">Lowry has taken more charges than the Jazz, Knicks, Grizzlies, Thunder, Bucks, 76ers, Nets, Spurs, Clippers, Pacers, Blazers, Suns, Wolves, Nuggets or Hawks.</p>&mdash; Josh Lewenberg (@JLew1050) <a href=\"https://twitter.com/JLew1050/status/1370912605209030657?ref_src=twsrc%5Etfw\">March 14, 2021</a></blockquote>\\n<script async src=\"https://platform.twitter.com/widgets.js\" charset=\"utf-8\"></script>\\n', 'width': 350, 'scrolling': False, 'media_domain_url': 'https://www.redditmedia.com/mediaembed/m4kwv0', 'height': 200}, 'link_flair_text': None, 'can_mod_post': False, 'score': 1063, 'approved_by': None, 'is_created_from_ads_ui': False, 'author_premium': False, 'thumbnail': 'https://b.thumbs.redditmedia.com/qJXdqAoGjJdN0BqFOyfXN7YgO3l2r7MImeIyhrWHsfM.jpg', 'edited': False, 'author_flair_css_class': None, 'author_flair_richtext': [{'a': ':raptors_uniform_2015-202:', 'e': 'emoji', 'u': 'https://emoji.redditmedia.com/05rxqslpjqt81_t5_2s5sb/raptors_uniform_2015-202'}, {'e': 'text', 't': ' 43 PASCAL SIAKAM'}], 'gildings': {}, 'post_hint': 'link', 'content_categories': None, 'is_self': False, 'mod_note': None, 'created': 1615686147.0, 'link_flair_type': 'text', 'wls': 6, 'removed_by_category': None, 'banned_by': None, 'author_flair_type': 'richtext', 'domain': 'twitter.com', 'allow_live_comments': False, 'selftext_html': None, 'likes': None, 'suggested_sort': 'confidence', 'banned_at_utc': None, 'url_overridden_by_dest': 'https://twitter.com/jlew1050/status/1370912605209030657?s=21', 'view_count': None, 'archived': True, 'no_follow': False, 'is_crosspostable': False, 'pinned': False, 'over_18': False, 'preview': {'images': [{'source': {'url': 'https://external-preview.redd.it/DDZbtmDg0jbf_qfxrEaPIYffnorBFSWsANyCQphTGcc.jpg?auto=webp&s=7c09f346310983e5228671dcd8003d9723f80d59', 'width': 140, 'height': 140}, 'resolutions': [{'url': 'https://external-preview.redd.it/DDZbtmDg0jbf_qfxrEaPIYffnorBFSWsANyCQphTGcc.jpg?width=108&crop=smart&auto=webp&s=dbe1a63d307ffa63ea802ab08559849b0ae26f41', 'width': 108, 'height': 108}], 'variants': {}, 'id': '3ho0zzYQcwVq2fAI2nxJLaTXNy8gXrVY3y-WzjVo5b0'}], 'enabled': False}, 'all_awardings': [{'giver_coin_reward': None, 'subreddit_id': None, 'is_new': False, 'days_of_drip_extension': None, 'coin_price': 150, 'id': 'award_f44611f1-b89e-46dc-97fe-892280b13b82', 'penny_donate': None, 'award_sub_type': 'GLOBAL', 'coin_reward': 0, 'icon_url': 'https://i.redd.it/award_images/t5_22cerq/klvxk1wggfd41_Helpful.png', 'days_of_premium': None, 'tiers_by_required_awardings': None, 'resized_icons': [{'url': 'https://preview.redd.it/award_images/t5_22cerq/klvxk1wggfd41_Helpful.png?width=16&height=16&auto=webp&s=a5662dfbdb402bf67866c050aa76c31c147c2f45', 'width': 16, 'height': 16}, {'url': 'https://preview.redd.it/award_images/t5_22cerq/klvxk1wggfd41_Helpful.png?width=32&height=32&auto=webp&s=a6882eb3f380e8e88009789f4d0072e17b8c59f1', 'width': 32, 'height': 32}, {'url': 'https://preview.redd.it/award_images/t5_22cerq/klvxk1wggfd41_Helpful.png?width=48&height=48&auto=webp&s=e50064b090879e8a0b55e433f6ee61d5cb5fbe1d', 'width': 48, 'height': 48}, {'url': 'https://preview.redd.it/award_images/t5_22cerq/klvxk1wggfd41_Helpful.png?width=64&height=64&auto=webp&s=8e5bb2e76683cb6b161830bcdd9642049d6adc11', 'width': 64, 'height': 64}, {'url': 'https://preview.redd.it/award_images/t5_22cerq/klvxk1wggfd41_Helpful.png?width=128&height=128&auto=webp&s=eda4a9246f95f42ee6940cc0ec65306fd20de878', 'width': 128, 'height': 128}], 'icon_width': 2048, 'static_icon_width': 2048, 'start_date': None, 'is_enabled': True, 'awardings_required_to_grant_benefits': None, 'description': 'Thank you stranger. Shows the award.', 'end_date': None, 'sticky_duration_seconds': None, 'subreddit_coin_reward': 0, 'count': 2, 'static_icon_height': 2048, 'name': 'Helpful', 'resized_static_icons': [{'url': 'https://preview.redd.it/award_images/t5_22cerq/klvxk1wggfd41_Helpful.png?width=16&height=16&auto=webp&s=a5662dfbdb402bf67866c050aa76c31c147c2f45', 'width': 16, 'height': 16}, {'url': 'https://preview.redd.it/award_images/t5_22cerq/klvxk1wggfd41_Helpful.png?width=32&height=32&auto=webp&s=a6882eb3f380e8e88009789f4d0072e17b8c59f1', 'width': 32, 'height': 32}, {'url': 'https://preview.redd.it/award_images/t5_22cerq/klvxk1wggfd41_Helpful.png?width=48&height=48&auto=webp&s=e50064b090879e8a0b55e433f6ee61d5cb5fbe1d', 'width': 48, 'height': 48}, {'url': 'https://preview.redd.it/award_images/t5_22cerq/klvxk1wggfd41_Helpful.png?width=64&height=64&auto=webp&s=8e5bb2e76683cb6b161830bcdd9642049d6adc11', 'width': 64, 'height': 64}, {'url': 'https://preview.redd.it/award_images/t5_22cerq/klvxk1wggfd41_Helpful.png?width=128&height=128&auto=webp&s=eda4a9246f95f42ee6940cc0ec65306fd20de878', 'width': 128, 'height': 128}], 'icon_format': None, 'icon_height': 2048, 'penny_price': None, 'award_type': 'global', 'static_icon_url': 'https://i.redd.it/award_images/t5_22cerq/klvxk1wggfd41_Helpful.png'}, {'giver_coin_reward': None, 'subreddit_id': None, 'is_new': False, 'days_of_drip_extension': None, 'coin_price': 125, 'id': 'award_5f123e3d-4f48-42f4-9c11-e98b566d5897', 'penny_donate': None, 'award_sub_type': 'GLOBAL', 'coin_reward': 0, 'icon_url': 'https://i.redd.it/award_images/t5_22cerq/5izbv4fn0md41_Wholesome.png', 'days_of_premium': None, 'tiers_by_required_awardings': None, 'resized_icons': [{'url': 'https://preview.redd.it/award_images/t5_22cerq/5izbv4fn0md41_Wholesome.png?width=16&height=16&auto=webp&s=92932f465d58e4c16b12b6eac4ca07d27e3d11c0', 'width': 16, 'height': 16}, {'url': 'https://preview.redd.it/award_images/t5_22cerq/5izbv4fn0md41_Wholesome.png?width=32&height=32&auto=webp&s=d11484a208d68a318bf9d4fcf371171a1cb6a7ef', 'width': 32, 'height': 32}, {'url': 'https://preview.redd.it/award_images/t5_22cerq/5izbv4fn0md41_Wholesome.png?width=48&height=48&auto=webp&s=febdf28b6f39f7da7eb1365325b85e0bb49a9f63', 'width': 48, 'height': 48}, {'url': 'https://preview.redd.it/award_images/t5_22cerq/5izbv4fn0md41_Wholesome.png?width=64&height=64&auto=webp&s=b4406a2d88bf86fa3dc8a45aacf7e0c7bdccc4fb', 'width': 64, 'height': 64}, {'url': 'https://preview.redd.it/award_images/t5_22cerq/5izbv4fn0md41_Wholesome.png?width=128&height=128&auto=webp&s=19555b13e3e196b62eeb9160d1ac1d1b372dcb0b', 'width': 128, 'height': 128}], 'icon_width': 2048, 'static_icon_width': 2048, 'start_date': None, 'is_enabled': True, 'awardings_required_to_grant_benefits': None, 'description': 'When you come across a feel-good thing.', 'end_date': None, 'sticky_duration_seconds': None, 'subreddit_coin_reward': 0, 'count': 1, 'static_icon_height': 2048, 'name': 'Wholesome', 'resized_static_icons': [{'url': 'https://preview.redd.it/award_images/t5_22cerq/5izbv4fn0md41_Wholesome.png?width=16&height=16&auto=webp&s=92932f465d58e4c16b12b6eac4ca07d27e3d11c0', 'width': 16, 'height': 16}, {'url': 'https://preview.redd.it/award_images/t5_22cerq/5izbv4fn0md41_Wholesome.png?width=32&height=32&auto=webp&s=d11484a208d68a318bf9d4fcf371171a1cb6a7ef', 'width': 32, 'height': 32}, {'url': 'https://preview.redd.it/award_images/t5_22cerq/5izbv4fn0md41_Wholesome.png?width=48&height=48&auto=webp&s=febdf28b6f39f7da7eb1365325b85e0bb49a9f63', 'width': 48, 'height': 48}, {'url': 'https://preview.redd.it/award_images/t5_22cerq/5izbv4fn0md41_Wholesome.png?width=64&height=64&auto=webp&s=b4406a2d88bf86fa3dc8a45aacf7e0c7bdccc4fb', 'width': 64, 'height': 64}, {'url': 'https://preview.redd.it/award_images/t5_22cerq/5izbv4fn0md41_Wholesome.png?width=128&height=128&auto=webp&s=19555b13e3e196b62eeb9160d1ac1d1b372dcb0b', 'width': 128, 'height': 128}], 'icon_format': None, 'icon_height': 2048, 'penny_price': None, 'award_type': 'global', 'static_icon_url': 'https://i.redd.it/award_images/t5_22cerq/5izbv4fn0md41_Wholesome.png'}, {'giver_coin_reward': None, 'subreddit_id': None, 'is_new': False, 'days_of_drip_extension': None, 'coin_price': 80, 'id': 'award_8352bdff-3e03-4189-8a08-82501dd8f835', 'penny_donate': None, 'award_sub_type': 'GLOBAL', 'coin_reward': 0, 'icon_url': 'https://i.redd.it/award_images/t5_q0gj4/ks45ij6w05f61_oldHugz.png', 'days_of_premium': None, 'tiers_by_required_awardings': None, 'resized_icons': [{'url': 'https://preview.redd.it/award_images/t5_q0gj4/ks45ij6w05f61_oldHugz.png?width=16&height=16&auto=webp&s=73a23bf7f08b633508dedf457f2704c522b94a04', 'width': 16, 'height': 16}, {'url': 'https://preview.redd.it/award_images/t5_q0gj4/ks45ij6w05f61_oldHugz.png?width=32&height=32&auto=webp&s=50f2f16e71d2929e3d7275060af3ad6b851dbfb1', 'width': 32, 'height': 32}, {'url': 'https://preview.redd.it/award_images/t5_q0gj4/ks45ij6w05f61_oldHugz.png?width=48&height=48&auto=webp&s=ca487311563425e195699a4d7e4c57a98cbfde8b', 'width': 48, 'height': 48}, {'url': 'https://preview.redd.it/award_images/t5_q0gj4/ks45ij6w05f61_oldHugz.png?width=64&height=64&auto=webp&s=7b4eedcffb1c09a826e7837532c52979760f1d2b', 'width': 64, 'height': 64}, {'url': 'https://preview.redd.it/award_images/t5_q0gj4/ks45ij6w05f61_oldHugz.png?width=128&height=128&auto=webp&s=e4d5ab237eb71a9f02bb3bf9ad5ee43741918d6c', 'width': 128, 'height': 128}], 'icon_width': 2048, 'static_icon_width': 2048, 'start_date': None, 'is_enabled': True, 'awardings_required_to_grant_benefits': None, 'description': 'Everything is better with a good hug', 'end_date': None, 'sticky_duration_seconds': None, 'subreddit_coin_reward': 0, 'count': 4, 'static_icon_height': 2048, 'name': 'Hugz', 'resized_static_icons': [{'url': 'https://preview.redd.it/award_images/t5_q0gj4/fpm0r5ryq1361_PolarHugs.png?width=16&height=16&auto=webp&s=69997ace3ef4ffc099b81d774c2c8f1530602875', 'width': 16, 'height': 16}, {'url': 'https://preview.redd.it/award_images/t5_q0gj4/fpm0r5ryq1361_PolarHugs.png?width=32&height=32&auto=webp&s=e9519d1999ef9dce5c8a9f59369cb92f52d95319', 'width': 32, 'height': 32}, {'url': 'https://preview.redd.it/award_images/t5_q0gj4/fpm0r5ryq1361_PolarHugs.png?width=48&height=48&auto=webp&s=f076c6434fb2d2f9075991810fd845c40fa73fc6', 'width': 48, 'height': 48}, {'url': 'https://preview.redd.it/award_images/t5_q0gj4/fpm0r5ryq1361_PolarHugs.png?width=64&height=64&auto=webp&s=85527145e0c4b754306a30df29e584fd16187636', 'width': 64, 'height': 64}, {'url': 'https://preview.redd.it/award_images/t5_q0gj4/fpm0r5ryq1361_PolarHugs.png?width=128&height=128&auto=webp&s=b8843cdf82c3b741d7af057c14076dcd2621e811', 'width': 128, 'height': 128}], 'icon_format': 'PNG', 'icon_height': 2048, 'penny_price': 0, 'award_type': 'global', 'static_icon_url': 'https://i.redd.it/award_images/t5_q0gj4/fpm0r5ryq1361_PolarHugs.png'}], 'awarders': [], 'media_only': False, 'can_gild': False, 'spoiler': False, 'locked': False, 'author_flair_text': ':raptors_uniform_2015-202: 43 PASCAL SIAKAM', 'treatment_tags': [], 'visited': False, 'removed_by': None, 'num_reports': None, 'distinguished': None, 'subreddit_id': 't5_2s5sb', 'author_is_blocked': False, 'mod_reason_by': None, 'removal_reason': None, 'link_flair_background_color': '', 'id': 'm4kwv0', 'is_robot_indexable': True, 'report_reasons': None, 'author': 'bomankleinn01', 'discussion_type': None, 'num_comments': 16, 'send_replies': True, 'whitelist_status': 'all_ads', 'contest_mode': False, 'mod_reports': [], 'author_patreon_flair': False, 'author_flair_text_color': 'dark', 'permalink': '/r/torontoraptors/comments/m4kwv0/josh_lewenberg_lowry_has_taken_more_charges_than/', 'parent_whitelist_status': 'all_ads', 'stickied': False, 'url': 'https://twitter.com/jlew1050/status/1370912605209030657?s=21', 'subreddit_subscribers': 350779, 'created_utc': 1615686147.0, 'num_crossposts': 3, 'media': {'oembed': {'provider_url': 'https://twitter.com', 'url': 'https://twitter.com/JLew1050/status/1370912605209030657', 'html': '<blockquote class=\"twitter-video\"><p lang=\"en\" dir=\"ltr\">Lowry has taken more charges than the Jazz, Knicks, Grizzlies, Thunder, Bucks, 76ers, Nets, Spurs, Clippers, Pacers, Blazers, Suns, Wolves, Nuggets or Hawks.</p>&mdash; Josh Lewenberg (@JLew1050) <a href=\"https://twitter.com/JLew1050/status/1370912605209030657?ref_src=twsrc%5Etfw\">March 14, 2021</a></blockquote>\\n<script async src=\"https://platform.twitter.com/widgets.js\" charset=\"utf-8\"></script>\\n', 'author_name': 'Josh Lewenberg', 'height': None, 'width': 350, 'version': '1.0', 'author_url': 'https://twitter.com/JLew1050', 'provider_name': 'Twitter', 'cache_age': 3153600000, 'type': 'rich'}, 'type': 'twitter.com'}, 'is_video': False}]                                                                                                                                                                                                                                                                                                                                                                                                                                                                                                                                                                                                                                                                                                                                                                                                                                                                                                                                                                                                                                                                                                                                                                                                                                                                                                                                                                                                                                                                                                                                                                                                                                                                                                                                                                                                                                                                                                                                                                                                                                                                                                                                                                                                                                                                                                                                                                                                                                                                                                                                                                                                                                                                                                                                                                                                                                                                                                                                                                                                                                                                                                                                                                                                                                                                                                                                                                                                                                                                                                                                                                                                                                                                                                                                                                                                                                                                                                                                                                                                                                                                                                                                                                                                                                                                                                                                                                                                                                                                                                                                                                                                                                                                                                                             3\n",
       "[{'approved_at_utc': None, 'subreddit': 'torontoraptors', 'selftext': 'LaMelo looks promising but other than his passes he couldn\\'t get much to happen. It was nice to see him grabbing boards though.\\n\\nFlynn looked like he will be great at taking the playmaking load away from Lowry and he was hitting some good shots.\\n\\nObviously this is super early. LaMelo will likely get more raw numbers by the end of the season due to him having a bigger role, but I truly believe that Flynn will be a better player and was an absolute steal by the great Masiah\\n\\nEDIT: people keep coming back to this post and commenting \"lol\" and I can\\'t say I blame them lol. This was a dumbass take but I\\'m keeping it up for the memes', 'author_fullname': 't2_2x25xgrl', 'saved': False, 'mod_reason_title': None, 'gilded': 0, 'clicked': False, 'title': \"I know it's super early but I'm confident Flynn will be a better player than LaMelo\", 'link_flair_richtext': [], 'subreddit_name_prefixed': 'r/torontoraptors', 'hidden': False, 'pwls': 6, 'link_flair_css_class': None, 'downs': 0, 'thumbnail_height': None, 'top_awarded_type': None, 'hide_score': False, 'name': 't3_kc2e75', 'quarantine': False, 'link_flair_text_color': 'dark', 'upvote_ratio': 0.7, 'author_flair_background_color': None, 'subreddit_type': 'public', 'ups': 50, 'total_awards_received': 0, 'media_embed': {}, 'thumbnail_width': None, 'author_flair_template_id': None, 'is_original_content': False, 'user_reports': [], 'secure_media': None, 'is_reddit_media_domain': False, 'is_meta': False, 'category': None, 'secure_media_embed': {}, 'link_flair_text': None, 'can_mod_post': False, 'score': 50, 'approved_by': None, 'is_created_from_ads_ui': False, 'author_premium': False, 'thumbnail': 'self', 'edited': 1615740314.0, 'author_flair_css_class': None, 'author_flair_richtext': [], 'gildings': {}, 'content_categories': None, 'is_self': True, 'mod_note': None, 'created': 1607826501.0, 'link_flair_type': 'text', 'wls': 6, 'removed_by_category': None, 'banned_by': None, 'author_flair_type': 'text', 'domain': 'self.torontoraptors', 'allow_live_comments': True, 'selftext_html': '<!-- SC_OFF --><div class=\"md\"><p>LaMelo looks promising but other than his passes he couldn&#39;t get much to happen. It was nice to see him grabbing boards though.</p>\\n\\n<p>Flynn looked like he will be great at taking the playmaking load away from Lowry and he was hitting some good shots.</p>\\n\\n<p>Obviously this is super early. LaMelo will likely get more raw numbers by the end of the season due to him having a bigger role, but I truly believe that Flynn will be a better player and was an absolute steal by the great Masiah</p>\\n\\n<p>EDIT: people keep coming back to this post and commenting &quot;lol&quot; and I can&#39;t say I blame them lol. This was a dumbass take but I&#39;m keeping it up for the memes</p>\\n</div><!-- SC_ON -->', 'likes': None, 'suggested_sort': 'confidence', 'banned_at_utc': None, 'view_count': None, 'archived': True, 'no_follow': False, 'is_crosspostable': False, 'pinned': False, 'over_18': False, 'all_awardings': [], 'awarders': [], 'media_only': False, 'can_gild': False, 'spoiler': False, 'locked': False, 'author_flair_text': None, 'treatment_tags': [], 'visited': False, 'removed_by': None, 'num_reports': None, 'distinguished': None, 'subreddit_id': 't5_2s5sb', 'author_is_blocked': False, 'mod_reason_by': None, 'removal_reason': None, 'link_flair_background_color': '', 'id': 'kc2e75', 'is_robot_indexable': True, 'report_reasons': None, 'author': 'Dragon317Slayer', 'discussion_type': None, 'num_comments': 56, 'send_replies': True, 'whitelist_status': 'all_ads', 'contest_mode': False, 'mod_reports': [], 'author_patreon_flair': False, 'author_flair_text_color': None, 'permalink': '/r/torontoraptors/comments/kc2e75/i_know_its_super_early_but_im_confident_flynn/', 'parent_whitelist_status': 'all_ads', 'stickied': False, 'url': 'https://www.reddit.com/r/torontoraptors/comments/kc2e75/i_know_its_super_early_but_im_confident_flynn/', 'subreddit_subscribers': 350779, 'created_utc': 1607826501.0, 'num_crossposts': 4, 'media': None, 'is_video': False}]                                                                                                                                                                                                                                                                                                                                                                                                                                                                                                                                                                                                                                                                                                                                                                                                                                                                                                                                                                                                                                                                                                                                                                                                                                                                                                                                                                                                                                                                                                                                                                                                                                                                                                                                                                                                                                                                                                                                                                                                                                                                                                                                                                                                                                                                                                                                                                                                                                                                                                                                                                                                                                                                                                                                                                                                                                                                                                                                                                                                                                                                                                                                                                                                                                                                                                                                                                                                                                                                                                                                                                                                                                                                                                                                                                                                                                                                                                                                                                                                                                                                                                                                                                                                                                                                                                                                                                                                                                                                                                                                                                                                                                                                                                                                                                                                                                                                                                                                                                                                                                                                                                                                                                                                                                                                                                                                                                                                                                                                                                                                                                                                                                                                                                                                                                                                                                                                                                                                                                                                                                                                                                                                                                                                                                                                                                                                                                                                                                                                                                                                                                                                                                                                                                                                                                                                                                                                                                                                                                                                                                                                                                                                                                                                                                                                                                                                                                                                                                                                                                                                                                                                                                                                                                                                                                                                                                                                                                                                                                                                                                                                                                                                                                                                                                                                                                                                                                                                                                                                                                                                                                                                                                                                                                                                                                                                                                                                                                                                                                                                                                                                                                                                                                                                                                                                                                                                                                                                                                                                                                                                                                                                                                                                                                                                                                                                                                                                                                                                                                                                                                                                                                                                                                                                                                                                                                                                                                                                                                                                                                                                                                                                                                                                                                                                                                                                                                                                                                                                                                                                                                                                                                                                                                                                                                                                                                                                                                                                                                                                                                                                                                                                                                                                                                                                                                                                                                                                                                                                                                                                                                                                                                                                                                                                                                                                                                                                                                                                                                                                                                                                                                                                                                                                                                                                                                                                                                                                                                                                                                                                                                                                                                                                                                                                                                                                                                                                                                                                                                                                                                                                                                                                                                                                                                                                                                                                                                                                                                                                                                                                                                                                                                                                                                                                                                                                                                                                                                                                                                                                                                                                                                                                                                                                                                                                                                                                                                                                                                                                                                                                                                                                                                                                                                                                                                                                                                                                                                                                                                                                                                                                                                                                                                                                                                                                                                                                                                                                2\n",
       "[{'approved_at_utc': None, 'subreddit': 'dataisbeautiful', 'selftext': '', 'author_fullname': 't2_9td17', 'saved': False, 'mod_reason_title': None, 'gilded': 0, 'clicked': False, 'title': '[OC] The Evolution of NBA', 'link_flair_richtext': [], 'subreddit_name_prefixed': 'r/dataisbeautiful', 'hidden': False, 'pwls': 6, 'link_flair_css_class': 'oc', 'downs': 0, 'thumbnail_height': 140, 'top_awarded_type': None, 'hide_score': False, 'name': 't3_fvxuzf', 'quarantine': False, 'link_flair_text_color': 'dark', 'upvote_ratio': 0.97, 'author_flair_background_color': None, 'subreddit_type': 'public', 'ups': 4038, 'total_awards_received': 0, 'media_embed': {}, 'thumbnail_width': 140, 'author_flair_template_id': '1c7d62a6-099d-11e7-9b3c-0ee50bfd7a4c', 'is_original_content': False, 'user_reports': [], 'secure_media': None, 'is_reddit_media_domain': True, 'is_meta': False, 'category': None, 'secure_media_embed': {}, 'link_flair_text': 'OC', 'can_mod_post': False, 'score': 4038, 'approved_by': None, 'is_created_from_ads_ui': False, 'author_premium': False, 'thumbnail': 'https://b.thumbs.redditmedia.com/vy_gCtsoKKuxE8vKxZEKdDXfhYtZXpbesIe7qcClYoE.jpg', 'edited': False, 'author_flair_css_class': 'ocmaker', 'author_flair_richtext': [], 'gildings': {}, 'post_hint': 'image', 'content_categories': None, 'is_self': False, 'mod_note': None, 'created': 1586176100.0, 'link_flair_type': 'text', 'wls': 6, 'removed_by_category': None, 'banned_by': None, 'author_flair_type': 'text', 'domain': 'i.redd.it', 'allow_live_comments': True, 'selftext_html': None, 'likes': None, 'suggested_sort': None, 'banned_at_utc': None, 'url_overridden_by_dest': 'https://i.redd.it/ix9scdf7x6r41.gif', 'view_count': None, 'archived': True, 'no_follow': False, 'is_crosspostable': False, 'pinned': False, 'over_18': False, 'preview': {'images': [{'source': {'url': 'https://preview.redd.it/ix9scdf7x6r41.gif?format=png8&s=658ac891e76b9d712f1209a5f22553a26dab0c7d', 'width': 864, 'height': 864}, 'resolutions': [{'url': 'https://preview.redd.it/ix9scdf7x6r41.gif?width=108&crop=smart&format=png8&s=551f5d3523106ac0b74500fa03d5cbe8e66316d6', 'width': 108, 'height': 108}, {'url': 'https://preview.redd.it/ix9scdf7x6r41.gif?width=216&crop=smart&format=png8&s=f8e64f7a40674310e6224474e9479208a0d0429d', 'width': 216, 'height': 216}, {'url': 'https://preview.redd.it/ix9scdf7x6r41.gif?width=320&crop=smart&format=png8&s=db1c0fb4c026ee467b28f323d52b5898724a8792', 'width': 320, 'height': 320}, {'url': 'https://preview.redd.it/ix9scdf7x6r41.gif?width=640&crop=smart&format=png8&s=bf02e32acd496a0788b03d9e0785e9142da89a06', 'width': 640, 'height': 640}], 'variants': {'gif': {'source': {'url': 'https://preview.redd.it/ix9scdf7x6r41.gif?s=7235af158e01629d554bb64ce94798807f4ecb5c', 'width': 864, 'height': 864}, 'resolutions': [{'url': 'https://preview.redd.it/ix9scdf7x6r41.gif?width=108&crop=smart&s=8e4d254a440a75d47d1a442b528959896e1f7bbe', 'width': 108, 'height': 108}, {'url': 'https://preview.redd.it/ix9scdf7x6r41.gif?width=216&crop=smart&s=1c609834c52235fe643da2d0239c08a6d4adc70f', 'width': 216, 'height': 216}, {'url': 'https://preview.redd.it/ix9scdf7x6r41.gif?width=320&crop=smart&s=88cad732c59ccc815daf0f0fc0006b83899353ad', 'width': 320, 'height': 320}, {'url': 'https://preview.redd.it/ix9scdf7x6r41.gif?width=640&crop=smart&s=4905aa64ad8a36286faca7ceaa0c167db11604c4', 'width': 640, 'height': 640}]}, 'mp4': {'source': {'url': 'https://preview.redd.it/ix9scdf7x6r41.gif?format=mp4&s=01fa2f64c24a457eab5e52b2a515a9ec3227978a', 'width': 864, 'height': 864}, 'resolutions': [{'url': 'https://preview.redd.it/ix9scdf7x6r41.gif?width=108&format=mp4&s=86f4fbdd0a3e3c1b31c461fce14ceff8663a6950', 'width': 108, 'height': 108}, {'url': 'https://preview.redd.it/ix9scdf7x6r41.gif?width=216&format=mp4&s=13c78519f87ad5480fb1f7311ae16e2312bcd699', 'width': 216, 'height': 216}, {'url': 'https://preview.redd.it/ix9scdf7x6r41.gif?width=320&format=mp4&s=51f59ac2c9c717f9cf63c2b832a7e4c4c857ecb9', 'width': 320, 'height': 320}, {'url': 'https://preview.redd.it/ix9scdf7x6r41.gif?width=640&format=mp4&s=e6856a0fe99b2a978e41abee62d309b578798ada', 'width': 640, 'height': 640}]}}, 'id': '172DsWj4I6mBMRMSxUn7VTawYuPDfHUBC_U5QhiG17M'}], 'enabled': True}, 'all_awardings': [], 'awarders': [], 'media_only': False, 'can_gild': False, 'spoiler': False, 'locked': False, 'author_flair_text': 'OC: 4', 'treatment_tags': [], 'visited': False, 'removed_by': None, 'num_reports': None, 'distinguished': None, 'subreddit_id': 't5_2tk95', 'author_is_blocked': False, 'mod_reason_by': None, 'removal_reason': None, 'link_flair_background_color': '', 'id': 'fvxuzf', 'is_robot_indexable': True, 'report_reasons': None, 'author': 'LoLz14', 'discussion_type': None, 'num_comments': 165, 'send_replies': True, 'whitelist_status': 'all_ads', 'contest_mode': False, 'mod_reports': [], 'author_patreon_flair': False, 'author_flair_text_color': 'dark', 'permalink': '/r/dataisbeautiful/comments/fvxuzf/oc_the_evolution_of_nba/', 'parent_whitelist_status': 'all_ads', 'stickied': False, 'url': 'https://i.redd.it/ix9scdf7x6r41.gif', 'subreddit_subscribers': 18534441, 'created_utc': 1586176100.0, 'num_crossposts': 8, 'media': None, 'is_video': False}]                                                                                                                                                                                                                                                                                                                                                                                                                                                                                                                                                                                                                                                                                                                                                                                                                                                                                                                                                                                                                                                                                                                                                                                                                                                                                                                                                                                                                                                                                                                                                                                                                                                                                                                                                                                                                                                                                                                                                                                                                                                                                                                                                                                                                                                                                                                                                                                                                                                                                                                                                                                                                                                                                                                                                                                                                                                                                                                                                                                                                                                                                                                                                                                                                                                                                                                                                                                                                                                                                                                                                                                                                                                                                                                                                                                                                                                                                                                                                                                                                                                                                                                                                                                                                                                                                                                                                                                                                                                                                                                                                                                                                                                                                                                                                                                                                                                                                                                                                                                                                                                                                                                                                                                                                                                                                                                                                                                                                                                                                                                                                                                                                                                                                                                                                                                                                                                                                                                                                                                                                                                                                                                                                                                                                                                                                                                                                                                                                                                                                                                                                                                                                                                                                                                                                                                                                                                                                                                                                                                                                                                                                                                                                                                                                                                                                                                                                                                                                                                                                                                                                                                                                                                                                                                                                                                                                                                                                                                                                                                                                                                                                                                                                                                                                                                                                                                                                                                                                                                                                                                                                                                                                                                                                                                                                                                                                                                                                                                                                                                                                                                                                                                                                                                                                                                                                                                                                                                                                                                                                                                                                                                                                                                                                                                                                                                                                                                                                                                                                                                                                                                                                                                                                                                                                                                                                                                                                                                                                                                                                                                                                                                                                                                                                                                                                                                                                                                                                                                                                                                                                                                                                                                                                                                                                                                                                                                                                                                                                                                                                                                                                                                                                                                                                                                                                                                                                                                                                                                                                                                                                                                                                                                                                                                                                                                                                                                                                                                                                                                                                                                                                                                                                                                                                                                                                                                                                                                                                                                                                                                                                                                                                                                                                                                                                                                                                                                                                                                                                                                                                                                                                                                                                                                                                                                                                                                                                                                                                                                                                                                                                                                                                                                                                                                                                                                                                                                                                                                                                                                                                                                                                                                                                                                                                                                                                   2\n",
       "[{'approved_at_utc': None, 'subreddit': 'rockets', 'selftext': '', 'user_reports': [], 'saved': False, 'mod_reason_title': None, 'gilded': 0, 'clicked': False, 'title': 'Giannis with the cheap shot #RentFree', 'link_flair_richtext': [], 'subreddit_name_prefixed': 'r/rockets', 'hidden': False, 'pwls': 6, 'link_flair_css_class': None, 'downs': 0, 'thumbnail_height': 98, 'top_awarded_type': None, 'hide_score': False, 'name': 't3_f5izmx', 'quarantine': False, 'link_flair_text_color': 'dark', 'upvote_ratio': 0.87, 'author_flair_background_color': '', 'subreddit_type': 'public', 'ups': 58, 'total_awards_received': 0, 'media_embed': {'content': '<iframe class=\"embedly-embed\" src=\"https://cdn.embedly.com/widgets/media.html?src=https%3A%2F%2Fstreamable.com%2Fo%2Fvxv6s&display_name=Streamable&url=https%3A%2F%2Fstreamable.com%2Fvxv6s&image=https%3A%2F%2Fcdn-cf-east.streamable.com%2Fimage%2Fvxv6s.jpg%3FExpires%3D1648783680%26Signature%3DFPr3Wzm-FVZCiy6kSMVrZbEiwF3KgMsrTm36lNr2N-cUnG7C8oR4y%7EPyiwxdq9S4qSywJ1DI-T4-t24Byjy6m%7EWIZg7SKdaztd9eT02jJTHL3Av-z5kYTZD1shMz-5NtNeJfLsBMW5eDIrqH7vqRhJ-ZZ9a0Uo7e4JPnnINGLaVpC2shyvwdaixShGvr3fdF5leMEoRrUB98%7Ev4jVOTZ1zKtNNhdCQAWlHLJGNnPIoMi8lugpdK6AhW1Vx-yt4DUeWJkuH5Njs1EI5KEjwZWGCtRq3Mz%7EvXPIk2KpSqjxcaWxcXwVG4zpXxXhGrF4MR8tpHIItSQxE6yktYgeHLLsw__%26Key-Pair-Id%3DAPKAIEYUVEN4EVB2OKEQ&key=2aa3c4d5f3de4f5b9120b660ad850dc9&type=text%2Fhtml&schema=streamable\" width=\"598\" height=\"420\" scrolling=\"no\" title=\"Streamable embed\" frameborder=\"0\" allow=\"autoplay; fullscreen\" allowfullscreen=\"true\"></iframe>', 'width': 598, 'scrolling': False, 'height': 420}, 'thumbnail_width': 140, 'author_flair_template_id': None, 'is_original_content': False, 'secure_media': {'type': 'streamable.com', 'oembed': {'provider_url': 'https://streamable.com', 'description': 'Watch this video on Streamable.', 'title': 'Streamable Video', 'type': 'video', 'thumbnail_width': 599, 'height': 420, 'width': 598, 'html': '<iframe class=\"embedly-embed\" src=\"https://cdn.embedly.com/widgets/media.html?src=https%3A%2F%2Fstreamable.com%2Fo%2Fvxv6s&display_name=Streamable&url=https%3A%2F%2Fstreamable.com%2Fvxv6s&image=https%3A%2F%2Fcdn-cf-east.streamable.com%2Fimage%2Fvxv6s.jpg%3FExpires%3D1648783680%26Signature%3DFPr3Wzm-FVZCiy6kSMVrZbEiwF3KgMsrTm36lNr2N-cUnG7C8oR4y%7EPyiwxdq9S4qSywJ1DI-T4-t24Byjy6m%7EWIZg7SKdaztd9eT02jJTHL3Av-z5kYTZD1shMz-5NtNeJfLsBMW5eDIrqH7vqRhJ-ZZ9a0Uo7e4JPnnINGLaVpC2shyvwdaixShGvr3fdF5leMEoRrUB98%7Ev4jVOTZ1zKtNNhdCQAWlHLJGNnPIoMi8lugpdK6AhW1Vx-yt4DUeWJkuH5Njs1EI5KEjwZWGCtRq3Mz%7EvXPIk2KpSqjxcaWxcXwVG4zpXxXhGrF4MR8tpHIItSQxE6yktYgeHLLsw__%26Key-Pair-Id%3DAPKAIEYUVEN4EVB2OKEQ&key=2aa3c4d5f3de4f5b9120b660ad850dc9&type=text%2Fhtml&schema=streamable\" width=\"598\" height=\"420\" scrolling=\"no\" title=\"Streamable embed\" frameborder=\"0\" allow=\"autoplay; fullscreen\" allowfullscreen=\"true\"></iframe>', 'version': '1.0', 'provider_name': 'Streamable', 'thumbnail_url': 'https://cdn-cf-east.streamable.com/image/vxv6s.jpg?Expires=1648783680&Signature=FPr3Wzm-FVZCiy6kSMVrZbEiwF3KgMsrTm36lNr2N-cUnG7C8oR4y~Pyiwxdq9S4qSywJ1DI-T4-t24Byjy6m~WIZg7SKdaztd9eT02jJTHL3Av-z5kYTZD1shMz-5NtNeJfLsBMW5eDIrqH7vqRhJ-ZZ9a0Uo7e4JPnnINGLaVpC2shyvwdaixShGvr3fdF5leMEoRrUB98~v4jVOTZ1zKtNNhdCQAWlHLJGNnPIoMi8lugpdK6AhW1Vx-yt4DUeWJkuH5Njs1EI5KEjwZWGCtRq3Mz~vXPIk2KpSqjxcaWxcXwVG4zpXxXhGrF4MR8tpHIItSQxE6yktYgeHLLsw__&Key-Pair-Id=APKAIEYUVEN4EVB2OKEQ', 'thumbnail_height': 421}}, 'is_reddit_media_domain': False, 'is_meta': False, 'category': None, 'secure_media_embed': {'content': '<iframe class=\"embedly-embed\" src=\"https://cdn.embedly.com/widgets/media.html?src=https%3A%2F%2Fstreamable.com%2Fo%2Fvxv6s&display_name=Streamable&url=https%3A%2F%2Fstreamable.com%2Fvxv6s&image=https%3A%2F%2Fcdn-cf-east.streamable.com%2Fimage%2Fvxv6s.jpg%3FExpires%3D1648783680%26Signature%3DFPr3Wzm-FVZCiy6kSMVrZbEiwF3KgMsrTm36lNr2N-cUnG7C8oR4y%7EPyiwxdq9S4qSywJ1DI-T4-t24Byjy6m%7EWIZg7SKdaztd9eT02jJTHL3Av-z5kYTZD1shMz-5NtNeJfLsBMW5eDIrqH7vqRhJ-ZZ9a0Uo7e4JPnnINGLaVpC2shyvwdaixShGvr3fdF5leMEoRrUB98%7Ev4jVOTZ1zKtNNhdCQAWlHLJGNnPIoMi8lugpdK6AhW1Vx-yt4DUeWJkuH5Njs1EI5KEjwZWGCtRq3Mz%7EvXPIk2KpSqjxcaWxcXwVG4zpXxXhGrF4MR8tpHIItSQxE6yktYgeHLLsw__%26Key-Pair-Id%3DAPKAIEYUVEN4EVB2OKEQ&key=2aa3c4d5f3de4f5b9120b660ad850dc9&type=text%2Fhtml&schema=streamable\" width=\"598\" height=\"420\" scrolling=\"no\" title=\"Streamable embed\" frameborder=\"0\" allow=\"autoplay; fullscreen\" allowfullscreen=\"true\"></iframe>', 'width': 598, 'scrolling': False, 'media_domain_url': 'https://www.redditmedia.com/mediaembed/f5izmx', 'height': 420}, 'link_flair_text': None, 'can_mod_post': False, 'score': 58, 'approved_by': None, 'is_created_from_ads_ui': False, 'thumbnail': 'https://a.thumbs.redditmedia.com/8cwgJtA4yhwy8n46l9tvKsS9FyJMXfvBmLxYYX5d4E8.jpg', 'edited': False, 'author_flair_css_class': None, 'gildings': {}, 'post_hint': 'rich:video', 'content_categories': None, 'is_self': False, 'mod_note': None, 'created': 1581986671.0, 'link_flair_type': 'text', 'wls': 6, 'removed_by_category': None, 'banned_by': None, 'domain': 'streamable.com', 'allow_live_comments': False, 'selftext_html': None, 'likes': None, 'suggested_sort': None, 'banned_at_utc': None, 'url_overridden_by_dest': 'https://streamable.com/vxv6s', 'view_count': None, 'archived': False, 'no_follow': False, 'is_crosspostable': False, 'pinned': False, 'over_18': False, 'preview': {'images': [{'source': {'url': 'https://external-preview.redd.it/3wSSHsilS6Ln1O6SqosBR9e3ENk5aby9x4IPwY2Xrk0.jpg?auto=webp&s=48f2a39bd2dd3aeb0745eecfbaec4fd76abff83e', 'width': 599, 'height': 421}, 'resolutions': [{'url': 'https://external-preview.redd.it/3wSSHsilS6Ln1O6SqosBR9e3ENk5aby9x4IPwY2Xrk0.jpg?width=108&crop=smart&auto=webp&s=e36b1a57085f27817635af0004efc8b08c0f5241', 'width': 108, 'height': 75}, {'url': 'https://external-preview.redd.it/3wSSHsilS6Ln1O6SqosBR9e3ENk5aby9x4IPwY2Xrk0.jpg?width=216&crop=smart&auto=webp&s=c8813294116f345cf0c049f25d0a98ebf2819611', 'width': 216, 'height': 151}, {'url': 'https://external-preview.redd.it/3wSSHsilS6Ln1O6SqosBR9e3ENk5aby9x4IPwY2Xrk0.jpg?width=320&crop=smart&auto=webp&s=d6843f94035d6f83d5674b8c8c63f1a3243439fc', 'width': 320, 'height': 224}], 'variants': {}, 'id': 'qXreA9GJ1YNVEGcSH09AuZs-9L0FQt6fi5xrqn4KFt4'}], 'enabled': False}, 'all_awardings': [], 'awarders': [], 'media_only': False, 'can_gild': False, 'spoiler': False, 'locked': False, 'author_flair_text': None, 'treatment_tags': [], 'visited': False, 'removed_by': None, 'num_reports': None, 'distinguished': None, 'subreddit_id': 't5_2rnac', 'author_is_blocked': False, 'mod_reason_by': None, 'removal_reason': None, 'link_flair_background_color': '', 'id': 'f5izmx', 'is_robot_indexable': True, 'report_reasons': None, 'author': '[deleted]', 'discussion_type': None, 'num_comments': 15, 'send_replies': True, 'whitelist_status': 'all_ads', 'contest_mode': False, 'mod_reports': [], 'author_flair_text_color': 'dark', 'permalink': '/r/rockets/comments/f5izmx/giannis_with_the_cheap_shot_rentfree/', 'parent_whitelist_status': 'all_ads', 'stickied': False, 'url': 'https://streamable.com/vxv6s', 'subreddit_subscribers': 176633, 'created_utc': 1581986671.0, 'num_crossposts': 2, 'media': {'type': 'streamable.com', 'oembed': {'provider_url': 'https://streamable.com', 'description': 'Watch this video on Streamable.', 'title': 'Streamable Video', 'type': 'video', 'thumbnail_width': 599, 'height': 420, 'width': 598, 'html': '<iframe class=\"embedly-embed\" src=\"https://cdn.embedly.com/widgets/media.html?src=https%3A%2F%2Fstreamable.com%2Fo%2Fvxv6s&display_name=Streamable&url=https%3A%2F%2Fstreamable.com%2Fvxv6s&image=https%3A%2F%2Fcdn-cf-east.streamable.com%2Fimage%2Fvxv6s.jpg%3FExpires%3D1648783680%26Signature%3DFPr3Wzm-FVZCiy6kSMVrZbEiwF3KgMsrTm36lNr2N-cUnG7C8oR4y%7EPyiwxdq9S4qSywJ1DI-T4-t24Byjy6m%7EWIZg7SKdaztd9eT02jJTHL3Av-z5kYTZD1shMz-5NtNeJfLsBMW5eDIrqH7vqRhJ-ZZ9a0Uo7e4JPnnINGLaVpC2shyvwdaixShGvr3fdF5leMEoRrUB98%7Ev4jVOTZ1zKtNNhdCQAWlHLJGNnPIoMi8lugpdK6AhW1Vx-yt4DUeWJkuH5Njs1EI5KEjwZWGCtRq3Mz%7EvXPIk2KpSqjxcaWxcXwVG4zpXxXhGrF4MR8tpHIItSQxE6yktYgeHLLsw__%26Key-Pair-Id%3DAPKAIEYUVEN4EVB2OKEQ&key=2aa3c4d5f3de4f5b9120b660ad850dc9&type=text%2Fhtml&schema=streamable\" width=\"598\" height=\"420\" scrolling=\"no\" title=\"Streamable embed\" frameborder=\"0\" allow=\"autoplay; fullscreen\" allowfullscreen=\"true\"></iframe>', 'version': '1.0', 'provider_name': 'Streamable', 'thumbnail_url': 'https://cdn-cf-east.streamable.com/image/vxv6s.jpg?Expires=1648783680&Signature=FPr3Wzm-FVZCiy6kSMVrZbEiwF3KgMsrTm36lNr2N-cUnG7C8oR4y~Pyiwxdq9S4qSywJ1DI-T4-t24Byjy6m~WIZg7SKdaztd9eT02jJTHL3Av-z5kYTZD1shMz-5NtNeJfLsBMW5eDIrqH7vqRhJ-ZZ9a0Uo7e4JPnnINGLaVpC2shyvwdaixShGvr3fdF5leMEoRrUB98~v4jVOTZ1zKtNNhdCQAWlHLJGNnPIoMi8lugpdK6AhW1Vx-yt4DUeWJkuH5Njs1EI5KEjwZWGCtRq3Mz~vXPIk2KpSqjxcaWxcXwVG4zpXxXhGrF4MR8tpHIItSQxE6yktYgeHLLsw__&Key-Pair-Id=APKAIEYUVEN4EVB2OKEQ', 'thumbnail_height': 421}}, 'is_video': False}]                                                                                                                                                                                                                                                                                                                                                                                                                                                                                                                                                                                                                                                                                                                                                                                                                                                                                                                                                                                                                                                                                                                                                                                                                                                                                                                                                                                                                                                                                                                                                                                                                                                                                                                                                                                                                                                                                                                                                                                                                                                                                                                                                                                                                                                                                                                                                                                                                                                                                                                                                                                                                                                                                                                                                                                                                                                                                                                                                                                                                                                                                                                                                                                                                                                                                                                                                                                                                                                                                                                                                                                                                                                                                                                                                                                                                                                                                                                                                                                                                                                                                                                                                                                                                                                                                                                                                                                                                                                                                                                                                                                                                                                                                                                                                                                                                                                                                                                                                                                                                                                                                                                                                                                                                                                                                                                                                                                                                                                                                                                                                                                                                                                                                                                                                                                                                                                                                                                                                                                                                                                                                                                                                                                                                                                                                                                                                                                                                                                                                                                                                                                                                                                                                                                                                                                                                                                                                                                                                                                                                                                                                                                                                                                                                                                                                                                                                                                                                                                                                                                                                                                                                                                                                                                                                                                                                                                                                                                                                                                                                                                                                                                                                                                                                                                                                                                                                                                                                                                                                                                                                                                                                                                                                                                                                                                                                                                                                                                                                                                                                                                                                                                                                                                                                                                                                                                                                                                                                                                                                                                                                                                                                                                                                                                                                                                                                                                                                                                                                                                                                                                                                                                                                                                                                                                                                                                                                                                                                                                                                                                                                                                                                                                                                                                                                                                                                                                                                                                                                      2\n",
       "                                                                                                                                                                                                                                                                                                                                                                                                                                                                                                                                                                                                                                                                                                                                                                                                                                                                                                                                                                                                                                                                                                                                                                                                                                                                                                                                                                                                                                                                                                                                                                                                                                                                                                                                                                                                                                                                                                                                                                                                                                                                                                                                                                                                                                                                                                                                                                                                                                                                                                                                                                                                                                                                                                                                                                                                                                                                                                                                                                                                                                                                                                                                                                                                                                                                                                                                                                                                                                                                                                                                                                                                                                                                                                                                                                                                                                                                                                                                                                                                                                                                                                                                                                                                                                                                                                                                                                                                                                                                                                                                                                                                                                                                                                                                                                                                                                                                                                                                                                                                                                                                                                                                                                                                                                                                                                                                                                                                                                                                                                                                                                                                                                                                                                                                                                                                                                                                                                                                                                                                                                                                                                                                                                                                                                                                                                                                                                                                                                                                                                                                                                                                                                                                                                                                                                                                                                                                                                                                                                                                                                                                                                                                                                                                                                                                                                                                                                                                                                                                                                                                                                                                                                                                                                                                                                                                                                                                                                                                                                                                                                                                                                                                                                                                                                                                                                                                                                                                                                                                                                                                                                                                                                                                                                                                                                                                                                                                                                                                                                                                                                                                                                                                                                                                                                                                                                                                                                                                                                                                                                                                                                                                                                                                                                                                                                                                                                                                                                                                                                                                                                                                                                                                                                                                                                                                                                                                                                                                                                                                                                                                                                                                                                                                                                                                                                                                                                                                                                                                                                                                                                                                                                                                                                                                                                                                                                                                                                                                                                                                                                                                                                                                                                                                                                                                                                                                                                                                                                                                                                                                                                                                                                                                                                                                                                                                                                                                                                                                                                                                                                                                                                                                                                                                                                                                                                                                                                                                                                                                                                                                                                                                                                                                                                                                                                                                                                                                                                                                                                                                                                                                                                                                                                                                                                                                                                                                                                                                                                                                                                                                                                                                                                                                                                                                                                                                                                                                                                                                                                                                                                                                                                                                                                                                                                                                                                                                                                                                                                                                                                                                                                                                                                                                                                                                                                                                                                                                                                                                                                                                                                                                                                                                                                                                                                                                                                                                                                                                                                                                                                                                                                                                                                                                                                                                                                                                                                                                                                                                                                                                                                                                                                                                                                                                                                                                                                                                                                                                                                                                                                                                                                                                                                                                                                                                                                                                                                                                                                                                                                                                                                                                                                                                                                                                                                                                                                                                                                                                                                                                                                                                                                                                                                                                                                                                                                                                                                                                                                                                                                                                                                                                                                                                                                                                                                                                                                                                                                                                                                                                                                                                                                                                                                                                                                                                                                                                                                                                                                                                                                                                                                                                                                                                                                                                                                                                                                                                                                                                                                                                                                                                                                                                                                                                                                   ..\n",
       "[{'approved_at_utc': None, 'subreddit': 'rockets', 'selftext': '', 'author_fullname': 't2_4o6xsmt4', 'saved': False, 'mod_reason_title': None, 'gilded': 0, 'clicked': False, 'title': 'Giannis imitating our boys moves', 'link_flair_richtext': [], 'subreddit_name_prefixed': 'r/rockets', 'hidden': False, 'pwls': 6, 'link_flair_css_class': None, 'downs': 0, 'thumbnail_height': 140, 'top_awarded_type': None, 'hide_score': False, 'name': 't3_f59713', 'quarantine': False, 'link_flair_text_color': 'dark', 'upvote_ratio': 0.78, 'author_flair_background_color': None, 'subreddit_type': 'public', 'ups': 19, 'total_awards_received': 0, 'media_embed': {}, 'thumbnail_width': 140, 'author_flair_template_id': None, 'is_original_content': False, 'user_reports': [], 'secure_media': {'reddit_video': {'fallback_url': 'https://v.redd.it/pf3nc3j2rhh41/DASH_1080?source=fallback', 'height': 1080, 'width': 512, 'scrubber_media_url': 'https://v.redd.it/pf3nc3j2rhh41/DASH_96', 'dash_url': 'https://v.redd.it/pf3nc3j2rhh41/DASHPlaylist.mpd?a=1665098822%2CODRiMTcxNGJjN2JlZmFmNDU4MGJlN2UyNDJjZjdkZTQ0M2VjYjliZTc2NGE2MjRlZWNiMzI5YjJjMDdhNWQ3Nw%3D%3D&v=1&f=sd', 'duration': 11, 'hls_url': 'https://v.redd.it/pf3nc3j2rhh41/HLSPlaylist.m3u8?a=1665098822%2CY2MyYTkxZDZmZjU2ZmY0OTQ1NGI0ZGFhNjIyNTQ2MGMyYTgzNGE4OGVmNjM1YTY3YzE1ZThlMTA5YTlmZWViNQ%3D%3D&v=1&f=sd', 'is_gif': True, 'transcoding_status': 'completed'}}, 'is_reddit_media_domain': True, 'is_meta': False, 'category': None, 'secure_media_embed': {}, 'link_flair_text': None, 'can_mod_post': False, 'score': 19, 'approved_by': None, 'is_created_from_ads_ui': False, 'author_premium': False, 'thumbnail': 'https://b.thumbs.redditmedia.com/l_Oyajg9cghLw-gUdLrWCzRqhhLa7pKYhuoFqqdRLdk.jpg', 'edited': False, 'author_flair_css_class': None, 'author_flair_richtext': [], 'gildings': {}, 'post_hint': 'hosted:video', 'content_categories': None, 'is_self': False, 'mod_note': None, 'created': 1581948395.0, 'link_flair_type': 'text', 'wls': 6, 'removed_by_category': None, 'banned_by': None, 'author_flair_type': 'text', 'domain': 'v.redd.it', 'allow_live_comments': False, 'selftext_html': None, 'likes': None, 'suggested_sort': None, 'banned_at_utc': None, 'url_overridden_by_dest': 'https://v.redd.it/pf3nc3j2rhh41', 'view_count': None, 'archived': False, 'no_follow': False, 'is_crosspostable': False, 'pinned': False, 'over_18': False, 'preview': {'images': [{'source': {'url': 'https://external-preview.redd.it/vWuD1hiOFf0rLkSPLt73NsBKtzYKhrJsESJ7v1SZmHs.png?format=pjpg&auto=webp&s=0471bf16e321494f44776e8d926724624f3b401d', 'width': 720, 'height': 1520}, 'resolutions': [{'url': 'https://external-preview.redd.it/vWuD1hiOFf0rLkSPLt73NsBKtzYKhrJsESJ7v1SZmHs.png?width=108&crop=smart&format=pjpg&auto=webp&s=add44139e42efabeb255b61e9ff49c6830222b1f', 'width': 108, 'height': 216}, {'url': 'https://external-preview.redd.it/vWuD1hiOFf0rLkSPLt73NsBKtzYKhrJsESJ7v1SZmHs.png?width=216&crop=smart&format=pjpg&auto=webp&s=d89a7b9a009b02c33d0bc123e1dd0a5d33fe4e6c', 'width': 216, 'height': 432}, {'url': 'https://external-preview.redd.it/vWuD1hiOFf0rLkSPLt73NsBKtzYKhrJsESJ7v1SZmHs.png?width=320&crop=smart&format=pjpg&auto=webp&s=c8e7519491aa0a7d4fdb8d70bee17f59388c5d2c', 'width': 320, 'height': 640}, {'url': 'https://external-preview.redd.it/vWuD1hiOFf0rLkSPLt73NsBKtzYKhrJsESJ7v1SZmHs.png?width=640&crop=smart&format=pjpg&auto=webp&s=1ae326cbc8e62b03ad23473eeeefecaa5124d73d', 'width': 640, 'height': 1280}], 'variants': {}, 'id': 'k7QRPaqNvrVHWKExq-8H-Bh7_7i6SUIMkG5kiYzsJFM'}], 'enabled': False}, 'all_awardings': [], 'awarders': [], 'media_only': False, 'can_gild': False, 'spoiler': False, 'locked': False, 'author_flair_text': None, 'treatment_tags': [], 'visited': False, 'removed_by': None, 'num_reports': None, 'distinguished': None, 'subreddit_id': 't5_2rnac', 'author_is_blocked': False, 'mod_reason_by': None, 'removal_reason': None, 'link_flair_background_color': '', 'id': 'f59713', 'is_robot_indexable': True, 'report_reasons': None, 'author': 'kwams55', 'discussion_type': None, 'num_comments': 4, 'send_replies': True, 'whitelist_status': 'all_ads', 'contest_mode': False, 'mod_reports': [], 'author_patreon_flair': False, 'author_flair_text_color': None, 'permalink': '/r/rockets/comments/f59713/giannis_imitating_our_boys_moves/', 'parent_whitelist_status': 'all_ads', 'stickied': False, 'url': 'https://v.redd.it/pf3nc3j2rhh41', 'subreddit_subscribers': 176633, 'created_utc': 1581948395.0, 'num_crossposts': 1, 'media': {'reddit_video': {'fallback_url': 'https://v.redd.it/pf3nc3j2rhh41/DASH_1080?source=fallback', 'height': 1080, 'width': 512, 'scrubber_media_url': 'https://v.redd.it/pf3nc3j2rhh41/DASH_96', 'dash_url': 'https://v.redd.it/pf3nc3j2rhh41/DASHPlaylist.mpd?a=1665098822%2CODRiMTcxNGJjN2JlZmFmNDU4MGJlN2UyNDJjZjdkZTQ0M2VjYjliZTc2NGE2MjRlZWNiMzI5YjJjMDdhNWQ3Nw%3D%3D&v=1&f=sd', 'duration': 11, 'hls_url': 'https://v.redd.it/pf3nc3j2rhh41/HLSPlaylist.m3u8?a=1665098822%2CY2MyYTkxZDZmZjU2ZmY0OTQ1NGI0ZGFhNjIyNTQ2MGMyYTgzNGE4OGVmNjM1YTY3YzE1ZThlMTA5YTlmZWViNQ%3D%3D&v=1&f=sd', 'is_gif': True, 'transcoding_status': 'completed'}}, 'is_video': True}]                                                                                                                                                                                                                                                                                                                                                                                                                                                                                                                                                                                                                                                                                                                                                                                                                                                                                                                                                                                                                                                                                                                                                                                                                                                                                                                                                                                                                                                                                                                                                                                                                                                                                                                                                                                                                                                                                                                                                                                                                                                                                                                                                                                                                                                                                                                                                                                                                                                                                                                                                                                                                                                                                                                                                                                                                                                                                                                                                                                                                                                                                                                                                                                                                                                                                                                                                                                                                                                                                                                                                                                                                                                                                                                                                                                                                                                                                                                                                                                                                                                                                                                                                                                                                                                                                                                                                                                                                                                                                                                                                                                                                                                                                                                                                                                                                                                                                                                                                                                                                                                                                                                                                                                                                                                                                                                                                                                                                                                                                                                                                                                                                                                                                                                                                                                                                                                                                                                                                                                                                                                                                                                                                                                                                                                                                                                                                                                                                                                                                                                                                                                                                                                                                                                                                                                                                                                                                                                                                                                                                                                                                                                                                                                                                                                                                                                                                                                                                                                                                                                                                                                                                                                                                                                                                                                                                                                                                                                                                                                                                                                                                                                                                                                                                                                                                                                                                                                                                                                                                                                                                                                                                                                                                                                                                                                                                                                                                                                                                                                                                                                                                                                                                                                                                                                                                                                                                                                                                                                                                                                                                                                                                                                                                                                                                                                                                                                                                                                                                                                                                                                                                                                                                                                                                                                                                                                                                                                                                                                                                                                                                                                                                                                                                                                                                                                                                                                                                                                                                                                                                                                                                                                                                                                                                                                                                                                                                                                                                                                                                                                                                                                                                                                                                                                                                                                                                                                                                                                                                                                                                                                                                                                                                                                                                                                                                                                                                                                                                                                                                                                                                                                                                                                                                                                                                                                                                                                                                                                                                                                                                                                                                                                                                                                                                                                                                                                                                                                                                                                                                                                                                                                                                                                                                                                                                                                                                                                                                                                                                                                                                                                                                                                                                                                                                                                                                                                                                                                                                                                                                                                                                                                                                                                                                                                                                                                                                                            1\n",
       "[{'approved_at_utc': None, 'subreddit': 'Mavericks', 'selftext': '', 'author_fullname': 't2_onxtj', 'saved': False, 'mod_reason_title': None, 'gilded': 0, 'clicked': False, 'title': '[Mavs] Carlisle tickles the ivories while his daughter Abby sings for #motivationmonday', 'link_flair_richtext': [], 'subreddit_name_prefixed': 'r/Mavericks', 'hidden': False, 'pwls': 6, 'link_flair_css_class': None, 'downs': 0, 'thumbnail_height': 140, 'top_awarded_type': None, 'hide_score': False, 'name': 't3_fw0yfd', 'quarantine': False, 'link_flair_text_color': 'dark', 'upvote_ratio': 0.97, 'author_flair_background_color': '#dadada', 'subreddit_type': 'public', 'ups': 82, 'total_awards_received': 0, 'media_embed': {'content': '<blockquote class=\"twitter-video\"><p lang=\"en\" dir=\"ltr\"><a href=\"https://twitter.com/hashtag/MotivationMonday?src=hash&amp;ref_src=twsrc%5Etfw\">#MotivationMonday</a> from our very own Coach Carlisle 🙌🎹 Who else needed this this morning? 🙋\\u200d♂️🙋\\u200d♀️ <a href=\"https://twitter.com/hashtag/MFFL?src=hash&amp;ref_src=twsrc%5Etfw\">#MFFL</a> <a href=\"https://twitter.com/hashtag/NBATogether?src=hash&amp;ref_src=twsrc%5Etfw\">#NBATogether</a><br>(<a href=\"https://twitter.com/JeffersonCares?ref_src=twsrc%5Etfw\">@jeffersoncares</a>) <a href=\"https://t.co/JLgzumvXZu\">pic.twitter.com/JLgzumvXZu</a></p>&mdash; x - Dallas Mavericks (@dallasmavs) <a href=\"https://twitter.com/dallasmavs/status/1247182858692825088?ref_src=twsrc%5Etfw\">April 6, 2020</a></blockquote>\\n<script async src=\"https://platform.twitter.com/widgets.js\" charset=\"utf-8\"></script>\\n', 'width': 350, 'scrolling': False, 'height': 200}, 'thumbnail_width': 140, 'author_flair_template_id': 'd714d5a8-d79a-11e5-9102-0e82ec060b19', 'is_original_content': False, 'user_reports': [], 'secure_media': {'type': 'twitter.com', 'oembed': {'provider_url': 'https://twitter.com', 'version': '1.0', 'url': 'https://twitter.com/dallasmavs/status/1247182858692825088', 'author_name': 'x - Dallas Mavericks', 'height': None, 'width': 350, 'html': '<blockquote class=\"twitter-video\"><p lang=\"en\" dir=\"ltr\"><a href=\"https://twitter.com/hashtag/MotivationMonday?src=hash&amp;ref_src=twsrc%5Etfw\">#MotivationMonday</a> from our very own Coach Carlisle 🙌🎹 Who else needed this this morning? 🙋\\u200d♂️🙋\\u200d♀️ <a href=\"https://twitter.com/hashtag/MFFL?src=hash&amp;ref_src=twsrc%5Etfw\">#MFFL</a> <a href=\"https://twitter.com/hashtag/NBATogether?src=hash&amp;ref_src=twsrc%5Etfw\">#NBATogether</a><br>(<a href=\"https://twitter.com/JeffersonCares?ref_src=twsrc%5Etfw\">@jeffersoncares</a>) <a href=\"https://t.co/JLgzumvXZu\">pic.twitter.com/JLgzumvXZu</a></p>&mdash; x - Dallas Mavericks (@dallasmavs) <a href=\"https://twitter.com/dallasmavs/status/1247182858692825088?ref_src=twsrc%5Etfw\">April 6, 2020</a></blockquote>\\n<script async src=\"https://platform.twitter.com/widgets.js\" charset=\"utf-8\"></script>\\n', 'author_url': 'https://twitter.com/dallasmavs', 'provider_name': 'Twitter', 'cache_age': 3153600000, 'type': 'rich'}}, 'is_reddit_media_domain': False, 'is_meta': False, 'category': None, 'secure_media_embed': {'content': '<blockquote class=\"twitter-video\"><p lang=\"en\" dir=\"ltr\"><a href=\"https://twitter.com/hashtag/MotivationMonday?src=hash&amp;ref_src=twsrc%5Etfw\">#MotivationMonday</a> from our very own Coach Carlisle 🙌🎹 Who else needed this this morning? 🙋\\u200d♂️🙋\\u200d♀️ <a href=\"https://twitter.com/hashtag/MFFL?src=hash&amp;ref_src=twsrc%5Etfw\">#MFFL</a> <a href=\"https://twitter.com/hashtag/NBATogether?src=hash&amp;ref_src=twsrc%5Etfw\">#NBATogether</a><br>(<a href=\"https://twitter.com/JeffersonCares?ref_src=twsrc%5Etfw\">@jeffersoncares</a>) <a href=\"https://t.co/JLgzumvXZu\">pic.twitter.com/JLgzumvXZu</a></p>&mdash; x - Dallas Mavericks (@dallasmavs) <a href=\"https://twitter.com/dallasmavs/status/1247182858692825088?ref_src=twsrc%5Etfw\">April 6, 2020</a></blockquote>\\n<script async src=\"https://platform.twitter.com/widgets.js\" charset=\"utf-8\"></script>\\n', 'width': 350, 'scrolling': False, 'media_domain_url': 'https://www.redditmedia.com/mediaembed/fw0yfd', 'height': 200}, 'link_flair_text': None, 'can_mod_post': False, 'score': 82, 'approved_by': None, 'is_created_from_ads_ui': False, 'author_premium': False, 'thumbnail': 'https://b.thumbs.redditmedia.com/Bk9sr9R598B5ka6IiAQrARPz9IKtvvVjulAyJjGOboQ.jpg', 'edited': False, 'author_flair_css_class': '52dirk', 'author_flair_richtext': [], 'gildings': {}, 'post_hint': 'link', 'content_categories': None, 'is_self': False, 'mod_note': None, 'created': 1586187743.0, 'link_flair_type': 'text', 'wls': 6, 'removed_by_category': None, 'banned_by': None, 'author_flair_type': 'text', 'domain': 'twitter.com', 'allow_live_comments': False, 'selftext_html': None, 'likes': None, 'suggested_sort': None, 'banned_at_utc': None, 'url_overridden_by_dest': 'https://twitter.com/dallasmavs/status/1247182858692825088?s=20', 'view_count': None, 'archived': False, 'no_follow': False, 'is_crosspostable': False, 'pinned': False, 'over_18': False, 'preview': {'images': [{'source': {'url': 'https://external-preview.redd.it/eeG52Nd6y3W3PZtnVzDJkTghRlw7rtyFzhzOLNSZ8Vg.jpg?auto=webp&s=ea9906d7b3429fd08f57735408ef0ab3d6d84cf6', 'width': 720, 'height': 900}, 'resolutions': [{'url': 'https://external-preview.redd.it/eeG52Nd6y3W3PZtnVzDJkTghRlw7rtyFzhzOLNSZ8Vg.jpg?width=108&crop=smart&auto=webp&s=13a409f271f1ca89602e94cd101424e65f7f6a64', 'width': 108, 'height': 135}, {'url': 'https://external-preview.redd.it/eeG52Nd6y3W3PZtnVzDJkTghRlw7rtyFzhzOLNSZ8Vg.jpg?width=216&crop=smart&auto=webp&s=bd48fcb014da1da864f186ee89c3739e8c3c4a53', 'width': 216, 'height': 270}, {'url': 'https://external-preview.redd.it/eeG52Nd6y3W3PZtnVzDJkTghRlw7rtyFzhzOLNSZ8Vg.jpg?width=320&crop=smart&auto=webp&s=3403899dfcc37892ba5e423891e50f16f26e2d15', 'width': 320, 'height': 400}, {'url': 'https://external-preview.redd.it/eeG52Nd6y3W3PZtnVzDJkTghRlw7rtyFzhzOLNSZ8Vg.jpg?width=640&crop=smart&auto=webp&s=fed1727f1183dffc3b13415480db9c22e0b3a7de', 'width': 640, 'height': 800}], 'variants': {}, 'id': 'NHS1wNPbXb9g1TE-udRgSKqZTumeH4ZKHUO4Izz3ANI'}], 'enabled': False}, 'all_awardings': [], 'awarders': [], 'media_only': False, 'can_gild': False, 'spoiler': False, 'locked': False, 'author_flair_text': 'DIRK', 'treatment_tags': [], 'visited': False, 'removed_by': None, 'num_reports': None, 'distinguished': None, 'subreddit_id': 't5_2s53a', 'author_is_blocked': False, 'mod_reason_by': None, 'removal_reason': None, 'link_flair_background_color': '', 'id': 'fw0yfd', 'is_robot_indexable': True, 'report_reasons': None, 'author': 'Best_Dundies_Ever', 'discussion_type': None, 'num_comments': 6, 'send_replies': True, 'whitelist_status': 'all_ads', 'contest_mode': False, 'mod_reports': [], 'author_patreon_flair': False, 'author_flair_text_color': 'dark', 'permalink': '/r/Mavericks/comments/fw0yfd/mavs_carlisle_tickles_the_ivories_while_his/', 'parent_whitelist_status': 'all_ads', 'stickied': False, 'url': 'https://twitter.com/dallasmavs/status/1247182858692825088?s=20', 'subreddit_subscribers': 170648, 'created_utc': 1586187743.0, 'num_crossposts': 1, 'media': {'type': 'twitter.com', 'oembed': {'provider_url': 'https://twitter.com', 'version': '1.0', 'url': 'https://twitter.com/dallasmavs/status/1247182858692825088', 'author_name': 'x - Dallas Mavericks', 'height': None, 'width': 350, 'html': '<blockquote class=\"twitter-video\"><p lang=\"en\" dir=\"ltr\"><a href=\"https://twitter.com/hashtag/MotivationMonday?src=hash&amp;ref_src=twsrc%5Etfw\">#MotivationMonday</a> from our very own Coach Carlisle 🙌🎹 Who else needed this this morning? 🙋\\u200d♂️🙋\\u200d♀️ <a href=\"https://twitter.com/hashtag/MFFL?src=hash&amp;ref_src=twsrc%5Etfw\">#MFFL</a> <a href=\"https://twitter.com/hashtag/NBATogether?src=hash&amp;ref_src=twsrc%5Etfw\">#NBATogether</a><br>(<a href=\"https://twitter.com/JeffersonCares?ref_src=twsrc%5Etfw\">@jeffersoncares</a>) <a href=\"https://t.co/JLgzumvXZu\">pic.twitter.com/JLgzumvXZu</a></p>&mdash; x - Dallas Mavericks (@dallasmavs) <a href=\"https://twitter.com/dallasmavs/status/1247182858692825088?ref_src=twsrc%5Etfw\">April 6, 2020</a></blockquote>\\n<script async src=\"https://platform.twitter.com/widgets.js\" charset=\"utf-8\"></script>\\n', 'author_url': 'https://twitter.com/dallasmavs', 'provider_name': 'Twitter', 'cache_age': 3153600000, 'type': 'rich'}}, 'is_video': False}]                                                                                                                                                                                                                                                                                                                                                                                                                                                                                                                                                                                                                                                                                                                                                                                                                                                                                                                                                                                                                                                                                                                                                                                                                                                                                                                                                                                                                                                                                                                                                                                                                                                                                                                                                                                                                                                                                                                                                                                                                                                                                                                                                                                                                                                                                                                                                                                                                                                                                                                                                                                                                                                                                                                                                                                                                                                                                                                                                                                                                                                                                                                                                                                                                                                                                                                                                                                                                                                                                                                                                                                                                                                                                                                                                                                                                                                                                                                                                                                                                                                                                                                                                                                                                                                                                                                                                                                                                                                                                                                                                                                                                                                                                                                                                                                                                                                                                                                                                                                                                                                                                                                                                                                                                                                                                                                                                                                                                                                                                                                                                                                                                                                                                                                                                                                                                                                                                                                                                                                                                                                                                                                                                                                                                                                                                                                                                                                                                                                                                                                                                                                                                                                                                                                                                                                                                                                                                                                                                                                                                                                                                                                                                                                                                                                                                                                                                                                                                                                                                                                                                                                                                                                                                                                                                                                                                                                                                                                                                                                                                                                                                                                                                                                                                                                                                                                                                                                                                                                                                                                                                                                                                                                                                                                                                                                                                                                                                                                                                                                                                                                                                                                                                                                                                                                                                                                                                                                                                                                                                                                                                                                                                                                                                                                                                                                                                                                                                                                                                                                                                                                                                                                                                                                                                                                                                                                                                                                                                                                                                                                                                                                                                                                                                                                                                                                                                                                                                                                                                                                                                                                                                                                                                                                                                                                                                                                                                                                                                                                                                                             1\n",
       "[{'approved_at_utc': None, 'subreddit': 'bostonceltics', 'selftext': '', 'author_fullname': 't2_172eoj', 'saved': False, 'mod_reason_title': None, 'gilded': 0, 'clicked': False, 'title': 'This Video gives me a good idea how Doc Rivers gave inspirational talks during halftime to Paul, KG, Ray, Rondo, Perk and the rest of the 2008 championship roster', 'link_flair_richtext': [], 'subreddit_name_prefixed': 'r/bostonceltics', 'hidden': False, 'pwls': 6, 'link_flair_css_class': None, 'downs': 0, 'thumbnail_height': 78, 'top_awarded_type': None, 'hide_score': False, 'name': 't3_ijsi65', 'quarantine': False, 'link_flair_text_color': 'dark', 'upvote_ratio': 1.0, 'author_flair_background_color': None, 'subreddit_type': 'public', 'ups': 2, 'total_awards_received': 0, 'media_embed': {}, 'thumbnail_width': 140, 'author_flair_template_id': None, 'is_original_content': False, 'user_reports': [], 'secure_media': {'reddit_video': {'fallback_url': 'https://v.redd.it/pzqrxlzn0ak51/DASH_360.mp4?source=fallback', 'height': 360, 'width': 640, 'scrubber_media_url': 'https://v.redd.it/pzqrxlzn0ak51/DASH_96.mp4', 'dash_url': 'https://v.redd.it/pzqrxlzn0ak51/DASHPlaylist.mpd?a=1665098822%2CYjU2MjMyOWE2MzZiMGRhNDYzOGJjYTYzNWUxMTJkOWQ4ZjZlNzE0NjAzMTBkNTA4MTk3ODk3NDQ5YmU3OTc4MA%3D%3D&v=1&f=sd', 'duration': 90, 'hls_url': 'https://v.redd.it/pzqrxlzn0ak51/HLSPlaylist.m3u8?a=1665098822%2CN2JiODgzYTZhMWFmMTg4YTIwOTI3ODQyYzZjNjNjMDBiODY4YWYyNDE1MGM1OTcyZDVhY2UwNDBhMWEwNzVhZg%3D%3D&v=1&f=sd', 'is_gif': False, 'transcoding_status': 'completed'}}, 'is_reddit_media_domain': True, 'is_meta': False, 'category': None, 'secure_media_embed': {}, 'link_flair_text': None, 'can_mod_post': False, 'score': 2, 'approved_by': None, 'is_created_from_ads_ui': False, 'author_premium': False, 'thumbnail': 'default', 'edited': False, 'author_flair_css_class': None, 'author_flair_richtext': [], 'gildings': {}, 'content_categories': None, 'is_self': False, 'mod_note': None, 'created': 1598852851.0, 'link_flair_type': 'text', 'wls': 6, 'removed_by_category': 'moderator', 'banned_by': None, 'author_flair_type': 'text', 'domain': 'v.redd.it', 'allow_live_comments': False, 'selftext_html': None, 'likes': None, 'suggested_sort': None, 'banned_at_utc': None, 'url_overridden_by_dest': 'https://v.redd.it/pzqrxlzn0ak51', 'view_count': None, 'archived': False, 'no_follow': True, 'is_crosspostable': False, 'pinned': False, 'over_18': False, 'all_awardings': [], 'awarders': [], 'media_only': False, 'can_gild': False, 'spoiler': False, 'locked': False, 'author_flair_text': None, 'treatment_tags': [], 'visited': False, 'removed_by': None, 'num_reports': None, 'distinguished': None, 'subreddit_id': 't5_2qmkf', 'author_is_blocked': False, 'mod_reason_by': None, 'removal_reason': None, 'link_flair_background_color': '', 'id': 'ijsi65', 'is_robot_indexable': False, 'report_reasons': None, 'author': 'laswoosh', 'discussion_type': None, 'num_comments': 1, 'send_replies': True, 'whitelist_status': 'all_ads', 'contest_mode': False, 'mod_reports': [], 'author_patreon_flair': False, 'author_flair_text_color': None, 'permalink': '/r/bostonceltics/comments/ijsi65/this_video_gives_me_a_good_idea_how_doc_rivers/', 'parent_whitelist_status': 'all_ads', 'stickied': False, 'url': 'https://v.redd.it/pzqrxlzn0ak51', 'subreddit_subscribers': 301176, 'created_utc': 1598852851.0, 'num_crossposts': 1, 'media': {'reddit_video': {'fallback_url': 'https://v.redd.it/pzqrxlzn0ak51/DASH_360.mp4?source=fallback', 'height': 360, 'width': 640, 'scrubber_media_url': 'https://v.redd.it/pzqrxlzn0ak51/DASH_96.mp4', 'dash_url': 'https://v.redd.it/pzqrxlzn0ak51/DASHPlaylist.mpd?a=1665098822%2CYjU2MjMyOWE2MzZiMGRhNDYzOGJjYTYzNWUxMTJkOWQ4ZjZlNzE0NjAzMTBkNTA4MTk3ODk3NDQ5YmU3OTc4MA%3D%3D&v=1&f=sd', 'duration': 90, 'hls_url': 'https://v.redd.it/pzqrxlzn0ak51/HLSPlaylist.m3u8?a=1665098822%2CN2JiODgzYTZhMWFmMTg4YTIwOTI3ODQyYzZjNjNjMDBiODY4YWYyNDE1MGM1OTcyZDVhY2UwNDBhMWEwNzVhZg%3D%3D&v=1&f=sd', 'is_gif': False, 'transcoding_status': 'completed'}}, 'is_video': True}]                                                                                                                                                                                                                                                                                                                                                                                                                                                                                                                                                                                                                                                                                                                                                                                                                                                                                                                                                                                                                                                                                                                                                                                                                                                                                                                                                                                                                                                                                                                                                                                                                                                                                                                                                                                                                                                                                                                                                                                                                                                                                                                                                                                                                                                                                                                                                                                                                                                                                                                                                                                                                                                                                                                                                                                                                                                                                                                                                                                                                                                                                                                                                                                                                                                                                                                                                                                                                                                                                                                                                                                                                                                                                                                                                                                                                                                                                                                                                                                                                                                                                                                                                                                                                                                                                                                                                                                                                                                                                                                                                                                                                                                                                                                                                                                                                                                                                                                                                                                                                                                                                                                                                                                                                                                                                                                                                                                                                                                                                                                                                                                                                                                                                                                                                                                                                                                                                                                                                                                                                                                                                                                                                                                                                                                                                                                                                                                                                                                                                                                                                                                                                                                                                                                                                                                                                                                                                                                                                                                                                                                                                                                                                                                                                                                                                                                                                                                                                                                                                                                                                                                                                                                                                                                                                                                                                                                                                                                                                                                                                                                                                                                                                                                                                                                                                                                                                                                                                                                                                                                                                                                                                                                                                                                                                                                                                                                                                                                                                                                                                                                                                                                                                                                                                                                                                                                                                                                                                                                                                                                                                                                                                                                                                                                                                                                                                                                                                                                                                                                                                                                                                                                                                                                                                                                                                                                                                                                                                                                                                                                                                                                                                                                                                                                                                                                                                                                                                                                                                                                                                                                                                                                                                                                                                                                                                                                                                                                                                                                                                                                                                                                                                                                                                                                                                                                                                                                                                                                                                                                                                                                                                                                                                                                                                                                                                                                                                                                                                                                                                                                                                                                                                                                                                                                                                                                                                                                                                                                                                                                                                                                                                                                                                                                                                                                                                                                                                                                                                                                                                                                                                                                                                                                                                                                                                                                                                                                                                                                                                                                                                                                                                                                                                                                                                                                                                                                                                                                                                                                                                                                                                                                                                                                                                                                                                                                                                                                                                                                                                                                                                                                                                                                                                                                                                                                                                                                                                                                                                                                                                                                                                                                                                                                                                                                                                                                                                                                                                                                                                                          1\n",
       "[{'approved_at_utc': None, 'subreddit': 'television', 'selftext': '', 'author_fullname': 't2_5gscv', 'saved': False, 'mod_reason_title': None, 'gilded': 1, 'clicked': False, 'title': 'RNC 2020 & Kenosha: Last Week Tonight with John Oliver (HBO)', 'link_flair_richtext': [], 'subreddit_name_prefixed': 'r/television', 'hidden': False, 'pwls': 6, 'link_flair_css_class': None, 'downs': 0, 'thumbnail_height': 105, 'top_awarded_type': None, 'hide_score': False, 'name': 't3_ijszr3', 'quarantine': False, 'link_flair_text_color': 'dark', 'upvote_ratio': 0.78, 'author_flair_background_color': '', 'subreddit_type': 'public', 'ups': 5341, 'total_awards_received': 5, 'media_embed': {'content': '<iframe width=\"356\" height=\"200\" src=\"https://www.youtube.com/embed/rBu0BRTx2x8?feature=oembed&enablejsapi=1\" frameborder=\"0\" allow=\"accelerometer; autoplay; clipboard-write; encrypted-media; gyroscope; picture-in-picture\" allowfullscreen title=\"RNC 2020 & Kenosha: Last Week Tonight with John Oliver (HBO)\"></iframe>', 'width': 356, 'scrolling': False, 'height': 200}, 'thumbnail_width': 140, 'author_flair_template_id': None, 'is_original_content': False, 'user_reports': [], 'secure_media': {'type': 'youtube.com', 'oembed': {'provider_url': 'https://www.youtube.com/', 'version': '1.0', 'title': 'RNC 2020 & Kenosha: Last Week Tonight with John Oliver (HBO)', 'type': 'video', 'thumbnail_width': 480, 'height': 200, 'width': 356, 'html': '<iframe width=\"356\" height=\"200\" src=\"https://www.youtube.com/embed/rBu0BRTx2x8?feature=oembed&enablejsapi=1\" frameborder=\"0\" allow=\"accelerometer; autoplay; clipboard-write; encrypted-media; gyroscope; picture-in-picture\" allowfullscreen title=\"RNC 2020 & Kenosha: Last Week Tonight with John Oliver (HBO)\"></iframe>', 'author_name': 'LastWeekTonight', 'provider_name': 'YouTube', 'thumbnail_url': 'https://i.ytimg.com/vi/rBu0BRTx2x8/hqdefault.jpg', 'thumbnail_height': 360, 'author_url': 'https://www.youtube.com/user/LastWeekTonight'}}, 'is_reddit_media_domain': False, 'is_meta': False, 'category': None, 'secure_media_embed': {'content': '<iframe width=\"356\" height=\"200\" src=\"https://www.youtube.com/embed/rBu0BRTx2x8?feature=oembed&enablejsapi=1\" frameborder=\"0\" allow=\"accelerometer; autoplay; clipboard-write; encrypted-media; gyroscope; picture-in-picture\" allowfullscreen title=\"RNC 2020 & Kenosha: Last Week Tonight with John Oliver (HBO)\"></iframe>', 'width': 356, 'scrolling': False, 'media_domain_url': 'https://www.redditmedia.com/mediaembed/ijszr3', 'height': 200}, 'link_flair_text': None, 'can_mod_post': False, 'score': 5341, 'approved_by': None, 'is_created_from_ads_ui': False, 'author_premium': False, 'thumbnail': 'https://b.thumbs.redditmedia.com/WDiyy78TIvohRqMFQmfdlBVUE9HILrmEaR7p82XTKjU.jpg', 'edited': False, 'author_flair_css_class': 'StevenUniverse1', 'author_flair_richtext': [], 'gildings': {'gid_2': 1}, 'post_hint': 'rich:video', 'content_categories': None, 'is_self': False, 'mod_note': None, 'created': 1598855421.0, 'link_flair_type': 'text', 'wls': 6, 'removed_by_category': None, 'banned_by': None, 'author_flair_type': 'text', 'domain': 'youtube.com', 'allow_live_comments': True, 'selftext_html': None, 'likes': None, 'suggested_sort': None, 'banned_at_utc': None, 'url_overridden_by_dest': 'https://www.youtube.com/watch?v=rBu0BRTx2x8', 'view_count': None, 'archived': False, 'no_follow': False, 'is_crosspostable': False, 'pinned': False, 'over_18': False, 'preview': {'images': [{'source': {'url': 'https://external-preview.redd.it/OqV0w05pHsaLEIG-Ems-HNEMFuOoV0O7-EI4nZDKYOM.jpg?auto=webp&s=463e6a0392c59ec6cd0efa615083f032221a2763', 'width': 480, 'height': 360}, 'resolutions': [{'url': 'https://external-preview.redd.it/OqV0w05pHsaLEIG-Ems-HNEMFuOoV0O7-EI4nZDKYOM.jpg?width=108&crop=smart&auto=webp&s=5dda5dc61fdb3c94957d03bd14d1301ad5c136d8', 'width': 108, 'height': 81}, {'url': 'https://external-preview.redd.it/OqV0w05pHsaLEIG-Ems-HNEMFuOoV0O7-EI4nZDKYOM.jpg?width=216&crop=smart&auto=webp&s=e848fbb545e82c0136cdd6a314d61fde3f5e93ae', 'width': 216, 'height': 162}, {'url': 'https://external-preview.redd.it/OqV0w05pHsaLEIG-Ems-HNEMFuOoV0O7-EI4nZDKYOM.jpg?width=320&crop=smart&auto=webp&s=d4387a066ad1d13bd87ba29b912e6fe5d7fe595f', 'width': 320, 'height': 240}], 'variants': {}, 'id': 'BViymFog5pf9CaTXJ5gXIOrgaoZthKRS7jmKRY9WJnE'}], 'enabled': False}, 'all_awardings': [{'giver_coin_reward': None, 'subreddit_id': None, 'is_new': False, 'days_of_drip_extension': None, 'coin_price': 500, 'id': 'gid_2', 'penny_donate': None, 'award_sub_type': 'GLOBAL', 'coin_reward': 100, 'icon_url': 'https://www.redditstatic.com/gold/awards/icon/gold_512.png', 'days_of_premium': 7, 'tiers_by_required_awardings': None, 'resized_icons': [{'url': 'https://www.redditstatic.com/gold/awards/icon/gold_16.png', 'width': 16, 'height': 16}, {'url': 'https://www.redditstatic.com/gold/awards/icon/gold_32.png', 'width': 32, 'height': 32}, {'url': 'https://www.redditstatic.com/gold/awards/icon/gold_48.png', 'width': 48, 'height': 48}, {'url': 'https://www.redditstatic.com/gold/awards/icon/gold_64.png', 'width': 64, 'height': 64}, {'url': 'https://www.redditstatic.com/gold/awards/icon/gold_128.png', 'width': 128, 'height': 128}], 'icon_width': 512, 'static_icon_width': 512, 'start_date': None, 'is_enabled': True, 'awardings_required_to_grant_benefits': None, 'description': 'Gives 100 Reddit Coins and a week of r/lounge access and ad-free browsing.', 'end_date': None, 'sticky_duration_seconds': None, 'subreddit_coin_reward': 0, 'count': 1, 'static_icon_height': 512, 'name': 'Gold', 'resized_static_icons': [{'url': 'https://www.redditstatic.com/gold/awards/icon/gold_16.png', 'width': 16, 'height': 16}, {'url': 'https://www.redditstatic.com/gold/awards/icon/gold_32.png', 'width': 32, 'height': 32}, {'url': 'https://www.redditstatic.com/gold/awards/icon/gold_48.png', 'width': 48, 'height': 48}, {'url': 'https://www.redditstatic.com/gold/awards/icon/gold_64.png', 'width': 64, 'height': 64}, {'url': 'https://www.redditstatic.com/gold/awards/icon/gold_128.png', 'width': 128, 'height': 128}], 'icon_format': None, 'icon_height': 512, 'penny_price': None, 'award_type': 'global', 'static_icon_url': 'https://www.redditstatic.com/gold/awards/icon/gold_512.png'}, {'giver_coin_reward': None, 'subreddit_id': None, 'is_new': False, 'days_of_drip_extension': None, 'coin_price': 50, 'id': 'award_02d9ab2c-162e-4c01-8438-317a016ed3d9', 'penny_donate': None, 'award_sub_type': 'GLOBAL', 'coin_reward': 0, 'icon_url': 'https://i.redd.it/award_images/t5_q0gj4/p4yzxkaed5f61_oldtakemyenergy.png', 'days_of_premium': None, 'tiers_by_required_awardings': None, 'resized_icons': [{'url': 'https://preview.redd.it/award_images/t5_q0gj4/p4yzxkaed5f61_oldtakemyenergy.png?width=16&height=16&auto=webp&s=10034f3fdf8214c8377134bb60c5b832d4bbf588', 'width': 16, 'height': 16}, {'url': 'https://preview.redd.it/award_images/t5_q0gj4/p4yzxkaed5f61_oldtakemyenergy.png?width=32&height=32&auto=webp&s=100f785bf261fa9452a5d82ee0ef0793369dbfa5', 'width': 32, 'height': 32}, {'url': 'https://preview.redd.it/award_images/t5_q0gj4/p4yzxkaed5f61_oldtakemyenergy.png?width=48&height=48&auto=webp&s=b15d030fdfbbe4af4a5b34ab9dc90a174df40a23', 'width': 48, 'height': 48}, {'url': 'https://preview.redd.it/award_images/t5_q0gj4/p4yzxkaed5f61_oldtakemyenergy.png?width=64&height=64&auto=webp&s=601c75be6ee30dc4b47a5c65d64dea9a185502a1', 'width': 64, 'height': 64}, {'url': 'https://preview.redd.it/award_images/t5_q0gj4/p4yzxkaed5f61_oldtakemyenergy.png?width=128&height=128&auto=webp&s=540f36e65c0e2f1347fe32020e4a1565e3680437', 'width': 128, 'height': 128}], 'icon_width': 2048, 'static_icon_width': 2048, 'start_date': None, 'is_enabled': True, 'awardings_required_to_grant_benefits': None, 'description': \"I'm in this with you.\", 'end_date': None, 'sticky_duration_seconds': None, 'subreddit_coin_reward': 0, 'count': 1, 'static_icon_height': 2048, 'name': 'Take My Energy', 'resized_static_icons': [{'url': 'https://preview.redd.it/award_images/t5_q0gj4/jtw7x06j68361_TakeMyEnergyElf.png?width=16&height=16&auto=webp&s=045db73f47a9513c44823d132b4c393ab9241b6a', 'width': 16, 'height': 16}, {'url': 'https://preview.redd.it/award_images/t5_q0gj4/jtw7x06j68361_TakeMyEnergyElf.png?width=32&height=32&auto=webp&s=298a02e0edbb5b5e293087eeede63802cbe1d2c7', 'width': 32, 'height': 32}, {'url': 'https://preview.redd.it/award_images/t5_q0gj4/jtw7x06j68361_TakeMyEnergyElf.png?width=48&height=48&auto=webp&s=7d06d606eb23dbcd6dbe39ee0e60588c5eb89065', 'width': 48, 'height': 48}, {'url': 'https://preview.redd.it/award_images/t5_q0gj4/jtw7x06j68361_TakeMyEnergyElf.png?width=64&height=64&auto=webp&s=ecd9854b14104a36a210028c43420f0dababd96b', 'width': 64, 'height': 64}, {'url': 'https://preview.redd.it/award_images/t5_q0gj4/jtw7x06j68361_TakeMyEnergyElf.png?width=128&height=128&auto=webp&s=0d5d7b92c1d66aff435f2ad32e6330ca2b971f6d', 'width': 128, 'height': 128}], 'icon_format': 'PNG', 'icon_height': 2048, 'penny_price': 0, 'award_type': 'global', 'static_icon_url': 'https://i.redd.it/award_images/t5_q0gj4/jtw7x06j68361_TakeMyEnergyElf.png'}, {'giver_coin_reward': None, 'subreddit_id': None, 'is_new': False, 'days_of_drip_extension': None, 'coin_price': 50, 'id': 'award_69c94eb4-d6a3-48e7-9cf2-0f39fed8b87c', 'penny_donate': None, 'award_sub_type': 'GLOBAL', 'coin_reward': 0, 'icon_url': 'https://i.redd.it/award_images/t5_22cerq/5nswjpyy44551_Ally.png', 'days_of_premium': None, 'tiers_by_required_awardings': None, 'resized_icons': [{'url': 'https://preview.redd.it/award_images/t5_22cerq/5nswjpyy44551_Ally.png?width=16&height=16&auto=webp&s=bb033b3352b6ece0954d279a56f99e16c67abe14', 'width': 16, 'height': 16}, {'url': 'https://preview.redd.it/award_images/t5_22cerq/5nswjpyy44551_Ally.png?width=32&height=32&auto=webp&s=a8e1d0c2994e6e0b254fab1611d539a4fb94e38a', 'width': 32, 'height': 32}, {'url': 'https://preview.redd.it/award_images/t5_22cerq/5nswjpyy44551_Ally.png?width=48&height=48&auto=webp&s=723e4e932c9692ac61cf5b7509424c6ae1b5d220', 'width': 48, 'height': 48}, {'url': 'https://preview.redd.it/award_images/t5_22cerq/5nswjpyy44551_Ally.png?width=64&height=64&auto=webp&s=b7f0640e403ac0ef31236a4a0b7f3dc25de6046c', 'width': 64, 'height': 64}, {'url': 'https://preview.redd.it/award_images/t5_22cerq/5nswjpyy44551_Ally.png?width=128&height=128&auto=webp&s=ac954bb1a06af66bf9295bbfee4550443fb6f21d', 'width': 128, 'height': 128}], 'icon_width': 2048, 'static_icon_width': 2048, 'start_date': None, 'is_enabled': True, 'awardings_required_to_grant_benefits': None, 'description': 'Listen, get educated, and get involved.', 'end_date': None, 'sticky_duration_seconds': None, 'subreddit_coin_reward': 0, 'count': 1, 'static_icon_height': 2048, 'name': 'Ally', 'resized_static_icons': [{'url': 'https://preview.redd.it/award_images/t5_22cerq/5nswjpyy44551_Ally.png?width=16&height=16&auto=webp&s=bb033b3352b6ece0954d279a56f99e16c67abe14', 'width': 16, 'height': 16}, {'url': 'https://preview.redd.it/award_images/t5_22cerq/5nswjpyy44551_Ally.png?width=32&height=32&auto=webp&s=a8e1d0c2994e6e0b254fab1611d539a4fb94e38a', 'width': 32, 'height': 32}, {'url': 'https://preview.redd.it/award_images/t5_22cerq/5nswjpyy44551_Ally.png?width=48&height=48&auto=webp&s=723e4e932c9692ac61cf5b7509424c6ae1b5d220', 'width': 48, 'height': 48}, {'url': 'https://preview.redd.it/award_images/t5_22cerq/5nswjpyy44551_Ally.png?width=64&height=64&auto=webp&s=b7f0640e403ac0ef31236a4a0b7f3dc25de6046c', 'width': 64, 'height': 64}, {'url': 'https://preview.redd.it/award_images/t5_22cerq/5nswjpyy44551_Ally.png?width=128&height=128&auto=webp&s=ac954bb1a06af66bf9295bbfee4550443fb6f21d', 'width': 128, 'height': 128}], 'icon_format': 'PNG', 'icon_height': 2048, 'penny_price': 0, 'award_type': 'global', 'static_icon_url': 'https://i.redd.it/award_images/t5_22cerq/5nswjpyy44551_Ally.png'}, {'giver_coin_reward': None, 'subreddit_id': None, 'is_new': False, 'days_of_drip_extension': None, 'coin_price': 200, 'id': 'award_1703f934-cf44-40cc-a96d-3729d0b48262', 'penny_donate': None, 'award_sub_type': 'GLOBAL', 'coin_reward': 0, 'icon_url': 'https://i.redd.it/award_images/t5_22cerq/8ad2jffnclf41_Thanks.png', 'days_of_premium': None, 'tiers_by_required_awardings': None, 'resized_icons': [{'url': 'https://preview.redd.it/award_images/t5_22cerq/8ad2jffnclf41_Thanks.png?width=16&height=16&auto=webp&s=e3adc32e42cf534e27afea719ff932b1ce797cfd', 'width': 16, 'height': 16}, {'url': 'https://preview.redd.it/award_images/t5_22cerq/8ad2jffnclf41_Thanks.png?width=32&height=32&auto=webp&s=08542909c94777e870c41a35413bce688ca2fd6c', 'width': 32, 'height': 32}, {'url': 'https://preview.redd.it/award_images/t5_22cerq/8ad2jffnclf41_Thanks.png?width=48&height=48&auto=webp&s=4d85746d584b5494087da3561944d6d241f57674', 'width': 48, 'height': 48}, {'url': 'https://preview.redd.it/award_images/t5_22cerq/8ad2jffnclf41_Thanks.png?width=64&height=64&auto=webp&s=fd7683c8de2839998a432e7e53e1e06d66c35ad3', 'width': 64, 'height': 64}, {'url': 'https://preview.redd.it/award_images/t5_22cerq/8ad2jffnclf41_Thanks.png?width=128&height=128&auto=webp&s=a750da7a573bb231bd863be9725abece0332b828', 'width': 128, 'height': 128}], 'icon_width': 2048, 'static_icon_width': 2048, 'start_date': None, 'is_enabled': True, 'awardings_required_to_grant_benefits': None, 'description': 'My kindergarten teacher, my cat, my mom, and you.', 'end_date': None, 'sticky_duration_seconds': None, 'subreddit_coin_reward': 0, 'count': 1, 'static_icon_height': 2048, 'name': \"I'd Like to Thank...\", 'resized_static_icons': [{'url': 'https://preview.redd.it/award_images/t5_22cerq/8ad2jffnclf41_Thanks.png?width=16&height=16&auto=webp&s=e3adc32e42cf534e27afea719ff932b1ce797cfd', 'width': 16, 'height': 16}, {'url': 'https://preview.redd.it/award_images/t5_22cerq/8ad2jffnclf41_Thanks.png?width=32&height=32&auto=webp&s=08542909c94777e870c41a35413bce688ca2fd6c', 'width': 32, 'height': 32}, {'url': 'https://preview.redd.it/award_images/t5_22cerq/8ad2jffnclf41_Thanks.png?width=48&height=48&auto=webp&s=4d85746d584b5494087da3561944d6d241f57674', 'width': 48, 'height': 48}, {'url': 'https://preview.redd.it/award_images/t5_22cerq/8ad2jffnclf41_Thanks.png?width=64&height=64&auto=webp&s=fd7683c8de2839998a432e7e53e1e06d66c35ad3', 'width': 64, 'height': 64}, {'url': 'https://preview.redd.it/award_images/t5_22cerq/8ad2jffnclf41_Thanks.png?width=128&height=128&auto=webp&s=a750da7a573bb231bd863be9725abece0332b828', 'width': 128, 'height': 128}], 'icon_format': None, 'icon_height': 2048, 'penny_price': None, 'award_type': 'global', 'static_icon_url': 'https://i.redd.it/award_images/t5_22cerq/8ad2jffnclf41_Thanks.png'}, {'giver_coin_reward': None, 'subreddit_id': None, 'is_new': False, 'days_of_drip_extension': None, 'coin_price': 70, 'id': 'award_7becef23-fb0b-4d62-b8a6-01d5759367cb', 'penny_donate': None, 'award_sub_type': 'GLOBAL', 'coin_reward': 0, 'icon_url': 'https://i.redd.it/award_images/t5_22cerq/gva4vt20qc751_FaithInHumanityRestored.png', 'days_of_premium': None, 'tiers_by_required_awardings': None, 'resized_icons': [{'url': 'https://preview.redd.it/award_images/t5_22cerq/gva4vt20qc751_FaithInHumanityRestored.png?width=16&height=16&auto=webp&s=19c8ba1570a2447a04354e05a9463f3d2063f522', 'width': 16, 'height': 16}, {'url': 'https://preview.redd.it/award_images/t5_22cerq/gva4vt20qc751_FaithInHumanityRestored.png?width=32&height=32&auto=webp&s=6222517b5d76c737ce1ad1ab55c42e3ce53c11d7', 'width': 32, 'height': 32}, {'url': 'https://preview.redd.it/award_images/t5_22cerq/gva4vt20qc751_FaithInHumanityRestored.png?width=48&height=48&auto=webp&s=5f5d88a13a1a514298ec5c7edc6f2506750f3c4a', 'width': 48, 'height': 48}, {'url': 'https://preview.redd.it/award_images/t5_22cerq/gva4vt20qc751_FaithInHumanityRestored.png?width=64&height=64&auto=webp&s=3af85a35bcd871d432337f309f6ea333181b4092', 'width': 64, 'height': 64}, {'url': 'https://preview.redd.it/award_images/t5_22cerq/gva4vt20qc751_FaithInHumanityRestored.png?width=128&height=128&auto=webp&s=4631e5c3e2cda226cb2725e9eff118c7b419a95e', 'width': 128, 'height': 128}], 'icon_width': 2048, 'static_icon_width': 2048, 'start_date': None, 'is_enabled': False, 'awardings_required_to_grant_benefits': None, 'description': 'When goodness lifts you', 'end_date': None, 'sticky_duration_seconds': None, 'subreddit_coin_reward': 0, 'count': 1, 'static_icon_height': 2048, 'name': 'Faith In Humanity Restored', 'resized_static_icons': [{'url': 'https://preview.redd.it/award_images/t5_22cerq/gva4vt20qc751_FaithInHumanityRestored.png?width=16&height=16&auto=webp&s=19c8ba1570a2447a04354e05a9463f3d2063f522', 'width': 16, 'height': 16}, {'url': 'https://preview.redd.it/award_images/t5_22cerq/gva4vt20qc751_FaithInHumanityRestored.png?width=32&height=32&auto=webp&s=6222517b5d76c737ce1ad1ab55c42e3ce53c11d7', 'width': 32, 'height': 32}, {'url': 'https://preview.redd.it/award_images/t5_22cerq/gva4vt20qc751_FaithInHumanityRestored.png?width=48&height=48&auto=webp&s=5f5d88a13a1a514298ec5c7edc6f2506750f3c4a', 'width': 48, 'height': 48}, {'url': 'https://preview.redd.it/award_images/t5_22cerq/gva4vt20qc751_FaithInHumanityRestored.png?width=64&height=64&auto=webp&s=3af85a35bcd871d432337f309f6ea333181b4092', 'width': 64, 'height': 64}, {'url': 'https://preview.redd.it/award_images/t5_22cerq/gva4vt20qc751_FaithInHumanityRestored.png?width=128&height=128&auto=webp&s=4631e5c3e2cda226cb2725e9eff118c7b419a95e', 'width': 128, 'height': 128}], 'icon_format': 'PNG', 'icon_height': 2048, 'penny_price': 0, 'award_type': 'global', 'static_icon_url': 'https://i.redd.it/award_images/t5_22cerq/gva4vt20qc751_FaithInHumanityRestored.png'}], 'awarders': [], 'media_only': False, 'can_gild': False, 'spoiler': False, 'locked': False, 'author_flair_text': '', 'treatment_tags': [], 'visited': False, 'removed_by': None, 'num_reports': None, 'distinguished': None, 'subreddit_id': 't5_2qh6e', 'author_is_blocked': False, 'mod_reason_by': None, 'removal_reason': None, 'link_flair_background_color': '', 'id': 'ijszr3', 'is_robot_indexable': True, 'report_reasons': None, 'author': 'BoogsterSU2', 'discussion_type': None, 'num_comments': 1693, 'send_replies': True, 'whitelist_status': 'all_ads', 'contest_mode': False, 'mod_reports': [], 'author_patreon_flair': False, 'author_flair_text_color': 'dark', 'permalink': '/r/television/comments/ijszr3/rnc_2020_kenosha_last_week_tonight_with_john/', 'parent_whitelist_status': 'all_ads', 'stickied': False, 'url': 'https://www.youtube.com/watch?v=rBu0BRTx2x8', 'subreddit_subscribers': 16452897, 'created_utc': 1598855421.0, 'num_crossposts': 2, 'media': {'type': 'youtube.com', 'oembed': {'provider_url': 'https://www.youtube.com/', 'version': '1.0', 'title': 'RNC 2020 & Kenosha: Last Week Tonight with John Oliver (HBO)', 'type': 'video', 'thumbnail_width': 480, 'height': 200, 'width': 356, 'html': '<iframe width=\"356\" height=\"200\" src=\"https://www.youtube.com/embed/rBu0BRTx2x8?feature=oembed&enablejsapi=1\" frameborder=\"0\" allow=\"accelerometer; autoplay; clipboard-write; encrypted-media; gyroscope; picture-in-picture\" allowfullscreen title=\"RNC 2020 & Kenosha: Last Week Tonight with John Oliver (HBO)\"></iframe>', 'author_name': 'LastWeekTonight', 'provider_name': 'YouTube', 'thumbnail_url': 'https://i.ytimg.com/vi/rBu0BRTx2x8/hqdefault.jpg', 'thumbnail_height': 360, 'author_url': 'https://www.youtube.com/user/LastWeekTonight'}}, 'is_video': False}]    1\n",
       "[{'approved_at_utc': None, 'subreddit': 'WorldofSportNews', 'selftext': '', 'author_fullname': 't2_7ex96k12', 'saved': False, 'mod_reason_title': None, 'gilded': 0, 'clicked': False, 'title': 'Mark Daigneault, new Oklahoma Thunder’s head coach: “Here I am home”', 'link_flair_richtext': [], 'subreddit_name_prefixed': 'r/WorldofSportNews', 'hidden': False, 'pwls': None, 'link_flair_css_class': None, 'downs': 0, 'thumbnail_height': 78, 'top_awarded_type': None, 'hide_score': False, 'name': 't3_jsm9vn', 'quarantine': False, 'link_flair_text_color': 'dark', 'upvote_ratio': 1.0, 'author_flair_background_color': None, 'subreddit_type': 'restricted', 'ups': 4, 'total_awards_received': 0, 'media_embed': {}, 'thumbnail_width': 140, 'author_flair_template_id': None, 'is_original_content': False, 'user_reports': [], 'secure_media': None, 'is_reddit_media_domain': False, 'is_meta': False, 'category': None, 'secure_media_embed': {}, 'link_flair_text': None, 'can_mod_post': False, 'score': 4, 'approved_by': None, 'is_created_from_ads_ui': False, 'author_premium': False, 'thumbnail': 'https://b.thumbs.redditmedia.com/_fs5gZadnnJnbYzp4D-5dGA7Pq836ZxwICqxqGc8NXo.jpg', 'edited': False, 'author_flair_css_class': None, 'author_flair_richtext': [], 'gildings': {}, 'post_hint': 'link', 'content_categories': None, 'is_self': False, 'mod_note': None, 'created': 1605148053.0, 'link_flair_type': 'text', 'wls': None, 'removed_by_category': None, 'banned_by': None, 'author_flair_type': 'text', 'domain': 'deepersport.com', 'allow_live_comments': False, 'selftext_html': None, 'likes': None, 'suggested_sort': None, 'banned_at_utc': None, 'url_overridden_by_dest': 'https://deepersport.com/mark-daigneault-new-oklahoma-thunders-head-coach-here-i-am-home/', 'view_count': None, 'archived': False, 'no_follow': False, 'is_crosspostable': False, 'pinned': False, 'over_18': False, 'preview': {'images': [{'source': {'url': 'https://external-preview.redd.it/H2pfEaISHDBm2DteMV7DKldX7XFk3389ClooATcN44k.jpg?auto=webp&s=35c3ca2538e95bee7bf57fb9294b9727e34cb062', 'width': 2048, 'height': 1152}, 'resolutions': [{'url': 'https://external-preview.redd.it/H2pfEaISHDBm2DteMV7DKldX7XFk3389ClooATcN44k.jpg?width=108&crop=smart&auto=webp&s=e22b7a279d40ec2d4ef6ec0856db8653187bc23d', 'width': 108, 'height': 60}, {'url': 'https://external-preview.redd.it/H2pfEaISHDBm2DteMV7DKldX7XFk3389ClooATcN44k.jpg?width=216&crop=smart&auto=webp&s=4b8395a2aae4f114c34b7a8abe96d25fcd78cbee', 'width': 216, 'height': 121}, {'url': 'https://external-preview.redd.it/H2pfEaISHDBm2DteMV7DKldX7XFk3389ClooATcN44k.jpg?width=320&crop=smart&auto=webp&s=d61df8ee72373b4e6d3cee1a0588b0677758202d', 'width': 320, 'height': 180}, {'url': 'https://external-preview.redd.it/H2pfEaISHDBm2DteMV7DKldX7XFk3389ClooATcN44k.jpg?width=640&crop=smart&auto=webp&s=96fdfeb7e254647cd54d3a771e7238bc307c40c8', 'width': 640, 'height': 360}, {'url': 'https://external-preview.redd.it/H2pfEaISHDBm2DteMV7DKldX7XFk3389ClooATcN44k.jpg?width=960&crop=smart&auto=webp&s=827173097ca6d1bd098ea8ae57e7711fe55a45cb', 'width': 960, 'height': 540}, {'url': 'https://external-preview.redd.it/H2pfEaISHDBm2DteMV7DKldX7XFk3389ClooATcN44k.jpg?width=1080&crop=smart&auto=webp&s=4d72a98284fc9a7551246a5ce5e02ad0e269e30e', 'width': 1080, 'height': 607}], 'variants': {}, 'id': '7Kccevb2B4d7v5snZKTuB4iVfmWc7YWzsNIAldFzX3U'}], 'enabled': False}, 'all_awardings': [], 'awarders': [], 'media_only': False, 'can_gild': False, 'spoiler': False, 'locked': False, 'author_flair_text': None, 'treatment_tags': [], 'visited': False, 'removed_by': None, 'num_reports': None, 'distinguished': None, 'subreddit_id': 't5_3bwyvf', 'author_is_blocked': False, 'mod_reason_by': None, 'removal_reason': None, 'link_flair_background_color': '', 'id': 'jsm9vn', 'is_robot_indexable': True, 'report_reasons': None, 'author': 'DeeperGlobalism', 'discussion_type': None, 'num_comments': 1, 'send_replies': True, 'whitelist_status': None, 'contest_mode': False, 'mod_reports': [], 'author_patreon_flair': False, 'author_flair_text_color': None, 'permalink': '/r/WorldofSportNews/comments/jsm9vn/mark_daigneault_new_oklahoma_thunders_head_coach/', 'parent_whitelist_status': None, 'stickied': False, 'url': 'https://deepersport.com/mark-daigneault-new-oklahoma-thunders-head-coach-here-i-am-home/', 'subreddit_subscribers': 8, 'created_utc': 1605148053.0, 'num_crossposts': 2, 'media': None, 'is_video': False}]                                                                                                                                                                                                                                                                                                                                                                                                                                                                                                                                                                                                                                                                                                                                                                                                                                                                                                                                                                                                                                                                                                                                                                                                                                                                                                                                                                                                                                                                                                                                                                                                                                                                                                                                                                                                                                                                                                                                                                                                                                                                                                                                                                                                                                                                                                                                                                                                                                                                                                                                                                                                                                                                                                                                                                                                                                                                                                                                                                                                                                                                                                                                                                                                                                                                                                                                                                                                                                                                                                                                                                                                                                                                                                                                                                                                                                                                                                                                                                                                                                                                                                                                                                                                                                                                                                                                                                                                                                                                                                                                                                                                                                                                                                                                                                                                                                                                                                                                                                                                                                                                                                                                                                                                                                                                                                                                                                                                                                                                                                                                                                                                                                                                                                                                                                                                                                                                                                                                                                                                                                                                                                                                                                                                                                                                                                                                                                                                                                                                                                                                                                                                                                                                                                                                                                                                                                                                                                                                                                                                                                                                                                                                                                                                                                                                                                                                                                                                                                                                                                                                                                                                                                                                                                                                                                                                                                                                                                                                                                                                                                                                                                                                                                                                                                                                                                                                                                                                                                                                                                                                                                                                                                                                                                                                                                                                                                                                                                                                                                                                                                                                                                                                                                                                                                                                                                                                                                                                                                                                                                                                                                                                                                                                                                                                                                                                                                                                                                                                                                                                                                                                                                                                                                                                                                                                                                                                                                                                                                                                                                                                                                                                                                                                                                                                                                                                                                                                                                                                                                                                                                                                                                                                                                                                                                                                                                                                                                                                                                                                                                                                                                                                                                                                                                                                                                                                                                                                                                                                                                                                                                                                                                                                                                                                                                                                                                                                                                                                                                                                                                                                                                                                                                                                                                                                                                                                                                                                                                                                                                                                                                                                                                                                                                                                                                                                                                                                                                                                                                                                                                                                                                                                                                                                                                                                                                                                                                                                                                                                                                                                                                                                                                                                                                                                                                                                                                                                                                                                                                                                                                                                                                                                                                                                                                                                                                                                                                                                                                                                                                                                                                                                                                                                                                                                                                                                                                                                                                                                                                                                                                                                                                          1\n",
       "Name: crosspost_parent_list, Length: 125, dtype: int64"
      ]
     },
     "execution_count": 113,
     "metadata": {},
     "output_type": "execute_result"
    }
   ],
   "source": [
    "pmaw_df['crosspost_parent_list'].value_counts()"
   ]
  },
  {
   "cell_type": "code",
   "execution_count": 114,
   "id": "0421d1b4",
   "metadata": {},
   "outputs": [
    {
     "data": {
      "text/plain": [
       "t3_fvxuzf    5\n",
       "t3_hqqrhz    4\n",
       "t3_m4kwv0    3\n",
       "t3_f5izmx    2\n",
       "t3_o3ijab    2\n",
       "            ..\n",
       "t3_eimgav    1\n",
       "t3_k7q4dm    1\n",
       "t3_k81kbx    1\n",
       "t3_f5bl8a    1\n",
       "t3_jsm9vn    1\n",
       "Name: crosspost_parent, Length: 119, dtype: int64"
      ]
     },
     "execution_count": 114,
     "metadata": {},
     "output_type": "execute_result"
    }
   ],
   "source": [
    "pmaw_df['crosspost_parent'].value_counts()"
   ]
  },
  {
   "cell_type": "code",
   "execution_count": 115,
   "id": "c0e76306",
   "metadata": {},
   "outputs": [
    {
     "data": {
      "text/plain": [
       "{'0klaryjhl5w41': {'status': 'valid', 'e': 'Image', 'm': 'image/jpg', 'p': [{'y': 76, 'x': 108, 'u': 'https://preview.redd.it/0klaryjhl5w41.jpg?width=108&crop=smart&auto=webp&s=e9c39b300fb57fb5cbad23c12d069b3114c9632b'}, {'y': 152, 'x': 216, 'u': 'https://preview.redd.it/0klaryjhl5w41.jpg?width=216&crop=smart&auto=webp&s=46adbf96c1bde0db67fc1d97243e55d22d4d188a'}, {'y': 225, 'x': 320, 'u': 'https://preview.redd.it/0klaryjhl5w41.jpg?width=320&crop=smart&auto=webp&s=9842b11be21f2512e30d5e9552ed442ee2322d71'}, {'y': 451, 'x': 640, 'u': 'https://preview.redd.it/0klaryjhl5w41.jpg?width=640&crop=smart&auto=webp&s=fce7ad6d5c9c580f5d5e8edba44f87a71dbfe2ab'}, {'y': 677, 'x': 960, 'u': 'https://preview.redd.it/0klaryjhl5w41.jpg?width=960&crop=smart&auto=webp&s=e0b10ef26eeaeff2310edd1a94940bf42d8386b5'}, {'y': 762, 'x': 1080, 'u': 'https://preview.redd.it/0klaryjhl5w41.jpg?width=1080&crop=smart&auto=webp&s=2a80317b9cdc8b093faed58db979d189bbc6de40'}], 's': {'y': 918, 'x': 1300, 'u': 'https://preview.redd.it/0klaryjhl5w41.jpg?width=1300&format=pjpg&auto=webp&s=378998bbb9fefa30e5fefd59bb7ebd6232dfab6e'}, 'id': '0klaryjhl5w41'}}                                                                                                                                                                                                                                                                                                                                                                                                                                                                                                                                                                                                                                                                                                                                                                                                                                                                                                                                                                                                                                                                                                                                                                             1\n",
       "{'f8c3ujoyqu051': {'status': 'valid', 'e': 'Image', 'm': 'image/png', 'p': [{'y': 58, 'x': 108, 'u': 'https://preview.redd.it/f8c3ujoyqu051.png?width=108&crop=smart&auto=webp&s=71e4ae5189c898490e8b471ebaea6e3c4e8c686f'}, {'y': 117, 'x': 216, 'u': 'https://preview.redd.it/f8c3ujoyqu051.png?width=216&crop=smart&auto=webp&s=bde2bb44807b53a8954261714ad6c9b25ba4442d'}, {'y': 174, 'x': 320, 'u': 'https://preview.redd.it/f8c3ujoyqu051.png?width=320&crop=smart&auto=webp&s=0576e2e6193fc055ccc301631754500d3678e1a1'}, {'y': 348, 'x': 640, 'u': 'https://preview.redd.it/f8c3ujoyqu051.png?width=640&crop=smart&auto=webp&s=3e6419d2b31f8ff6ce8c6ca95df7058b6c85f567'}, {'y': 523, 'x': 960, 'u': 'https://preview.redd.it/f8c3ujoyqu051.png?width=960&crop=smart&auto=webp&s=4bd6e66e79fe371334370171aaa1fd6631f020b9'}, {'y': 588, 'x': 1080, 'u': 'https://preview.redd.it/f8c3ujoyqu051.png?width=1080&crop=smart&auto=webp&s=1b03d4dc4f583e6abfd73475a8f0adf7ed01201f'}], 's': {'y': 1005, 'x': 1843, 'u': 'https://preview.redd.it/f8c3ujoyqu051.png?width=1843&format=png&auto=webp&s=13c367f160fe1716c7d445294bd2b0030e0b3556'}, 'id': 'f8c3ujoyqu051'}}                                                                                                                                                                                                                                                                                                                                                                                                                                                                                                                                                                                                                                                                                                                                                                                                                                                                                                                                                                                                                                                                                                                                                                             1\n",
       "{'fa518tpzhp551': {'status': 'valid', 'e': 'Image', 'm': 'image/png', 'p': [{'y': 102, 'x': 108, 'u': 'https://preview.redd.it/fa518tpzhp551.png?width=108&crop=smart&auto=webp&s=8c18ed3c220cf22314c475f5a267fecd0c8f0eec'}, {'y': 205, 'x': 216, 'u': 'https://preview.redd.it/fa518tpzhp551.png?width=216&crop=smart&auto=webp&s=7494dbff4f1341a9e10a1d1fdf1c13eb2a006ea5'}, {'y': 304, 'x': 320, 'u': 'https://preview.redd.it/fa518tpzhp551.png?width=320&crop=smart&auto=webp&s=a2cd044c5f815b0f7b31737c013401e2e0b9ae4e'}, {'y': 608, 'x': 640, 'u': 'https://preview.redd.it/fa518tpzhp551.png?width=640&crop=smart&auto=webp&s=2a9f456afdfb7f9a28137008e7a9fd0242ca4f00'}], 's': {'y': 850, 'x': 894, 'u': 'https://preview.redd.it/fa518tpzhp551.png?width=894&format=png&auto=webp&s=9d15b65b764a6e3a9a9568d331eb0b5890825d68'}, 'id': 'fa518tpzhp551'}}                                                                                                                                                                                                                                                                                                                                                                                                                                                                                                                                                                                                                                                                                                                                                                                                                                                                                                                                                                                                                                                                                                                                                                                                                                                                                                                                                                                                                                                                                     1\n",
       "{'id062yqnas051': {'status': 'valid', 'e': 'Image', 'm': 'image/png', 'p': [{'y': 148, 'x': 108, 'u': 'https://preview.redd.it/id062yqnas051.png?width=108&crop=smart&auto=webp&s=5ae694bc58f72b880fef3def58770ddc689f330b'}, {'y': 296, 'x': 216, 'u': 'https://preview.redd.it/id062yqnas051.png?width=216&crop=smart&auto=webp&s=a0beb08685544206ddf783ff14204aad63256ab9'}, {'y': 438, 'x': 320, 'u': 'https://preview.redd.it/id062yqnas051.png?width=320&crop=smart&auto=webp&s=a6bfe6d76e39c38bf993784fee6dc2961e64fc5d'}], 's': {'y': 625, 'x': 456, 'u': 'https://preview.redd.it/id062yqnas051.png?width=456&format=png&auto=webp&s=25b4391a227ac35442c25f2e71c414f0c579f6a6'}, 'id': 'id062yqnas051'}}                                                                                                                                                                                                                                                                                                                                                                                                                                                                                                                                                                                                                                                                                                                                                                                                                                                                                                                                                                                                                                                                                                                                                                                                                                                                                                                                                                                                                                                                                                                                                                                                                                       1\n",
       "{'75883fnknr051': {'status': 'valid', 'e': 'Image', 'm': 'image/png', 'p': [{'y': 54, 'x': 108, 'u': 'https://preview.redd.it/75883fnknr051.png?width=108&crop=smart&auto=webp&s=e6118432e4fc7ec6646644d415f2f3f00c2012f6'}, {'y': 109, 'x': 216, 'u': 'https://preview.redd.it/75883fnknr051.png?width=216&crop=smart&auto=webp&s=71bc5f69c77cf3c9601ceaed83ef67de5824a954'}, {'y': 162, 'x': 320, 'u': 'https://preview.redd.it/75883fnknr051.png?width=320&crop=smart&auto=webp&s=26a5eb0e10bda57c2192443268d45b977821e713'}, {'y': 325, 'x': 640, 'u': 'https://preview.redd.it/75883fnknr051.png?width=640&crop=smart&auto=webp&s=92326db414f23d947cde88a7a1e5e6060c64d893'}, {'y': 488, 'x': 960, 'u': 'https://preview.redd.it/75883fnknr051.png?width=960&crop=smart&auto=webp&s=cb3b981c91b690fcf0f39e3856916529cdb564c0'}, {'y': 549, 'x': 1080, 'u': 'https://preview.redd.it/75883fnknr051.png?width=1080&crop=smart&auto=webp&s=876b11e124a5eec46945f624b2ee52f2292be39b'}], 's': {'y': 577, 'x': 1134, 'u': 'https://preview.redd.it/75883fnknr051.png?width=1134&format=png&auto=webp&s=14de98495f434a1adbe2539cb53745430a270059'}, 'id': '75883fnknr051'}, '0hm7qfslrr051': {'status': 'valid', 'e': 'Image', 'm': 'image/png', 'p': [{'y': 56, 'x': 108, 'u': 'https://preview.redd.it/0hm7qfslrr051.png?width=108&crop=smart&auto=webp&s=19323b590db4ed4ae536c0713aaa75419f290364'}, {'y': 112, 'x': 216, 'u': 'https://preview.redd.it/0hm7qfslrr051.png?width=216&crop=smart&auto=webp&s=f269442ce55b2e6c07f90038784756dfb2c501bf'}, {'y': 166, 'x': 320, 'u': 'https://preview.redd.it/0hm7qfslrr051.png?width=320&crop=smart&auto=webp&s=f9b9ea70aba275e2d40e6894a8afad1596515eb6'}, {'y': 333, 'x': 640, 'u': 'https://preview.redd.it/0hm7qfslrr051.png?width=640&crop=smart&auto=webp&s=1b8d22b7ff9351314f6a469ebd76edda37d63e82'}, {'y': 500, 'x': 960, 'u': 'https://preview.redd.it/0hm7qfslrr051.png?width=960&crop=smart&auto=webp&s=1130ccf4a3fb97a2ee5f55a0b527d5e64f887106'}, {'y': 563, 'x': 1080, 'u': 'https://preview.redd.it/0hm7qfslrr051.png?width=1080&crop=smart&auto=webp&s=ac844216462d5e1f70cd4d385ac940e185fde04c'}], 's': {'y': 607, 'x': 1164, 'u': 'https://preview.redd.it/0hm7qfslrr051.png?width=1164&format=png&auto=webp&s=3f3cc935388ee780d7d56f4534ee034482232f9f'}, 'id': '0hm7qfslrr051'}}    1\n",
       "{'hujbzau9mr051': {'status': 'valid', 'e': 'Image', 'm': 'image/png', 'p': [{'y': 64, 'x': 108, 'u': 'https://preview.redd.it/hujbzau9mr051.png?width=108&crop=smart&auto=webp&s=e2ee9d7492fef231228019cebeefc7e6a374d0d2'}, {'y': 129, 'x': 216, 'u': 'https://preview.redd.it/hujbzau9mr051.png?width=216&crop=smart&auto=webp&s=cdf69ea6d739f20d9aab0d4cc0aefe91a304f338'}, {'y': 192, 'x': 320, 'u': 'https://preview.redd.it/hujbzau9mr051.png?width=320&crop=smart&auto=webp&s=6cde34664c2f5e9d1203e2517dffda713bd2335c'}, {'y': 384, 'x': 640, 'u': 'https://preview.redd.it/hujbzau9mr051.png?width=640&crop=smart&auto=webp&s=cddbd513f905ff9734febd2c4cb9c42c0fad9903'}, {'y': 576, 'x': 960, 'u': 'https://preview.redd.it/hujbzau9mr051.png?width=960&crop=smart&auto=webp&s=c1131dd35c9a12b5ee016b1d5bc3af93e0592325'}, {'y': 648, 'x': 1080, 'u': 'https://preview.redd.it/hujbzau9mr051.png?width=1080&crop=smart&auto=webp&s=cef330db8760698a04ddc0694e6de4f0c45e2c43'}], 's': {'y': 1500, 'x': 2500, 'u': 'https://preview.redd.it/hujbzau9mr051.png?width=2500&format=png&auto=webp&s=ab7984ae3d87924de408c028d6e100af88287c9c'}, 'id': 'hujbzau9mr051'}}                                                                                                                                                                                                                                                                                                                                                                                                                                                                                                                                                                                                                                                                                                                                                                                                                                                                                                                                                                                                                                                                                                                                                                             1\n",
       "Name: media_metadata, dtype: int64"
      ]
     },
     "execution_count": 115,
     "metadata": {},
     "output_type": "execute_result"
    }
   ],
   "source": [
    "pmaw_df['media_metadata'].value_counts()"
   ]
  },
  {
   "cell_type": "code",
   "execution_count": 116,
   "id": "18a32b91",
   "metadata": {},
   "outputs": [
    {
     "data": {
      "text/plain": [
       "Series([], Name: call_to_action, dtype: int64)"
      ]
     },
     "execution_count": 116,
     "metadata": {},
     "output_type": "execute_result"
    }
   ],
   "source": [
    "pmaw_df['call_to_action'].value_counts()"
   ]
  },
  {
   "cell_type": "code",
   "execution_count": 117,
   "id": "7a9570a7",
   "metadata": {
    "scrolled": true
   },
   "outputs": [
    {
     "data": {
      "text/plain": [
       "True    9\n",
       "Name: author_cakeday, dtype: int64"
      ]
     },
     "execution_count": 117,
     "metadata": {},
     "output_type": "execute_result"
    }
   ],
   "source": [
    "pmaw_df['author_cakeday'].value_counts()"
   ]
  },
  {
   "cell_type": "code",
   "execution_count": 118,
   "id": "82734817",
   "metadata": {},
   "outputs": [],
   "source": [
    "# create binary column to see whether num_comments > 9 (median)\n",
    "pmaw_df['above_median_comments'] = np.where(pmaw_df['num_comments']>9, 1, 0)"
   ]
  },
  {
   "cell_type": "code",
   "execution_count": 119,
   "id": "fc7ae912",
   "metadata": {},
   "outputs": [],
   "source": [
    "# dropping all columns that don't hold relevent information\n",
    "pmaw_df.drop(columns = ['comment_limit', \n",
    "            'comment_sort',\n",
    "            '_reddit',\n",
    "            'approved_at_utc',\n",
    "            'saved',\n",
    "            'mod_reason_title',\n",
    "            'clicked',\n",
    "            'call_to_action',\n",
    "            'link_flair_richtext',\n",
    "            'subreddit_name_prefixed',\n",
    "            'hidden',\n",
    "            'downs',\n",
    "            'thumbnail_height',\n",
    "            'pwls',\n",
    "            'top_awarded_type',\n",
    "            'hide_score',\n",
    "            'name',\n",
    "            'quarantine',\n",
    "            'link_flair_text_color',\n",
    "            'author_flair_background_color',\n",
    "            'ups',\n",
    "            'media_embed',\n",
    "            'thumbnail_width',\n",
    "            'author_flair_template_id',\n",
    "            'is_original_content',\n",
    "            'secure_media',\n",
    "            'is_reddit_media_domain',\n",
    "            'is_meta',\n",
    "            'category',\n",
    "            'secure_media_embed',\n",
    "            'can_mod_post',\n",
    "            'score',\n",
    "            'approved_by',\n",
    "            'is_created_from_ads_ui',\n",
    "            'edited',\n",
    "            'author_flair_css_class',\n",
    "            'gildings',\n",
    "            'content_categories',\n",
    "            'is_self',\n",
    "            'mod_note',\n",
    "            'created',\n",
    "            'link_flair_type',\n",
    "            'wls',\n",
    "            'removed_by_category',\n",
    "            'banned_by',\n",
    "            'selftext_html',\n",
    "            'likes',\n",
    "            'suggested_sort',\n",
    "            'banned_at_utc',\n",
    "            'url_overridden_by_dest',\n",
    "            'view_count',\n",
    "            'archived',\n",
    "            'no_follow',\n",
    "            'is_crosspostable',\n",
    "            'pinned',\n",
    "            'over_18',\n",
    "            'all_awardings',\n",
    "            'awarders',\n",
    "            'media_only',\n",
    "            'link_flair_template_id',\n",
    "            'can_gild',\n",
    "            'spoiler',\n",
    "            'locked',\n",
    "            'treatment_tags',\n",
    "            'visited',\n",
    "            'removed_by',\n",
    "            'num_reports',\n",
    "            'distinguished',\n",
    "            'subreddit_id',\n",
    "            'author_is_blocked',\n",
    "            'mod_reason_by',\n",
    "            'removal_reason',\n",
    "            'link_flair_background_color',\n",
    "            'id',\n",
    "            'is_robot_indexable',\n",
    "            'report_reasons',\n",
    "            'discussion_type',\n",
    "            'send_replies',\n",
    "            'whitelist_status',\n",
    "            'contest_mode',\n",
    "            'mod_reports',\n",
    "            'author_flair_text_color',\n",
    "            'permalink',\n",
    "            'parent_whitelist_status',\n",
    "            'stickied',\n",
    "            'url',\n",
    "            'subreddit_subscribers',\n",
    "            'num_crossposts',\n",
    "            'media',\n",
    "            'is_video',\n",
    "            '_fetched',\n",
    "            '_comments_by_id',\n",
    "            'author_fullname',\n",
    "            'author_premium',\n",
    "            'author_flair_richtext',\n",
    "            'author_flair_type',\n",
    "            'author_patreon_flair',\n",
    "            'post_hint',\n",
    "            'preview',\n",
    "            'crosspost_parent_list',\n",
    "            'crosspost_parent',\n",
    "            'media_metadata',\n",
    "            'call_to_action',\n",
    "            'author_cakeday',\n",
    "            'link_flair_text',\n",
    "            'user_reports',\n",
    "            'subreddit_type',\n",
    "            'thumbnail',\n",
    "            'event_start',\n",
    "            'event_end',\n",
    "            'event_is_live',\n",
    "            'author_flair_text'],\n",
    "            inplace = True)"
   ]
  },
  {
   "cell_type": "code",
   "execution_count": 120,
   "id": "a4ad3131",
   "metadata": {
    "scrolled": true
   },
   "outputs": [
    {
     "name": "stdout",
     "output_type": "stream",
     "text": [
      "<class 'pandas.core.frame.DataFrame'>\n",
      "RangeIndex: 10000 entries, 0 to 9999\n",
      "Data columns (total 13 columns):\n",
      " #   Column                 Non-Null Count  Dtype  \n",
      "---  ------                 --------------  -----  \n",
      " 0   subreddit              10000 non-null  object \n",
      " 1   selftext               7483 non-null   object \n",
      " 2   gilded                 10000 non-null  int64  \n",
      " 3   title                  10000 non-null  object \n",
      " 4   link_flair_css_class   1188 non-null   object \n",
      " 5   upvote_ratio           10000 non-null  float64\n",
      " 6   total_awards_received  10000 non-null  int64  \n",
      " 7   domain                 6780 non-null   object \n",
      " 8   allow_live_comments    10000 non-null  bool   \n",
      " 9   author                 6288 non-null   object \n",
      " 10  num_comments           10000 non-null  int64  \n",
      " 11  created_utc            10000 non-null  float64\n",
      " 12  above_median_comments  10000 non-null  int64  \n",
      "dtypes: bool(1), float64(2), int64(4), object(6)\n",
      "memory usage: 947.4+ KB\n"
     ]
    }
   ],
   "source": [
    "# checking to see if there are more null values\n",
    "pmaw_df.info()"
   ]
  },
  {
   "cell_type": "code",
   "execution_count": 122,
   "id": "c43d33e7",
   "metadata": {},
   "outputs": [],
   "source": [
    "#replace NaN's with missing spaces\n",
    "\n",
    "pmaw_df['selftext'] = pmaw_df['selftext'].fillna('')\n",
    "pmaw_df['link_flair_css_class'] = pmaw_df['link_flair_css_class'].fillna('')\n",
    "pmaw_df['author'] = pmaw_df['author'].fillna('')\n",
    "pmaw_df['domain'] = pmaw_df['domain'].fillna('')"
   ]
  },
  {
   "cell_type": "code",
   "execution_count": 123,
   "id": "d308ad81",
   "metadata": {
    "scrolled": true
   },
   "outputs": [
    {
     "name": "stdout",
     "output_type": "stream",
     "text": [
      "<class 'pandas.core.frame.DataFrame'>\n",
      "RangeIndex: 10000 entries, 0 to 9999\n",
      "Data columns (total 13 columns):\n",
      " #   Column                 Non-Null Count  Dtype  \n",
      "---  ------                 --------------  -----  \n",
      " 0   subreddit              10000 non-null  object \n",
      " 1   selftext               10000 non-null  object \n",
      " 2   gilded                 10000 non-null  int64  \n",
      " 3   title                  10000 non-null  object \n",
      " 4   link_flair_css_class   10000 non-null  object \n",
      " 5   upvote_ratio           10000 non-null  float64\n",
      " 6   total_awards_received  10000 non-null  int64  \n",
      " 7   domain                 10000 non-null  object \n",
      " 8   allow_live_comments    10000 non-null  bool   \n",
      " 9   author                 10000 non-null  object \n",
      " 10  num_comments           10000 non-null  int64  \n",
      " 11  created_utc            10000 non-null  float64\n",
      " 12  above_median_comments  10000 non-null  int64  \n",
      "dtypes: bool(1), float64(2), int64(4), object(6)\n",
      "memory usage: 947.4+ KB\n"
     ]
    }
   ],
   "source": [
    "# no more nulls!\n",
    "pmaw_df.info()"
   ]
  },
  {
   "cell_type": "code",
   "execution_count": 124,
   "id": "36b8dfc1",
   "metadata": {},
   "outputs": [
    {
     "data": {
      "text/plain": [
       "0      2020-07-13 23:35:49\n",
       "1      2020-07-13 23:35:01\n",
       "2      2020-07-13 23:34:02\n",
       "3      2020-07-13 23:32:22\n",
       "4      2020-07-13 23:31:55\n",
       "               ...        \n",
       "9995   2020-11-12 02:36:43\n",
       "9996   2020-11-12 02:34:40\n",
       "9997   2020-11-12 02:32:42\n",
       "9998   2020-11-12 02:31:51\n",
       "9999   2020-11-12 02:31:45\n",
       "Name: date, Length: 10000, dtype: datetime64[ns]"
      ]
     },
     "execution_count": 124,
     "metadata": {},
     "output_type": "execute_result"
    }
   ],
   "source": [
    "# converting the unix timestamp to datetime format\n",
    "pmaw_df['date'] = pd.to_datetime(pmaw_df['created_utc'],unit='s')\n",
    "pmaw_df['date']"
   ]
  },
  {
   "cell_type": "code",
   "execution_count": 125,
   "id": "5d3d8607",
   "metadata": {},
   "outputs": [],
   "source": [
    "def drop_links(text):\n",
    "    words = text.split(' ')\n",
    "    words_to_sub = [w for w in words if 'http' in w]\n",
    "    \n",
    "    if words_to_sub:\n",
    "        for w in words_to_sub:\n",
    "            new_word = re.sub('http.*', '', w)\n",
    "            text = re.sub(w, new_word, text)\n",
    "        return text\n",
    "        \n",
    "    # If no links in post, return text   \n",
    "    return text"
   ]
  },
  {
   "cell_type": "code",
   "execution_count": 126,
   "id": "f27f8328",
   "metadata": {},
   "outputs": [],
   "source": [
    "def preprocessing(text):\n",
    "            \n",
    "    # Remove new lines\n",
    "    text = text.replace('\\n',' ').lower()\n",
    "    \n",
    "    # Remove emoticons\n",
    "    text = re.sub(':d', '', str(text)).strip()\n",
    "    text = re.sub(':p', '', str(text)).strip()\n",
    "    \n",
    "    # Remove HTML markers and punctuation\n",
    "    text = re.sub('xa0', '', str(text)).strip()\n",
    "    text = re.sub('x200b', '', str(text)).strip()\n",
    "    text = re.sub('[^a-zA-Z\\s]', '', str(text)).strip() \n",
    "    \n",
    "    return text"
   ]
  },
  {
   "cell_type": "code",
   "execution_count": 127,
   "id": "1bc8f81f",
   "metadata": {},
   "outputs": [],
   "source": [
    "stop_word_set = set(CountVectorizer(stop_words = 'english').get_stop_words())\n",
    "\n",
    "def lemmatize(text):\n",
    "    # Change each word to a string to prepare for lemmatization\n",
    "    words = text.split(' ')\n",
    "    \n",
    "    # Lemmatize words.\n",
    "    lemmatizer = WordNetLemmatizer()\n",
    "    meaningful_words = [lemmatizer.lemmatize(w) for w in words if not w in stop_word_set]\n",
    "    \n",
    "    return(\" \".join(meaningful_words))"
   ]
  },
  {
   "cell_type": "code",
   "execution_count": 131,
   "id": "d0162c2f",
   "metadata": {},
   "outputs": [],
   "source": [
    "# applying preprocessing function to all obj datatypes\n",
    "\n",
    "pmaw_df['clean_title'] = pmaw_df['title'].apply(preprocessing)\n",
    "pmaw_df['clean_selftext'] = pmaw_df['selftext'].apply(preprocessing)\n",
    "pmaw_df['subreddit'] = pmaw_df['subreddit'].apply(preprocessing)\n",
    "pmaw_df['clean_title_flair'] = pmaw_df['link_flair_css_class'].apply(preprocessing)\n",
    "pmaw_df['clean_domain'] = pmaw_df['domain'].apply(preprocessing)\n",
    "pmaw_df['clean_author'] = pmaw_df['author'].apply(preprocessing)"
   ]
  },
  {
   "cell_type": "code",
   "execution_count": 133,
   "id": "5e61bd6f",
   "metadata": {},
   "outputs": [],
   "source": [
    "# applying drop_links function to the same columns\n",
    "\n",
    "pmaw_df['clean_title'] = pmaw_df['clean_title'].apply(drop_links)\n",
    "pmaw_df['clean_selftext'] = pmaw_df['clean_selftext'].apply(drop_links)\n",
    "pmaw_df['subreddit'] = pmaw_df['subreddit'].apply(drop_links)\n",
    "pmaw_df['clean_title_flair'] = pmaw_df['clean_title_flair'].apply(drop_links)\n",
    "pmaw_df['clean_domain'] = pmaw_df['clean_domain'].apply(drop_links)\n",
    "pmaw_df['clean_author'] = pmaw_df['clean_author'].apply(drop_links)"
   ]
  },
  {
   "cell_type": "code",
   "execution_count": 134,
   "id": "5d836d3d",
   "metadata": {},
   "outputs": [],
   "source": [
    "# lemmatizing text columns\n",
    "pmaw_df['clean_title'] = pmaw_df['clean_title'].apply(lemmatize, True)\n",
    "pmaw_df['clean_selftext'] = pmaw_df['clean_selftext'].apply(lemmatize, True)\n",
    "pmaw_df['subreddit'] = pmaw_df['subreddit'].apply(lemmatize, True)\n",
    "pmaw_df['clean_title_flair'] = pmaw_df['clean_title_flair'].apply(lemmatize, True)\n",
    "pmaw_df['clean_domain'] = pmaw_df['clean_domain'].apply(lemmatize, True)\n",
    "pmaw_df['clean_author'] = pmaw_df['clean_author'].apply(lemmatize, True)"
   ]
  },
  {
   "cell_type": "code",
   "execution_count": 135,
   "id": "f2d2e3e1",
   "metadata": {},
   "outputs": [
    {
     "name": "stdout",
     "output_type": "stream",
     "text": [
      "90s Bulls with Prime Mutombo and Rodman vs 90s Rockets with Prime LeBron and Payton, who wins in a 7 game series? \n",
      "\n",
      "s bull prime mutombo rodman v s rocket prime lebron payton win  game series\n"
     ]
    }
   ],
   "source": [
    "# Compare lemmatized text vs regular text\n",
    "\n",
    "print(pmaw_df['title'][0], '\\n')\n",
    "print(pmaw_df['clean_title'][0])"
   ]
  },
  {
   "cell_type": "code",
   "execution_count": 136,
   "id": "b45a0c11",
   "metadata": {},
   "outputs": [],
   "source": [
    "# changing timestamp to int datatype\n",
    "pmaw_df['created_utc'] = pmaw_df['created_utc'].astype(int)"
   ]
  },
  {
   "cell_type": "code",
   "execution_count": 137,
   "id": "c19ef478",
   "metadata": {
    "scrolled": true
   },
   "outputs": [
    {
     "data": {
      "text/html": [
       "<div>\n",
       "<style scoped>\n",
       "    .dataframe tbody tr th:only-of-type {\n",
       "        vertical-align: middle;\n",
       "    }\n",
       "\n",
       "    .dataframe tbody tr th {\n",
       "        vertical-align: top;\n",
       "    }\n",
       "\n",
       "    .dataframe thead th {\n",
       "        text-align: right;\n",
       "    }\n",
       "</style>\n",
       "<table border=\"1\" class=\"dataframe\">\n",
       "  <thead>\n",
       "    <tr style=\"text-align: right;\">\n",
       "      <th></th>\n",
       "      <th>gilded</th>\n",
       "      <th>upvote_ratio</th>\n",
       "      <th>total_awards_received</th>\n",
       "      <th>num_comments</th>\n",
       "      <th>created_utc</th>\n",
       "      <th>above_median_comments</th>\n",
       "    </tr>\n",
       "  </thead>\n",
       "  <tbody>\n",
       "    <tr>\n",
       "      <th>count</th>\n",
       "      <td>10000.00000</td>\n",
       "      <td>10000.000000</td>\n",
       "      <td>10000.00000</td>\n",
       "      <td>10000.000000</td>\n",
       "      <td>1.000000e+04</td>\n",
       "      <td>10000.000000</td>\n",
       "    </tr>\n",
       "    <tr>\n",
       "      <th>mean</th>\n",
       "      <td>0.00590</td>\n",
       "      <td>0.809797</td>\n",
       "      <td>0.21350</td>\n",
       "      <td>57.174100</td>\n",
       "      <td>1.614467e+09</td>\n",
       "      <td>0.497900</td>\n",
       "    </tr>\n",
       "    <tr>\n",
       "      <th>std</th>\n",
       "      <td>0.10033</td>\n",
       "      <td>0.241935</td>\n",
       "      <td>1.93889</td>\n",
       "      <td>484.555503</td>\n",
       "      <td>2.556958e+07</td>\n",
       "      <td>0.500021</td>\n",
       "    </tr>\n",
       "    <tr>\n",
       "      <th>min</th>\n",
       "      <td>0.00000</td>\n",
       "      <td>0.040000</td>\n",
       "      <td>0.00000</td>\n",
       "      <td>0.000000</td>\n",
       "      <td>1.579903e+09</td>\n",
       "      <td>0.000000</td>\n",
       "    </tr>\n",
       "    <tr>\n",
       "      <th>25%</th>\n",
       "      <td>0.00000</td>\n",
       "      <td>0.670000</td>\n",
       "      <td>0.00000</td>\n",
       "      <td>1.000000</td>\n",
       "      <td>1.592482e+09</td>\n",
       "      <td>0.000000</td>\n",
       "    </tr>\n",
       "    <tr>\n",
       "      <th>50%</th>\n",
       "      <td>0.00000</td>\n",
       "      <td>0.930000</td>\n",
       "      <td>0.00000</td>\n",
       "      <td>9.000000</td>\n",
       "      <td>1.607309e+09</td>\n",
       "      <td>0.000000</td>\n",
       "    </tr>\n",
       "    <tr>\n",
       "      <th>75%</th>\n",
       "      <td>0.00000</td>\n",
       "      <td>1.000000</td>\n",
       "      <td>0.00000</td>\n",
       "      <td>40.000000</td>\n",
       "      <td>1.636766e+09</td>\n",
       "      <td>1.000000</td>\n",
       "    </tr>\n",
       "    <tr>\n",
       "      <th>max</th>\n",
       "      <td>4.00000</td>\n",
       "      <td>1.000000</td>\n",
       "      <td>95.00000</td>\n",
       "      <td>40688.000000</td>\n",
       "      <td>1.662032e+09</td>\n",
       "      <td>1.000000</td>\n",
       "    </tr>\n",
       "  </tbody>\n",
       "</table>\n",
       "</div>"
      ],
      "text/plain": [
       "            gilded  upvote_ratio  total_awards_received  num_comments  \\\n",
       "count  10000.00000  10000.000000            10000.00000  10000.000000   \n",
       "mean       0.00590      0.809797                0.21350     57.174100   \n",
       "std        0.10033      0.241935                1.93889    484.555503   \n",
       "min        0.00000      0.040000                0.00000      0.000000   \n",
       "25%        0.00000      0.670000                0.00000      1.000000   \n",
       "50%        0.00000      0.930000                0.00000      9.000000   \n",
       "75%        0.00000      1.000000                0.00000     40.000000   \n",
       "max        4.00000      1.000000               95.00000  40688.000000   \n",
       "\n",
       "        created_utc  above_median_comments  \n",
       "count  1.000000e+04           10000.000000  \n",
       "mean   1.614467e+09               0.497900  \n",
       "std    2.556958e+07               0.500021  \n",
       "min    1.579903e+09               0.000000  \n",
       "25%    1.592482e+09               0.000000  \n",
       "50%    1.607309e+09               0.000000  \n",
       "75%    1.636766e+09               1.000000  \n",
       "max    1.662032e+09               1.000000  "
      ]
     },
     "execution_count": 137,
     "metadata": {},
     "output_type": "execute_result"
    }
   ],
   "source": [
    "pmaw_df.describe()"
   ]
  },
  {
   "cell_type": "markdown",
   "id": "aa1a0067",
   "metadata": {},
   "source": [
    "It seems like the `num_comments` column is heavily skewed -- we'll drop the values above 500 comments to get a better representation of the dataset."
   ]
  },
  {
   "cell_type": "code",
   "execution_count": 138,
   "id": "fce40f04",
   "metadata": {},
   "outputs": [],
   "source": [
    "# dropping values that are over 500\n",
    "pmaw_df.drop(pmaw_df[pmaw_df['num_comments'] >= 500].index,\n",
    "             inplace = True)"
   ]
  },
  {
   "cell_type": "code",
   "execution_count": 140,
   "id": "b2fdd180",
   "metadata": {},
   "outputs": [],
   "source": [
    "# create column that combines the texts of the cleaned title and cleaned self_text\n",
    "pmaw_df['combi_text'] = pmaw_df['clean_title'] + ' ' + \\\n",
    "pmaw_df['clean_selftext']"
   ]
  },
  {
   "cell_type": "markdown",
   "id": "a88a628d",
   "metadata": {},
   "source": [
    "# Visuals"
   ]
  },
  {
   "cell_type": "code",
   "execution_count": 141,
   "id": "8fe53030",
   "metadata": {},
   "outputs": [
    {
     "data": {
      "image/png": "[encoded data removed]",
      "text/plain": [
       "<Figure size 864x432 with 1 Axes>"
      ]
     },
     "metadata": {
      "needs_background": "light"
     },
     "output_type": "display_data"
    }
   ],
   "source": [
    "fig, ax = plt.subplots(figsize=(12,6))\n",
    "mean_1 = pmaw_df['upvote_ratio'].mean()\n",
    "g1 = sns.histplot(data=pmaw_df, x='upvote_ratio', bins = 25)\n",
    "g1.set_title(f'Upvote ratio of r/nba (Mean:{(mean_1):.2f})')\n",
    "g1.axvline(mean_1,\n",
    "           color = 'black',\n",
    "           ls='--');"
   ]
  },
  {
   "cell_type": "markdown",
   "id": "24e3a67d",
   "metadata": {},
   "source": [
    "The mean upvote ratio sits right at 0.81, which is fairly high. We can also see a high proportion of posts that have 1.0 upvote ratio. My hypothesis is that most posts just don't attract enough attention outside of the subreddit which would leave just people that are interested in the topic to vote on each submission. It could also be that most posts are buried under other submissions due to the high amount of submissions that occur every day."
   ]
  },
  {
   "cell_type": "code",
   "execution_count": 142,
   "id": "94d12619",
   "metadata": {},
   "outputs": [
    {
     "data": {
      "image/png": "[encoded data removed]",
      "text/plain": [
       "<Figure size 864x432 with 1 Axes>"
      ]
     },
     "metadata": {
      "needs_background": "light"
     },
     "output_type": "display_data"
    }
   ],
   "source": [
    "fig, ax = plt.subplots(figsize=(12,6))\n",
    "mean_2 = pmaw_df['num_comments'].mean()\n",
    "g2 = sns.histplot(data=pmaw_df, x='num_comments', bins = 25)\n",
    "g2.set_title(f'Number of comments of r/nba (Mean:{(mean_2):.2f})')\n",
    "g2.axvline(mean_1,\n",
    "           color = 'red',\n",
    "           ls='--');"
   ]
  },
  {
   "cell_type": "markdown",
   "id": "d8dad651",
   "metadata": {},
   "source": [
    "This visual supports the above hypothesis that most submissions are buried under other submissions, as graph is heavily right skewed."
   ]
  },
  {
   "cell_type": "markdown",
   "id": "0e8ccc2e",
   "metadata": {},
   "source": [
    "# Exploratory Data Analysis"
   ]
  },
  {
   "cell_type": "markdown",
   "id": "77766db6",
   "metadata": {},
   "source": [
    "## Title Length"
   ]
  },
  {
   "cell_type": "code",
   "execution_count": 143,
   "id": "e5912ed0",
   "metadata": {},
   "outputs": [],
   "source": [
    "def subplot_histograms(col, graph_title):\n",
    "    fig, ax = plt.subplots(figsize=(12,6))\n",
    "    \n",
    "    # Plot first df   \n",
    "    g1 = sns.histplot(data=pmaw_df, x=pmaw_df[col].str.len(), bins=25)\n",
    "    mean = pmaw_df[col].str.len().mean()\n",
    "    g1.axvline(mean, ls='--', color='red')\n",
    "    g1.set_title(f'r/nba (Mean: {round(mean)} words)')\n",
    "    g1.set_xlabel(f'Length of {col.capitalize()}')"
   ]
  },
  {
   "cell_type": "code",
   "execution_count": 144,
   "id": "2a5bf310",
   "metadata": {},
   "outputs": [
    {
     "data": {
      "image/png": "[encoded data removed]",
      "text/plain": [
       "<Figure size 864x432 with 1 Axes>"
      ]
     },
     "metadata": {
      "needs_background": "light"
     },
     "output_type": "display_data"
    }
   ],
   "source": [
    "subplot_histograms('title', 'Average Title Length')"
   ]
  },
  {
   "cell_type": "markdown",
   "id": "d2246b6b",
   "metadata": {},
   "source": [
    "The average amount of words per title is 79. Some may think that this is quite large especially for title length, but as r/nba often uses quotes from athletes/analyzers/interviewers, it would not be that surprising to those that frequent the subreddit."
   ]
  },
  {
   "cell_type": "markdown",
   "id": "7dbbaa15",
   "metadata": {},
   "source": [
    "## Post Length"
   ]
  },
  {
   "cell_type": "code",
   "execution_count": 145,
   "id": "8f7adcca",
   "metadata": {},
   "outputs": [],
   "source": [
    "def subplot_histograms_1(col, graph_title):\n",
    "    fig, ax = plt.subplots(figsize=(12,6))\n",
    "    \n",
    "    # Plot first df   \n",
    "    g1 = sns.histplot(data=pmaw_df, x=pmaw_df[col].str.len(), bins=500)\n",
    "    mean = pmaw_df[col].str.len().mean()\n",
    "    plt.xlim(0,500)\n",
    "    g1.axvline(mean, ls='--', color='red')\n",
    "    g1.set_title(f'r/nba (Mean: {round(mean)} words)')\n",
    "    g1.set_xlabel(f'Length of {col.capitalize()}')"
   ]
  },
  {
   "cell_type": "code",
   "execution_count": 146,
   "id": "85656862",
   "metadata": {},
   "outputs": [
    {
     "data": {
      "image/png": "[encoded data removed]",
      "text/plain": [
       "<Figure size 864x432 with 1 Axes>"
      ]
     },
     "metadata": {
      "needs_background": "light"
     },
     "output_type": "display_data"
    }
   ],
   "source": [
    "subplot_histograms_1('clean_selftext', 'Average Post Length')"
   ]
  },
  {
   "cell_type": "markdown",
   "id": "3f2804cf",
   "metadata": {},
   "source": [
    "From this graph, it is evident there is a large amount of submissions either have no post description, or very few words. This is probably due to the high amount of posts that only contain interview videos and/or pictures.\n",
    "\n",
    "It is helpful to note that most of the more in-depth discussion surrounding the topic of NBA usually occurs in a different subreddit: `r/nbadiscussion`."
   ]
  },
  {
   "cell_type": "markdown",
   "id": "ec2efbb0",
   "metadata": {},
   "source": [
    "# Analyzing Ngrams"
   ]
  },
  {
   "cell_type": "markdown",
   "id": "de9ca100",
   "metadata": {},
   "source": [
    "To analyze what kind of language is used in `r/nba`, I took a bag-of-words approach where each word is tokenized and counted according the the frequency of it within a post.\n",
    "\n",
    "This approach is referred to as the bag-of-words because any informatiom regarding the order of the words are discarded. It only deals with whether the word is in the post or not and not where in the post. \n",
    "\n",
    "As we take this approach, we will try to remove frequent words that don't contain much information such as `a`, `of`, or `the` which are often referred to as 'stop-words'\n",
    "\n",
    "In order to do this, we will use CountVectorizer which is a scikit-learn tool that helps tokenize the posts from the subreddit and build a vocabulary of known words and encode new texts using that same vocabulary."
   ]
  },
  {
   "cell_type": "code",
   "execution_count": 147,
   "id": "8da8ca4c",
   "metadata": {},
   "outputs": [],
   "source": [
    "# Create function to get top words\n",
    "def plot_top_words(df, col, n, n_gram_range, title, palette='tab10'):\n",
    "    def get_top_n_words(corpus, n=n, k=n_gram_range):     \n",
    "        vec = CountVectorizer(ngram_range=(k,k), stop_words='english').fit(corpus)     \n",
    "        bag_of_words = vec.transform(corpus)     \n",
    "        sum_words = bag_of_words.sum(axis=0)      \n",
    "        words_freq = [(word, sum_words[0, idx]) for word, idx in vec.vocabulary_.items()]    \n",
    "        words_freq =sorted(words_freq, key = lambda x: x[1], reverse=True) \n",
    "        return words_freq[:n]\n",
    "    temp_df = pd.DataFrame(data=get_top_n_words(df[col], n), columns=['word','freq'])\n",
    "    plt.figure(figsize=(10,6))\n",
    "    sns.barplot(data=temp_df, y='word', x='freq', palette=palette)\n",
    "    plt.ylabel('')\n",
    "    plt.xlabel('')\n",
    "    plt.title(title, fontsize=18)"
   ]
  },
  {
   "cell_type": "code",
   "execution_count": 148,
   "id": "adfe75b6",
   "metadata": {},
   "outputs": [
    {
     "data": {
      "image/png": "[encoded data removed]",
      "text/plain": [
       "<Figure size 720x432 with 1 Axes>"
      ]
     },
     "metadata": {
      "needs_background": "light"
     },
     "output_type": "display_data"
    }
   ],
   "source": [
    "plot_top_words(pmaw_df,'clean_title', 15, 1, 'r/nba Top 15 Words from Titles', 'Blues_r')"
   ]
  },
  {
   "cell_type": "code",
   "execution_count": 149,
   "id": "1e973302",
   "metadata": {},
   "outputs": [],
   "source": [
    "stop_words = set(CountVectorizer(stop_words = 'english').get_stop_words())"
   ]
  },
  {
   "cell_type": "markdown",
   "id": "e15a8513",
   "metadata": {},
   "source": [
    "There are a lot of general sports terms in the title itself, but we can see that there are specific terms such as `highlights`, which are specific to highlight clips from that day's games, and although separate by a little, the name `Lebron`  `James` is found within the top 15 words of the title, proving his popularity here as well."
   ]
  },
  {
   "cell_type": "code",
   "execution_count": 150,
   "id": "5856bd64",
   "metadata": {},
   "outputs": [
    {
     "data": {
      "image/png": "[encoded data removed]",
      "text/plain": [
       "<Figure size 720x432 with 1 Axes>"
      ]
     },
     "metadata": {
      "needs_background": "light"
     },
     "output_type": "display_data"
    }
   ],
   "source": [
    "plot_top_words(pmaw_df,'clean_selftext', 10, 2, 'r/nba Top 10 Bigrams from Posts', 'Blues_r')"
   ]
  },
  {
   "cell_type": "markdown",
   "id": "10f4cbd5",
   "metadata": {},
   "source": [
    "Looking at the bigrams gives us more of an indepth look at the descriptions, as we can tell more about the context that it is in. Here, we see phrases such as `regular season`, `box score`, `los angeles`, and `free throw` and we see names like `michael jordan`, `kevin durant`, and of course `lebron james`."
   ]
  },
  {
   "cell_type": "code",
   "execution_count": 151,
   "id": "cbc03874",
   "metadata": {},
   "outputs": [
    {
     "data": {
      "image/png": "[encoded data removed]",
      "text/plain": [
       "<Figure size 720x432 with 1 Axes>"
      ]
     },
     "metadata": {
      "needs_background": "light"
     },
     "output_type": "display_data"
    }
   ],
   "source": [
    "plot_top_words(pmaw_df,'clean_selftext', 10, 3, 'r/nba Top 10 Trigrams', 'Blues_r')"
   ]
  },
  {
   "cell_type": "markdown",
   "id": "81b87eb8",
   "metadata": {},
   "source": [
    "Looking at the trigrams of the selftexts doesn't give us much information, with the exception of `golden state warrior` being within the top ten for trigrams."
   ]
  },
  {
   "cell_type": "code",
   "execution_count": 152,
   "id": "266c9ba1",
   "metadata": {},
   "outputs": [],
   "source": [
    "pmaw_df.to_csv('./datasets/final_df')"
   ]
  }
 ],
 "metadata": {
  "kernelspec": {
   "display_name": "Python 3 (ipykernel)",
   "language": "python",
   "name": "python3"
  },
  "language_info": {
   "codemirror_mode": {
    "name": "ipython",
    "version": 3
   },
   "file_extension": ".py",
   "mimetype": "text/x-python",
   "name": "python",
   "nbconvert_exporter": "python",
   "pygments_lexer": "ipython3",
   "version": "3.9.12"
  }
 },
 "nbformat": 4,
 "nbformat_minor": 5
}
